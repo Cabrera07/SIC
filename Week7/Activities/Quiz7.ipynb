{
 "cells": [
  {
   "cell_type": "markdown",
   "id": "49909eb6",
   "metadata": {},
   "source": [
    "# **Coding and Programming**\n",
    "\n",
    "## ***Capítulo 7***\n",
    "\n",
    "### ***Procesamiento de datos, estadísticas descriptivas y visualización de datos***\n",
    "\n",
    "- **Unidad 34.** Uso de módulos de Python\n",
    "- **Unidad 35.** Serie de Pandas para el tratamiento de datos\n",
    "- **Unidad 36.** Pandas DataFrame para procesamiento de datos\n",
    "- **Unidad 37.** Ordenamiento de datos\n",
    "- **Unidad 38.** Datos de series temporales\n",
    "\n",
    "# **Quiz 7**"
   ]
  },
  {
   "cell_type": "markdown",
   "id": "2e42031a",
   "metadata": {},
   "source": [
    "___"
   ]
  },
  {
   "cell_type": "markdown",
   "id": "780f0fff",
   "metadata": {},
   "source": [
    "## ***Q 34-01***\n",
    "\n",
    "Convierta los siguientes datos del diccionario en un dataframe usando **Pandas**.\n",
    "\n",
    "(Denomina el dataframe `df`)\n",
    "\n",
    "`d = { 'col1':[1,2], 'col2':[3,4], 'col3':[5,6], 'col4':[7,8] }`"
   ]
  },
  {
   "cell_type": "code",
   "execution_count": 6,
   "id": "ce608555",
   "metadata": {},
   "outputs": [
    {
     "name": "stdout",
     "output_type": "stream",
     "text": [
      "DataFrame:\n"
     ]
    },
    {
     "data": {
      "text/html": [
       "<table border=\"1\" class=\"dataframe\">\n",
       "  <thead>\n",
       "    <tr style=\"text-align: right;\">\n",
       "      <th></th>\n",
       "      <th>col1</th>\n",
       "      <th>col2</th>\n",
       "      <th>col3</th>\n",
       "      <th>col4</th>\n",
       "    </tr>\n",
       "  </thead>\n",
       "  <tbody>\n",
       "    <tr>\n",
       "      <th>0</th>\n",
       "      <td>1</td>\n",
       "      <td>3</td>\n",
       "      <td>5</td>\n",
       "      <td>7</td>\n",
       "    </tr>\n",
       "    <tr>\n",
       "      <th>1</th>\n",
       "      <td>2</td>\n",
       "      <td>4</td>\n",
       "      <td>6</td>\n",
       "      <td>8</td>\n",
       "    </tr>\n",
       "  </tbody>\n",
       "</table>"
      ],
      "text/plain": [
       "<IPython.core.display.HTML object>"
      ]
     },
     "metadata": {},
     "output_type": "display_data"
    }
   ],
   "source": [
    "# Librerías\n",
    "import pandas as pd\n",
    "from IPython.core.display import HTML\n",
    "\n",
    "# Definir diccionario \n",
    "d = { 'col1':[1,2], 'col2':[3,4], 'col3':[5,6], 'col4':[7,8] }\n",
    "\n",
    "# Crear DataFrame\n",
    "df = pd.DataFrame(d)\n",
    "\n",
    "# Imprimimos DataFrame \n",
    "print(\"DataFrame:\")\n",
    "display(HTML(df.to_html()))"
   ]
  },
  {
   "cell_type": "markdown",
   "id": "f77a6a5c",
   "metadata": {},
   "source": [
    "___"
   ]
  },
  {
   "cell_type": "markdown",
   "id": "89395b47",
   "metadata": {},
   "source": [
    "## ***Q 35-01***\n",
    "\n",
    "En el marco de datos creado en la pregunta **Q 34-01**, cree un nuevo dataframe que consista solo en los datos de la columna con el nombre de columna `'col4'`.\n",
    "\n",
    "(Denomina el dataframe `new_df`)\n"
   ]
  },
  {
   "cell_type": "code",
   "execution_count": 5,
   "id": "aa91890f",
   "metadata": {},
   "outputs": [
    {
     "name": "stdout",
     "output_type": "stream",
     "text": [
      "DataFrame:\n"
     ]
    },
    {
     "data": {
      "text/html": [
       "<table border=\"1\" class=\"dataframe\">\n",
       "  <thead>\n",
       "    <tr style=\"text-align: right;\">\n",
       "      <th></th>\n",
       "      <th>col4</th>\n",
       "    </tr>\n",
       "  </thead>\n",
       "  <tbody>\n",
       "    <tr>\n",
       "      <th>0</th>\n",
       "      <td>7</td>\n",
       "    </tr>\n",
       "    <tr>\n",
       "      <th>1</th>\n",
       "      <td>8</td>\n",
       "    </tr>\n",
       "  </tbody>\n",
       "</table>"
      ],
      "text/plain": [
       "<IPython.core.display.HTML object>"
      ]
     },
     "metadata": {},
     "output_type": "display_data"
    }
   ],
   "source": [
    "# Librerías\n",
    "import pandas as pd\n",
    "from IPython.core.display import HTML\n",
    "\n",
    "# Definir diccionario \n",
    "d = { 'col1':[1,2], 'col2':[3,4], 'col3':[5,6], 'col4':[7,8] }\n",
    "\n",
    "# Seleccionar solo la columna 'col4' del diccionario\n",
    "col4_data = d['col4']\n",
    "\n",
    "# Crear DataFrame solo con 'col4' values \n",
    "new_df = pd.DataFrame({'col4': col4_data})\n",
    "\n",
    "# Imprimimos Nuevo ataFrame\n",
    "print(\"DataFrame:\")\n",
    "display(HTML(new_df.to_html()))"
   ]
  },
  {
   "cell_type": "code",
   "execution_count": 4,
   "id": "16639339",
   "metadata": {},
   "outputs": [
    {
     "name": "stdout",
     "output_type": "stream",
     "text": [
      "Original DataFrame:\n"
     ]
    },
    {
     "data": {
      "text/html": [
       "<table border=\"1\" class=\"dataframe\">\n",
       "  <thead>\n",
       "    <tr style=\"text-align: right;\">\n",
       "      <th></th>\n",
       "      <th>col1</th>\n",
       "      <th>col2</th>\n",
       "      <th>col3</th>\n",
       "      <th>col4</th>\n",
       "    </tr>\n",
       "  </thead>\n",
       "  <tbody>\n",
       "    <tr>\n",
       "      <th>0</th>\n",
       "      <td>1</td>\n",
       "      <td>3</td>\n",
       "      <td>5</td>\n",
       "      <td>7</td>\n",
       "    </tr>\n",
       "    <tr>\n",
       "      <th>1</th>\n",
       "      <td>2</td>\n",
       "      <td>4</td>\n",
       "      <td>6</td>\n",
       "      <td>8</td>\n",
       "    </tr>\n",
       "  </tbody>\n",
       "</table>"
      ],
      "text/plain": [
       "<IPython.core.display.HTML object>"
      ]
     },
     "metadata": {},
     "output_type": "display_data"
    },
    {
     "name": "stdout",
     "output_type": "stream",
     "text": [
      "\n",
      "--------------------------------\n",
      "New DataFrame:\n"
     ]
    },
    {
     "data": {
      "text/html": [
       "<table border=\"1\" class=\"dataframe\">\n",
       "  <thead>\n",
       "    <tr style=\"text-align: right;\">\n",
       "      <th></th>\n",
       "      <th>col4</th>\n",
       "    </tr>\n",
       "  </thead>\n",
       "  <tbody>\n",
       "    <tr>\n",
       "      <th>0</th>\n",
       "      <td>7</td>\n",
       "    </tr>\n",
       "    <tr>\n",
       "      <th>1</th>\n",
       "      <td>8</td>\n",
       "    </tr>\n",
       "  </tbody>\n",
       "</table>"
      ],
      "text/plain": [
       "<IPython.core.display.HTML object>"
      ]
     },
     "metadata": {},
     "output_type": "display_data"
    }
   ],
   "source": [
    "# Librerías\n",
    "import pandas as pd\n",
    "from IPython.core.display import HTML\n",
    "\n",
    "# Definir diccionario \n",
    "d = { 'col1':[1,2], 'col2':[3,4], 'col3':[5,6], 'col4':[7,8] }\n",
    "\n",
    "# Crear DataFrame\n",
    "df = pd.DataFrame(d) \n",
    "\n",
    "# Imprimir DataFrame \n",
    "print(\"Original DataFrame:\")\n",
    "display(HTML(df.to_html()))\n",
    "\n",
    "# Crear nuevo DataFrame con solo la columna 'col4'\n",
    "new_df = pd.DataFrame(df['col4'].values, columns=['col4'])\n",
    "\n",
    "# Imprimir Nuevo DataFrame\n",
    "print(\"\\n--------------------------------\")\n",
    "print(\"New DataFrame:\")\n",
    "display(HTML(new_df.to_html()))"
   ]
  },
  {
   "cell_type": "markdown",
   "id": "4b5b87cd",
   "metadata": {},
   "source": [
    "___"
   ]
  },
  {
   "cell_type": "markdown",
   "id": "881569fc",
   "metadata": {},
   "source": [
    "## ***Q 36-01***\n",
    "\n",
    "El índice del dataframe creado en la pregunta **Q 34-01** es `0` y `1`.\n",
    "\n",
    "Escriba un comando para cambiar el nombre de estos índices a `primero` y `segundo`."
   ]
  },
  {
   "cell_type": "code",
   "execution_count": 3,
   "id": "f983e5d1",
   "metadata": {},
   "outputs": [
    {
     "name": "stdout",
     "output_type": "stream",
     "text": [
      "DataFrame:\n"
     ]
    },
    {
     "data": {
      "text/html": [
       "<table border=\"1\" class=\"dataframe\">\n",
       "  <thead>\n",
       "    <tr style=\"text-align: right;\">\n",
       "      <th></th>\n",
       "      <th>col1</th>\n",
       "      <th>col2</th>\n",
       "      <th>col3</th>\n",
       "      <th>col4</th>\n",
       "    </tr>\n",
       "  </thead>\n",
       "  <tbody>\n",
       "    <tr>\n",
       "      <th>Primero</th>\n",
       "      <td>1</td>\n",
       "      <td>3</td>\n",
       "      <td>5</td>\n",
       "      <td>7</td>\n",
       "    </tr>\n",
       "    <tr>\n",
       "      <th>Segundo</th>\n",
       "      <td>2</td>\n",
       "      <td>4</td>\n",
       "      <td>6</td>\n",
       "      <td>8</td>\n",
       "    </tr>\n",
       "  </tbody>\n",
       "</table>"
      ],
      "text/plain": [
       "<IPython.core.display.HTML object>"
      ]
     },
     "metadata": {},
     "output_type": "display_data"
    }
   ],
   "source": [
    "# Librerías\n",
    "import pandas as pd\n",
    "from IPython.core.display import HTML\n",
    "\n",
    "# Definir diccionario \n",
    "d = { 'col1':[1,2], 'col2':[3,4], 'col3':[5,6], 'col4':[7,8] }\n",
    "index = ['Primero', 'Segundo']\n",
    "\n",
    "# Crear DataFrame\n",
    "df = pd.DataFrame(d, index= index) \n",
    "\n",
    "# Imprimir DataFrame \n",
    "print(\"DataFrame:\")\n",
    "display(HTML(df.to_html()))"
   ]
  },
  {
   "cell_type": "markdown",
   "id": "8e7a5d3b",
   "metadata": {},
   "source": [
    "___"
   ]
  },
  {
   "cell_type": "markdown",
   "id": "1087c522",
   "metadata": {},
   "source": [
    "## ***Q 37-01***\n",
    "\n",
    "Escriba un comando para buscar datos faltantes en el dataframe `df` creado en la pregunta **Q 34-01** e imprima el resultado.\n",
    "\n",
    "(Sin embargo, los datos que faltan deben devolverse como verdaderos)."
   ]
  },
  {
   "cell_type": "code",
   "execution_count": 2,
   "id": "64a3c8a5",
   "metadata": {},
   "outputs": [
    {
     "name": "stdout",
     "output_type": "stream",
     "text": [
      "DataFrame:\n"
     ]
    },
    {
     "data": {
      "text/html": [
       "<table border=\"1\" class=\"dataframe\">\n",
       "  <thead>\n",
       "    <tr style=\"text-align: right;\">\n",
       "      <th></th>\n",
       "      <th>col1</th>\n",
       "      <th>col2</th>\n",
       "      <th>col3</th>\n",
       "      <th>col4</th>\n",
       "    </tr>\n",
       "  </thead>\n",
       "  <tbody>\n",
       "    <tr>\n",
       "      <th>0</th>\n",
       "      <td>1</td>\n",
       "      <td>3</td>\n",
       "      <td>5</td>\n",
       "      <td>7</td>\n",
       "    </tr>\n",
       "    <tr>\n",
       "      <th>1</th>\n",
       "      <td>2</td>\n",
       "      <td>4</td>\n",
       "      <td>6</td>\n",
       "      <td>8</td>\n",
       "    </tr>\n",
       "  </tbody>\n",
       "</table>"
      ],
      "text/plain": [
       "<IPython.core.display.HTML object>"
      ]
     },
     "metadata": {},
     "output_type": "display_data"
    },
    {
     "name": "stdout",
     "output_type": "stream",
     "text": [
      "\n",
      "----------------------------------------------------------\n",
      "Datos Faltantes:\n"
     ]
    },
    {
     "data": {
      "text/html": [
       "<table border=\"1\" class=\"dataframe\">\n",
       "  <thead>\n",
       "    <tr style=\"text-align: right;\">\n",
       "      <th></th>\n",
       "      <th>col1</th>\n",
       "      <th>col2</th>\n",
       "      <th>col3</th>\n",
       "      <th>col4</th>\n",
       "    </tr>\n",
       "  </thead>\n",
       "  <tbody>\n",
       "    <tr>\n",
       "      <th>0</th>\n",
       "      <td>False</td>\n",
       "      <td>False</td>\n",
       "      <td>False</td>\n",
       "      <td>False</td>\n",
       "    </tr>\n",
       "    <tr>\n",
       "      <th>1</th>\n",
       "      <td>False</td>\n",
       "      <td>False</td>\n",
       "      <td>False</td>\n",
       "      <td>False</td>\n",
       "    </tr>\n",
       "  </tbody>\n",
       "</table>"
      ],
      "text/plain": [
       "<IPython.core.display.HTML object>"
      ]
     },
     "metadata": {},
     "output_type": "display_data"
    }
   ],
   "source": [
    "# Librerías\n",
    "import pandas as pd\n",
    "from IPython.core.display import HTML\n",
    "\n",
    "# Definir diccionario \n",
    "d = { 'col1':[1,2], 'col2':[3,4], 'col3':[5,6], 'col4':[7,8] }\n",
    "\n",
    "# Crear DataFrame\n",
    "df = pd.DataFrame(d) \n",
    "\n",
    "# Imprimir DataFrame \n",
    "print(\"DataFrame:\")\n",
    "display(HTML(df.to_html()))\n",
    "\n",
    "# Buscar Datos faltantes\n",
    "faltantes = df.isnull()\n",
    "\n",
    "# Imprimir Datos Faltantes \n",
    "print(\"\\n----------------------------------------------------------\")\n",
    "print(\"Datos Faltantes:\")\n",
    "display(HTML(faltantes.to_html()))"
   ]
  },
  {
   "cell_type": "markdown",
   "id": "ab5e3562",
   "metadata": {},
   "source": [
    "___"
   ]
  },
  {
   "cell_type": "markdown",
   "id": "e060ee29",
   "metadata": {},
   "source": [
    "## ***Q 38-01***\n",
    "\n",
    "Escriba un comando para verificar el resumen de las estadísticas descriptivas (desviación estándar, valor mínimo, moda, etc.) del dataframe `df` creado en la pregunta **Q 34-01** e imprima el resultado."
   ]
  },
  {
   "cell_type": "code",
   "execution_count": 1,
   "id": "b519a80e",
   "metadata": {},
   "outputs": [
    {
     "name": "stdout",
     "output_type": "stream",
     "text": [
      "DataFrame:\n"
     ]
    },
    {
     "data": {
      "text/html": [
       "<table border=\"1\" class=\"dataframe\">\n",
       "  <thead>\n",
       "    <tr style=\"text-align: right;\">\n",
       "      <th></th>\n",
       "      <th>col1</th>\n",
       "      <th>col2</th>\n",
       "      <th>col3</th>\n",
       "      <th>col4</th>\n",
       "    </tr>\n",
       "  </thead>\n",
       "  <tbody>\n",
       "    <tr>\n",
       "      <th>0</th>\n",
       "      <td>1</td>\n",
       "      <td>3</td>\n",
       "      <td>5</td>\n",
       "      <td>7</td>\n",
       "    </tr>\n",
       "    <tr>\n",
       "      <th>1</th>\n",
       "      <td>2</td>\n",
       "      <td>4</td>\n",
       "      <td>6</td>\n",
       "      <td>8</td>\n",
       "    </tr>\n",
       "  </tbody>\n",
       "</table>"
      ],
      "text/plain": [
       "<IPython.core.display.HTML object>"
      ]
     },
     "metadata": {},
     "output_type": "display_data"
    },
    {
     "name": "stdout",
     "output_type": "stream",
     "text": [
      "\n",
      "----------------------------------------------------------\n",
      "Estadisticas Descriptivas: \n"
     ]
    },
    {
     "data": {
      "text/html": [
       "<table border=\"1\" class=\"dataframe\">\n",
       "  <thead>\n",
       "    <tr style=\"text-align: right;\">\n",
       "      <th></th>\n",
       "      <th>col1</th>\n",
       "      <th>col2</th>\n",
       "      <th>col3</th>\n",
       "      <th>col4</th>\n",
       "    </tr>\n",
       "  </thead>\n",
       "  <tbody>\n",
       "    <tr>\n",
       "      <th>count</th>\n",
       "      <td>2.000000</td>\n",
       "      <td>2.000000</td>\n",
       "      <td>2.000000</td>\n",
       "      <td>2.000000</td>\n",
       "    </tr>\n",
       "    <tr>\n",
       "      <th>mean</th>\n",
       "      <td>1.500000</td>\n",
       "      <td>3.500000</td>\n",
       "      <td>5.500000</td>\n",
       "      <td>7.500000</td>\n",
       "    </tr>\n",
       "    <tr>\n",
       "      <th>std</th>\n",
       "      <td>0.707107</td>\n",
       "      <td>0.707107</td>\n",
       "      <td>0.707107</td>\n",
       "      <td>0.707107</td>\n",
       "    </tr>\n",
       "    <tr>\n",
       "      <th>min</th>\n",
       "      <td>1.000000</td>\n",
       "      <td>3.000000</td>\n",
       "      <td>5.000000</td>\n",
       "      <td>7.000000</td>\n",
       "    </tr>\n",
       "    <tr>\n",
       "      <th>25%</th>\n",
       "      <td>1.250000</td>\n",
       "      <td>3.250000</td>\n",
       "      <td>5.250000</td>\n",
       "      <td>7.250000</td>\n",
       "    </tr>\n",
       "    <tr>\n",
       "      <th>50%</th>\n",
       "      <td>1.500000</td>\n",
       "      <td>3.500000</td>\n",
       "      <td>5.500000</td>\n",
       "      <td>7.500000</td>\n",
       "    </tr>\n",
       "    <tr>\n",
       "      <th>75%</th>\n",
       "      <td>1.750000</td>\n",
       "      <td>3.750000</td>\n",
       "      <td>5.750000</td>\n",
       "      <td>7.750000</td>\n",
       "    </tr>\n",
       "    <tr>\n",
       "      <th>max</th>\n",
       "      <td>2.000000</td>\n",
       "      <td>4.000000</td>\n",
       "      <td>6.000000</td>\n",
       "      <td>8.000000</td>\n",
       "    </tr>\n",
       "  </tbody>\n",
       "</table>"
      ],
      "text/plain": [
       "<IPython.core.display.HTML object>"
      ]
     },
     "metadata": {},
     "output_type": "display_data"
    }
   ],
   "source": [
    "# Librerías\n",
    "import pandas as pd\n",
    "from IPython.core.display import HTML\n",
    "\n",
    "# Definir diccionario \n",
    "d = { 'col1':[1,2], 'col2':[3,4], 'col3':[5,6], 'col4':[7,8] }\n",
    "\n",
    "# Crear DataFrame\n",
    "df = pd.DataFrame(d) \n",
    "\n",
    "# Imprimir DataFrame \n",
    "print(\"DataFrame:\")\n",
    "display(HTML(df.to_html()))\n",
    "\n",
    "# Verificar estadísticas descriptivas\n",
    "estadisticas = df.describe()\n",
    "\n",
    "# Imprimir estadísticas descriptivas\n",
    "print(\"\\n----------------------------------------------------------\")\n",
    "print(\"Estadisticas Descriptivas: \")\n",
    "display(HTML(estadisticas.to_html()))"
   ]
  },
  {
   "cell_type": "markdown",
   "id": "84a390f6",
   "metadata": {},
   "source": [
    "___"
   ]
  },
  {
   "cell_type": "markdown",
   "id": "23d7b61e",
   "metadata": {},
   "source": [
    "# **Fin**"
   ]
  }
 ],
 "metadata": {
  "kernelspec": {
   "display_name": "Python 3 (ipykernel)",
   "language": "python",
   "name": "python3"
  },
  "language_info": {
   "codemirror_mode": {
    "name": "ipython",
    "version": 3
   },
   "file_extension": ".py",
   "mimetype": "text/x-python",
   "name": "python",
   "nbconvert_exporter": "python",
   "pygments_lexer": "ipython3",
   "version": "3.9.7"
  }
 },
 "nbformat": 4,
 "nbformat_minor": 5
}
