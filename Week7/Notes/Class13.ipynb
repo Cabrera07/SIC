{
 "cells": [
  {
   "cell_type": "code",
   "execution_count": 1,
   "metadata": {},
   "outputs": [
    {
     "name": "stdout",
     "output_type": "stream",
     "text": [
      "Requirement already satisfied: numpy in c:\\users\\cabre\\sic\\sicvenv\\lib\\site-packages (1.26.4)\n"
     ]
    }
   ],
   "source": [
    "import sys\n",
    "!{sys.executable} -m pip install numpy  \n",
    "\n",
    "# import pandas as pd \n",
    "# pd.__version__"
   ]
  },
  {
   "cell_type": "markdown",
   "metadata": {},
   "source": [
    "# Pandas\n",
    "\n",
    "# Lista\n",
    "pandas.Series -> Cuando tengo solo 1 columna en la que quiero hacer algo \n",
    "-> Index numericos \n",
    "\n",
    "#Matriz\n",
    "pandas.DataFrame -> Cuando tengo varias columnas -> Excel \n",
    "-> Index numericos y tambien por nombre -> [][]\n",
    "-> value [][]\n",
    "\n"
   ]
  },
  {
   "cell_type": "markdown",
   "metadata": {},
   "source": [
    "import pandas as pd\n",
    "\n",
    "lista = ['Jose', 'Profe', 'Colombia', '30']\n",
    "print(lista[0])\n",
    "\n",
    "#Convertir a serie \n",
    "s = pd.Series(lista)\n",
    "print(s)\n",
    "print(type(s))\n",
    "\n",
    "print('---------------------------------------')\n",
    "\n",
    "ind = ['nombre', 'rol', 'pais', 'edad']\n",
    "data = pd.Series(lsta, index=[ind])\n",
    "print(data)\n",
    "\n",
    "print('---------------------------------------')"
   ]
  }
 ],
 "metadata": {
  "kernelspec": {
   "display_name": "SicVenv",
   "language": "python",
   "name": "python3"
  },
  "language_info": {
   "codemirror_mode": {
    "name": "ipython",
    "version": 3
   },
   "file_extension": ".py",
   "mimetype": "text/x-python",
   "name": "python",
   "nbconvert_exporter": "python",
   "pygments_lexer": "ipython3",
   "version": "3.9.7"
  }
 },
 "nbformat": 4,
 "nbformat_minor": 2
}
