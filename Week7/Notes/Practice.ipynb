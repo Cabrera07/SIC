{
 "cells": [
  {
   "cell_type": "markdown",
   "metadata": {},
   "source": [
    "1. Crea un juego de dados\n",
    "¿Qué hay que saber para crear un juego de dados?\n",
    "Hoy vamos a hacer un juego de dados en el que el ordenador y el usuario se turnan para lanzar un número fijo de dados y ver quién consigue el total más alto. Cada uno de ellos tendrá una oportunidad de volver a tirar y podrá decidir cuál de los dados se mantiene o se vuelve a tirar.\n",
    "\n",
    "El problema del juego de dados implica un concepto de aleatoriedad y un elemento de azar. En lugar de decidir sobreun elemento, dejaremos que el ordenador elija algo al azar.\n",
    "\n",
    "A través de esta misión, aprenderemos a crear nuestras propias funciones de Python, 10 que nos permitirá nombrarun bloque de código y reutilizarlo más tarde llamando al nombre."
   ]
  },
  {
   "cell_type": "markdown",
   "metadata": {},
   "source": []
  }
 ],
 "metadata": {
  "language_info": {
   "name": "python"
  }
 },
 "nbformat": 4,
 "nbformat_minor": 2
}
