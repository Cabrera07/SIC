{
 "cells": [
  {
   "cell_type": "markdown",
   "id": "76ebb96d",
   "metadata": {},
   "source": [
    "------------------------------------------------------------------"
   ]
  },
  {
   "cell_type": "markdown",
   "id": "9837779a-ebe1-4cf8-aeb8-125b5a752105",
   "metadata": {},
   "source": [
    "# **Bases de la Progrmación**"
   ]
  },
  {
   "cell_type": "markdown",
   "id": "f44da2a1",
   "metadata": {},
   "source": [
    "----------------------------------------------------------------------"
   ]
  },
  {
   "cell_type": "markdown",
   "id": "105cbb7f-cc27-4b26-ae66-f8c4a273dffb",
   "metadata": {},
   "source": [
    "----------------------------------\n",
    "---------------------------------------\n",
    "## **Reglas de la Programación** \n",
    "----------------------------------------\n",
    "-----------------------------------------\n",
    "- **snake_case :** mi_variable \n",
    "- **camelCase  :** miVariable\n",
    "- **PascalCase :** MiVariable"
   ]
  },
  {
   "cell_type": "markdown",
   "id": "a959ea85-5d74-4b2c-b264-ae88ac412ba0",
   "metadata": {},
   "source": [
    "------------------------------\n",
    "----------------------------\n",
    "## **Datos a Conocer** \n",
    "------------------------------\n",
    "----------------------------\n",
    "- Comenzamos a contar desde Cero. \n",
    "- **Backend:** Hace el código en texto y ve resultados en consola.\n",
    "- **Frontend:** Realiza toda la UI (User Inteface), interfaz virtual.\n",
    "- **FullStack:** El hace todo. "
   ]
  },
  {
   "cell_type": "markdown",
   "id": "0fe0bce3-f3fc-47c1-ba06-81c8b78c6ea5",
   "metadata": {},
   "source": [
    "----------------------\n",
    "### ***Identado***\n",
    "-------------------\n",
    "Espacio o tabulación que dejo a la izquierda \n",
    "usualmente viene despues de los ( : )\n",
    "En Python me dice que estoy en otra sección de código.\n"
   ]
  },
  {
   "cell_type": "markdown",
   "id": "f1b32839-cb7e-479a-98ac-5f984c7498bd",
   "metadata": {},
   "source": [
    "-----------------------------\n",
    "### ***Comentarios***\n",
    "-----------------------\n",
    "Es una linea que compilador ignora."
   ]
  },
  {
   "cell_type": "code",
   "execution_count": 4,
   "id": "c3fe529a-9ac1-40d6-9266-be8b8a5ccdb4",
   "metadata": {},
   "outputs": [
    {
     "data": {
      "text/plain": [
       "'\\nPara comentar \\nvarias lineas \\n'"
      ]
     },
     "execution_count": 4,
     "metadata": {},
     "output_type": "execute_result"
    }
   ],
   "source": [
    "#Funciona para indicar las funciones del código\n",
    "\n",
    "'''\n",
    "Para comentar \n",
    "varias lineas \n",
    "'''"
   ]
  },
  {
   "cell_type": "markdown",
   "id": "d591add7-1e84-493d-aa92-1c07197a0918",
   "metadata": {},
   "source": [
    "------------------------\n",
    "### ***Variable***\n",
    "----------------------\n",
    "Es un espacio de memoria donde yo almaceno un dato, puedo crear, modificar y eliminar."
   ]
  },
  {
   "cell_type": "markdown",
   "id": "bc5f5f1d-71ea-40a4-a195-cc31b5268653",
   "metadata": {},
   "source": [
    "------------------------------\n",
    "----------------------------\n",
    "## **Tipos de Datos** \n",
    "-----------------------------\n",
    "------------------------"
   ]
  },
  {
   "cell_type": "markdown",
   "id": "ce3aab05-1e81-4502-950b-0a6f1915c879",
   "metadata": {},
   "source": [
    "-----------------------------------------------------------------------------------------------------------\n",
    "```python\n",
    "1. int -> numero entero    : 2,3,7,8,24\n",
    "2. float -> numero decimal : 3.14, 5.46\n",
    "```\n",
    "-----------------------------------------------------------------------------------------------------------"
   ]
  },
  {
   "cell_type": "code",
   "execution_count": 5,
   "id": "c46a495e-685c-464c-80d8-27c1a2a4b783",
   "metadata": {},
   "outputs": [
    {
     "name": "stdout",
     "output_type": "stream",
     "text": [
      "7.140000000000001\n"
     ]
    }
   ],
   "source": [
    "#Python siempre convierte el resultado al tipo de Datos mas Completo\n",
    "print(4+3.14)"
   ]
  },
  {
   "cell_type": "markdown",
   "id": "f00eac85-393b-4d71-ab2e-59a97bca9eb4",
   "metadata": {},
   "source": [
    "-----------------------------------------------------------------------------------------------------------\n",
    "```python\n",
    "3. str -> string -> cadena de caracteres o cadena de texto:\n",
    "    \"casa\",\"hi world\", \"#, &, ?,!\", \"3\", \"7\"\n",
    "4. bool -> valor logico \n",
    "    1. true -> verdadero -> existe -> 1\n",
    "    2. false -> falso -> erroneo -> no existe -> 0\n",
    "```\n",
    "-----------------------------------------------------------------------------------------------------------"
   ]
  },
  {
   "cell_type": "markdown",
   "id": "4463e475-4935-4e4f-923b-08ce9825c313",
   "metadata": {},
   "source": [
    "-----------------------------------------------------------------------------------------------------------\n",
    "```python\n",
    "5. list-> lista -> array\n",
    "    ListaMercado = [\"papas\", \"leches\", \"pan\", 1]\n",
    "    \n",
    "    1. index -> indice -> indicador que me dice donde esta el dato dentro de la caja \n",
    "    2. value  -> el valor real o lo que esta guardado dentro de la caja \n",
    "\n",
    "¿Dónde está la leche?\n",
    "    1. index -> 1\n",
    "    2. value -> \"leche\"\n",
    "print(ListaMercado[1]) #Leche\n",
    "\n",
    "estudiante1= [\"Noemi\", \"Vasquez\", 20, \"Panama\",\"653325\"]\n",
    "\n",
    "#listas de Listas \n",
    "matriz = [[1,2,3]\n",
    "          [4,5,6]\n",
    "          [7,8,9]]\n",
    "#Son coordenas X, Y NAVEGAS DENTRO \n",
    "print(matriz[2][1]) #8\n",
    "```\n",
    "-----------------------------------------------------------------------------------------------------------"
   ]
  },
  {
   "cell_type": "markdown",
   "id": "6aef76c4-2bb7-4cdb-b1e8-23debfb27c93",
   "metadata": {},
   "source": [
    "-----------------------------------------------------------------------------------------------------------\n",
    "```python\n",
    "6. diccionarios = {\"key\" : \"value\"}\n",
    "    #index -> key \n",
    "diccionario = {\"key\" : \"value\"}\n",
    "\n",
    "dic_estudiante1={\"nombre\":\"Noemi\", \n",
    "                 \"apellido\": \"Vasquez\",\"edad\": 20, \n",
    "                 \"ciudad\":\"Panama\",\"id\":\"653325\"}\n",
    "\n",
    "print(dic_estudiante1[\"apellido\"]) #Vasquez\n",
    "```\n",
    "-----------------------------------------------------------------------------------------------------------"
   ]
  },
  {
   "cell_type": "markdown",
   "id": "f54525bb-5dff-42d1-a236-35c3babe2e5f",
   "metadata": {},
   "source": [
    "-----------------------------------------------------------------------------------------------------------\n",
    "```python\n",
    "7. bunch -> Diccionarios de dicionarios \n",
    "\n",
    "p04={\"estudiante1\": dic_estudiante1, \"estudiante2\" : dic_estudiante2}\n",
    "\n",
    "print(p04[\"estudiante1\"]['apellido'])\n",
    "```\n",
    "-----------------------------------------------------------------------------------------------------------"
   ]
  },
  {
   "cell_type": "markdown",
   "id": "9c4fca30-4229-482a-a57b-56104ba684d7",
   "metadata": {},
   "source": [
    "-----------------------------------------------------------------------------------------------------------\n",
    "```python\n",
    "coordenadas = [2,4] -> listas -> Se dejan modificar\n",
    "coordenadas = (2,4) -> tuplas -> NO\n",
    "```\n",
    "-----------------------------------------------------------------------------------------------------------"
   ]
  },
  {
   "cell_type": "markdown",
   "id": "78ce3dff-f4ff-47ef-bb16-4a70a09a79f3",
   "metadata": {},
   "source": [
    "------------------------------\n",
    "----------------------------\n",
    "## **Operadores algebraicos** \n",
    "-----------------------\n",
    "-------------------------"
   ]
  },
  {
   "cell_type": "markdown",
   "id": "021681a4-ab51-44ef-8e9d-c4359eb9a4a2",
   "metadata": {},
   "source": [
    "-----------------------------------------------------------------------------------------------------------\n",
    "```python\n",
    "1. suma +\n",
    "2. resta -\n",
    "3. multiplicacion *\n",
    "4. division /\n",
    "5. modulo(residuo de la division) %\n",
    "6. division exacta //\n",
    "7. potencia **\n",
    "8. raiz cuadrada n**(1/2)\n",
    "```\n",
    "-----------------------------------------------------------------------------------------------------------"
   ]
  },
  {
   "cell_type": "markdown",
   "id": "030bd2c7-c88b-44cb-9f51-f2de84b46845",
   "metadata": {},
   "source": [
    "------------------------------\n",
    "----------------------------\n",
    "## **Comparadores Algebraicos** \n",
    "------------------------------\n",
    "----------------------------"
   ]
  },
  {
   "cell_type": "markdown",
   "id": "a4fc7f7c-1e60-498e-abf7-fb8932f459ab",
   "metadata": {},
   "source": [
    "-----------------------------------------------------------------------------------------------------------\n",
    "**Manera en la que obtenemos respuestas** \n",
    "```python\n",
    "1. mayor >\n",
    "2. menor <\n",
    "3. mayor o igual >=\n",
    "4. menor o igual <= \n",
    "5. igual ==\n",
    "6. diferente !=\n",
    "```\n",
    "-----------------------------------------------------------------------------------------------------------"
   ]
  },
  {
   "cell_type": "markdown",
   "id": "87fca420-febe-44b8-bf23-9181f560c923",
   "metadata": {},
   "source": [
    "------------------------------\n",
    "----------------------------\n",
    "## **Operadores Lógicos**\n",
    "------------------------------\n",
    "----------------------------"
   ]
  },
  {
   "cell_type": "markdown",
   "id": "77596a08-5ab8-4969-bc0e-a45fc616ee0f",
   "metadata": {},
   "source": [
    "-----------------------------------------------------------------------------------------------------------\n",
    "```python\n",
    "- not -> no -> invierte\n",
    "    - true = not false \n",
    "- and -> y ->cuando dos condiciones si o si se tienen que cumplir \n",
    "- or  -> ó -> cuando cuando cualquier opcion me sirve \n",
    "```\n",
    "**Necesito hacer un login** \n",
    "```python\n",
    "    usario == true and password == correcto\n",
    " ```\n",
    " -----------------------------------------------------------------------------------------------------------"
   ]
  },
  {
   "cell_type": "markdown",
   "id": "81decd96-85ff-4be2-9231-c0036d425693",
   "metadata": {},
   "source": [
    "----------------------\n",
    "### ***Toma de desiciones***\n",
    "----------------------- "
   ]
  },
  {
   "cell_type": "markdown",
   "id": "bb41d2c9-2859-4ffb-ac05-55ad1dc01e45",
   "metadata": {},
   "source": [
    "**Pasos para resolver un problema** \n",
    "1. Necesito saber que me estan pidiendo -> salida \n",
    "2. Que necesito para lograrlo -> proceso\n",
    "3. Que nesito para realizar el proceso -> entradas \n",
    "\n",
    "**Problema : no me escuchan**\n",
    "1. Me escuchen \n",
    "2. Revisar el audio \n",
    "3. Ver el estado del micrófono en zoom \n",
    "\n",
    "**Toma de decisones:**\n",
    "Planteo una pregunta de si o no y actuo segun la respuesta. \n"
   ]
  },
  {
   "cell_type": "code",
   "execution_count": 5,
   "id": "e66f2877-34c6-4ed2-a719-bce19799f849",
   "metadata": {},
   "outputs": [
    {
     "name": "stdout",
     "output_type": "stream",
     "text": [
      "¿Donde esta la caja?\n",
      "Esta centro\n"
     ]
    }
   ],
   "source": [
    "# SINTAXIS EN PYTHON \n",
    "'''\n",
    "if condicion == respuesta : \n",
    "    proceso \n",
    "elif condicion2 == respuesta:\n",
    "    proceso \n",
    "else : \n",
    "    proceso\n",
    "'''\n",
    "\n",
    "print(\"¿Donde esta la caja?\")\n",
    "caja = \"Centro\"\n",
    "if caja == \"Arriba\":\n",
    "    print(\"Esta arriba\")\n",
    "elif caja == \"Abajo\":\n",
    "    print(\"Esta abajo\")\n",
    "elif caja == \"Centro\":\n",
    "    print(\"Esta centro\")\n",
    "else: \n",
    "    print(\"Hay un error\") #CONSIDERA CONTROL DE ERRORES"
   ]
  },
  {
   "cell_type": "markdown",
   "id": "c40f5486-3902-491d-80a2-f1abc29ef2e1",
   "metadata": {},
   "source": [
    "-----------------------------\n",
    "-----------------\n",
    "## **Entrada y Salida de Datos**\n",
    "------------------------------\n",
    "---------------------------------------------------------------------------------------------------------\n",
    "```python\n",
    "Entrada -> Pido al usuario salida -> Muestro en pantalla\n",
    "```"
   ]
  },
  {
   "cell_type": "code",
   "execution_count": 4,
   "id": "f6d8a3e6-3a33-4caf-a9ea-c39f2ea3d326",
   "metadata": {},
   "outputs": [],
   "source": [
    "#ENTRADA\n",
    "nombre = input(\"\\t Ingrese su Nombre: \\n\")\n",
    "\n",
    "#Pyton siempre toma la entrada como String \n",
    "\n",
    "numero = int(input(\"\\t Ingrese su Numero: \\n\"))"
   ]
  },
  {
   "cell_type": "markdown",
   "id": "a3c98b83-c940-4eed-8192-6ad0fa1bfc3c",
   "metadata": {},
   "source": [
    "\n",
    "-----------------------------------------------------------------------------------------------------------\n",
    "#### **Conversores de Datos**\n",
    "```python\n",
    "- int()\n",
    "- float()\n",
    "- str()\n",
    "- bool()\n",
    "- list()\n",
    "```\n",
    "-----------------------------------------------------------------------------------------------------------"
   ]
  },
  {
   "cell_type": "markdown",
   "id": "dc602280",
   "metadata": {},
   "source": [
    "-----------------------------------------------------------------------------------------------------------\n",
    "```python\n",
    "Salida -> Muestro en pantalla\n",
    "```\n",
    "-----------------------------------------------------------------------------------------------------------"
   ]
  },
  {
   "cell_type": "code",
   "execution_count": 6,
   "id": "f4242f7b-e5e1-4255-9520-8ab6e9f92072",
   "metadata": {},
   "outputs": [
    {
     "name": "stdout",
     "output_type": "stream",
     "text": [
      "Hi Mundo\n",
      "Hi mundo\n",
      "Himundo\n",
      "La temperatura en Panama es:  24°\n",
      "La temperatura en Panama es: 24°\n",
      "La temperatura en Panama es: 24° y la temperatura en Colombia es: 26°\n"
     ]
    }
   ],
   "source": [
    "#SALIDA\n",
    "texto= \"mundo\"\n",
    "print (\"Hi Mundo\")\n",
    "print( \"Hi\", texto)\n",
    "print(\"Hi\" + texto)\n",
    "\n",
    "#OTROS EJEMPLOS \n",
    "TemPanama = \"24°\"\n",
    "TemCol = \"26°\"\n",
    "\n",
    "print(\"La temperatura en Panama es: \", TemPanama)\n",
    "print(\"La temperatura en Panama es: {}\".format(TemPanama))\n",
    "print(f\"La temperatura en Panama es: {TemPanama} y la temperatura en Colombia es: {TemCol}\") "
   ]
  }
 ],
 "metadata": {
  "kernelspec": {
   "display_name": "Python 3 (ipykernel)",
   "language": "python",
   "name": "python3"
  },
  "language_info": {
   "codemirror_mode": {
    "name": "ipython",
    "version": 3
   },
   "file_extension": ".py",
   "mimetype": "text/x-python",
   "name": "python",
   "nbconvert_exporter": "python",
   "pygments_lexer": "ipython3",
   "version": "3.9.7"
  }
 },
 "nbformat": 4,
 "nbformat_minor": 5
}
