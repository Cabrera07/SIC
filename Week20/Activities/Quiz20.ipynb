{
 "cells": [
  {
   "cell_type": "markdown",
   "id": "f34adb44",
   "metadata": {},
   "source": [
    "# **Inteligencia Artificial**\n",
    "\n",
    "## **Capítulo 9**\n",
    "\n",
    "### **Deep Learning**\n",
    "\n",
    "- **Unidad 1.** Red neuronal convolucional (CNN)\n",
    "- **Unidad 2.** Red neuronal recurrente (RNN) para el modelado de datos secuenciales\n",
    "- **Unidad 3.** Red Neural Adversarial Generativa para crear imágenes inexistentes\n",
    "\n",
    "# **Quiz**"
   ]
  },
  {
   "cell_type": "markdown",
   "id": "2e42031a",
   "metadata": {},
   "source": [
    "___"
   ]
  },
  {
   "cell_type": "markdown",
   "id": "ac1e9b02",
   "metadata": {},
   "source": [
    "## ***Q 09-01***\n",
    "\n",
    "### **1. El conjunto de datos MNIST consta de imágenes numéricas escritas en cursiva del 0 al 9. Si desea crear una red neuronal que clasifique los datos, ¿cuál es la función de activación de la última capa completamente conectada (=Densa)?**"
   ]
  },
  {
   "cell_type": "markdown",
   "id": "903e6874",
   "metadata": {},
   "source": [
    "### **Respuesta:**\n",
    "\n",
    "La función de activación de la última capa completamente conectada (capa densa) de la red neuronal debe ser la función softmax.\n",
    "\n",
    "**Razón:**\n",
    "\n",
    "- La función softmax convierte las salidas de la red en probabilidades, asignando una probabilidad a cada una de las 10 clases (dígitos del 0 al 9).\n",
    "  \n",
    "- Esto asegura que la suma de las probabilidades sea 1, facilitando la interpretación del resultado como una distribución de probabilidad sobre las clases.\n",
    "  \n",
    "- La clase con la mayor probabilidad se toma como la predicción del modelo."
   ]
  },
  {
   "cell_type": "markdown",
   "id": "26e1df49",
   "metadata": {},
   "source": [
    "___"
   ]
  },
  {
   "attachments": {
    "q09-02.png": {
     "image/png": "[encoded data removed]"
    }
   },
   "cell_type": "markdown",
   "id": "87a3a925",
   "metadata": {},
   "source": [
    "## ***Q 09-02***\n",
    "\n",
    "### **La presión arterial, la altura y el peso forman los vectores de características. El conjunto de entrenamiento se proporciona de la siguiente manera.**\n",
    "![q09-02.png](attachment:q09-02.png)\n",
    "\n",
    "***1. Suponiendo que el vector de peso del perceptrón es $(-0.01,0.5,-0.23)^T$ y el sesgo es 0, explique el problema de escala con el conjunto de entrenamiento.***"
   ]
  },
  {
   "cell_type": "markdown",
   "id": "62678495",
   "metadata": {},
   "source": [
    "El problema de escala ocurre cuando las características del conjunto de datos tienen diferentes rangos o unidades. En este caso, la presión arterial, la altura y el peso están en diferentes escalas:\n",
    "\n",
    "- **Presión arterial:** ~100-140\n",
    "- **Altura:** ~1.62-1.82\n",
    "- **Peso:** ~59.0-82.0\n",
    "  \n",
    "Si estas características no se escalan adecuadamente, la red neuronal puede dar más importancia a las características con valores más grandes (por ejemplo, peso) y menos importancia a las características con valores más pequeños (por ejemplo, altura). Esto puede afectar negativamente el rendimiento del modelo y la eficiencia del entrenamiento."
   ]
  },
  {
   "cell_type": "markdown",
   "id": "e80eb712",
   "metadata": {},
   "source": [
    "***2. Escriba el conjunto de entrenamiento que resulta después de la aplicación de la siguiente fórmula de preprocesamiento.***\n",
    "\n",
    "$$x_i^{new} = \\frac{x_i^{old} -μ_i}{σ_i}  \\text{   (5.9)}$$"
   ]
  },
  {
   "cell_type": "code",
   "execution_count": 3,
   "id": "6107ecc0",
   "metadata": {},
   "outputs": [
    {
     "data": {
      "text/html": [
       "<table border=\"1\" class=\"dataframe\">\n",
       "  <thead>\n",
       "    <tr style=\"text-align: right;\">\n",
       "      <th></th>\n",
       "      <th>Presion Arterial</th>\n",
       "      <th>Altura</th>\n",
       "      <th>Peso</th>\n",
       "    </tr>\n",
       "  </thead>\n",
       "  <tbody>\n",
       "    <tr>\n",
       "      <th>0</th>\n",
       "      <td>-0.258169</td>\n",
       "      <td>-0.116248</td>\n",
       "      <td>-0.042347</td>\n",
       "    </tr>\n",
       "    <tr>\n",
       "      <th>1</th>\n",
       "      <td>1.184541</td>\n",
       "      <td>-1.569343</td>\n",
       "      <td>-0.764742</td>\n",
       "    </tr>\n",
       "    <tr>\n",
       "      <th>2</th>\n",
       "      <td>0.349288</td>\n",
       "      <td>-0.406867</td>\n",
       "      <td>-1.287856</td>\n",
       "    </tr>\n",
       "    <tr>\n",
       "      <th>3</th>\n",
       "      <td>0.501152</td>\n",
       "      <td>1.336848</td>\n",
       "      <td>1.576814</td>\n",
       "    </tr>\n",
       "    <tr>\n",
       "      <th>4</th>\n",
       "      <td>-1.776811</td>\n",
       "      <td>0.755610</td>\n",
       "      <td>0.518132</td>\n",
       "    </tr>\n",
       "  </tbody>\n",
       "</table>"
      ],
      "text/plain": [
       "<IPython.core.display.HTML object>"
      ]
     },
     "metadata": {},
     "output_type": "display_data"
    }
   ],
   "source": [
    "# IMPORTAR LIBRERIAS \n",
    "import numpy as np\n",
    "import pandas as pd\n",
    "from IPython.display import display, HTML\n",
    "\n",
    "# DATOS ORIGINALES\n",
    "data = np.array([\n",
    "    [121, 1.72, 69.0],\n",
    "    [140, 1.62, 63.2],\n",
    "    [129, 1.70, 59.0],\n",
    "    [131, 1.82, 82.0],\n",
    "    [101, 1.78, 73.5]\n",
    "])\n",
    "\n",
    "# CALCULAR LA MEDIA (μ) Y LA DESVIACIÓN ESTÁNDAR (σ) DE CADA CARACTERÍSTICA\n",
    "means = np.mean(data, axis=0)\n",
    "stds = np.std(data, axis=0)\n",
    "\n",
    "# APLICAR LA FORMULA DE NORMALIZACION \n",
    "normalized_data = (data - means) / stds\n",
    "\n",
    "# CONVERTIR A DATAFRAME\n",
    "df = pd.DataFrame(normalized_data, columns=['Presion Arterial', 'Altura', 'Peso'])\n",
    " \n",
    "# MOSTRAR LOS DATOS\n",
    "display(HTML(df.to_html()))"
   ]
  },
  {
   "cell_type": "markdown",
   "id": "cf3cffb4",
   "metadata": {},
   "source": [
    "***3. Explique su observación de si este preprocesamiento de datos alivia el problema de escala.***"
   ]
  },
  {
   "cell_type": "markdown",
   "id": "6d711261",
   "metadata": {},
   "source": [
    "El preprocesamiento de datos a través de la normalización, como se muestra en el código y en los resultados generados, tiene como objetivo aliviar el problema de escala que afecta a los algoritmos de aprendizaje automático, especialmente a los modelos de redes neuronales.\n",
    "\n",
    "**Observaciones:**\n",
    "\n",
    "- Al normalizar los datos, todas las características (presión arterial, altura y peso) se transforman a una escala común con media 0 y desviación estándar 1. Esto garantiza que ninguna característica domine a las otras debido a diferencias en la magnitud de sus valores originales.\n",
    "\n",
    "- La normalización ayuda a que el algoritmo de aprendizaje converja más rápido y de manera más estable durante el entrenamiento. Los modelos como los perceptrones pueden asignar pesos de manera más equitativa a todas las características.\n",
    "\n",
    "- En su estado original, características con valores mayores pueden tener un peso mayor en el modelo. Al normalizar los datos, se reduce este sesgo, permitiendo que todas las características contribuyan de manera equitativa al resultado final."
   ]
  },
  {
   "cell_type": "markdown",
   "id": "203a055b",
   "metadata": {},
   "source": [
    "___"
   ]
  },
  {
   "cell_type": "markdown",
   "id": "8c115f28",
   "metadata": {},
   "source": [
    "## ***Q 09-03***\n",
    "\n",
    "### **Las redes neuronales y las capas convolucionales se repiten varias veces en el aprendizaje profundo y esto provoca que algunos nodos se omitan en gran medida. ¿Qué técnica puedes utilizar para prevenir este problema?**"
   ]
  },
  {
   "cell_type": "markdown",
   "id": "4b66252e",
   "metadata": {},
   "source": [
    "### **Respuesta:**\n",
    "\n",
    "***Una de las más efectivas es Dropout:***\n",
    "\n",
    "Es una técnica de regularización que se utiliza para prevenir el sobreajuste en las redes neuronales profundas. Durante el entrenamiento, en cada iteración, se \"apagan\" aleatoriamente un porcentaje de neuronas en la capa, lo que fuerza a la red a aprender representaciones más robustas y distribuidas. Este apagado se realiza solo durante el entrenamiento; en la fase de inferencia (o test), todas las neuronas están activas, pero sus salidas se escalan para mantener el equilibrio en las magnitudes de las activaciones."
   ]
  },
  {
   "cell_type": "markdown",
   "id": "7410bc11",
   "metadata": {},
   "source": [
    "___"
   ]
  },
  {
   "cell_type": "markdown",
   "id": "410f8980",
   "metadata": {},
   "source": [
    "## ***Q 09-04***\n",
    "\n",
    "### **La inicialización del peso debería generar números aleatorios en el rango [-r,r]. Proporcione el código Python que realiza esta función.**"
   ]
  },
  {
   "cell_type": "code",
   "execution_count": 5,
   "id": "4badb663",
   "metadata": {},
   "outputs": [
    {
     "name": "stdout",
     "output_type": "stream",
     "text": [
      "Pesos inicializados:\n",
      " [[ 0.03160253  0.05145505 -0.06426744]\n",
      " [ 0.02504141  0.01579696 -0.06383197]\n",
      " [-0.02196705  0.0740961  -0.0025812 ]]\n"
     ]
    }
   ],
   "source": [
    "# IMPORTAR LIBRERIA\n",
    "import numpy as np\n",
    "\n",
    "# DEFINIR FUNCION\n",
    "def initialize_weights(shape, r):\n",
    "    # GENERACION DE PESOS ALEATORIOS\n",
    "    return np.random.uniform(-r, r, size=shape)\n",
    "\n",
    "# DEFINIR PARAMETROS DE LA FUNCION \n",
    "shape = (3, 3)  \n",
    "r = 0.1  \n",
    "\n",
    "# LLAMAR A LA FUNCION \n",
    "weights = initialize_weights(shape, r)\n",
    "\n",
    "# MOSTRAR RESPUESTA\n",
    "print(\"Pesos inicializados:\\n\", weights)"
   ]
  },
  {
   "cell_type": "markdown",
   "id": "ba019f33",
   "metadata": {},
   "source": [
    "___"
   ]
  },
  {
   "cell_type": "markdown",
   "id": "d4b76da3",
   "metadata": {},
   "source": [
    "## ***Q 09-05***\n",
    "\n",
    "### **Quiere entrenar un clasificador cuando tiene muchos datos de entrenamiento sin etiquetar pero solo unos pocos miles de datos etiquetados. Describe cómo el codificador automático puede ser útil y cómo funciona.**"
   ]
  },
  {
   "cell_type": "markdown",
   "id": "20998ef3",
   "metadata": {},
   "source": [
    "### **Respuesta:**\n",
    "\n",
    "#### **¿Cómo un codificador automático puede ser útil?**\n",
    "\n",
    "- **Extracción de Características:** Los autoencoders pueden aprender a extraer características significativas de los datos sin necesidad de etiquetas. Estas características pueden luego ser utilizadas para entrenar un clasificador con los pocos datos etiquetados disponibles.\n",
    "  \n",
    "- ***Preentrenamiento No Supervisado:*** Se puede preentrenar el autoencoder utilizando los datos sin etiquetar. Posteriormente, la parte codificadora del autoencoder (encoder) se puede usar como una capa de características para un modelo supervisado.\n",
    "  \n",
    "- ***Reducción de Dimensionalidad:*** Los autoencoders pueden reducir la dimensionalidad de los datos, facilitando el entrenamiento de clasificadores en un espacio de características más pequeño y más manejable.\n",
    "\n",
    "#### **¿Cómo funciona un codificador automático?**\n",
    "\n",
    "*Un autoencoder consta de dos partes principales:*\n",
    "\n",
    "- ***Encoder (Codificador):*** Transforma los datos de entrada a una representación de menor dimensión.\n",
    "  \n",
    "- ***Decoder (Decodificador):*** Reconstruye los datos originales a partir de la representación de menor dimensión.\n",
    "  \n",
    "El objetivo del autoencoder es minimizar la diferencia entre los datos de entrada y los datos reconstruidos. \n",
    "\n",
    "*Esto se logra a través de la siguiente arquitectura:*\n",
    "\n",
    "$x -> Encoder -> z -> Decoder -> ^x$\n",
    "\n",
    "**Donde:**\n",
    "\n",
    "- $x$ es el dato de entrada.\n",
    "\n",
    "- $z$ es la representación de menor dimensión (código).\n",
    "\n",
    "- $^x$ es la reconstrucción del dato de entrada."
   ]
  },
  {
   "cell_type": "markdown",
   "id": "aa90491d",
   "metadata": {},
   "source": [
    "___"
   ]
  },
  {
   "cell_type": "markdown",
   "id": "ed04e881",
   "metadata": {},
   "source": [
    "## ***Fin***"
   ]
  }
 ],
 "metadata": {
  "kernelspec": {
   "display_name": "Python 3 (ipykernel)",
   "language": "python",
   "name": "python3"
  },
  "language_info": {
   "codemirror_mode": {
    "name": "ipython",
    "version": 3
   },
   "file_extension": ".py",
   "mimetype": "text/x-python",
   "name": "python",
   "nbconvert_exporter": "python",
   "pygments_lexer": "ipython3",
   "version": "3.9.7"
  }
 },
 "nbformat": 4,
 "nbformat_minor": 5
}
