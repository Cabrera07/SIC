{
 "cells": [
  {
   "cell_type": "markdown",
   "metadata": {},
   "source": [
    "--------------------------------------------------"
   ]
  },
  {
   "cell_type": "markdown",
   "metadata": {},
   "source": [
    "# **Consideraciones para un Código Bien Hecho**"
   ]
  },
  {
   "cell_type": "markdown",
   "metadata": {},
   "source": [
    "---------------------------------------------------------------"
   ]
  },
  {
   "cell_type": "markdown",
   "metadata": {},
   "source": [
    "#### **Dentro del Codigo, Debemos tener el siguiente Orden:** \n",
    "```\n",
    "/////////////////////////////////////////////////////////////////////////////////\n",
    "Debe contener el Nombre del Archivo -> Un nombre representativo.\n",
    "Fecha -> De desarrollo \n",
    "Nombre -> Del Developer  \n",
    "Breve descripción del sobre el funcionamiento del código\n",
    "/////////////////////////////////////////////////////////////////////////////////\n",
    "\n",
    "-> Libreria \n",
    "-> Variable Globales -> Constantes\n",
    "-> Funciones \n",
    "-> Main -> Ejecución Principal del Código\n",
    "\n",
    "```\n",
    "\n",
    "#### **Otros Archivos:**\n",
    "\n",
    "- **`Debe contener README:`** \n",
    "  \n",
    "  - `Quien desarrllo el Código`\n",
    "  - `Fecha de Desarrollo`\n",
    "  - `Versión del Lenguaje` \n",
    "  - `Versiones de las Librerias`\n",
    "  - `Cómo se Ejecuta` \n",
    "  \n",
    "##### **Driver:** Un driver de un archivo de python, se encarga de inicializar el código permitirndo que sea llamado desde otro archivo. \n",
    "\n",
    "--------------------------------------"
   ]
  },
  {
   "cell_type": "markdown",
   "metadata": {},
   "source": [
    "> ##### **Nota:** Un proyecto o un programa siempre va tener multiplos archivos, cado uno con sus funcionalidades especificas. \n",
    "-------------------------------------------------"
   ]
  },
  {
   "cell_type": "markdown",
   "metadata": {},
   "source": [
    "-------------------\n",
    "### ***Ejemplo de un Código Organizado en varios Archivos:***\n",
    "-----------------------"
   ]
  },
  {
   "cell_type": "code",
   "execution_count": null,
   "metadata": {},
   "outputs": [],
   "source": [
    "# Archivo main.py\n",
    "\n",
    "# ///////////////////////////////////////////////////////\n",
    "# Clase 5, 30/01/2024\n",
    "# Profesor José Burgos \n",
    "# Ejemplo de un Código Organizado\n",
    "# Cajero sencillo \n",
    "# ///////////////////////////////////////////////////////\n",
    "\n",
    "# ____________Librerias____________\n",
    "\n",
    "from memoria import constructor_json\n",
    "from acceso import acceso\n",
    "import opciones\n",
    "\n",
    "# ____________Funciones____________\n",
    "\n",
    "def main():\n",
    "    # Inicializar la memoria del cajero\n",
    "    constructor_json()\n",
    "    \n",
    "    # Realizar el acceso al cajero\n",
    "    login = acceso()\n",
    "    \n",
    "    # Si el acceso es exitoso, consultar saldo\n",
    "    if login:\n",
    "        opciones.consultar()\n",
    "\n",
    "# _____________Drivers_____________\n",
    "\n",
    "if __name__ == '__main__':\n",
    "    main()\n"
   ]
  },
  {
   "cell_type": "code",
   "execution_count": null,
   "metadata": {},
   "outputs": [],
   "source": [
    "# Archivo memoria.py \n",
    "\n",
    "# ///////////////////////////////////////////////////////\n",
    "# Clase 5, 30/01/2024\n",
    "# Profesor José Burgos \n",
    "# Constructor de la memoria pra el banco (Database)\n",
    "# ///////////////////////////////////////////////////////\n",
    "\n",
    "# ____________Librerias____________\n",
    "\n",
    "import json \n",
    "\n",
    "# ____________Funciones____________\n",
    "\n",
    "def constructor_json():\n",
    "    data='{\"dinero\":10000,\"user\":\"jose\",\"password\":\"python\"}'\n",
    "    json_data=json.loads(data)\n",
    "\n",
    "    # Generar el archivo json\n",
    "    with open('data_banco.json','w') as f: #w-> write para modo escritura\n",
    "        json.dump(json_data, f, indent='\\t')\n",
    "\n",
    "# _____________Drivers_____________\n",
    "\n",
    "# Llamamos a la función constructor_json si ejecutamos este archivo directamente\n",
    "if __name__ == '__main__':\n",
    "    constructor_json()"
   ]
  },
  {
   "cell_type": "code",
   "execution_count": null,
   "metadata": {},
   "outputs": [],
   "source": [
    "# Archivo acceso.py \n",
    "\n",
    "# ///////////////////////////////////////////////////////\n",
    "# Clase 5, 30/01/2024\n",
    "# Profesor José Burgos \n",
    "# Verificación de Usuario y Contraseña \n",
    "# ///////////////////////////////////////////////////////\n",
    "\n",
    "# ____________Funciones____________\n",
    "\n",
    "def acceso():   \n",
    "    # Aquí deberías implementar la lógica para verificar el usuario y contraseña\n",
    "    # En este ejemplo, simplemente retornamos True para simular un acceso exitoso\n",
    "    return True\n",
    "\n",
    "# _____________Drivers_____________\n",
    "\n",
    "# Llamamos a la función acceso si ejecutamos este archivo directamente\n",
    "if __name__ == '__main__':\n",
    "    acceso()\n"
   ]
  },
  {
   "cell_type": "code",
   "execution_count": null,
   "metadata": {},
   "outputs": [],
   "source": [
    "# Archivo opciones.py \n",
    "\n",
    "# ////////////////////////////////////////////////////////////////////////////\n",
    "# Clase 5, 30/01/2024\n",
    "# Profesor José Burgos \n",
    "# Las diferentes opciones que un usuario puede seleccionar en el cajero.\n",
    "# //////////////////////////////////////////////////////////////////////////\n",
    "\n",
    "# ____________Funciones____________\n",
    "\n",
    "def consultar():\n",
    "    # Aquí deberías implementar la lógica para consultar el saldo\n",
    "    print(\"Consultar saldo\")\n",
    "\n",
    "def retiro():\n",
    "    # Aquí deberías implementar la lógica para realizar un retiro\n",
    "    print(\"Realizar retiro\")\n",
    "\n",
    "def ingreso():\n",
    "    # Aquí deberías implementar la lógica para realizar un ingreso\n",
    "    print(\"Realizar ingreso\")\n",
    "\n",
    "def main():\n",
    "    print_menu()\n",
    "    op = int(input(\"Seleccione una opción: \"))\n",
    "    if op == 1:\n",
    "        consultar()\n",
    "    elif op == 2:\n",
    "        retiro()\n",
    "    elif op == 3:\n",
    "        ingreso()\n",
    "\n",
    "def print_menu():\n",
    "    print(\"1. Consultar saldo\")\n",
    "    print(\"2. Realizar retiro\")\n",
    "    print(\"3. Realizar ingreso\")\n",
    "    \n",
    "# _____________Drivers_____________\n",
    "\n",
    "# Llamamos a la función main si ejecutamos este archivo directamente\n",
    "if __name__ == '__main__':\n",
    "    main()"
   ]
  },
  {
   "cell_type": "markdown",
   "metadata": {},
   "source": [
    "-----------------------------------------------------\n",
    "\n",
    "### **`README:`**\n",
    "\n",
    "**Creado por:** Profesor José Burgos \n",
    "\n",
    "**Fecha de Creación:** 30/01/2024\n",
    "\n",
    "**Descripción:** \n",
    "\n",
    "Ejemplo de la Estructura del código de un cajero sencillo.\n",
    "\n",
    "**Versión de Python:** 3.9.7\n",
    "\n",
    "**Ejecución:** En el rchivo main.\n",
    "\n",
    "--------------------------------------------"
   ]
  },
  {
   "cell_type": "markdown",
   "metadata": {},
   "source": [
    "# **Funciones**"
   ]
  },
  {
   "cell_type": "markdown",
   "metadata": {},
   "source": [
    "-----------------------------"
   ]
  },
  {
   "cell_type": "markdown",
   "metadata": {},
   "source": [
    "Como programador defino **Funciones** que voy a reutilizar el código. \n",
    "\n",
    "#### **Por ejemplo:** \n",
    "    Tenemos la Función `print()` que esta dentro del Python base. \n",
    "\n",
    "#### **Una Función tiene:** \n",
    "- `nombre -> Palabra Reservada`\n",
    "- `()`\n",
    "- `argumentos -> Son lo que necesita para cumplir una función`\n",
    "- `return -> El resultado de lo que haga una función`\n",
    "\n",
    "#### **Cuando empleo funciones debo recordar 5 cosas:**\n",
    "1. Definir `-> Crearla` \n",
    "2. Definir si tiene entradas `-> Argumentos` \n",
    "3. Definir el proceso que cumple la función \n",
    "4. Definir cual es la salidad `-> Return` \n",
    "5. Invocar/Llamar/Call/ la función `-> Utilizo` \n",
    "\n",
    "#### **Sintaxis:**\n",
    "```\n",
    "def nombre_funcion(argumento1, argumento2):\n",
    "    proceso\n",
    "\n",
    "    return variable_proceso\n",
    "\n",
    "invocar = nombre_funcion(a1, a2)\n",
    "print(\"El resultado de la función es: invocar)\n",
    "```\n",
    "#### **Para Invocar la Función:**\n",
    "- ##### ***Si tiene retorno la llamo desde la variable:*** \n",
    "  \n",
    "    - **`resultado = area(radio)`**\n",
    "\n",
    "    ##### **Ejemplo:**\n",
    "\n",
    "    ---------------------------------------------------------------------\n",
    "\n",
    "    ```\n",
    "    def suma(a, b):\n",
    "        resultado = a + b\n",
    "        return resultado\n",
    "\n",
    "    resultado_suma = suma(10, 5)\n",
    "    print(\"El resultado de la suma es:\", resultado_suma)\n",
    "    ```\n",
    "    ---------------------------------------------------------------------\n",
    "\n",
    "    ##### **Otro Ejemplo:**    \n",
    "    - `print() -> Función sin retorno`\n",
    "\n",
    "---------------------------------------------------------------------\n",
    "\n",
    "- ##### ***Si no tiene retorno solo la llamo:***\n",
    "\n",
    "    - **`area()`**\n",
    "\n",
    "    ##### **Ejemplo:**\n",
    "    \n",
    "    ---------------------------------------------------------------------\n",
    "    ```\n",
    "    def saludar(nombre):\n",
    "        print(\"¡Hola, \" + nombre + \"!\")\n",
    "\n",
    "    saludar(\"Juan\")\n",
    "    ```\n",
    "    ---------------------------------------------------------------------\n",
    "    \n",
    "    ##### **Otro Ejemplo:**\n",
    "\n",
    "    - `numero1 = int(input()) -> Input tiene retorno`\n",
    "    \n"
   ]
  },
  {
   "cell_type": "markdown",
   "metadata": {},
   "source": [
    "-----------------------------------------------------------------------------\n",
    "\n",
    "### **Ejemplo**\n",
    "Realizar un programa que devuelva el área de un círulo varia veces, variando el radio. \n",
    "Que diga el área de el círculo para un radio `r, 2r, 3r, 5r ... 100r` \n"
   ]
  },
  {
   "cell_type": "code",
   "execution_count": null,
   "metadata": {},
   "outputs": [],
   "source": [
    "# //////////////////////////////////////////////////////////////////\n",
    "# Calculadora del Área de un Círculo \n",
    "# 30/01/2024\n",
    "# Profesor José Burgos \n",
    "# Proceso para hallar el área de un círculo según n veces su radio \n",
    "# /////////////////////////////////////////////////////////////////\n",
    "\n",
    "# ____________Funciones____________\n",
    "def area(radio):\n",
    "    resultado = 3.14 * (radio **2)\n",
    "    return resultado \n",
    "\n",
    "# ______________Main_______________\n",
    "\n",
    "radio = int(input('Ingrese el radio del circulo'))\n",
    "\n",
    "multiplos = list(range(1, 101, 1))\n",
    "\n",
    "for n in multiplos:\n",
    "    resultado = area(radio * n)\n",
    "    print(f\"El area con r = {radio*n} es A = {resultado}\")\n",
    "\n"
   ]
  },
  {
   "cell_type": "markdown",
   "metadata": {},
   "source": [
    "--------------------------"
   ]
  },
  {
   "cell_type": "markdown",
   "metadata": {},
   "source": [
    "# **Librerias** "
   ]
  },
  {
   "cell_type": "markdown",
   "metadata": {},
   "source": [
    "--------------------------\n"
   ]
  },
  {
   "cell_type": "markdown",
   "metadata": {},
   "source": [
    "Código que alguién mas hizo dónde existen unas funcones que yo puedo llamar y utilizar.\n",
    "\n",
    "En otros palabras, es un conjunto de módulos predefinidos que contienen funciones y clases para realizar tareas específicas. Estas bibliotecas facilitan el desarrollo de programas al proporcionar funciones ya implementadas que los programadores pueden utilizar sin tener que escribir el código desde cero.\n",
    "\n",
    "### **Ejemplo**: "
   ]
  },
  {
   "cell_type": "code",
   "execution_count": 8,
   "metadata": {},
   "outputs": [
    {
     "name": "stdout",
     "output_type": "stream",
     "text": [
      "La raíz cuadrada de 25 es: 5.0\n",
      "El seno de 45 grados es: 0.7071067811865476\n"
     ]
    }
   ],
   "source": [
    "# Importar la biblioteca de funciones matemáticas\n",
    "import math\n",
    "\n",
    "# Calcular la raíz cuadrada de un número\n",
    "numero = 25\n",
    "raiz_cuadrada = math.sqrt(numero)\n",
    "\n",
    "# Calcular el seno de un ángulo en radianes\n",
    "angulo_radianes = math.radians(45)\n",
    "seno_angulo = math.sin(angulo_radianes)\n",
    "\n",
    "# Imprimir los resultados\n",
    "print(f\"La raíz cuadrada de {numero} es: {raiz_cuadrada}\")\n",
    "print(f\"El seno de 45 grados es: {seno_angulo}\")"
   ]
  },
  {
   "cell_type": "markdown",
   "metadata": {},
   "source": [
    "---------------------------------------"
   ]
  }
 ],
 "metadata": {
  "kernelspec": {
   "display_name": "SIC",
   "language": "python",
   "name": "python3"
  },
  "language_info": {
   "codemirror_mode": {
    "name": "ipython",
    "version": 3
   },
   "file_extension": ".py",
   "mimetype": "text/x-python",
   "name": "python",
   "nbconvert_exporter": "python",
   "pygments_lexer": "ipython3",
   "version": "3.9.7"
  }
 },
 "nbformat": 4,
 "nbformat_minor": 2
}
