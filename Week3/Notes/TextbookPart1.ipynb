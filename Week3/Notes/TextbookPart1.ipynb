{
 "cells": [
  {
   "cell_type": "markdown",
   "metadata": {},
   "source": [
    "----------------------------------------\n",
    "# **Cifrado César**\n",
    "-------------------------------------------\n",
    "\n",
    "El cifrado César es un tipo simple de cifrado por substitución, en el que cada letra en el texto original es \"desplazada\" por cierto número de posiciones para obtener la letra en el texto cifrado. Por ejemplo, con un desplazamiento de 1, A sería reemplazado por B, B sería reemplazado por C, y así sucesivamente."
   ]
  },
  {
   "cell_type": "markdown",
   "metadata": {},
   "source": [
    "-------\n",
    "------\n",
    "## **Ejemplo:**\n",
    "-------\n",
    "------"
   ]
  },
  {
   "cell_type": "code",
   "execution_count": 16,
   "metadata": {},
   "outputs": [
    {
     "name": "stdout",
     "output_type": "stream",
     "text": [
      "Decrypted text:  HELLO WORLD\n"
     ]
    }
   ],
   "source": [
    "\"\"\"\n",
    "Encripta el texto proporcionado utilizando el cifrado César con el desplazamiento especificado.\n",
    "\n",
    "Parámetros:\n",
    "    - text (str): El texto de entrada que se va a encriptar.\n",
    "    - shift (int): El número de posiciones para desplazar los caracteres.\n",
    "\n",
    "Retorna:\n",
    "    - str: El texto encriptado.\n",
    "\"\"\"\n",
    "def caesar_encrypt(text, shift):\n",
    "    # Inicializa variable \n",
    "    result = \"\"\n",
    "\n",
    "    # Itera sobr cada caracter en el texto\n",
    "    for char in text:\n",
    "        # Verifica si el caracter es una letra del alfabeto \n",
    "        if char.isalpha():\n",
    "            # Obtener el valor ASCII del caracter \n",
    "            ascii_val = ord(char)\n",
    "            # Calcular el valor de desplazamiento, módulo 26 para mantenerlo dentro del alfabeto \n",
    "            shift_val = shift % 26\n",
    "            \n",
    "            # Ajustar el valor ASCII según si el caracter es minúscula o mayúscula\n",
    "            if char.islower():\n",
    "                new_ascii_val = (ascii_val - 97 + shift_val) % 26 + 97\n",
    "            else:\n",
    "                new_ascii_val = (ascii_val - 65 + shift_val) % 26 + 65\n",
    "            \n",
    "            # Agregar el nuevo valor del caracter \n",
    "            result += chr(new_ascii_val)\n",
    "        \n",
    "        # Si el caracter no es una letra del alfabeto, agregarlo como está\n",
    "        else:\n",
    "            result += char\n",
    "            \n",
    "    # Devolver resultado \n",
    "    return result\n",
    "\n",
    "\n",
    "\"\"\"\n",
    "Desencripta el texto proporcionado utilizando el cifrado César con el desplazamiento especificado.\n",
    "\n",
    "Parámetros:\n",
    "    - text (str): El texto de entrada que se va a desencriptar.\n",
    "    - shift (int): El número de posiciones para desplazar los caracteres.\n",
    "\n",
    "Retorna:\n",
    "    - str: El texto desencriptado.\n",
    "\"\"\"\n",
    "def caesar_decrypt(text, shift):\n",
    "    # Llamar a la función caesar_encrypt con un desplazamiento negativo para realizar la desencriptación\n",
    "    return caesar_encrypt(text, -shift)\n",
    "\n",
    "\"\"\"\n",
    "if __name__ == \"__main__\":\n",
    "    verifica si el script de Python se está ejecutando directamente. \n",
    "    Si es así, el código dentro de este bloque se ejecutará.\n",
    "    Si el script se importa como un módulo en otro script, este bloque no se ejecutará. \n",
    "    Esto permite tener código que se ejecuta solo cuando el script se inicia directamente \n",
    "    y no cuando se importa como un módulo en otro lugar.  \n",
    "\"\"\"\n",
    "if __name__ == \"__main__\":\n",
    "    # Obtener entrada del usuario \n",
    "    text = input(\"Enter the text: \")\n",
    "    shift = int(input(\"Enter the shift value: \"))\n",
    "    choice = input(\"Enter 'e' to encrypt or 'd' to decrypt: \")\n",
    "\n",
    "    #Procesar la elección del usario \n",
    "    if choice == 'e':\n",
    "        # Encriptar texto e imprimir resultado \n",
    "        print(\"Encrypted text: \", caesar_encrypt(text, shift))\n",
    "    elif choice == 'd':\n",
    "        # Desencriptar texto e imprimir resultado \n",
    "        print(\"Decrypted text: \", caesar_decrypt(text, shift))\n",
    "    else:\n",
    "        # Manejar de errores \n",
    "        print(\"Invalid choice!\")      "
   ]
  },
  {
   "cell_type": "markdown",
   "metadata": {},
   "source": [
    "----------------------------"
   ]
  },
  {
   "cell_type": "markdown",
   "metadata": {},
   "source": [
    "# **Funciones** \n",
    "------------------------------------------------------------------"
   ]
  },
  {
   "cell_type": "markdown",
   "metadata": {},
   "source": [
    "\n",
    "Es una sección de código nombrada que realiza una tarea específica. Puede tomar argumentos de entrada, realizar cálculos o procesamiento y devolver uno o más valores como salida. Las funciones ayudan a estructurar el código de manera más limpia y fácil de leer, además de promover la reutilización de código."
   ]
  },
  {
   "cell_type": "markdown",
   "metadata": {},
   "source": [
    "--------\n",
    "-------\n",
    "## **Ejemplo:**\n",
    "--------\n",
    "-------"
   ]
  },
  {
   "cell_type": "code",
   "execution_count": 4,
   "metadata": {},
   "outputs": [
    {
     "name": "stdout",
     "output_type": "stream",
     "text": [
      "La suma de 3 y 5 es: 8\n",
      "\n",
      "El resultado de la suma es: 8\n"
     ]
    }
   ],
   "source": [
    "def sumar_dos_numeros(a, b):\n",
    "    suma = a + b\n",
    "    print(f'La suma de {a} y {b} es: {suma}\\n')\n",
    "\n",
    "# Llamar a la función\n",
    "sumar_dos_numeros(3, 5)\n",
    "\n",
    "\n",
    "\n",
    "# También puedes crear funciones que devuelvan valores en lugar de imprimirlos directamente. \n",
    "def sumar_dos_numeros(a, b):\n",
    "    suma = a + b\n",
    "    return suma\n",
    "\n",
    "# Llamar a la función y almacenar el resultado en una variable\n",
    "resultado = sumar_dos_numeros(3, 5)\n",
    "print(f'El resultado de la suma es: {resultado}')"
   ]
  },
  {
   "cell_type": "markdown",
   "metadata": {},
   "source": [
    "--------------------------------------------\n",
    "--------------------------------------------\n",
    "## **Estructura Básica de una Función**\n",
    "--------------------------------------------\n",
    "---------------------------------------------"
   ]
  },
  {
   "cell_type": "markdown",
   "metadata": {},
   "source": [
    "\n",
    "#### **Ejemplo:**\n",
    "```\n",
    "def sumar_dos_numeros(a, b):\n",
    "    suma = a + b\n",
    "    return suma\n",
    "```\n",
    "\n",
    "--------------------------------------\n",
    "### ***Declaración de Funciones con `def`***\n",
    "---------------------------------------------------------------\n",
    "\n",
    "\n",
    "La palabra clave `def` se utiliza para declarar una función en Python. La declaración de la función debe comenzar con `def`, seguida del nombre de la función y paréntesis que contienen los argumentos de la función.\n",
    "\n",
    "**Por ejemplo:**\n",
    "\n",
    "En la función `sumar_dos_numeros`, `def` indica que se trata de una función y `sumar_dos_numeros` es el nombre de la función. Los argumentos de la función son `a` y `b`.\n",
    "\n",
    "--------------------------------------\n",
    "### ***Cuerpo de la Función***\n",
    "--------------------------------------------------------------\n",
    "\n",
    "Es el bloque de código que se ejecuta cuando se llama a la función. El cuerpo de la función está indentado debajo de la declaración de la función.\n",
    "\n",
    "En la función `sumar_dos_numeros`, el cuerpo de la función consta de dos líneas de código:\n",
    "```\n",
    "    suma = a + b\n",
    "    return suma\n",
    "```\n",
    "- La primera línea de código calcula la suma de `a` y `b` y la almacena en la variable `suma`.\n",
    "\n",
    "- La segunda línea de código devuelve el valor de `suma` como resultado de la función.\n",
    "\n",
    "- Cuando se llama a una función, se ejecuta el cuerpo de la función y se devuelve el resultado."
   ]
  },
  {
   "cell_type": "markdown",
   "metadata": {},
   "source": [
    "--------------------------------------------\n",
    "------------------------------------------------------\n",
    "## **Términos Claves Relacionados a las Funciones**\n",
    "------------------------------------------------------\n",
    "--------------------------------------"
   ]
  },
  {
   "cell_type": "markdown",
   "metadata": {},
   "source": [
    "***Algunos de los términos claves de las funciones son:***\n",
    "\n",
    "--------------------------------------\n",
    "### ***Parámetros***\n",
    "------------------------------------\n",
    "Son variables definidas en la declaración de la función que reciben valores al llamar a la función. Son opcionales y se especifican dentro de los paréntesis de la declaración de la función. \n",
    "\n",
    "**Por ejemplo:**\n",
    "\n",
    "En la función `sumar_dos_numeros(a, b)`, `a` y `b` son parámetros.\n",
    "\n",
    "--------------------------------------\n",
    "### ***Argumentos***\n",
    "-------------------------------------\n",
    "Son los valores reales que se pasan a los parámetros al llamar a la función. Los argumentos se especifican dentro de los paréntesis al llamar a la función. \n",
    "\n",
    "**Por ejemplo:** \n",
    "\n",
    "En la llamada a la función `sumar_dos_numeros(3, 5)`, `3` y `5` son argumentos.\n",
    "\n",
    "Retorno de funciones\n",
    "\n",
    "Es el resultado que devuelve una función después de ejecutar su cuerpo. Se especifica utilizando la palabra clave `return` seguida del valor a devolver. El valor devuelto se puede asignar a una variable o utilizar directamente en una expresión. \n",
    "\n",
    "**Por ejemplo:** \n",
    "\n",
    "En la función `sumar_dos_numeros(a, b)`, `return a + b` especifica el retorno de la función.\n",
    "\n",
    "--------------------------------------\n",
    "### ***Alcance de Variables***\n",
    "---------------------------------------\n",
    "Determina dónde se puede acceder y modificar la variable en el código. El alcance de las variables en Python se determina por su ubicación en el código y el uso de identación. \n",
    "\n",
    "Las variables definidas dentro de una función tienen un alcance local y solo se pueden acceder y modificar dentro de la función. Las variables definidas fuera de una función tienen un alcance global y se pueden acceder y modificar dentro y fuera de las funciones. \n",
    "\n",
    "Las variables definidas dentro de una función pueden afectar a las variables globales si se utiliza la palabra clave `global`.\n"
   ]
  },
  {
   "cell_type": "markdown",
   "metadata": {},
   "source": [
    "--------\n",
    "### ***Ejemplo:***\n",
    "---------"
   ]
  },
  {
   "cell_type": "code",
   "execution_count": 6,
   "metadata": {},
   "outputs": [
    {
     "name": "stdout",
     "output_type": "stream",
     "text": [
      "23\n",
      "20\n"
     ]
    }
   ],
   "source": [
    "# Variable global\n",
    "global_var = 10\n",
    "\n",
    "def sumar_dos_numeros(a, b):\n",
    "    # Variables locales\n",
    "    local_var = 5\n",
    "    suma = a + b + global_var + local_var\n",
    "    return suma\n",
    "\n",
    "# Llamar a la función y asignar el resultado a una variable\n",
    "resultado = sumar_dos_numeros(3, 5)\n",
    "\n",
    "# Imprimir el resultado\n",
    "print(resultado)\n",
    "\n",
    "# Modificar la variable global\n",
    "global_var = 20\n",
    "\n",
    "# Imprimir la variable global\n",
    "print(global_var)"
   ]
  },
  {
   "cell_type": "markdown",
   "metadata": {},
   "source": [
    "--------------------------------------\n",
    "--------------------------------------\n",
    "## **Definición y llamada de funciones**\n",
    "-------------------------------------------------------------\n",
    "----------------------------------------------------------"
   ]
  },
  {
   "cell_type": "markdown",
   "metadata": {},
   "source": [
    "\n",
    "--------------------------------------------------\n",
    "### ***Definición de Funciones***\n",
    "--------------------------------------\n",
    "Para definir una función en Python, se utiliza la palabra clave `def` seguida del nombre de la función y paréntesis que contienen los parámetros de la función. \n",
    "\n",
    "Luego, se coloca un bloque de código indented (dentro de la función) que contiene las instrucciones que la función debe realizar.\n",
    "\n",
    "**Por ejemplo:**  \n",
    "```\n",
    "def suma(a, b):\n",
    "    return a + b\n",
    "```\n",
    "\n",
    "------------------------------------------------------\n",
    "### ***Llamada a Funciones***\n",
    "-------------------------------------------\n",
    "Para llamar a una función en Python, se utiliza el nombre de la función seguido de paréntesis. Los argumentos que se pasan a la función se colocan dentro de los paréntesis.\n",
    "\n",
    "**Por ejemplo:**  \n",
    "```\n",
    "resultado = suma(3, 4)\n",
    "print(resultado)  # Imprime 7\n",
    "```"
   ]
  },
  {
   "cell_type": "markdown",
   "metadata": {},
   "source": [
    "--------------------------------------\n",
    "--------------------------------------\n",
    "## ***Ventajas de Utilizar Funciones***\n",
    "-------------------------------------\n",
    "--------------------------------------------------"
   ]
  },
  {
   "cell_type": "markdown",
   "metadata": {},
   "source": [
    "\n",
    "- La programación estructurada es posible porque un programa grande puede dividirse en varias partes.\n",
    "  \n",
    "- Es posible reutilizar funciones en otros programas.\n",
    "  \n",
    "- Aumenta la legibilidad del código.\n",
    "  \n",
    "- Incluso cuando se modifica un programa, el mantenimiento es fácil porque sólo hay que modificar algunas funciones.\n",
    "\n",
    "- Si utiliza una función ya desarrollada, puede ahorrar tiempo y dinero en el desarrollo del programa."
   ]
  },
  {
   "cell_type": "markdown",
   "metadata": {},
   "source": [
    "--------------------------------------\n",
    "---------------------------------------\n",
    "## **Funciones y Parámetros**\n",
    "----------------------------------------\n",
    "---------------------------------------"
   ]
  },
  {
   "cell_type": "markdown",
   "metadata": {},
   "source": [
    "------------------------\n",
    "### ***Parámetros Arbitrarios***\n",
    "----------------------------------------\n",
    "En Python, se pueden definir funciones que acepten cualquier cantidad de argumentos. Para esto, se utiliza el parámetro especial `*args` en la definición de la función.\n",
    "\n",
    "En el siguiente ejemplo, se define una función `suma` que recibe cualquier cantidad de argumentos `(*args)`. La función itera sobre los argumentos y suma cada uno de ellos, devolviendo el resultado final.\n",
    "\n",
    "#### **Ejemplo:**"
   ]
  },
  {
   "cell_type": "code",
   "execution_count": 7,
   "metadata": {},
   "outputs": [
    {
     "name": "stdout",
     "output_type": "stream",
     "text": [
      "15\n"
     ]
    }
   ],
   "source": [
    "def suma(*args):\n",
    "    total = 0\n",
    "    for arg in args:\n",
    "        total += arg\n",
    "    return total\n",
    "\n",
    "resultado = suma(1, 2, 3, 4, 5)\n",
    "print(resultado)  # Imprime 15"
   ]
  },
  {
   "cell_type": "markdown",
   "metadata": {},
   "source": [
    "--------------------------------------\n",
    "### ***Paso Arbitrario de Argumentos***\n",
    "-------------------------------------------\n",
    "En Python, se pueden definir funciones que acepten argumentos en cualquier orden. Para esto, se utiliza el parámetro especial `**kwargs` en la definición de la función.\n",
    "\n",
    "En el siguiente ejemplo, se define una función `informacion` que acepta argumentos en cualquier orden `(**kwargs)`. La función itera sobre los argumentos y los imprime en pantalla.\n",
    "\n",
    "#### **Ejemplo:**"
   ]
  },
  {
   "cell_type": "code",
   "execution_count": 11,
   "metadata": {},
   "outputs": [
    {
     "name": "stdout",
     "output_type": "stream",
     "text": [
      "nombre: Juan\n",
      "edad: 30\n",
      "ocupacion: Ingeniero\n",
      "\n",
      "nombre: Ross\n",
      "edad: 22\n"
     ]
    }
   ],
   "source": [
    "def informacion(**kwargs):\n",
    "    for key, value in kwargs.items():\n",
    "        print(f\"{key}: {value}\")\n",
    "\n",
    "informacion(nombre=\"Juan\", edad=30, ocupacion=\"Ingeniero\\n\")\n",
    "\n",
    "# Otra forma es creando un diccionario y luego imprimiendo \n",
    "args_dict = {\"nombre\": \"Ross\", \"edad\": 22}\n",
    "informacion(**args_dict)\n"
   ]
  },
  {
   "cell_type": "markdown",
   "metadata": {},
   "source": [
    "--------------------------------------\n",
    "### ***Parámetros por defecto***\n",
    "----------------------------------"
   ]
  },
  {
   "cell_type": "markdown",
   "metadata": {},
   "source": [
    "\n",
    "Son valores asignados a los parámetros de una función que se utilizarán si no se proporcionan argumentos cuando se llama a la función. Esto permite crear funciones que pueden tomar un número variable de argumentos y proporcionar valores predeterminados para algunos o todos los parámetros.\n",
    "\n",
    "***La sintaxis para definir un parámetro con un valor predeterminado es:***\n",
    "```\n",
    "def nombre_funcion(parametro1, parametro2=valor_predeterminado):\n",
    "    ...\n",
    "```\n",
    "Donde `parametro2` tiene un valor predeterminado de `valor_predeterminado`. Si se llama a la función sin proporcionar un argumento para `parametro2`, se utilizará el valor predeterminado.\n",
    "\n",
    "**En el siguiente ejemplo**, la función `saludar` toma un parámetro `nombre` con un valor predeterminado de `\"usuario\"`. Si se llama a la función sin proporcionar un argumento para `nombre`, se utilizará el valor predeterminado.\n",
    "\n",
    "#### **Ejemplo:**"
   ]
  },
  {
   "cell_type": "code",
   "execution_count": 12,
   "metadata": {},
   "outputs": [
    {
     "name": "stdout",
     "output_type": "stream",
     "text": [
      "¡Hola, Alice!\n",
      "¡Hola, usuario!\n"
     ]
    }
   ],
   "source": [
    "def saludar(nombre=\"usuario\"):\n",
    "    print(f\"¡Hola, {nombre}!\")\n",
    "\n",
    "saludar(\"Alice\")  # imprime ¡Hola, Alice!\n",
    "saludar()  # imprime ¡Hola, usuario!"
   ]
  },
  {
   "cell_type": "markdown",
   "metadata": {},
   "source": [
    "***Los parámetros por defecto también pueden utilizarse con parámetros arbitrarios y parámetros de palabras clave.***\n",
    "\n",
    "**En el siguiente ejemplo**, \n",
    "\n",
    "La función `procesar_datos` tiene un parámetro obligatorio `(nombre)`, un parámetro \n",
    "con valor por defecto `(edad)`, un parámetro arbitrario `(*hobbies)`, y un parámetro de palabras clave `(**info_adicional)`. La función imprime el nombre, la edad (o el valor predeterminado si no se proporciona), cualquier hobby adicional pasado como argumento arbitrario, y cualquier información adicional proporcionada como argumento de palabras clave.\n",
    "\n",
    "Al llamar a la función con diferentes conjuntos de argumentos, se puede observar cómo se manejan los parámetros por defecto, arbitrarios y de palabras clave:\n",
    "\n",
    "#### **Ejemplo:**"
   ]
  },
  {
   "cell_type": "code",
   "execution_count": 24,
   "metadata": {},
   "outputs": [
    {
     "name": "stdout",
     "output_type": "stream",
     "text": [
      "Nombre: Alice\n",
      "Edad: 25 años\n",
      "Hobbies:\n",
      "- 28\n",
      "- Pintar\n",
      "- Cantar\n",
      "Información Adicional:\n",
      "- ciudad: Wonderland\n",
      "- ocupacion: Artista \n",
      "\n",
      "Nombre: Alice\n",
      "Edad: 25 años\n",
      "Hobbies:\n",
      "- Pintar\n",
      "- Cantar\n",
      "Información Adicional:\n",
      "- ciudad: Wonderland\n",
      "- ocupacion: Artista \n",
      "\n",
      "Nombre: Alice\n",
      "Edad: 25 años\n",
      "No se especificaron hobbies.\n",
      "No se proporcionó información adicional.\n"
     ]
    }
   ],
   "source": [
    "\"\"\"\n",
    "Procesa datos de una persona, incluyendo nombre, edad (con valor predeterminado), \n",
    "una lista arbitraria de hobbies y cualquier información adicional como un diccionario.\n",
    "\n",
    "Parámetros:\n",
    "    - nombre (str): El nombre de la persona.\n",
    "    - edad (int, opcional): La edad de la persona, con valor predeterminado de 25.\n",
    "    - *hobbies (str): Una lista arbitraria de hobbies.\n",
    "    - **info_adicional (dict): Información adicional como un diccionario.\n",
    "\"\"\"\n",
    "# En ese orden deben ir los parametros, para que el default funcione \n",
    "def procesar_datos(nombre, *hobbies, edad=25, **info_adicional):\n",
    "   \n",
    "    print(f\"Nombre: {nombre}\")\n",
    "    print(f\"Edad: {edad} años\")\n",
    "    \n",
    "    if hobbies:\n",
    "        print(\"Hobbies:\")\n",
    "        for hobby in hobbies:\n",
    "            print(f\"- {hobby}\")\n",
    "    else:\n",
    "        print(\"No se especificaron hobbies.\")\n",
    "    \n",
    "    if info_adicional:\n",
    "        print(\"Información Adicional:\")\n",
    "        for clave, valor in info_adicional.items():\n",
    "            print(f\"- {clave}: {valor}\")\n",
    "    else:\n",
    "        print(\"No se proporcionó información adicional.\")\n",
    "\n",
    "# Ejemplo de llamada a la función con parámetros por defecto, arbitrarios y de palabras clave\n",
    "procesar_datos(\"Alice\", 28, \"Pintar\", \"Cantar\", ciudad=\"Wonderland\", ocupacion=\"Artista \\n\")\n",
    "procesar_datos(\"Alice\", \"Pintar\", \"Cantar\", ciudad=\"Wonderland\", ocupacion=\"Artista \\n\")\n",
    "procesar_datos(\"Alice\") # Aquí se imprimirá el valor predeterminado de edad (25)"
   ]
  },
  {
   "cell_type": "markdown",
   "metadata": {},
   "source": [
    "--------------------------------------\n",
    "-----------------------------------------------------------------------\n",
    "## **Parámetros de Palabras Claves y Método de Paso de Argumentos**\n",
    "-----------------------------------------------------------------------\n",
    "--------------------------------------\n",
    "Los argumentos se pasan a las funciones por referencia, lo que significa que la función recibe la dirección de memoria del objeto y no una copia de su valor. En Python, puedes modificar el objeto original dentro de una función, y los cambios se reflejarán en el ámbito de la llamada.\n",
    "\n",
    "también admite argumentos de palabras clave, permitiendo pasar argumentos a una función utilizando sus nombres en lugar de sus posiciones. Esto puede hacer que tu código sea más legible y menos propenso a errores.\n",
    "\n",
    "**Aquí hay algunos ejemplos para ilustrar estos conceptos:**\n",
    "\n",
    "--------------------------------------\n",
    "### ***Pasar Argumentos por Referencia***\n",
    "------------------------------------------------------\n",
    "**En el siguiente ejemplo**, pasamos una lista a una función y la modificamos dentro de la función. Como puedes ver, los cambios se reflejan en el ámbito de la llamada.\n",
    "\n",
    "#### **Ejemplo:**"
   ]
  },
  {
   "cell_type": "code",
   "execution_count": 25,
   "metadata": {},
   "outputs": [
    {
     "name": "stdout",
     "output_type": "stream",
     "text": [
      "[1, 2, 3, 4]\n"
     ]
    }
   ],
   "source": [
    "def add_element(my_list):\n",
    "    my_list.append(4)\n",
    "\n",
    "my_list = [1, 2, 3]\n",
    "add_element(my_list)\n",
    "print(my_list)  # Output: [1, 2, 3, 4]"
   ]
  },
  {
   "cell_type": "markdown",
   "metadata": {},
   "source": [
    "--------------------------------------\n",
    "### ***Argumentos de Palabras Clave***\n",
    "------------------------------------------------------\n",
    "**En el siguiente ejemplo**, utilizamos argumentos de palabras clave para pasar los argumentos a una función. Esto hace que el código sea más legible y menos propenso a errores.\n",
    "\n",
    "#### **Ejemplo:**"
   ]
  },
  {
   "cell_type": "code",
   "execution_count": 26,
   "metadata": {},
   "outputs": [
    {
     "name": "stdout",
     "output_type": "stream",
     "text": [
      "Hello, Alice!\n"
     ]
    }
   ],
   "source": [
    "def greet(name, greeting):\n",
    "    print(f\"{greeting}, {name}!\")\n",
    "\n",
    "greet(greeting=\"Hello\", name=\"Alice\")  # Output: Hello, Alice!"
   ]
  },
  {
   "cell_type": "markdown",
   "metadata": {},
   "source": [
    "--------------------------------------\n",
    "### ***Pasando Objetos Mutables e Inmutables***\n",
    "------------------------------------------------------\n",
    "**En el siguiente ejemplo**, pasamos un diccionario y una tupla a una función. Como puedes ver, podemos modificar el diccionario dentro de la función, pero no podemos modificar la tupla, ya que es inmutable.\n",
    "\n",
    "#### **Ejemplo:**"
   ]
  },
  {
   "cell_type": "code",
   "execution_count": 27,
   "metadata": {},
   "outputs": [
    {
     "name": "stdout",
     "output_type": "stream",
     "text": [
      "{'key': 'value'}\n",
      "(1, 2, 3)\n"
     ]
    }
   ],
   "source": [
    "def modify_object(my_dict, my_tuple):\n",
    "    my_dict[\"key\"] = \"value\"\n",
    "    # my_tuple[0] = \"new_value\"  # This would raise a TypeError\n",
    "\n",
    "my_dict = {\"key\": \"initial_value\"}\n",
    "my_tuple = (1, 2, 3)\n",
    "modify_object(my_dict, my_tuple)\n",
    "print(my_dict)  # Output: {\"key\": \"value\"}\n",
    "print(my_tuple)  # Output: (1, 2, 3)"
   ]
  },
  {
   "cell_type": "markdown",
   "metadata": {},
   "source": [
    "--------------------------------------\n",
    "### ***Usando la palabra clave `ref` en Python***\n",
    "------------------------------------------------------\n",
    "Python no tiene una palabra clave \"ref\" incorporada como C#. Sin embargo, puedes simular este comportamiento utilizando un objeto mutable, como una lista, como argumento.\n",
    "\n",
    "**En el siguiente ejemplo**, pasamos una lista que contiene el entero como argumento. Modificamos la lista dentro de la función, pero el entero en sí mismo permanece sin cambios.\n",
    "\n",
    "#### **Ejemplo:**"
   ]
  },
  {
   "cell_type": "code",
   "execution_count": 28,
   "metadata": {},
   "outputs": [
    {
     "name": "stdout",
     "output_type": "stream",
     "text": [
      "42\n",
      "10\n"
     ]
    }
   ],
   "source": [
    "def change_value(my_list):\n",
    "    my_list[0] = 42\n",
    "\n",
    "my_int = 10\n",
    "my_list = [my_int]\n",
    "change_value(my_list)\n",
    "print(my_list[0])  # Output: 42\n",
    "print(my_int)      # Output: 10"
   ]
  },
  {
   "cell_type": "markdown",
   "metadata": {},
   "source": [
    "También puedes utilizar un enfoque similar para pasar un objeto por referencia, almacenando el objeto en un contenedor mutable, como un diccionario o una instancia de clase.\n",
    "\n",
    "**En el siguiente ejemplo**, pasamos una instancia de clase que contiene el objeto como argumento. Modificamos la instancia dentro de la función, y el objeto también se modifica. \n",
    "\n",
    "#### **Ejemplo utilizando una instancia de clase:**"
   ]
  },
  {
   "cell_type": "code",
   "execution_count": null,
   "metadata": {},
   "outputs": [],
   "source": [
    "class Container:\n",
    "    # Método especial de inicialización (__init__) de la clase Container.\n",
    "    def __init__(self, value):\n",
    "        # Crea una instancia de Container con un atributo 'value' inicializado.\n",
    "        self.value = value\n",
    "\n",
    "# Función que modifica el valor del atributo 'value' de un objeto Container.\n",
    "def change_object(my_container):\n",
    "    my_container.value = \"new_value\"\n",
    "\n",
    "# Variable que almacena un valor inicial.\n",
    "my_object = \"initial_value\"\n",
    "\n",
    "# Instancia de la clase Container con el objeto como atributo.\n",
    "my_container = Container(my_object)\n",
    "\n",
    "# Llamada a la función para cambiar el valor del atributo 'value'.\n",
    "change_object(my_container)\n",
    "\n",
    "# Imprime el valor del atributo 'value' de my_container (Output: new_value).\n",
    "print(my_container.value)  # Output: new_value\n",
    "\n",
    "# Imprime el valor de la variable my_object (Output: initial_value).\n",
    "print(my_object)           # Output: initial_value"
   ]
  },
  {
   "cell_type": "markdown",
   "metadata": {},
   "source": [
    "--------------------------------------------------------\n",
    "--------------------------------------\n",
    "## **Sentencia `return`**\n",
    "--------------------------------------\n",
    "--------------------------------------\n",
    "La sentencia `return` se utiliza para devolver un valor desde una función. Cuando una función alcanza la sentencia `return`, el control regresa al punto de llamada y el valor especificado en la sentencia return se devuelve al código que llamó a la función.\n",
    "\n",
    "Si una función no especifica una sentencia return, se asume que la función devuelve `None` implícitamente.\n",
    "\n",
    "\n",
    "**En el siguiente ejemplo**, la función `add_numbers` acepta dos parámetros `x` y `y`, y devuelve la suma de estos parámetros utilizando la sentencia `return`.\n",
    "\n",
    "La función `add_numbers` se llama con los argumentos `3` y `5`, y el valor devuelto se asigna a la variable `total`. Finalmente, se imprime el valor de total para verificar el resultado.\n",
    "\n",
    "#### **Ejemplo:**"
   ]
  },
  {
   "cell_type": "code",
   "execution_count": 29,
   "metadata": {},
   "outputs": [
    {
     "name": "stdout",
     "output_type": "stream",
     "text": [
      "8\n"
     ]
    }
   ],
   "source": [
    "def add_numbers(x, y):\n",
    "    result = x + y\n",
    "    return result\n",
    "\n",
    "total = add_numbers(3, 5)\n",
    "print(total)  # Output: 8"
   ]
  },
  {
   "cell_type": "markdown",
   "metadata": {},
   "source": [
    "También es posible utilizar la sentencia `return` para salir de una función antes de que se alcance el final. Esto puede ser útil cuando se desea interrumpir una iteración o cuando se encuentra una condición de error en la lógica de la función.\n",
    "\n",
    "**En el siguiente ejemplo**, la función `find_first_even_number` itera sobre una lista de números y devuelve el primer número par que encuentra. Si la función no encuentra ningún número par, devuelve `None` implícitamente.\n",
    "\n",
    "La función `find_first_even_number` se llama con dos listas diferentes de números. En el primer caso, la función devuelve `None`, ya que no hay números pares en la lista. En el segundo caso, la función devuelve el primer número par que encuentra en la lista.\n",
    "\n",
    "#### **Ejemplo:**"
   ]
  },
  {
   "cell_type": "code",
   "execution_count": 30,
   "metadata": {},
   "outputs": [
    {
     "name": "stdout",
     "output_type": "stream",
     "text": [
      "None\n",
      "2\n"
     ]
    }
   ],
   "source": [
    "def find_first_even_number(numbers):\n",
    "    for number in numbers:\n",
    "        if number % 2 == 0:\n",
    "            return number\n",
    "    return None\n",
    "\n",
    "numbers = [1, 3, 5, 7, 9]\n",
    "first_even_number = find_first_even_number(numbers)\n",
    "print(first_even_number)  # Output: None\n",
    "\n",
    "numbers = [1, 2, 3, 4, 5]\n",
    "first_even_number = find_first_even_number(numbers)\n",
    "print(first_even_number)  # Output: 2"
   ]
  },
  {
   "cell_type": "markdown",
   "metadata": {},
   "source": [
    "No es necesario utilizar la sentencia `return` en todas las funciones de Python, pero es una buena práctica incluirla cuando sea necesario para devolver un valor específico. Si una función no necesita devolver ningún valor, se puede omitir la sentencia `return` y el valor `None` se devolverá automáticamente.\n",
    "\n",
    "**En el siguiente ejemplo**, La función `greet` imprime un saludo en la pantalla, pero no devuelve ningún valor. Cuando se llama a la función `greet` con el argumento `\"Alice\"`, se imprime el saludo correspondiente, pero no se asigna ningún valor a una variable.\n"
   ]
  },
  {
   "cell_type": "code",
   "execution_count": 31,
   "metadata": {},
   "outputs": [
    {
     "name": "stdout",
     "output_type": "stream",
     "text": [
      "¡Hola, Alice!\n"
     ]
    }
   ],
   "source": [
    "def greet(name):\n",
    "    print(f\"¡Hola, {name}!\")\n",
    "\n",
    "greet(\"Alice\")\n",
    "# Output: ¡Hola, Alice!"
   ]
  },
  {
   "cell_type": "markdown",
   "metadata": {},
   "source": [
    "---------------------------------------\n",
    "--------------------------------------\n",
    "## **Tratamiento de cadenas**\n",
    "---------------------------------------\n",
    "----------------------------------------------------------\n",
    "El tratamiento de cadenas, Se refiere a las operaciones y técnicas utilizadas para trabajar con cadenas de caracteres en un programa de computadora.\n",
    "\n",
    "--------------------------------------\n",
    "### ***Procesamiento de Cadenas mediante Funciones Incorporadas***\n",
    "--------------------------------------\n",
    "El procesamiento de cadenas mediante funciones incorporadas en Python implica el uso de diversas funciones predefinidas que facilitan la manipulación y análisis de cadenas de texto. A continuación, se detallan algunas funciones comunes:"
   ]
  },
  {
   "cell_type": "markdown",
   "metadata": {},
   "source": [
    "------------------------------------\n",
    "#### **`len(cadena)`**\n",
    "Devuelve la longitud de una cadena, es decir, el número de caracteres que contiene.\n",
    "\n",
    "##### **Ejemplo:**"
   ]
  },
  {
   "cell_type": "code",
   "execution_count": 32,
   "metadata": {},
   "outputs": [
    {
     "name": "stdout",
     "output_type": "stream",
     "text": [
      "12\n"
     ]
    }
   ],
   "source": [
    "cadena = \"Hola, mundo!\"\n",
    "longitud = len(cadena)\n",
    "print(longitud)  # Output: 12"
   ]
  },
  {
   "cell_type": "markdown",
   "metadata": {},
   "source": [
    "------------------------------------\n",
    "#### **`str(objeto)`**\n",
    "Convierte un objeto en una cadena. Si el objeto ya es una cadena, no se realiza ninguna acción.\n",
    "\n",
    "##### **Ejemplo:**"
   ]
  },
  {
   "cell_type": "code",
   "execution_count": 33,
   "metadata": {},
   "outputs": [
    {
     "name": "stdout",
     "output_type": "stream",
     "text": [
      "42\n"
     ]
    }
   ],
   "source": [
    "numero = 42\n",
    "cadena = str(numero)\n",
    "print(cadena)  # Output: \"42\""
   ]
  },
  {
   "cell_type": "markdown",
   "metadata": {},
   "source": [
    "------------------------------------\n",
    "#### **`repr(objeto)`**\n",
    "Devuelve una representación legible de un objeto, generalmente como una cadena.\n",
    "\n",
    "##### **Ejemplo:**"
   ]
  },
  {
   "cell_type": "code",
   "execution_count": 34,
   "metadata": {},
   "outputs": [
    {
     "name": "stdout",
     "output_type": "stream",
     "text": [
      "42\n"
     ]
    }
   ],
   "source": [
    "numero = 42\n",
    "representacion = repr(numero)\n",
    "print(representacion)  # Output: \"42\""
   ]
  },
  {
   "cell_type": "markdown",
   "metadata": {},
   "source": [
    "------------------------------------\n",
    "#### **`format(cadena, *args, **kwargs)`**\n",
    "Devuelve una nueva cadena con los valores especificados insertados en el formato especificado.\n",
    "\n",
    "##### **Ejemplo:**"
   ]
  },
  {
   "cell_type": "code",
   "execution_count": 36,
   "metadata": {},
   "outputs": [
    {
     "name": "stdout",
     "output_type": "stream",
     "text": [
      "¡Hola, Alice! Tienes 25 años.\n"
     ]
    }
   ],
   "source": [
    "nombre = \"Alice\"\n",
    "edad = 25\n",
    "cadena_formateada = \"¡Hola, {}! Tienes {} años.\".format(nombre, edad)\n",
    "print(cadena_formateada)  # Output: \"¡Hola, Alice! Tienes 25 años.\""
   ]
  },
  {
   "cell_type": "markdown",
   "metadata": {},
   "source": [
    "------------------------------------\n",
    "#### **`upper(cadena)`**\n",
    "Devuelve una copia de la cadena con todas las letras en mayúsculas.\n",
    "\n",
    "##### **Ejemplo:**"
   ]
  },
  {
   "cell_type": "code",
   "execution_count": 35,
   "metadata": {},
   "outputs": [
    {
     "name": "stdout",
     "output_type": "stream",
     "text": [
      "HOLA, MUNDO!\n"
     ]
    }
   ],
   "source": [
    "cadena = \"hola, mundo!\"\n",
    "cadena_mayusculas = cadena.upper()\n",
    "print(cadena_mayusculas)  # Output: \"HOLA, MUNDO!\""
   ]
  },
  {
   "cell_type": "markdown",
   "metadata": {},
   "source": [
    "------------------------------------\n",
    "#### **`lower(cadena)`**\n",
    "Devuelve una copia de la cadena con todas las letras en minúsculas.\n",
    "\n",
    "##### **Ejemplo:**"
   ]
  },
  {
   "cell_type": "code",
   "execution_count": 37,
   "metadata": {},
   "outputs": [
    {
     "name": "stdout",
     "output_type": "stream",
     "text": [
      "hola, mundo!\n"
     ]
    }
   ],
   "source": [
    "cadena = \"HOLA, MUNDO!\"\n",
    "cadena_minusculas = cadena.lower()\n",
    "print(cadena_minusculas)  # Output: \"hola, mundo!\""
   ]
  },
  {
   "cell_type": "markdown",
   "metadata": {},
   "source": [
    "------------------------------------\n",
    "#### **`capitalize(cadena)`**\n",
    "Devuelve una copia de la cadena con la primera letra en mayúscula y el resto en minúsculas.\n",
    "\n",
    "##### **Ejemplo:**"
   ]
  },
  {
   "cell_type": "code",
   "execution_count": 38,
   "metadata": {},
   "outputs": [
    {
     "name": "stdout",
     "output_type": "stream",
     "text": [
      "Hola, mundo!\n"
     ]
    }
   ],
   "source": [
    "cadena = \"hola, mundo!\"\n",
    "cadena_capitalizada = cadena.capitalize()\n",
    "print(cadena_capitalizada)  # Output: \"Hola, mundo!\""
   ]
  },
  {
   "cell_type": "markdown",
   "metadata": {},
   "source": [
    "------------------------------------\n",
    "#### **`title(cadena)`**\n",
    "Devuelve una copia de la cadena con las primeras letras de cada palabra en mayúsculas y el resto en minúsculas.\n",
    "\n",
    "##### **Ejemplo:**"
   ]
  },
  {
   "cell_type": "code",
   "execution_count": 39,
   "metadata": {},
   "outputs": [
    {
     "name": "stdout",
     "output_type": "stream",
     "text": [
      "Hola, Mundo! Qué Tal?\n"
     ]
    }
   ],
   "source": [
    "cadena = \"hola, mundo! qué tal?\"\n",
    "cadena_titulada = cadena.title()\n",
    "print(cadena_titulada)  # Output: \"Hola, Mundo! Qué Tal?\""
   ]
  },
  {
   "cell_type": "markdown",
   "metadata": {},
   "source": [
    "------------------------------------\n",
    "#### **`chr()`**\n",
    "Devuelve una cadena que representa un carácter cuyo código ASCII es el número entero pasado como argumento.\n",
    "\n",
    "##### **Ejemplo:**"
   ]
  },
  {
   "cell_type": "code",
   "execution_count": 1,
   "metadata": {},
   "outputs": [
    {
     "name": "stdout",
     "output_type": "stream",
     "text": [
      "Carácter correspondiente a ASCII 65: A\n"
     ]
    }
   ],
   "source": [
    "codigo_ascii = 65\n",
    "caracter = chr(codigo_ascii)\n",
    "print(\"Carácter correspondiente a ASCII 65:\", caracter)"
   ]
  },
  {
   "cell_type": "markdown",
   "metadata": {},
   "source": [
    "------------------------------------\n",
    "#### **`ord()`**\n",
    "Devuelve el valor ASCII de un carácter específico.\n",
    "\n",
    "##### **Ejemplo:**"
   ]
  },
  {
   "cell_type": "code",
   "execution_count": 2,
   "metadata": {},
   "outputs": [
    {
     "name": "stdout",
     "output_type": "stream",
     "text": [
      "Valor ASCII de 'A': 65\n"
     ]
    }
   ],
   "source": [
    "caracter = 'A'\n",
    "codigo_ascii = ord(caracter)\n",
    "print(f\"Valor ASCII de '{caracter}': {codigo_ascii}\")"
   ]
  },
  {
   "cell_type": "markdown",
   "metadata": {},
   "source": [
    "--------------------------------\n",
    "#### **`replace()`**\n",
    "Reemplaza una subcadena por otra en una cadena.\n",
    "\n",
    "##### **Ejemplo:**"
   ]
  },
  {
   "cell_type": "code",
   "execution_count": 3,
   "metadata": {},
   "outputs": [
    {
     "name": "stdout",
     "output_type": "stream",
     "text": [
      "Mensaje modificado: Hola, amigo\n"
     ]
    }
   ],
   "source": [
    "mensaje = \"Hola, amiga\"\n",
    "nuevo_mensaje = mensaje.replace(\"amiga\", \"amigo\")\n",
    "print(\"Mensaje modificado:\", nuevo_mensaje)"
   ]
  },
  {
   "cell_type": "markdown",
   "metadata": {},
   "source": [
    "------------------------------------\n",
    "#### **`split()`**\n",
    " Divide una cadena en una lista de subcadenas utilizando un delimitador.\n",
    "\n",
    "##### **Ejemplo:**"
   ]
  },
  {
   "cell_type": "code",
   "execution_count": 4,
   "metadata": {},
   "outputs": [
    {
     "name": "stdout",
     "output_type": "stream",
     "text": [
      "Lista de palabras: ['Python', 'es', 'divertido']\n"
     ]
    }
   ],
   "source": [
    "frase = \"Python es divertido\"\n",
    "palabras = frase.split()\n",
    "print(\"Lista de palabras:\", palabras)"
   ]
  },
  {
   "cell_type": "markdown",
   "metadata": {},
   "source": [
    "------------------------------------\n",
    "#### **`join()`**\n",
    "Une elementos de una lista en una sola cadena utilizando un separador.\n",
    "\n",
    "##### **Ejemplo:**"
   ]
  },
  {
   "cell_type": "code",
   "execution_count": 5,
   "metadata": {},
   "outputs": [
    {
     "name": "stdout",
     "output_type": "stream",
     "text": [
      "Frase unida: Python es poderoso\n"
     ]
    }
   ],
   "source": [
    "palabras = [\"Python\", \"es\", \"poderoso\"]\n",
    "frase = \" \".join(palabras)\n",
    "print(\"Frase unida:\", frase)"
   ]
  },
  {
   "cell_type": "markdown",
   "metadata": {},
   "source": [
    "--------------------------------------\n",
    "### ***Varios Métodos de Cadenas***\n",
    "--------------------------------------\n",
    "El procesamiento de cadenas mediante funciones incorporadas en Python implica el uso de diversas funciones predefinidas que facilitan la manipulación y análisis de cadenas de texto. A continuación, se detallan algunas funciones comunes:"
   ]
  },
  {
   "cell_type": "markdown",
   "metadata": {},
   "source": [
    "------------------------------------\n",
    "#### **`count()`**\n",
    "Cuenta el número de ocurrencias de una subcadena en la cadena\n",
    "\n",
    "##### **Ejemplo:**"
   ]
  },
  {
   "cell_type": "code",
   "execution_count": 6,
   "metadata": {},
   "outputs": [
    {
     "name": "stdout",
     "output_type": "stream",
     "text": [
      "Número de ocurrencias de 'Python': 2\n"
     ]
    }
   ],
   "source": [
    "texto = \"Python es fácil y Python es divertido\"\n",
    "ocurrencias = texto.count(\"Python\")\n",
    "print(\"Número de ocurrencias de 'Python':\", ocurrencias)"
   ]
  },
  {
   "cell_type": "markdown",
   "metadata": {},
   "source": [
    "------------------------------------\n",
    "#### **`find()`**\n",
    "Encuentra la posición de la primera ocurrencia de una subcadena.\n",
    "\n",
    "##### **Ejemplo:**"
   ]
  },
  {
   "cell_type": "code",
   "execution_count": 7,
   "metadata": {},
   "outputs": [
    {
     "name": "stdout",
     "output_type": "stream",
     "text": [
      "Posición de 'aventura': 3\n"
     ]
    }
   ],
   "source": [
    "frase = \"La aventura comienza\"\n",
    "posicion = frase.find(\"aventura\")\n",
    "print(\"Posición de 'aventura':\", posicion)"
   ]
  },
  {
   "cell_type": "markdown",
   "metadata": {},
   "source": [
    "------------------------------------\n",
    "#### **`strip()`**\n",
    "Elimina espacios en blanco al principio y al final de una cadena.\n",
    "\n",
    "##### **Ejemplo:**"
   ]
  },
  {
   "cell_type": "code",
   "execution_count": 8,
   "metadata": {},
   "outputs": [
    {
     "name": "stdout",
     "output_type": "stream",
     "text": [
      "Cadena sin espacios: ¡Hola, mundo!\n"
     ]
    }
   ],
   "source": [
    "cadena_espacios = \"   ¡Hola, mundo!   \"\n",
    "cadena_sin_espacios = cadena_espacios.strip()\n",
    "print(\"Cadena sin espacios:\", cadena_sin_espacios)"
   ]
  },
  {
   "cell_type": "markdown",
   "metadata": {},
   "source": [
    "------------------------------------\n",
    "#### **`startswith()`**\n",
    "Verifica si la cadena comienza con una subcadena específica.\n",
    "\n",
    "##### **Ejemplo:**"
   ]
  },
  {
   "cell_type": "code",
   "execution_count": 9,
   "metadata": {},
   "outputs": [
    {
     "name": "stdout",
     "output_type": "stream",
     "text": [
      "¿La cadena comienza con 'Python'? True\n"
     ]
    }
   ],
   "source": [
    "texto = \"Python es poderoso\"\n",
    "comienza_con_python = texto.startswith(\"Python\")\n",
    "print(\"¿La cadena comienza con 'Python'?\", comienza_con_python)"
   ]
  },
  {
   "cell_type": "markdown",
   "metadata": {},
   "source": [
    "------------------------------------\n",
    "#### **`endswith()`**\n",
    "Verifica si la cadena termina con una subcadena específica.\n",
    "\n",
    "##### **Ejemplo:**"
   ]
  },
  {
   "cell_type": "code",
   "execution_count": 10,
   "metadata": {},
   "outputs": [
    {
     "name": "stdout",
     "output_type": "stream",
     "text": [
      "¿La cadena termina con 'mundo!'? True\n"
     ]
    }
   ],
   "source": [
    "mensaje = \"¡Hola, mundo!\"\n",
    "termina_con_mundo = mensaje.endswith(\"mundo!\")\n",
    "print(\"¿La cadena termina con 'mundo!'?\", termina_con_mundo)"
   ]
  },
  {
   "cell_type": "markdown",
   "metadata": {},
   "source": [
    "------------------------------------\n",
    "#### **`swapcase()`**\n",
    "Los caracteres en mayúsculas se convierten en minúsculas y viceversa.\n",
    "\n",
    "##### **Ejemplo:**"
   ]
  },
  {
   "cell_type": "code",
   "execution_count": 11,
   "metadata": {},
   "outputs": [
    {
     "name": "stdout",
     "output_type": "stream",
     "text": [
      "Mensaje con capitalización invertida: hOLA, mUNDO!\n"
     ]
    }
   ],
   "source": [
    "mensaje = \"Hola, Mundo!\"\n",
    "mensaje_modificado = mensaje.swapcase()\n",
    "print(\"Mensaje con capitalización invertida:\", mensaje_modificado)"
   ]
  },
  {
   "cell_type": "markdown",
   "metadata": {},
   "source": [
    "------------------------------------\n",
    "#### **`istitle()`**\n",
    "Verifica si una cadena tiene formato de título. Una cadena se considera un título si todas sus palabras comienzan con una letra mayúscula y el resto de las letras son minúsculas.\n",
    "\n",
    "##### **Ejemplo:**"
   ]
  },
  {
   "cell_type": "code",
   "execution_count": 12,
   "metadata": {},
   "outputs": [
    {
     "name": "stdout",
     "output_type": "stream",
     "text": [
      "¿Es una cadena de título? True\n"
     ]
    }
   ],
   "source": [
    "titulo = \"Python Es Genial\"\n",
    "es_titulo = titulo.istitle()\n",
    "print(\"¿Es una cadena de título?\", es_titulo)"
   ]
  },
  {
   "cell_type": "markdown",
   "metadata": {},
   "source": [
    "---------------------------------------------------\n",
    "### ***Utilización de módulos de cadenas***\n",
    "---------------------------------------------------\n",
    "Los módulos de cadenas son herramientas que nos permiten manipular y trabajar con cadenas de texto de manera más eficiente y fácil.\n",
    "\n"
   ]
  },
  {
   "cell_type": "markdown",
   "metadata": {},
   "source": [
    "----------------------\n",
    "#### **Módulo `re`**\n",
    "Este módulo se utiliza para trabajar con expresiones regulares. Las expresiones regulares son patrones de búsqueda de texto que pueden incluir caracteres literales, operadores y construcciones más complejas.\n",
    "\n",
    "##### **Ejemplo:**"
   ]
  },
  {
   "cell_type": "code",
   "execution_count": 17,
   "metadata": {},
   "outputs": [
    {
     "name": "stdout",
     "output_type": "stream",
     "text": [
      "soy\n"
     ]
    }
   ],
   "source": [
    "import re\n",
    "\n",
    "# Buscar una palabra en una cadena\n",
    "texto = \"Hola, soy un ejemplo de cadena de texto.\"\n",
    "patron = r\"\\bsoy\\b\"\n",
    "\n",
    "# Buscar el patrón en el texto\n",
    "coincidencias = re.findall(patron, texto)\n",
    "\n",
    "# Imprimir las coincidencias\n",
    "for coincidencia in coincidencias:\n",
    "    print(coincidencia)"
   ]
  },
  {
   "cell_type": "code",
   "execution_count": 24,
   "metadata": {},
   "outputs": [
    {
     "name": "stdout",
     "output_type": "stream",
     "text": [
      "Coincidencia encontrada: ejemplo@ejemplo.com\n"
     ]
    }
   ],
   "source": [
    "# Coincidencia de una expresión regular en una cadena\n",
    "import re\n",
    "\n",
    "# Buscar un patrón de correo electrónico en una cadena\n",
    "texto = \"Mi correo electrónico es ejemplo@ejemplo.com\"\n",
    "patron = r\"[\\w.-]+@[\\w.-]+\"\n",
    "\n",
    "# Buscar el patrón en el texto\n",
    "coincidencia = re.search(patron, texto)\n",
    "\n",
    "# Imprimir la coincidencia\n",
    "if coincidencia:\n",
    "    print(\"Coincidencia encontrada:\", coincidencia.group())\n",
    "else:\n",
    "    print(\"No se encontró ninguna coincidencia\")"
   ]
  },
  {
   "cell_type": "code",
   "execution_count": 25,
   "metadata": {},
   "outputs": [
    {
     "name": "stdout",
     "output_type": "stream",
     "text": [
      "*, * * * * * * *.\n"
     ]
    }
   ],
   "source": [
    "# Sustitución de una expresión regular en una cadena\n",
    "import re\n",
    "\n",
    "# Sustituir el patrón de todas las letras por asteriscos\n",
    "texto = \"Hola, soy un ejemplo de cadena de texto.\"\n",
    "patron = r\"\\b[a-z]+\\b\"\n",
    "\n",
    "# Sustituir el patrón en el texto\n",
    "nuevo_texto = re.sub(patron, \"*\", texto, flags=re.IGNORECASE)\n",
    "\n",
    "# Imprimir el texto resultante\n",
    "print(nuevo_texto)"
   ]
  },
  {
   "cell_type": "code",
   "execution_count": 27,
   "metadata": {},
   "outputs": [
    {
     "name": "stdout",
     "output_type": "stream",
     "text": [
      "https\n",
      "https\n"
     ]
    }
   ],
   "source": [
    "# Extracción de URLs de una cadena\n",
    "import re\n",
    "\n",
    "# Extraer URLs de una cadena\n",
    "texto = \"Visite https://www.ejemplo.com y https://otro-ejemplo.org para más información.\"\n",
    "patron = r\"(http|https)://[^\\s]+\"\n",
    "\n",
    "# Encontrar todas las coincidencias en el texto\n",
    "coincidencias = re.findall(patron, texto)\n",
    "\n",
    "# Imprimir las coincidencias\n",
    "for coincidencia in coincidencias:\n",
    "    print(coincidencia)"
   ]
  },
  {
   "cell_type": "code",
   "execution_count": 28,
   "metadata": {},
   "outputs": [
    {
     "name": "stdout",
     "output_type": "stream",
     "text": [
      "['Esta', 'es', 'una', 'cadena', 'de', 'texto']\n"
     ]
    }
   ],
   "source": [
    "# Separación de una cadena en palabras\n",
    "import re\n",
    "\n",
    "# Separar una cadena en palabras\n",
    "texto = \"Esta es una cadena de texto\"\n",
    "patron = r\"\\s+\"\n",
    "\n",
    "# Dividir el texto en palabras\n",
    "palabras = re.split(patron, texto)\n",
    "\n",
    "# Imprimir las palabras resultantes\n",
    "print(palabras)"
   ]
  },
  {
   "cell_type": "markdown",
   "metadata": {},
   "source": [
    "----------------------\n",
    "#### **Módulo `string`**\n",
    "Este módulo proporciona funciones para manipular cadenas de texto. Algunas de las funciones más útiles son string.capwords(), string.join() y string.Template().\n",
    "\n",
    "##### **Ejemplo:**"
   ]
  },
  {
   "cell_type": "code",
   "execution_count": 29,
   "metadata": {},
   "outputs": [
    {
     "name": "stdout",
     "output_type": "stream",
     "text": [
      "Hola, mi nombre es Juan y tengo 25 años.\n"
     ]
    }
   ],
   "source": [
    "from string import Template\n",
    "\n",
    "# Crear una plantilla de cadena\n",
    "plantilla = Template(\"Hola, mi nombre es $nombre y tengo $edad años.\")\n",
    "\n",
    "# Rellenar la plantilla con datos\n",
    "datos = {\"nombre\": \"Juan\", \"edad\": 25}\n",
    "cadena = plantilla.substitute(datos)\n",
    "\n",
    "# Imprimir la cadena resultante\n",
    "print(cadena)"
   ]
  },
  {
   "cell_type": "code",
   "execution_count": 2,
   "metadata": {},
   "outputs": [
    {
     "name": "stdout",
     "output_type": "stream",
     "text": [
      "src_str =  ABCDEFGHIJKLMNOPQRSTUVWXYZ\n"
     ]
    }
   ],
   "source": [
    "# Imprime las letras mayüsculas del alfabeto inglés utilizando el mådulo de cadenas.\n",
    "import string\n",
    "src_str = string.ascii_uppercase\n",
    "print ('src_str = ' ,src_str)"
   ]
  },
  {
   "cell_type": "markdown",
   "metadata": {},
   "source": [
    "---------------------------------------------------\n",
    "### ***Método `index()`***\n",
    "---------------------------------------------------\n",
    "Se utiliza en Python para encontrar la posición de un substring dentro de una cadena. La posición devuelta es el índice del primer carácter del substring en la cadena. Si el substring no se encuentra en la cadena, el método `index()` levantará una excepción `ValueError`.\n",
    "\n",
    "#### **Ejemplo:**"
   ]
  },
  {
   "cell_type": "code",
   "execution_count": 3,
   "metadata": {},
   "outputs": [
    {
     "name": "stdout",
     "output_type": "stream",
     "text": [
      "El substring 'mundo' se encuentra en la posición 6\n"
     ]
    }
   ],
   "source": [
    "cadena = \"Hola, mundo cruel\"\n",
    "substring = \"mundo\"\n",
    "\n",
    "# Usar el método index() para encontrar la posición del substring\n",
    "posicion = cadena.index(substring)\n",
    "\n",
    "print(\"El substring '{}' se encuentra en la posición {}\".format(substring, posicion))"
   ]
  },
  {
   "cell_type": "markdown",
   "metadata": {},
   "source": [
    "---------------------------\n",
    "----------------------------\n",
    "## **Variables y constantes**\n",
    "---------------------------\n",
    "----------------------------\n",
    "### ***Variables globales***\n",
    "----------------------------\n",
    "Las variables globales son variables que se definen fuera de cualquier función o método en un programa. Estas variables se pueden acceder y modificar desde cualquier parte del programa, incluidas las funciones y los métodos. \n",
    "\n",
    "**En el siguiente ejemplo**, la variable mensaje se define fuera de la función `imprimir_mensaje()`, lo que significa que es una variable global. La función `imprimir_mensaje()` puede acceder a la variable `mensaje` y usarla para imprimir el mensaje \"Hola, mundo\" en la pantalla.\n",
    "\n",
    "#### **Ejemplo:**"
   ]
  },
  {
   "cell_type": "code",
   "execution_count": 4,
   "metadata": {},
   "outputs": [
    {
     "name": "stdout",
     "output_type": "stream",
     "text": [
      "Hola, mundo\n"
     ]
    }
   ],
   "source": [
    "# Definir una variable global\n",
    "mensaje = \"Hola, mundo\"\n",
    "\n",
    "# Función que usa la variable global\n",
    "def imprimir_mensaje():\n",
    "    print(mensaje)\n",
    "\n",
    "# Llamar a la función\n",
    "imprimir_mensaje()"
   ]
  },
  {
   "cell_type": "markdown",
   "metadata": {},
   "source": [
    "----------------------------\n",
    "### ***Constantes globales***\n",
    "----------------------------\n",
    "Las constantes globales son variables que no cambian su valor a lo largo del programa. En Python, no hay una forma específica de declarar una constante, pero se recomienda utilizar mayúsculas y guiones bajos para indicar que una variable no debe cambiar su valor.\n",
    "\n",
    "#### **Ejemplo:**"
   ]
  },
  {
   "cell_type": "code",
   "execution_count": 5,
   "metadata": {},
   "outputs": [
    {
     "name": "stdout",
     "output_type": "stream",
     "text": [
      "El área del círculo es: 12.56\n"
     ]
    }
   ],
   "source": [
    "# Definir una constante global\n",
    "PI = 3.14\n",
    "\n",
    "# Función que usa la constante global\n",
    "def calcular_area_circulo(radio):\n",
    "    return PI * radio ** 2\n",
    "\n",
    "# Llamar a la función\n",
    "area = calcular_area_circulo(2)\n",
    "print(\"El área del círculo es:\", area)"
   ]
  },
  {
   "cell_type": "markdown",
   "metadata": {},
   "source": [
    "----------------------------\n",
    "### ***Variable Local***\n",
    "----------------------------\n",
    "es una variable definida e inicializada dentro de una función. Está limitada en su alcance a la función en la que se define y no puede ser accedida fuera de ella. \n",
    "\n",
    "Las variables locales se crean cuando se les asigna un valor dentro de una función y se destruyen automáticamente cuando la función finaliza su ejecución.\n",
    "\n",
    "#### **Ejemplo:**"
   ]
  },
  {
   "cell_type": "code",
   "execution_count": 3,
   "metadata": {},
   "outputs": [
    {
     "name": "stdout",
     "output_type": "stream",
     "text": [
      "Este es un mensaje local\n"
     ]
    }
   ],
   "source": [
    "def funcion_local():\n",
    "    mensaje = \"Este es un mensaje local\"\n",
    "    print(mensaje)\n",
    "\n",
    "funcion_local()  # Imprime \"Este es un mensaje local\"\n",
    "# print(mensaje)  # Genera un error NameError, ya que 'mensaje' no está definido fuera de la función"
   ]
  },
  {
   "cell_type": "markdown",
   "metadata": {},
   "source": [
    "----------------------------\n",
    "### ***Variable No Local***\n",
    "----------------------------\n",
    "Una variable `nonlocal` se utiliza dentro de una función para indicar que una variable no es local a esa función, sino que pertenece a un ámbito superior en la jerarquía de ámbitos (scope). Esto permite modificar el valor de la variable en el ámbito superior más cercano que la contiene, pero no en el ámbito global."
   ]
  },
  {
   "cell_type": "code",
   "execution_count": 6,
   "metadata": {},
   "outputs": [
    {
     "name": "stdout",
     "output_type": "stream",
     "text": [
      "En funcion_interior: 1\n",
      "En funcion_interior: 2\n",
      "Funcion exterior: None\n"
     ]
    }
   ],
   "source": [
    "def funcion_exterior():\n",
    "    # Definición de una variable en el ámbito de funcion_exterior\n",
    "    variable_no_local = 0\n",
    "\n",
    "    def funcion_interior():\n",
    "        # Uso de la declaración 'nonlocal' para indicar que 'variable_no_local' no es local a esta función, \n",
    "        # Sino que pertenece al ámbito exterior\n",
    "        nonlocal variable_no_local\n",
    "        # Incremento de la variable 'variable_no_local' en 1\n",
    "        variable_no_local += 1\n",
    "        # Impresión del valor de 'variable_no_local' dentro de la función_interna\n",
    "        print(f\"En funcion_interior: {variable_no_local}\")\n",
    "\n",
    "    # Llamada a la función_interna dos veces\n",
    "    funcion_interior()\n",
    "    funcion_interior()\n",
    "\n",
    "# Llamada a la función_exterior\n",
    "# La función funcion_exterior() no devuelve explícitamente ningún valor (return None implícito). \n",
    "print(f\"Funcion exterior: {funcion_exterior()}\")  # Output: None \n",
    "\n",
    "# Intento de imprimir el valor de 'variable_no_local' fuera de funcion_exterior\n",
    "# Generará un error NameError, ya que 'variable_no_local' no está definida fuera de funcion_exterior()\n",
    "\n",
    "# print(f\"En funcion_exterior: {variable_no_local}\")  "
   ]
  },
  {
   "cell_type": "markdown",
   "metadata": {},
   "source": [
    "#### **Ejemplo:**"
   ]
  },
  {
   "cell_type": "code",
   "execution_count": 10,
   "metadata": {},
   "outputs": [
    {
     "name": "stdout",
     "output_type": "stream",
     "text": [
      "Interior: 20\n",
      "Exterior: 20\n"
     ]
    }
   ],
   "source": [
    "def exterior():\n",
    "    # Definición de una variable local 'x' en la función exterior con valor 10\n",
    "    x = 10\n",
    "\n",
    "    def interior():\n",
    "        # Uso de la declaración 'nonlocal' para indicar que 'x' se refiere a la variable 'x' \n",
    "        # En el ámbito exterior, no crea una nueva variable local\n",
    "        nonlocal x\n",
    "        # Modificación de la variable 'x' en el ámbito exterior a 20\n",
    "        x = 20\n",
    "        # Impresión del valor de 'x' dentro de la función interior\n",
    "        print(\"Interior:\", x)\n",
    "\n",
    "    # Llamada a la función interior, que modifica el valor de 'x'\n",
    "    interior()\n",
    "    # Impresión del valor de 'x' después de llamar a la función interior\n",
    "    print(\"Exterior:\", x)\n",
    "\n",
    "# Llamada a la función exterior\n",
    "# Para ejecutar el código y ver los resultados, necesita llamar a la función exterior(). \n",
    "# Esto hace que Python ejecute el código dentro de la función exterior(), \n",
    "# Incluida la definición de la función interior()\n",
    "exterior() # Si imprimo esta función No devuelve explícitamente ningún valor (return None implícito)\n"
   ]
  },
  {
   "cell_type": "markdown",
   "metadata": {},
   "source": [
    "----------------------------\n",
    "### ***Constante  Local***\n",
    "----------------------------\n",
    "Una constante local se refiere a una variable nombrada en mayúsculas con guiones bajos que se define dentro de una función, con el propósito de indicar que su valor no debe cambiar durante la ejecución de la función. Aunque Python no lo impide, se recomienda tratar estas variables como constantes y no modificar su valor una vez asignado.\n",
    "\n",
    "#### **Ejemplo:**"
   ]
  },
  {
   "cell_type": "code",
   "execution_count": null,
   "metadata": {},
   "outputs": [],
   "source": [
    "def funcion_constante():\n",
    "    PI = 3.14159\n",
    "    print(PI)\n",
    "\n",
    "funcion_constante()  # Imprime \"3.14159\"\n",
    "\n",
    "# Intentando cambiar el valor de PI fuera de la función\n",
    "PI = 3  # Esto no tendrá ningún efecto en el valor de PI dentro de la función\n",
    "funcion_constante()  # Aún imprime \"3.14159\""
   ]
  },
  {
   "cell_type": "markdown",
   "metadata": {},
   "source": [
    "---------------------------\n",
    "----------------------------\n",
    "## **Diferencia entre función y método**\n",
    "---------------------------\n",
    "----------------------------\n",
    "Las funciones y los métodos son dos tipos de objetos que se utilizan para organizar y reutilizar código. Aunque tienen algunas similitudes, hay algunas diferencias importantes entre ellos.\n",
    "\n",
    "----------------------------\n",
    "### ***Funciones***\n",
    "----------------------------\n",
    "#### 1. **Definición:**\n",
    "   - **Definición General:** Una función es un bloque de código independiente que puede ser llamado y ejecutado en cualquier parte del programa.\n",
    "\n",
    "   - **Definición en Python:** Se define con la palabra clave `def`.\n",
    "\n",
    "#### 2. **Invocación:**\n",
    "\n",
    "   - Las funciones se invocan mediante su nombre seguido de paréntesis, como `mi_funcion()`.\n",
    "\n",
    "#### 3. **Parámetros:**\n",
    "   - Las funciones pueden aceptar parámetros (argumentos) que se pasan dentro de los paréntesis cuando se llaman.\n",
    "\n",
    "#### 4. **Naturaleza:**\n",
    "   - Las funciones pueden ser independientes o pueden estar agrupadas en módulos.\n",
    "\n",
    "##### **Ejemplo de Función:**\n"
   ]
  },
  {
   "cell_type": "code",
   "execution_count": 9,
   "metadata": {},
   "outputs": [
    {
     "name": "stdout",
     "output_type": "stream",
     "text": [
      "Hola, mundo CRUEL\n"
     ]
    }
   ],
   "source": [
    "# Definir una función\n",
    "def imprimir_mensaje():\n",
    "    print(\"Hola, mundo CRUEL\")\n",
    "\n",
    "# Llamar a la función\n",
    "imprimir_mensaje()"
   ]
  },
  {
   "cell_type": "markdown",
   "metadata": {},
   "source": [
    "----------------------------\n",
    "### ***Métodos***\n",
    "----------------------------\n",
    "#### 1. **Definición:**\n",
    "   - **Definición General:** Un método es una función que está asociada con un objeto y opera sobre ese objeto.\n",
    "\n",
    "   - **Definición en Python:** Los métodos son funciones que pertenecen a un objeto específico.\n",
    "\n",
    "#### 2. **Invocación:**\n",
    "\n",
    "   - Los métodos se llaman sobre un objeto utilizando la notación de punto, como `objeto.metodo()`.\n",
    "\n",
    "#### 3. **Parámetros:**\n",
    "   - Al igual que las funciones, los métodos pueden aceptar parámetros.\n",
    "\n",
    "#### 4. **Naturaleza:**\n",
    "   - Los métodos están asociados con un objeto específico y actúan sobre ese objeto.\n",
    "\n",
    "##### **Ejemplo de Método:**"
   ]
  },
  {
   "cell_type": "code",
   "execution_count": 10,
   "metadata": {},
   "outputs": [
    {
     "name": "stdout",
     "output_type": "stream",
     "text": [
      "El área del círculo es: 12.56\n"
     ]
    }
   ],
   "source": [
    "# Definir una clase\n",
    "class Circulo:\n",
    "    def __init__(self, radio):\n",
    "        self.radio = radio\n",
    "\n",
    "    # Definir un método\n",
    "    def calcular_area(self):\n",
    "        return 3.14 * self.radio ** 2\n",
    "\n",
    "# Crear un objeto de la clase Circulo\n",
    "circulo = Circulo(2)\n",
    "\n",
    "# Llamar al método\n",
    "area = circulo.calcular_area()\n",
    "print(\"El área del círculo es:\", area)"
   ]
  },
  {
   "cell_type": "markdown",
   "metadata": {},
   "source": [
    "---------------------------\n",
    "----------------------------\n",
    "## **Métodos Especiales**\n",
    "---------------------------\n",
    "----------------------------\n",
    "Son métodos con nombres que comienzan y terminan con doble subrayado (`__nombre__`) que proporcionan funcionalidad adicional a las clases y objetos de Python.\n",
    "\n",
    "Los métodos especiales se invocan automáticamente en respuesta a operaciones y acciones específicas, como la creación de una instancia de una clase, la asignación de un valor a un atributo, la comparación de dos objetos o la conversión de un objeto a una cadena.\n",
    "\n",
    "------------------------------\n",
    "### ***Ejemplos de Métodos Especiales:***\n",
    "------------------------------\n",
    "- **`__init__(self[, ...]):`** \n",
    "  Se invoca cuando se crea una nueva instancia de una clase. Se utiliza para inicializar los atributos de la instancia.\n",
    "\n",
    "- **`__del__(self):`** \n",
    "  \n",
    "  Se invoca cuando una instancia de una clase se elimina de la memoria. Se utiliza para realizar acciones de limpieza antes de que la instancia sea eliminada.\n",
    "\n",
    "- **`__str__(self) -> str:`** \n",
    "  \n",
    "  Se invoca cuando se convierte un objeto a una cadena usando la función `str()` o cuando se imprime el objeto directamente. Se utiliza para proporcionar una representación en cadena legible del objeto.\n",
    "\n",
    "- **`__repr__(self) -> str:`** \n",
    "  \n",
    "  Se invoca cuando se convierte un objeto a una cadena usando la función `repr()` o cuando se muestra el objeto en la consola. Se utiliza para proporcionar una representación en cadena exacta y legible del objeto.\n",
    "\n",
    "- **`__add__(self, other) -> object:`** \n",
    "  \n",
    "  Se invoca cuando se utiliza el operador `+` para sumar dos objetos. Se utiliza para definir la operación de suma entre dos objetos de la misma clase.\n",
    "\n",
    "- **`__sub__(self, other) -> object:`** \n",
    "  \n",
    "  Se invoca cuando se utiliza el operador `-` para restar dos objetos. Se utiliza para definir la operación de resta entre dos objetos de la misma clase.\n",
    "\n",
    "- **`__mul__(self, other) -> object:`** \n",
    "  \n",
    "  Se invoca cuando se utiliza el operador `*` para multiplicar dos objetos. Se utiliza para definir la operación de multiplicación entre dos objetos de la misma clase.\n",
    "\n",
    "- **`__truediv__(self, other) -> object:`**\n",
    "  \n",
    "  Se invoca cuando se utiliza el operador `/` para dividir dos objetos. Se utiliza para definir la operación de división entre dos objetos de la misma clase.\n",
    "\n",
    "- **`__eq__(self, other) -> bool:`**\n",
    "  \n",
    "  Se invoca cuando se utiliza el operador `==` para comparar dos objetos. Se utiliza para definir la operación de igualdad entre dos objetos de la misma clase.\n",
    "\n",
    "- **`__lt__(self, other) -> bool:`** \n",
    "  \n",
    "  Se invoca cuando se utiliza el operador `<` para comparar dos objetos. Se utiliza para definir la operación de menor que entre dos objetos de la misma clase."
   ]
  },
  {
   "cell_type": "markdown",
   "metadata": {},
   "source": [
    "----------------------------------------------"
   ]
  }
 ],
 "metadata": {
  "kernelspec": {
   "display_name": "SIC",
   "language": "python",
   "name": "python3"
  },
  "language_info": {
   "codemirror_mode": {
    "name": "ipython",
    "version": 3
   },
   "file_extension": ".py",
   "mimetype": "text/x-python",
   "name": "python",
   "nbconvert_exporter": "python",
   "pygments_lexer": "ipython3",
   "version": "3.9.7"
  }
 },
 "nbformat": 4,
 "nbformat_minor": 2
}
