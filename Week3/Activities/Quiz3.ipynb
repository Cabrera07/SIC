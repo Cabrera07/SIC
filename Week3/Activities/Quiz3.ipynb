{
 "cells": [
  {
   "cell_type": "markdown",
   "id": "5ad8356f",
   "metadata": {},
   "source": [
    "# **Coding and Programming**\n",
    "\n",
    "## ***Capítulo 3***\n",
    "\n",
    "### Función, clausura y clase\n",
    "\n",
    "- **Unidad 17.** Función\n",
    "- **Unidad 18.** Llamada a la función de recurrencia.\n",
    "- **Unidad 19.** Lambda\n",
    "- **Unidad 20.** Clausura\n",
    "- **Unidad 21.** Clase\n",
    "\n",
    "# **Quiz 3**"
   ]
  },
  {
   "cell_type": "markdown",
   "id": "a94ec368",
   "metadata": {},
   "source": [
    "___"
   ]
  },
  {
   "cell_type": "markdown",
   "id": "a11871f3",
   "metadata": {},
   "source": [
    "## ***Q 17-01***\n",
    "\n",
    "Reciba las coordenadas `(x1, y1), (x2, y2)` de dos puntos del usuario e imprima la distancia entre los dos puntos de la siguiente manera. Para hacer esto, implemente la función `distancia(x1, y1, x2, y2)`.\n",
    "\n",
    "\n",
    "**Pauta de código:** consulte la fórmula para encontrar la distancia entre dos puntos.\n"
   ]
  },
  {
   "cell_type": "code",
   "execution_count": 7,
   "id": "137c1711",
   "metadata": {},
   "outputs": [
    {
     "name": "stdout",
     "output_type": "stream",
     "text": [
      "\t Ingresar las primeras coordenadas: \n",
      "\t Ingresar las segundas coordenadas: \n",
      "La distancia entre los puntos es: 18.384776310850235\n"
     ]
    }
   ],
   "source": [
    "#Crear función para calcular la distancia \n",
    "distancia = lambda x1, y1, x2, y2: ((x2-x1)**2+(y2-y1)**2)**(1/2)\n",
    "\n",
    "# Solicitar ingreso de coordenadas\n",
    "print(\"\\t Ingresar las primeras coordenadas: \")\n",
    "x1 = float(input(\"Ingresar el valor de x1: \"))\n",
    "y1 = float(input(\"Ingresar el valor de y1: \\n\"))\n",
    "print(\"\\t Ingresar las segundas coordenadas: \")\n",
    "x2 = float(input(\"Ingresar el valor de x2: \"))\n",
    "y2 = float(input(\"Ingresar el valor de y2: \\n\"))    \n",
    "\n",
    "#Llamar a la función e imprimir resultado \n",
    "resultado =distancia(x1, y1, x2, y2 )\n",
    "print(\"La distancia entre los puntos es:\", resultado)\n"
   ]
  },
  {
   "cell_type": "markdown",
   "id": "bff66fe6",
   "metadata": {},
   "source": [
    "----------------------------------------------------------------------------"
   ]
  },
  {
   "cell_type": "markdown",
   "id": "a207d974",
   "metadata": {},
   "source": [
    "## ***Q 18-01***\n",
    "\n",
    "Un palíndromo es una oración, palabra o cadena que es lo mismo que leer cualquier carácter de forma consecutiva.\n",
    "\n",
    "Por ejemplo, hay palabras como level, kayak, salas, somos, radar, reconocer.\n",
    "\n",
    "Usemos una llamada recursiva para determinar el palíndromo.\n",
    "\n",
    "Defina una función llamada `is_palindrome` y escriba un programa que reciba una cadena del usuario e imprima si el palindrome es correcto o no.\n",
    "\n",
    "**Pauta de código:** Llame a la función `is_palindrome` dentro de la función `is_palindrome`"
   ]
  },
  {
   "cell_type": "code",
   "execution_count": 15,
   "id": "9d448f90",
   "metadata": {},
   "outputs": [
    {
     "name": "stdout",
     "output_type": "stream",
     "text": [
      "Es un palindromo\n"
     ]
    }
   ],
   "source": [
    "#Funcion para determinar si una palabra es un palíndromo\n",
    "def is_palindrome(palabra):\n",
    "    #Funcion anidada que verifica si una palabra es un palíndromo\n",
    "    def palindrome(palabra):\n",
    "        #Si la longitud de la palabra es menor o igual a 1\n",
    "        if len(palabra) <= 1:\n",
    "            #Devuelve verdad \n",
    "            return True\n",
    "        #Si la primera letra de la palabra no es igual a la última letra\n",
    "        if palabra[0] != palabra[-1]:\n",
    "            #Devuelce falso \n",
    "            return False\n",
    "        #Si son iguales, llamar recursivamente excluyendo el primer y último carácter\n",
    "        return palindrome(palabra[1:-1])\n",
    "    \n",
    "    #Llamar a la función anidada y verifica si la palabra es un palíndromo o no\n",
    "    if palindrome(palabra):\n",
    "        print(\"Es un palindromo\")\n",
    "    else:\n",
    "        print(\"No es un palindromo\")\n",
    "        \n",
    "#Solicitar al usuario que ingrese una palbra y convertir a minúscula\n",
    "palabra = input(\"Ingresa una palabra: \").lower()\n",
    "#Llamar a la función principal \n",
    "is_palindrome(palabra)"
   ]
  },
  {
   "cell_type": "markdown",
   "id": "b3edda83",
   "metadata": {},
   "source": [
    "--------------------------------"
   ]
  },
  {
   "cell_type": "markdown",
   "id": "fbfb4985",
   "metadata": {},
   "source": [
    "## ***Q 19-01***\n",
    "\n",
    "\n",
    "Después de poner una lista llamada `n_list` con valores de `[10, 20, 30]` en la función `map`.\n",
    "\n",
    "```\n",
    "n_list = [10,20,30]\n",
    "twice  = list(map(lambda x: x*2, n_list))\n",
    "triple = list(map(lambda x: x*3, n_list))\n",
    "```\n",
    "\n",
    "Indique el contenido de las variables `twice` y `triple`."
   ]
  },
  {
   "cell_type": "markdown",
   "id": "53d4d584",
   "metadata": {},
   "source": [
    "#### **Resultado:**\n",
    "```\n",
    "twice  = [20, 40, 60]\n",
    "triple = [30, 60, 90]\n",
    "```"
   ]
  },
  {
   "cell_type": "markdown",
   "id": "fdb6d926",
   "metadata": {},
   "source": [
    "--------------------------------------------------"
   ]
  },
  {
   "cell_type": "markdown",
   "id": "98938d2d",
   "metadata": {},
   "source": [
    "## ***Q 20-01***\n",
    "\n",
    "En el siguiente código, espere qué valor se incluye finalmente en `num_list`. Calcule el resultado esperado a mano.\n",
    "\n",
    "**Pauta de codificación:** Escriba 5 veces la declaración `for`. Espere este resultado y envíe el resultado.\n",
    "\n",
    "```\n",
    "def calc_digit(n):\n",
    "    def final(digit):\n",
    "        return digit**n\n",
    "    return final\n",
    "\n",
    "num_list = []\n",
    "for num in range(1,6):\n",
    "    num_list.append( calc_digit(num) )\n",
    "    print( num_list[num-1](num) )\n",
    "```"
   ]
  },
  {
   "cell_type": "markdown",
   "id": "fcde558f",
   "metadata": {},
   "source": [
    "#### **Respuesta:**\n",
    "\n",
    "- Para `num = 1 : num_list[0] -> 1`\n",
    "- Para `num = 2 : num_list[1] -> 4`\n",
    "- Para `num = 3 : num_list[2] -> 27`\n",
    "- Para `num = 4 : num_list[3] -> 256`\n",
    "- Para `num = 5 : num_list[4] -> 3125`"
   ]
  },
  {
   "cell_type": "markdown",
   "id": "4ebc2ef1",
   "metadata": {},
   "source": [
    "-------------------------------------------------------------------------------"
   ]
  },
  {
   "cell_type": "markdown",
   "id": "d3ece88b",
   "metadata": {},
   "source": [
    "## ***Q 21-01***\n",
    "\n",
    "Implemente las funciones de multiplicación (*) y división (/) de dos vectores usando los métodos `mul` y `truediv` aprendidos en la **unidad 21**. Suponiendo que `v1` es `(30, 40)` y `v2` es `(10, 20)`, codifique (escriba la declaración de salida) para devolver el siguiente resultado como resultado de la multiplicación y división de dos vectores.\n",
    "\n",
    "\n",
    "**Pauta de codificación:** escriba código que amplíe la funcionalidad de la clase `Vector2D` que aprendió en este capítulo."
   ]
  },
  {
   "cell_type": "code",
   "execution_count": 20,
   "id": "1f13b5ac",
   "metadata": {},
   "outputs": [
    {
     "name": "stdout",
     "output_type": "stream",
     "text": [
      "Resultado de la mutiplicacion: \n",
      " (300), (800) \n",
      "\n",
      "Resultado de la division: \n",
      " (3.0), (2.0)\n"
     ]
    }
   ],
   "source": [
    "#Definir la clase Vector2D \n",
    "class Vector2D:\n",
    "    #Constructor que inicializa las coordenadas x & y, del vector\n",
    "    def __init__(self, x, y):\n",
    "        self.x = x\n",
    "        self.y = y\n",
    "    \n",
    "    #Método para multiplicar dos vectores \n",
    "    def mul(self, other):\n",
    "        return Vector2D(self.x * other.x, self.y * other.y)\n",
    "    \n",
    "    #Método para dividir dos vectores  \n",
    "    def truediv(self, other):\n",
    "        return Vector2D(self.x / other.x, self.y / other.y)\n",
    "\n",
    "#Creación de dos objetos Vector2D\n",
    "v1 = Vector2D(30, 40)\n",
    "v2 = Vector2D(10, 20)\n",
    "\n",
    "#Multiplicación de los vectores v1 y v2\n",
    "multiplicacion = v1.mul(v2)\n",
    "\n",
    "#División de los vectores v1 y v2\n",
    "division = v1.truediv(v2)\n",
    "\n",
    "#Imprimir resultados \n",
    "print(f\"Resultado de la mutiplicacion: \\n ({multiplicacion.x}), ({multiplicacion.y}) \\n\")\n",
    "print(f\"Resultado de la division: \\n ({division.x}), ({division.y})\")"
   ]
  },
  {
   "cell_type": "markdown",
   "id": "2717ce09",
   "metadata": {},
   "source": [
    "___"
   ]
  },
  {
   "cell_type": "markdown",
   "id": "10514335",
   "metadata": {},
   "source": [
    "# **Fin**"
   ]
  }
 ],
 "metadata": {
  "kernelspec": {
   "display_name": "Python 3 (ipykernel)",
   "language": "python",
   "name": "python3"
  },
  "language_info": {
   "codemirror_mode": {
    "name": "ipython",
    "version": 3
   },
   "file_extension": ".py",
   "mimetype": "text/x-python",
   "name": "python",
   "nbconvert_exporter": "python",
   "pygments_lexer": "ipython3",
   "version": "3.9.7"
  }
 },
 "nbformat": 4,
 "nbformat_minor": 5
}
