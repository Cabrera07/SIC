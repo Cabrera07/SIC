{
 "cells": [
  {
   "cell_type": "markdown",
   "metadata": {},
   "source": [
    "\n",
    "----"
   ]
  },
  {
   "cell_type": "markdown",
   "metadata": {},
   "source": [
    "# **Recursividad & Memoización**"
   ]
  },
  {
   "cell_type": "markdown",
   "metadata": {},
   "source": [
    "----\n",
    "----\n",
    "## **Recursvidad**\n",
    "----\n",
    "----\n",
    "\n",
    "- Permite optimizar el código utilizando recursividad.\n",
    "\n",
    "- Llama una función dentro de si misma.\n",
    "\n",
    "- Se utiliza para repetir sin poner **`for`**, sin bucles.\n",
    "\n",
    "- Los bucles, ciclos, loops consumen recursos de la máquina y llevan tiempo.\n",
    "\n",
    "- Si son demasiados puede hacer el proceso lento."
   ]
  },
  {
   "cell_type": "markdown",
   "metadata": {},
   "source": [
    "---\n",
    "### ***Ejemplo Sin Recursividad:***\n",
    "---"
   ]
  },
  {
   "cell_type": "code",
   "execution_count": null,
   "metadata": {},
   "outputs": [],
   "source": [
    "# Crear una funcion que imprima los numeros del 1 al n\n",
    "\n",
    "def imprimir(i):\n",
    "    if i>0:\n",
    "        print(i)\n",
    "\n",
    "n= int(input(\"ingrese un numero :\"))\n",
    "\n",
    "# En la función range, lo más importante es el fin, es el unico parametro obligatorio\n",
    "for i in range(n+1):\n",
    "    imprimir(i)"
   ]
  },
  {
   "cell_type": "markdown",
   "metadata": {},
   "source": [
    "---\n",
    "### ***Ejemplo Con Recursividad:***\n",
    "---"
   ]
  },
  {
   "cell_type": "code",
   "execution_count": null,
   "metadata": {},
   "outputs": [],
   "source": [
    "# Crear una funcion que imprima los numeros del 1 al n\n",
    "\n",
    "def imprimir(i):\n",
    "    if i>0:\n",
    "        imprimir(i-1) #llamado recursivo\n",
    "        print(i)\n",
    "\n",
    "n= int(input(\"ingrese un numero :\"))\n",
    "imprimir(i)"
   ]
  },
  {
   "cell_type": "markdown",
   "metadata": {},
   "source": [
    "---\n",
    "---\n",
    "## **Memoización**\n",
    "---\n",
    "---\n",
    "- Es la memoria de la máquina. \n",
    "\n",
    "- Memoización es una técnica de programación que consiste en almacenar el resultado de una función para evitar el cálculo redundante de las mismas llamadas en un futuro.\n",
    "\n",
    "- Esto se hace guardando el resultado de cada evaluación de una función y devolviéndolo directamente si se presenta una llamada idéntica posteriormente.\n",
    "\n",
    "- La Memoización se puede aplicar a la función factorial para mejorar su eficiencia, especialmente cuando se calculan factoriales de números grandes o cuando la función factorial es llamada repetidamente con los mismos argumentos."
   ]
  },
  {
   "cell_type": "markdown",
   "metadata": {},
   "source": [
    "----\n",
    "### ***Ejemplo 1:***\n",
    "----"
   ]
  },
  {
   "cell_type": "code",
   "execution_count": null,
   "metadata": {},
   "outputs": [],
   "source": [
    "# Deseo crear la función factorial en python\n",
    "\n",
    "# Ejemplo para comprender la defición técnica del guardado en memoria.\n",
    "\n",
    "'''\n",
    "    5!=5*4*3*2*1\n",
    "    5!=5*4! = 5*24\n",
    "    4!=4*3! = 4*6\n",
    "    3=3*2!  = 3*2\n",
    "    2!=2*1! =2\n",
    "    1! = 1*0! =1\n",
    "    0! = 1\n",
    "'''\n",
    "\n",
    "\"\"\"\n",
    "EXPLICACIÓN:\n",
    "    Voy a definir manualmente un diccionario en el cual se guardará los resultados\n",
    "    de cada ejecucion para representar la memoización, \n",
    "    los factoriales calculados los guardaré en __dict__\n",
    "    \n",
    "    En Python, todo objeto (incluidas las funciones) tiene un diccionario interno\n",
    "    Llamado __dict__, el cual almacena los atributos y métodos de ese objeto.\n",
    "    Puedes agregar atributos personalizados a un objeto utilizando este diccionario.\n",
    "\"\"\"    \n",
    "\n",
    "def factorial (n):\n",
    "    \n",
    "    # Verifico si en el diccionario esta guardada en la ejecución\n",
    "    # Anterior del factorial con los mismos argumentos\n",
    "    # Osea, si ya esta hecha la multiplicacion retorne el resultado\n",
    "    if n in factorial.__dict__:\n",
    "        return factorial.__dict__[n]\n",
    "    \n",
    "    if n > 1:\n",
    "        fac = n * factorial(n - 1)\n",
    "    else:\n",
    "        fac = 1\n",
    "    \n",
    "    factorial.__dict__[n] = fac\n",
    "    \n",
    "    print(factorial.__dict__)\n",
    "    \n",
    "    return fac   \n",
    "\n",
    "n = int( input(\"Ingrese un numero: \"))    \n",
    "print(factorial(n))    "
   ]
  },
  {
   "cell_type": "markdown",
   "metadata": {},
   "source": [
    "----\n",
    "### ***Ejemplo 2:***\n",
    "----"
   ]
  },
  {
   "cell_type": "code",
   "execution_count": null,
   "metadata": {},
   "outputs": [],
   "source": [
    "# Ejemplo de como hacerlo con mi diccionario manual\n",
    "\n",
    "def factorial (n,memo={}):\n",
    "    \n",
    "    # Vamos a guardar las ejecuciones en memo, \n",
    "    # Para que podamos imprimir memo y ver el paso a paso\n",
    "\n",
    "    if n < 2:\n",
    "        return 1\n",
    "    elif n not in memo:\n",
    "        memo[n] = n * factorial(n - 1)\n",
    "               \n",
    "    return memo[n]\n",
    " \n",
    "n = int(input(\"ingrese un numero : \"))\n",
    "print(factorial(n))"
   ]
  },
  {
   "cell_type": "markdown",
   "metadata": {},
   "source": [
    "----"
   ]
  },
  {
   "cell_type": "markdown",
   "metadata": {},
   "source": [
    "# **Algunas Librerias**"
   ]
  },
  {
   "cell_type": "markdown",
   "metadata": {},
   "source": [
    "----"
   ]
  },
  {
   "cell_type": "markdown",
   "metadata": {},
   "source": [
    "- **`import nombre:`** Llamo la libreria completa\n",
    "  \n",
    "- **`import nombrelarguisimoporqueasilepusoelquecreolalibreria as nick:`** Acortar el nombre\n",
    "\n",
    "- **`from nombre_libreria import metodo:`** Importo cosas específicas de la libreria"
   ]
  },
  {
   "cell_type": "markdown",
   "metadata": {},
   "source": [
    "---\n",
    "### ***Ejemplo de Libreia Math:***\n",
    "---"
   ]
  },
  {
   "cell_type": "code",
   "execution_count": null,
   "metadata": {},
   "outputs": [],
   "source": [
    "# Importo toda la libreria \n",
    "import math\n",
    "\n",
    "print(math.sin(90)) \n",
    "print(math.cos(90))  \n",
    "print(math.factorial(5))\n",
    "\n",
    "# Con alias \n",
    "from math import sin,cos as c, factorial as f \n",
    "\n",
    "print(sin(90))\n",
    "print(c(90))\n",
    "print(f(5))"
   ]
  },
  {
   "cell_type": "markdown",
   "metadata": {},
   "source": [
    "---\n",
    "### ***Ejemplo de Libreia random:***\n",
    "---"
   ]
  },
  {
   "cell_type": "code",
   "execution_count": null,
   "metadata": {},
   "outputs": [],
   "source": [
    "import random\n",
    "\n",
    "# Numero aleatorio entre inicio y fin\n",
    "print(random.randint(0,100)) \n",
    "\n",
    "\n",
    "# Elige un album de la lista de forma aleatoria\n",
    "ts_albums = [\"Reputation\", \"Lover\", \"Folklore\", \"Evermore\", \"Midnights\"]\n",
    "\n",
    "albums = random.choice(ts_albums)\n",
    "print(albums)"
   ]
  },
  {
   "cell_type": "markdown",
   "metadata": {},
   "source": [
    "---\n",
    "### ***Ejemplo de Librería Time:***\n",
    "---"
   ]
  },
  {
   "cell_type": "code",
   "execution_count": null,
   "metadata": {},
   "outputs": [],
   "source": [
    "import time \n",
    "\n",
    "# Este código simula un cronómetro simple que cuenta hasta 9, \n",
    "# Imprimiendo un mensaje en cada segundo, y luego termina.\n",
    "for i in range(10):\n",
    "    print(\"cronometro :\" , i)\n",
    "    time.sleep(1) #espere 1 segundo\n",
    " \n"
   ]
  },
  {
   "cell_type": "code",
   "execution_count": null,
   "metadata": {},
   "outputs": [],
   "source": [
    "import time \n",
    "\n",
    "# Imprime Central time    \n",
    "print(time.ctime())"
   ]
  },
  {
   "cell_type": "code",
   "execution_count": null,
   "metadata": {},
   "outputs": [],
   "source": [
    "# Importa las funciones gmtime, strftime y localtime desde el módulo time\n",
    "from time import gmtime, strftime, localtime  \n",
    "\n",
    "# Imprime la fecha y hora actual en el formato especificado en GMT (Greenwich Mean Time)\n",
    "# %a: día de la semana abreviado, %d: día del mes, %b: mes abreviado, \n",
    "# %Y: año, %H: hora (formato 24 horas), %M: minutos, %S: segundos\n",
    "print(strftime(\"%a %d/%b/%Y %H:%M:%S\", gmtime()))  \n",
    "\n",
    "# Imprime la fecha y hora actual en el formato especificado en la zona horaria local\n",
    "# %D: fecha corta, %b: mes abreviado\n",
    "print(strftime(\"%a %D/%b/%Y %H:%M:%S\", localtime()))  \n",
    "\n",
    "# Imprime solo la hora actual en el formato de 24 horas\n",
    "# %H: hora (formato 24 horas), %M: minutos, %S: segundos\n",
    "print(strftime(\"%H:%M:%S\", localtime()))  "
   ]
  },
  {
   "cell_type": "code",
   "execution_count": null,
   "metadata": {},
   "outputs": [],
   "source": [
    "\"\"\"\n",
    "    Proporciona ayuda o información de documentación sobre la función strftime en Python. \n",
    "    En este caso, la función strftime se utiliza para formatear objetos de fecha y hora en \n",
    "    una cadena de texto. Al ejecutar help(strftime), obtendrás información detallada sobre \n",
    "    cómo utilizar esta función, los argumentos que acepta y los formatos que puedes usar \n",
    "    en la cadena de formato.\n",
    "\"\"\"\n",
    "\n",
    "help(strftime)"
   ]
  },
  {
   "cell_type": "markdown",
   "metadata": {},
   "source": [
    "---\n",
    "### ***Ejemplo de Libreia os:***\n",
    "---"
   ]
  },
  {
   "cell_type": "code",
   "execution_count": null,
   "metadata": {},
   "outputs": [],
   "source": [
    "\"\"\"\n",
    "    import os importa el módulo os en Python, que proporciona funciones para interactuar \n",
    "    con el sistema operativo. help(os) muestra información detallada sobre las funciones \n",
    "    y características del módulo os, incluyendo operaciones con archivos, directorios y más.\n",
    "\"\"\"\n",
    "\n",
    "import os\n",
    "\n",
    "help(os)"
   ]
  }
 ],
 "metadata": {
  "kernelspec": {
   "display_name": "SIC",
   "language": "python",
   "name": "python3"
  },
  "language_info": {
   "codemirror_mode": {
    "name": "ipython",
    "version": 3
   },
   "file_extension": ".py",
   "mimetype": "text/x-python",
   "name": "python",
   "nbconvert_exporter": "python",
   "pygments_lexer": "ipython3",
   "version": "undefined.undefined.undefined"
  }
 },
 "nbformat": 4,
 "nbformat_minor": 2
}
