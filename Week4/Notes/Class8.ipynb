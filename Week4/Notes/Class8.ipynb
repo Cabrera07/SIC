{
 "cells": [
  {
   "cell_type": "markdown",
   "metadata": {},
   "source": [
    "-----"
   ]
  },
  {
   "cell_type": "markdown",
   "metadata": {},
   "source": [
    "# **Stacks & Queue**"
   ]
  },
  {
   "cell_type": "markdown",
   "metadata": {},
   "source": [
    "-----\n",
    "-----\n",
    "## **Diferencias entre Stacks & Queues**\n",
    "-----\n",
    "-----\n",
    "\n",
    "- En stacks sólo se puede remover el elemento más recientemente insertado. Implementaasí una política last-in, first-out o **`LIFO`**.\n",
    "\n",
    "- Las queues sólo pueden remover el elemento más antiguo del conjunto. Implementa una política first-in, first-out o **`FIFO`**."
   ]
  },
  {
   "cell_type": "markdown",
   "metadata": {},
   "source": [
    "-----\n",
    "-----\n",
    "## **Stacks**\n",
    "-----\n",
    "-----\n",
    "\n",
    "- La operación Insert es llamada **`PUSH`**.\n",
    "\n",
    "- La operación Delete es llamada **`POP`**.\n",
    "\n",
    "- Si se hace un **`pop`** de un stack vacío, decimos que hay un **`underflow`**, lo cual es un error de programa.\n",
    "\n",
    "- Si la implementación de el stack posee un límite para el número de elementos y éste se excede, decimos que hay un **`overflow`**, lo cual es un error de programa.\n",
    "\n",
    "- Se incorpora la función **`TOP`** que retorna el valor más reciente sin modificar el stack."
   ]
  },
  {
   "cell_type": "markdown",
   "metadata": {},
   "source": [
    "-----\n",
    "-----\n",
    "## **Queues**\n",
    "-----\n",
    "-----\n",
    "- La operación Insert es llamada **`Enqueue`**.\n",
    "\n",
    "- La operación Delete es llamada **`Dequeue`**.\n",
    "        \n",
    "- Cada queue tiene una **`head`** (cabeza) y una **`tail`** (cola).\n",
    "  \n",
    "- También se pueden producir las condiciones de **`overflow`** y **`underflow`** cuando la implementación tiene capacidad limitada.\n",
    "    \n",
    "- Se incorpora la función **`Head`** que retorna el valor más antiguo de la cola."
   ]
  }
 ],
 "metadata": {
  "language_info": {
   "name": "python"
  }
 },
 "nbformat": 4,
 "nbformat_minor": 2
}
