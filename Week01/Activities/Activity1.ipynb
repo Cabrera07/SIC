{
 "cells": [
  {
   "cell_type": "markdown",
   "id": "f34adb44",
   "metadata": {
    "id": "f34adb44"
   },
   "source": [
    "# **Actividades Capítulo 1.**\n",
    "\n",
    "\n",
    "# **Concepto básico de programación e inicio en Python**\n",
    "\n",
    "## ***Resumen de actividades***\n",
    "\n",
    "- **Unidad 1**: Programación secuencial\n",
    "- **Unidad 2**: Planificación de la programación\n",
    "- **Unidad 3**: Fundamentos de los tipos de datos numéricos y operaciones aritméticas\n",
    "- **Unidad 4**: Variables e insumos\n",
    "- **Unidad 5**: Operaciones lógicas y de comparación\n",
    "- **Unidad 6**: Enunciado condicional-1: Condiciones y toma de decisiones\n",
    "- **Unidad 7**: Enunciado condicional-2: Tomar decisiones en dos direcciones y aplicar enunciados condicionales\n",
    "- **Unidad 8**: Bucle-1\n",
    "- **Unidad 9**: Bucle-2\n"
   ]
  },
  {
   "cell_type": "markdown",
   "id": "06688e1c",
   "metadata": {},
   "source": [
    "-----------------------------------------------------------------------------------------------------------"
   ]
  },
  {
   "cell_type": "markdown",
   "id": "ac1e9b02",
   "metadata": {
    "id": "ac1e9b02"
   },
   "source": [
    "# ***Actividad: Concepto de algoritmo.***\n",
    "\n",
    "### ***Escriva son sus propias palabras el concepto que tiene de algoritmo.***\n",
    "\n",
    "**Respuesta:**\n",
    "Es un conjunto finito de pasos que dan solución a un problema. \n",
    "\n",
    "**Algoritmos cotidiano**\n",
    "Escriba con detalles algún algoritmo que usted haya desarrollado continuamente durante sus actividades diarias.\n",
    "\n",
    "**Algoritmo para Hacer Café**\n",
    "1. Me dirijo a la cocina.\n",
    "2. M e dirijo a la cafetera.\n",
    "3. Limpio la cafetera si esta con residuos de cafe.\n",
    "4. Busco el cafe.\n",
    "5. Agrego el cafe en la Cafetera.\n",
    "6. Agrego el agua en la cafetera.\n",
    "7. Conecto la cafetera a la fuente de poder.\n",
    "8. Le doy inicio a la cafetera."
   ]
  },
  {
   "cell_type": "markdown",
   "id": "ad2c5929",
   "metadata": {},
   "source": [
    "-----------------------------------------------------------------------------------------------------------"
   ]
  },
  {
   "cell_type": "markdown",
   "id": "0da9ca7e",
   "metadata": {
    "id": "0da9ca7e"
   },
   "source": [
    "# ***Actividad: Programación secuencial.***\n",
    "\n",
    "A continuación nombre las 3 estructuras básicas de programación.\n",
    "\n",
    "Espacio para respuestas:\n",
    "    \n",
    "1. Secuencia\n",
    "2. Iteración\n",
    "3. Condicional "
   ]
  },
  {
   "cell_type": "markdown",
   "id": "2305415c",
   "metadata": {},
   "source": [
    "-----------------------------------------------------------------------------------------------------------"
   ]
  },
  {
   "cell_type": "markdown",
   "id": "4b761414",
   "metadata": {
    "id": "4b761414"
   },
   "source": [
    "# ***Actividad: Revise y escriba los comandos utilizados para crear y activar un entorno virtual.***\n",
    "\n",
    "Escriba el comando usado para crear un entorno virtual, agrege un comentaria sobre su funcionamiento al aldo del comando.\n",
    "\n",
    "**Lista de Comandos:**\n",
    "\n",
    "Enumere algunas de las ventajas de usar un entorno virtual.\n",
    "1. Evita conflictos de versiones.\n",
    "2. Facilita la colaboracion.\n",
    "3. Facilita la realizacion de pruebas."
   ]
  },
  {
   "cell_type": "markdown",
   "id": "7759368b",
   "metadata": {},
   "source": [
    "-----------------------------------------------------------------------------------------------------------"
   ]
  },
  {
   "cell_type": "markdown",
   "id": "49829fb9",
   "metadata": {
    "id": "49829fb9"
   },
   "source": [
    "## ***Tipos de datos numéricos y operaciones matemáticas.***\n",
    "\n",
    "Ejecuta el código de la siguiente celda, verifica el tipo de dato retornado en cada una de las asignaciones, para ello use el comando type(variable) en combinacion con el comando print()"
   ]
  },
  {
   "cell_type": "code",
   "execution_count": 1,
   "id": "96922b41",
   "metadata": {
    "id": "96922b41"
   },
   "outputs": [
    {
     "name": "stdout",
     "output_type": "stream",
     "text": [
      "El Dato es de tipo: <class 'str'>\n",
      "El Dato es de tipo: <class 'int'>\n",
      "El Dato es de tipo: <class 'float'>\n",
      "El Dato es de tipo: <class 'list'>\n",
      "El Dato es de tipo: <class 'dict'>\n"
     ]
    }
   ],
   "source": [
    "texto = 'Hola! bienvenido al mundo de la programación'\n",
    "# Escribe acá el código necesario para verificar el tipo de variable.\n",
    "print(\"El Dato es de tipo:\", type(texto))\n",
    "\n",
    "entero = 4\n",
    "# Escribe acá el código necesario para verificar el tipo de variable.\n",
    "print(\"El Dato es de tipo:\", type(entero))\n",
    "\n",
    "valor_flotante = 3.4\n",
    "# Escribe acá el código necesario para verificar el tipo de variable.\n",
    "print(\"El Dato es de tipo:\", type(valor_flotante))\n",
    "\n",
    "ejemplo_de_lista = [1,2,3,4,4]\n",
    "# Escribe acá el código necesario para verificar el tipo de variable.\n",
    "print(\"El Dato es de tipo:\", type(ejemplo_de_lista))\n",
    "\n",
    "ejemplo_de_diccionario = {'name':'Jhon Doe','edge':64}\n",
    "# Escribe acá el código necesario para verificar el tipo de variable.\n",
    "print(\"El Dato es de tipo:\", type(ejemplo_de_diccionario))\n"
   ]
  },
  {
   "cell_type": "markdown",
   "id": "dd54ff53",
   "metadata": {},
   "source": [
    "-----------------------------------------------------------------------------------------------------------"
   ]
  },
  {
   "cell_type": "markdown",
   "id": "c718ddbf",
   "metadata": {
    "id": "c718ddbf"
   },
   "source": [
    "# ***Actividad: Operaciones Matemáticas en Python***\n",
    "\n",
    "En esta actividad, realizarás operaciones matemáticas básicas en Python.\n",
    "\n",
    "### **Instrucciones:**\n",
    "\n",
    "1. Crea una variable `numero1` y asígnale un número entero.\n",
    "2. Crea una variable `numero2` y asígnale otro número entero.\n",
    "3. Suma los valores de `numero1` y `numero2`, y almacena el resultado en una variable llamada `suma`.\n",
    "4. Resta `numero2` de `numero1` y almacena el resultado en una variable llamada `resta`.\n",
    "5. Multiplica `numero1` y `numero2`, y almacena el resultado en una variable llamada `multiplicacion`.\n",
    "6. Divide `numero1` entre `numero2` y almacena el resultado en una variable llamada `division`.\n",
    "\n",
    "Completa el código en Python con las operaciones y luego imprime los valores de `suma`, `resta`, `multiplicacion`, y `division`."
   ]
  },
  {
   "cell_type": "code",
   "execution_count": 2,
   "id": "71ff6ca5",
   "metadata": {
    "id": "71ff6ca5"
   },
   "outputs": [
    {
     "name": "stdout",
     "output_type": "stream",
     "text": [
      "La suma de los digitos es: 13\n",
      "La resta de los digitos es: 11\n",
      "La multiplicacion de los digitos es: 12\n",
      "La division de los digitos es: 12.0\n"
     ]
    }
   ],
   "source": [
    "#INDICACIÓN 1:\n",
    "Numero1 = 12\n",
    "\n",
    "#INDICACIÓN 2:\n",
    "Numero2 = 1\n",
    "\n",
    "#INDICACIÓN 3:\n",
    "Suma = Numero1+Numero2\n",
    "\n",
    "#INDICACIÓN 4:\n",
    "Resta = Numero1-Numero2\n",
    "\n",
    "#INDICACIÓN 5:\n",
    "Mulltiplicacion = Numero1*Numero2\n",
    "\n",
    "#INDICACIÓN 6:\n",
    "Division = Numero1/Numero2\n",
    "\n",
    "#INDICACIÓN 7:\n",
    "print(\"La suma de los digitos es:\", Suma)\n",
    "print(\"La resta de los digitos es:\", Resta)\n",
    "print(\"La multiplicacion de los digitos es:\", Mulltiplicacion)\n",
    "print(\"La division de los digitos es:\", Division)"
   ]
  },
  {
   "cell_type": "markdown",
   "id": "75477294",
   "metadata": {},
   "source": [
    "-----------------------------------------------------------------------------------------------------------"
   ]
  },
  {
   "cell_type": "markdown",
   "id": "5a0d7513",
   "metadata": {
    "id": "5a0d7513"
   },
   "source": [
    "# Resumen de los operadores lógicos usados en Python.\n",
    "\n",
    "\n",
    "\n",
    "\n",
    "| **Operador** | **Descripción**                        |\n",
    "|:------------:|:--------------------------------------:|\n",
    "|    `and`     | <span style=\"font-size:larger\">Devuelve True si ambos operandos son True.</span> |\n",
    "|     `or`     | <span style=\"font-size:larger\">Devuelve True si al menos uno de los operandos es True.</span> |\n",
    "|    `not`     | <span style=\"font-size:larger\">Invierte el valor del operando; True se convierte en False y viceversa.</span> |\n"
   ]
  },
  {
   "cell_type": "markdown",
   "id": "3db9e2cb",
   "metadata": {
    "id": "3db9e2cb"
   },
   "source": [
    "<!DOCTYPE html>\n",
    "<html>\n",
    "<head>\n",
    "<style>\n",
    "  table {\n",
    "    font-size: 24px;\n",
    "  }\n",
    "  th, td {\n",
    "    padding: 10px;\n",
    "    text-align: center;\n",
    "  }\n",
    "</style>\n",
    "</head>\n",
    "<body>\n",
    "  <h2>Comparadores Lógicos en Python</h2>\n",
    "  <table>\n",
    "    <tr>\n",
    "      <th><b>Comparadores</b></th>\n",
    "      <th><b>Descripción</b></th>\n",
    "    </tr>\n",
    "    <tr>\n",
    "      <td>==</td>\n",
    "      <td>Igual a (compara si dos valores son iguales)</td>\n",
    "    </tr>\n",
    "    <tr>\n",
    "      <td>!=</td>\n",
    "      <td>Diferente de (compara si dos valores son distintos)</td>\n",
    "    </tr>\n",
    "    <tr>\n",
    "      <td>&lt;</td>\n",
    "      <td>Menor que (compara si un valor es menor que otro)</td>\n",
    "    </tr>\n",
    "    <tr>\n",
    "      <td>&gt;</td>\n",
    "      <td>Mayor que (compara si un valor es mayor que otro)</td>\n",
    "    </tr>\n",
    "    <tr>\n",
    "      <td>&lt;=</td>\n",
    "      <td>Menor o igual que (compara si un valor es menor o igual que otro)</td>\n",
    "    </tr>\n",
    "    <tr>\n",
    "      <td>&gt;=</td>\n",
    "      <td>Mayor o igual que (compara si un valor es mayor o igual que otro)</td>\n",
    "    </tr>\n",
    "  </table>\n",
    "</body>\n",
    "</html>\n"
   ]
  },
  {
   "cell_type": "markdown",
   "id": "e9f39280",
   "metadata": {},
   "source": [
    "-----------------------------------------------------------------------------------------------------------"
   ]
  },
  {
   "cell_type": "markdown",
   "id": "1de5a5f0",
   "metadata": {
    "id": "1de5a5f0"
   },
   "source": [
    "# ***Actividad: Uso de operadores***\n",
    "\n",
    "En esta actividad, usaras los operadores\n",
    "\n",
    "#### **Instrucciones:**\n",
    "\n",
    "1. Generar un loop que revise cada uno de los elementos contenidos en la lista llamada `lista_de_elementos`.\n",
    "2. Revisar el tipo de elemento.\n",
    "3. Comparar si el valor esta por debajo del umbral definido, en ese caso imprimir la palabra `aprobado` en caso contrario imprimir `Rechazado`\n",
    "4. En el código incluya dos contadores, para contabilizar el número de aprobados y rechazados, al final del codigo imprima el total de cada uno de ellos.\n",
    "5. Contabilize los elementos que son tipo string y de igual forma imprima final del loop el resultado.\n"
   ]
  },
  {
   "cell_type": "code",
   "execution_count": 3,
   "id": "89eafba9",
   "metadata": {
    "id": "89eafba9"
   },
   "outputs": [
    {
     "name": "stdout",
     "output_type": "stream",
     "text": [
      "Total aprobados: 2\n",
      "Total rechazados: 9\n",
      "Total de strings: 10\n"
     ]
    }
   ],
   "source": [
    "#Variables \n",
    "umbral = - 10\n",
    "lista_de_elementos = [10, 3.14, \"7\", -5, \"2.718\", 42, \"Python\", -8.9, \"Hola\", 100.5, \"Mundo\", -15, \"GPT-3\", 5.5, \"AI\", -20, \"2023\", 123, \"OpenAI\", -2.5, \"Ejemplo\"]\n",
    "rechazados = 0\n",
    "aprobados = 0\n",
    "conteo_strings = 0\n",
    "\n",
    "#Busqueda de los tipos de datos con For\n",
    "for elemento in lista_de_elementos:\n",
    "    elemento_tipo = type(elemento)\n",
    "    #Si el dato es float o int y menor al umbral, contar como aprobados\n",
    "    if elemento_tipo in [int, float] and elemento < umbral:\n",
    "        aprobados +=1\n",
    "    #Si el dato es float o int y mayor al umbral, contar como rechazados\n",
    "    if elemento_tipo in [int, float] and elemento > umbral:\n",
    "        rechazados +=1\n",
    "    #Contar los datos que son String\n",
    "    elif elemento_tipo == str:\n",
    "        conteo_strings +=1\n",
    "        \n",
    "#Imprimir resultados \n",
    "print(\"Total aprobados:\", aprobados)\n",
    "print(\"Total rechazados:\", rechazados)\n",
    "print(\"Total de strings:\", conteo_strings)\n"
   ]
  },
  {
   "cell_type": "markdown",
   "id": "a167dd64",
   "metadata": {},
   "source": [
    "-----------------------------------------------------------------------------------------------------------"
   ]
  }
 ],
 "metadata": {
  "colab": {
   "provenance": []
  },
  "kernelspec": {
   "display_name": "Python 3 (ipykernel)",
   "language": "python",
   "name": "python3"
  },
  "language_info": {
   "codemirror_mode": {
    "name": "ipython",
    "version": 3
   },
   "file_extension": ".py",
   "mimetype": "text/x-python",
   "name": "python",
   "nbconvert_exporter": "python",
   "pygments_lexer": "ipython3",
   "version": "3.9.7"
  }
 },
 "nbformat": 4,
 "nbformat_minor": 5
}
