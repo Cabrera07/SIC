{
 "cells": [
  {
   "cell_type": "markdown",
   "id": "5d671b98",
   "metadata": {},
   "source": [
    "# **Actividades Capítulo 4 - Estructuras de Datos**\n",
    "\n",
    "Resumen de la actividad.\n",
    "\n",
    "\n",
    "- **1. Pilas y Colas**\n",
    "  - Actividad 1.2 - Implementar una Cola\n",
    "\n",
    "\n",
    "- **2. Búsqueda Secuencial**\n",
    "  - Actividad 2.1 - Búsqueda en una Lista\n",
    "\n",
    "\n",
    "- **3. Búsqueda Binaria**\n",
    "  - Actividad 3.1 - Búsqueda Binaria\n",
    "\n",
    "\n",
    "- **4. Tablas Hash**\n",
    "  - Actividad 4.1 - Implementar una Tabla Hash"
   ]
  },
  {
   "cell_type": "markdown",
   "id": "a4c2905e",
   "metadata": {},
   "source": [
    "--------------------"
   ]
  },
  {
   "cell_type": "markdown",
   "id": "33866775",
   "metadata": {},
   "source": [
    "# **Actividad: Implementación de una Pila en Python**\n",
    "\n",
    "En esta actividad, tendrás la oportunidad de aplicar tus conocimientos sobre estructuras de datos y programación en Python para implementar una pila (stack). Una pila es una estructura de datos que sigue el principio \"Last-In-First-Out\" (LIFO), lo que significa que el último elemento que se agrega es el primero en ser eliminado.\n",
    "\n",
    "## ***Resumen:***\n",
    "\n",
    "- **stack** = [ ]  # Recordando que una pila es básicamente una lista.\n",
    "- **append**: Método utilizado para agregar un elemento a la lista.\n",
    "- **pop**: Método usado para eliminar elementos de la lista, sino se especifica el índice se elimina el último elemento y retorna la lista resultante."
   ]
  },
  {
   "cell_type": "code",
   "execution_count": 3,
   "id": "fbb2dca1",
   "metadata": {},
   "outputs": [],
   "source": [
    "nombres_aleatorios = [\"Ana\", \"Carlos\", \"David\", \"Elena\", \"Fernando\", \"Gabriela\",\n",
    "                      \"Hugo\", \"Isabel\", \"Juan\", \"Luis\", \"Lucía\",\n",
    "                      \"Lorena\", \"Manuel\", \"María\", \"Miguel\", \"Natalia\",\n",
    "                      \"Nicolás\", \"Nora\", \"Óscar\", \"Olivia\", \"Pablo\", \"Paula\",\n",
    "                      \"Pedro\", \"Raquel\", \"Rafael\", \"Renata\", \"Roberto\", \"Rosario\",\n",
    "                      \"Sara\", \"Sergio\", \"Silvia\", \"Tomás\", \"Teresa\", \"Víctor\", \"Verónica\",\n",
    "                      \"Ximena\", \"Xavier\", \"Yolanda\", \"Yenny\", \"Zaira\", \"Zoe\", \"Zacarías\"]\n",
    "\n",
    "# Generar un código para revisar los nombres contenidos en la lista, y guardarlos en diferentes listas,\n",
    "# de acuerdo a la inicial del nombre, use los comandos usandos antenirmente y barra los elementos usando \n",
    "# el comando \"for nombre in nombres_aleatorios:\" al final del proceso la lista inicial debe quedar vacia."
   ]
  },
  {
   "cell_type": "code",
   "execution_count": 12,
   "id": "51baf116",
   "metadata": {},
   "outputs": [
    {
     "name": "stdout",
     "output_type": "stream",
     "text": [
      "A: ['Ana']\n",
      "B: []\n",
      "C: ['Carlos']\n",
      "D: ['David']\n",
      "E: ['Elena']\n",
      "F: ['Fernando']\n",
      "G: ['Gabriela']\n",
      "H: ['Hugo']\n",
      "I: ['Isabel']\n",
      "J: ['Juan']\n",
      "K: []\n",
      "L: ['Luis', 'Lucia', 'Lorena']\n",
      "M: ['Manuel', 'Maria', 'Miguel']\n",
      "N: ['Natalia', 'Nicolas', 'Nora']\n",
      "O: ['Oscar', 'Olivia']\n",
      "P: ['Pablo', 'Paula', 'Pedro']\n",
      "Q: []\n",
      "R: ['Raquel', 'Rafael', 'Renata', 'Roberto', 'Rosario']\n",
      "S: ['Sara', 'Sergio', 'Silvia']\n",
      "T: ['Tomas', 'Teresa']\n",
      "U: []\n",
      "V: ['Victor', 'Veronica']\n",
      "W: []\n",
      "X: ['Ximena', 'Xavier']\n",
      "Y: ['Yolanda', 'Yenny']\n",
      "Z: ['Zaira', 'Zoe', 'Zacarias']\n"
     ]
    }
   ],
   "source": [
    "# Definir clase Satck \n",
    "class Stack:\n",
    "    # Constructor \n",
    "    def __init__(self): \n",
    "        self.items = []\n",
    "    \n",
    "    # Verificar si la pila esta vacía\n",
    "    def is_empty(self):\n",
    "        return len(self.items) == 0\n",
    "    \n",
    "    # Insertar elementos en la pila\n",
    "    def push(self, item):\n",
    "        self.items.append(item)\n",
    "    \n",
    "    # Eliminar elemento en pila   \n",
    "    def pop(self):\n",
    "        if not self.is_empty():\n",
    "            return self.items.pop()\n",
    "        else: \n",
    "            return None\n",
    "        \n",
    "# Lista de nombres aleatorios \n",
    "nombres_aleatorios = [\"Ana\", \"Carlos\", \"David\", \"Elena\", \"Fernando\", \n",
    "\"Gabriela\", \"Hugo\", \"Isabel\", \"Juan\", \"Luis\", \"Lucia\", \"Lorena\", \"Manuel\", \n",
    "\"Maria\", \"Miguel\", \"Natalia\", \"Nicolas\", \"Nora\", \"Oscar\", \"Olivia\", \"Pablo\", \n",
    "\"Paula\", \"Pedro\", \"Raquel\", \"Rafael\", \"Renata\", \"Roberto\", \"Rosario\", \"Sara\", \n",
    "\"Sergio\", \"Silvia\", \"Tomas\", \"Teresa\", \"Victor\", \"Veronica\", \"Ximena\", \"Xavier\", \n",
    "\"Yolanda\", \"Yenny\", \"Zaira\", \"Zoe\", \"Zacarias\"]\n",
    "\n",
    "# Instancias de Stack para cada letra del alfabeto \n",
    "stacks = {letra: Stack() for letra in \"ABCDEFGHIJKLMNOPQRSTUVWXYZ\"}\n",
    "\n",
    "# Organizar las pilas según la inicial del nombre \n",
    "for nombre in nombres_aleatorios:\n",
    "    # Convertir mayuscula la inicial del nombre \n",
    "    inicial = nombre[0].upper()\n",
    "    # Agregar el nombre a la pila \n",
    "    stacks[inicial].push(nombre)\n",
    "    \n",
    "# Imprimir listas en orden \n",
    "for letra, stack in stacks.items():\n",
    "    print(f\"{letra}: {stack.items}\")"
   ]
  },
  {
   "cell_type": "markdown",
   "id": "307a8cf4",
   "metadata": {},
   "source": [
    "----------------"
   ]
  },
  {
   "cell_type": "markdown",
   "id": "490f04a8",
   "metadata": {},
   "source": [
    "# **Actividad: Replique el código, mostrado en la presentación 36 correspondiente al capítulo 4.**\n",
    "\n",
    "En este codódigo se muestra la creación de una clasa para crear una cola y hacer las actividades básicas correspondientes.\n",
    "\n",
    "- **__init__**: Creación de la cola.\n",
    "- **is_empty**: Verificación si la cola está vacia.\n",
    "- **enqueue**: agregar elemento a la cola\n",
    "- **dequeue**:si la cola no está vacia eliminar el último de elemento.\n",
    "\n",
    "Use la notación mostrada en la presentacion 40, realice varias operaciones y comente brevemente los resultados (máximo 3 lineas), antes de pasar a la siguiente actividad asegurese de entender completamente la notación utilizada."
   ]
  },
  {
   "cell_type": "code",
   "execution_count": 1,
   "id": "950d71ca",
   "metadata": {},
   "outputs": [
    {
     "name": "stdout",
     "output_type": "stream",
     "text": [
      "-1\n",
      "0\n",
      "1\n",
      "1\n",
      "2\n",
      "3\n"
     ]
    }
   ],
   "source": [
    "class Queue:\n",
    "    \n",
    "    # Constructor que inicializa una lista vacía que se utilizará para almacenar los elementos de la cola.\n",
    "    def __init__(self):\n",
    "        self.items = []\n",
    "\n",
    "    #  Método verifica si la cola está vacía, devolviendo True O False\n",
    "    def is_empty(self):\n",
    "        return len(self.items) == 0\n",
    "\n",
    "    # Añade un elemento al final de la cola.\n",
    "    def enqueue(self, item):\n",
    "        self.items.append(item)\n",
    "\n",
    "    # Añade un elemento al principio de la cola utilizando el método insert de la lista.\n",
    "    def add_first(self, item):\n",
    "        self.items.insert(0, item)\n",
    "\n",
    "    # Elimina y devuelve el primer elemento añadido a la cola. \n",
    "    # Si la cola está vacía, lanza una excepción IndexError.\n",
    "    def dequeue(self):\n",
    "        if not self.is_empty():\n",
    "            return self.items.pop(0)\n",
    "        else:\n",
    "            raise IndexError(\"Dequeue from an empty queue\")\n",
    "\n",
    "    # Elimina y devuelve el primer elemento añadido al principio de la cola.\n",
    "    def remove_first(self):\n",
    "        if not self.is_empty():\n",
    "            return self.items.pop(0)\n",
    "        else:\n",
    "            raise IndexError(\"Remove first from an empty queue\")\n",
    "\n",
    "    # Devuelve el primer elemento añadido a la cola sin eliminarlo. \n",
    "    # Si la cola está vacía, lanza una excepción IndexError.\n",
    "    def front(self):\n",
    "        if not self.is_empty():\n",
    "            return self.items[0]\n",
    "        else:\n",
    "            raise IndexError(\"Front from an empty queue\")\n",
    "\n",
    "    # Devuelve el número de elementos en la cola.\n",
    "    def size(self):\n",
    "        return len(self.items)\n",
    "\n",
    "# Crear una cola\n",
    "mi_cola = Queue()\n",
    "\n",
    "# Añadir elementos al final de la cola\n",
    "mi_cola.enqueue(1)\n",
    "mi_cola.enqueue(2)\n",
    "mi_cola.enqueue(3)\n",
    "mi_cola.enqueue(4)\n",
    "mi_cola.enqueue(5)\n",
    "\n",
    "# Añadir elementos al principio de la cola\n",
    "mi_cola.add_first(0)\n",
    "mi_cola.add_first(-1)\n",
    "\n",
    "# Sacar elementos de la cola\n",
    "print(mi_cola.dequeue())  # Debería imprimir -1\n",
    "print(mi_cola.dequeue())  # Debería imprimir 0\n",
    "\n",
    "# Ver el elemento al frente de la cola\n",
    "print(mi_cola.front())  # Debería imprimir 1\n",
    "\n",
    "# Sacar elementos de la cola (utilizando remove_first)\n",
    "print(mi_cola.remove_first())  # Debería imprimir 1\n",
    "print(mi_cola.remove_first())  # Debería imprimir 2\n",
    "\n",
    "# Verificar el tamaño de la cola\n",
    "print(mi_cola.size())  # Debería imprimir 3\n"
   ]
  },
  {
   "cell_type": "markdown",
   "id": "5358ec53",
   "metadata": {},
   "source": [
    "------------------------------"
   ]
  },
  {
   "cell_type": "markdown",
   "id": "5f2fe9e8",
   "metadata": {},
   "source": [
    "# **Actividad: Búsqueda secuencial.**\n",
    "\n",
    "Se tiene una lista de 10 ciudades organizadas en función de la densidad de población, escriba una función para retornar la posición ocupada.\n"
   ]
  },
  {
   "cell_type": "code",
   "execution_count": 25,
   "id": "dec8954f",
   "metadata": {},
   "outputs": [
    {
     "name": "stdout",
     "output_type": "stream",
     "text": [
      "[4]\n"
     ]
    }
   ],
   "source": [
    "ciudades = [\n",
    "    \"Daca, Bangladés\",\n",
    "    \"Karachi, Pakistán\",\n",
    "    \"Nueva Delhi, India\",\n",
    "    \"Manila, Filipinas\",\n",
    "    \"Seúl, Corea del Sur\",\n",
    "    \"Cantón, China\",\n",
    "    \"Taipéi, Taiwán\",\n",
    "    \"Chenaral, Chile\",\n",
    "    \"Shenzhen, China\",\n",
    "    \"Bombay, India\"\n",
    "]\n",
    "\n",
    "def obtener_posicion(ciudades, ciudad):\n",
    "    # Espaciós para desarrollar el código\n",
    "    for i in range (len(ciudades)):\n",
    "        if ciudades[i] == ciudad:\n",
    "            return [i]\n",
    "    return -1\n",
    "\n",
    "posicion_ocupada = obtener_posicion(ciudades,\"Seúl, Corea del Sur\")\n",
    "print(posicion_ocupada)"
   ]
  },
  {
   "cell_type": "markdown",
   "id": "5f3dd435",
   "metadata": {},
   "source": [
    "-----------------------------------"
   ]
  },
  {
   "cell_type": "markdown",
   "id": "9fffd532",
   "metadata": {},
   "source": [
    "# **Actividad: Búsqueda binaria.**\n",
    "\n",
    "- Escriba al menos una ventaja de la busqueda binaria.\n",
    "- Replique el código mostrado en la presentación 192.\n",
    "- Explique brevemente el funcionamiento del código, maximo 3 lineas.\n",
    "- Ingrese un piso de ruptura del huevo y calcule cuantas veces se realiza la revisión para encontrar el piso seguro.(Se puede agrear algún contador dentro del código para verificar)\n"
   ]
  },
  {
   "cell_type": "markdown",
   "id": "bd480c1d",
   "metadata": {},
   "source": [
    "##### **Ventaja de la Busqueda Binaria**\n",
    "Es más eficiente que la busqueda lineal, ya que divide el intervalo de búsqueda a la mitad en cada iteración, lo que reduce el número de comparaciones necesarias para encontrar el elemento en una lista ordenada."
   ]
  },
  {
   "cell_type": "code",
   "execution_count": 26,
   "id": "bdc866e2",
   "metadata": {},
   "outputs": [
    {
     "name": "stdout",
     "output_type": "stream",
     "text": [
      "El huevo estara a salvo hasta el piso 50 y se realizaron 7 verificaciones.\n"
     ]
    }
   ],
   "source": [
    "# Espacio para replicar el código.\n",
    "def do_experiment(floor, breaking):\n",
    "    return floor >= breaking\n",
    "\n",
    "def find_highest_safe_floor2(height, breaking):\n",
    "    low, high = 1, height\n",
    "    contador = 0\n",
    "    while low < high:\n",
    "        mid = (low + high)//2\n",
    "        contador += 1\n",
    "        if do_experiment(mid, breaking):\n",
    "            high = mid \n",
    "        else: \n",
    "            low = mid + 1\n",
    "    return low -1, contador\n",
    "\n",
    "# Espacio para explicar funcionamiento.\n",
    "# La función do_experiment simula si un huevo se rompe al caer desde un piso dado.\n",
    "# La función find_highest_safe_floor2 utiliza búsqueda binaria para encontrar el piso más alto seguro.\n",
    "# El resultado muestra el piso más alto seguro y el número de experimentos realizados.\n",
    "\n",
    "\n",
    "# Cálculo y verificación del número de veces que se realiza la verificación.\n",
    "height = int(input('Ingrese el numero de pisos: '))\n",
    "breaking = int(input('Ingrese el numero de pisos donde se rompera el huevo: '))\n",
    "floor, contador = find_highest_safe_floor2(height, breaking)\n",
    "print(f\"El huevo estara a salvo hasta el piso {floor} y se realizaron {contador} verificaciones.\")\n",
    "\n"
   ]
  },
  {
   "cell_type": "markdown",
   "id": "5ad36f6e",
   "metadata": {},
   "source": [
    "-------------------------------"
   ]
  },
  {
   "cell_type": "markdown",
   "id": "eb266a1e",
   "metadata": {},
   "source": [
    "# **Actividad: Definir una tabla Hash tipo diccionario.**\n",
    "\n",
    "En la siguiente celda se muestrar como crear un diccionario, como agregar elementos, como eliminar elementos,\n",
    "como verificar si la key existe en el diccionario, basados en este código agregue otros elementos, comente los resultados, si tienes alguna duda también la puedes escribir. (Use máximo 3 líneas en la explicación)\n"
   ]
  },
  {
   "cell_type": "code",
   "execution_count": 31,
   "id": "f48163a5",
   "metadata": {},
   "outputs": [
    {
     "name": "stdout",
     "output_type": "stream",
     "text": [
      "Nombre: Juan\n",
      "Edad: 30\n",
      "Ciudad: Nueva York\n",
      "Estado: Nueva Jersey\n",
      "Ocupación: Desarrollador de software\n",
      "La clave 'ciudad' no está en el diccionario.\n",
      "nombre: 6637611425351288264\n",
      "ciudad: -7742720153721629210\n",
      "estado: 7885877911622308682\n",
      "ocupacion: 532030243085970790\n"
     ]
    }
   ],
   "source": [
    "# Crear un diccionario vacío\n",
    "mi_diccionario = {}\n",
    "\n",
    "# Agregar elementos al diccionario\n",
    "mi_diccionario[\"nombre\"] = \"Juan\"\n",
    "mi_diccionario[\"edad\"] = 30\n",
    "mi_diccionario[\"ciudad\"] = \"Nueva York\"\n",
    "mi_diccionario[\"estado\"] = \"Nueva Jersey\"\n",
    "mi_diccionario[\"ocupacion\"] = \"Desarrollador de software\"\n",
    "\n",
    "# Acceder a los valores por clave\n",
    "print(\"Nombre:\", mi_diccionario[\"nombre\"])\n",
    "print(\"Edad:\", mi_diccionario[\"edad\"])\n",
    "print(\"Ciudad:\", mi_diccionario[\"ciudad\"])\n",
    "print(\"Estado:\", mi_diccionario[\"estado\"])\n",
    "print(\"Ocupación:\", mi_diccionario[\"ocupacion\"])\n",
    "\n",
    "# Modificar un valor existente\n",
    "mi_diccionario[\"edad\"] = 31\n",
    "\n",
    "# Eliminar un elemento del diccionario\n",
    "del mi_diccionario[\"edad\"]\n",
    "\n",
    "# Verificar si una clave existe en el diccionario\n",
    "if \"edad\" in mi_diccionario:\n",
    "    print(\"La clave 'ciudad' está en el diccionario.\")\n",
    "else:\n",
    "    print(\"La clave 'ciudad' no está en el diccionario.\")\n",
    "\n",
    "# Imprimir clave y clave hash   \n",
    "for clave in mi_diccionario:\n",
    "    print(f\"{clave}: {hash(clave)}\")"
   ]
  },
  {
   "cell_type": "markdown",
   "id": "3d443a60",
   "metadata": {},
   "source": [
    "----------------------------------------------"
   ]
  }
 ],
 "metadata": {
  "kernelspec": {
   "display_name": "SIC",
   "language": "python",
   "name": "python3"
  },
  "language_info": {
   "codemirror_mode": {
    "name": "ipython",
    "version": 3
   },
   "file_extension": ".py",
   "mimetype": "text/x-python",
   "name": "python",
   "nbconvert_exporter": "python",
   "pygments_lexer": "ipython3",
   "version": "3.9.7"
  }
 },
 "nbformat": 4,
 "nbformat_minor": 5
}
