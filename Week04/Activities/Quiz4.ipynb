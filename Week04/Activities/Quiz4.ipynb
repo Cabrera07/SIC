{
 "cells": [
  {
   "cell_type": "markdown",
   "id": "5d671b98",
   "metadata": {},
   "source": [
    "# **Coding and Programming**\n",
    "\n",
    "## ***Capítulo 4***\n",
    "\n",
    "### Estructuras de Datos\n",
    "\n",
    "- **Unidad 17.** Pila\n",
    "- **Unidad 18.** Cola\n",
    "- **Unidad 19.** Búsqueda Binaria\n",
    "- **Unidad 20.** Tabla Hash\n",
    "\n",
    "# **Quiz 4**"
   ]
  },
  {
   "cell_type": "markdown",
   "id": "2e42031a",
   "metadata": {},
   "source": [
    "___"
   ]
  },
  {
   "cell_type": "markdown",
   "id": "33866775",
   "metadata": {},
   "source": [
    "## ***Q 22-01***\n",
    "\n",
    "La siguiente es la implantación de una pila. ¿Cuál será el resultado del siguiente código?\n",
    "\n",
    "```\n",
    "stack = Stack()\n",
    "stack.push(\"Banana\")\n",
    "stack.push(\"Apple\")\n",
    "stack.push(\"Tomato\")\n",
    "stack.pop()\n",
    "stack.push(\"Strawberry\")\n",
    "stack.push(\"Grapes\")\n",
    "stack.pop()\n",
    "print(stack.stack)\n",
    "```"
   ]
  },
  {
   "cell_type": "markdown",
   "id": "da2a76c6",
   "metadata": {},
   "source": [
    "----------"
   ]
  },
  {
   "cell_type": "markdown",
   "id": "81816b7e",
   "metadata": {},
   "source": [
    "**Solución:**\n",
    "\n",
    "```\n",
    "-> [Banana]\n",
    "-> [Banana, Apple]\n",
    "-> [Banana, Apple, Tomato]\n",
    "-> [Banana, Apple]\n",
    "-> [Banana, Apple, Strawberry]\n",
    "-> [Banana, Apple, Strawberry, Grapes]\n",
    "```\n",
    "**Respuesta:** \n",
    "\n",
    "**`->` `[Banana, Apple, Strawberry]`**"
   ]
  },
  {
   "cell_type": "markdown",
   "id": "2dbba0e2",
   "metadata": {},
   "source": [
    "___"
   ]
  },
  {
   "cell_type": "markdown",
   "id": "8d8ca892",
   "metadata": {},
   "source": [
    "## ***Q 22-02***\n",
    "\n",
    "La siguiente es la implantación de una pila. ¿Cuál será el resultado del siguiente código?\n",
    "\n",
    "```\n",
    "stack = Stack()\n",
    "items = [10 * i for i in range(1,10)]\n",
    "for item in items:\n",
    "    stack.push(item)\n",
    "    if (item // 10) % 2 == 0:\n",
    "        stack.pop()\n",
    "print(stack.stack)\n",
    "```"
   ]
  },
  {
   "cell_type": "markdown",
   "id": "932e4c1a",
   "metadata": {},
   "source": [
    "---------------------------"
   ]
  },
  {
   "cell_type": "markdown",
   "id": "6cae5645",
   "metadata": {},
   "source": [
    "**Solución:** \n",
    "\n",
    "```\n",
    "-> [10, 20, 30, 40, 50, 60, 70, 80, 90]\n",
    "-> (90//10) % 2 = 1 -> [90]\n",
    "-> (80//10) % 2 = 0 -> [90]\n",
    "-> (70//10) % 2 = 1 -> [90, 70]\n",
    "-> (60//10) % 2 = 0 -> [90, 70]\n",
    "-> (50//10) % 2 = 1 -> [90, 70, 50]\n",
    "-> (40//10) % 2 = 0 -> [90, 70, 50]\n",
    "-> (30//10) % 2 = 1 -> [90, 70, 50, 30]\n",
    "-> (20//10) % 2 = 0 -> [90, 70, 50, 30]\n",
    "-> (10//10) % 2 = 1 -> [90, 70, 50, 30, 10]\n",
    "```\n",
    "\n",
    "**Respuesta:** \n",
    "\n",
    "**`->` `[10, 30, 50, 70, 90]`**\n"
   ]
  },
  {
   "cell_type": "markdown",
   "id": "9c101740",
   "metadata": {},
   "source": [
    "___"
   ]
  },
  {
   "cell_type": "markdown",
   "id": "490f04a8",
   "metadata": {},
   "source": [
    "## ***Q 23-01***\n",
    "\n",
    "La siguiente es la implantación de una pila. ¿Cuál será el resultado del siguiente código?\n",
    "\n",
    "```\n",
    "queue = Queue()\n",
    "queue.enqueue(\"Banana\")\n",
    "queue.enqueue(\"Apple\")\n",
    "queue.enqueue(\"Tomato\")\n",
    "queue.dequeue()\n",
    "queue.enqueue(\"Strawberry\")\n",
    "queue.enqueue(\"Grapes\")\n",
    "queue.dequeue()\n",
    "print(queue.queue)\n",
    "```"
   ]
  },
  {
   "cell_type": "markdown",
   "id": "f4b7a1b4",
   "metadata": {},
   "source": [
    "--------------------------"
   ]
  },
  {
   "cell_type": "markdown",
   "id": "3475a74c",
   "metadata": {},
   "source": [
    "**Solución:**\n",
    "\n",
    "```\n",
    "-> [Banana]\n",
    "-> [Banana, Apple]\n",
    "-> [Banana, Apple, Tomato]\n",
    "-> [Apple, Tomato]\n",
    "-> [Apple, Tomato, Strawberry]\n",
    "-> [Apple, Tomato, Strawberry, Grapes]\n",
    "```\n",
    "**Respuesta:** \n",
    "\n",
    "**`->` `[Tomato, Strawberry, Grapes]`**\n",
    "\n"
   ]
  },
  {
   "cell_type": "markdown",
   "id": "4811d8fa",
   "metadata": {},
   "source": [
    "___"
   ]
  },
  {
   "cell_type": "markdown",
   "id": "680514b8",
   "metadata": {},
   "source": [
    "## ***Q 23-02***\n",
    "\n",
    "La siguiente es la implantación de una cola. ¿Cuál será el resultado del siguiente código?\n",
    "\n",
    "```\n",
    "queue = Queue()\n",
    "items = [10 * i for i in range(1,10)]\n",
    "for item in items:\n",
    "    queue.enqueue(item)\n",
    "    if (item // 10) % 2 == 0:\n",
    "        queue.dequeue()\n",
    "print(queue.queue)\n",
    "```"
   ]
  },
  {
   "cell_type": "markdown",
   "id": "d1399404",
   "metadata": {},
   "source": [
    "-------------------------------------------"
   ]
  },
  {
   "cell_type": "markdown",
   "id": "c846e07f",
   "metadata": {},
   "source": [
    "**Solución:**\n",
    "\n",
    "```\n",
    "-> [10, 20, 30, 40, 50, 60, 70, 80, 90]\n",
    "-> (10//10) % 2 = 1 -> [10]\n",
    "-> (20//10) % 2 = 0 -> [10]\n",
    "-> (30//10) % 2 = 0 -> [10, 30]\n",
    "-> (40//10) % 2 = 0 -> [10, 30]\n",
    "-> (50//10) % 2 = 1 -> [10, 30, 50]\n",
    "-> (60//10) % 2 = 0 -> [10, 30, 50]\n",
    "-> (70//10) % 2 = 1 -> [10, 30, 50, 70]\n",
    "-> (80//10) % 2 = 0 -> [10, 30, 50, 70]\n",
    "-> (90//10) % 2 = 1 -> [10, 30, 50, 70, 90]\n",
    "```\n",
    "\n",
    "**Respuesta:**\n",
    "\n",
    "**`->` `[10, 30, 50, 70, 90]`**"
   ]
  },
  {
   "cell_type": "markdown",
   "id": "b16e0741",
   "metadata": {},
   "source": [
    "___"
   ]
  },
  {
   "cell_type": "markdown",
   "id": "5f2fe9e8",
   "metadata": {},
   "source": [
    "## ***Q 24-01***\n",
    "\n",
    "¿Cuál es el algoritmo de la siguiente función `find_two()`?\n",
    "```\n",
    "def find_two():\n",
    "    x = y = 0\n",
    "    for i in range(1, len(nums)):\n",
    "        if nums[x] < nums[i]:\n",
    "            x = i\n",
    "        elif nums[y] > nums[i]:\n",
    "            y = i\n",
    "    return x, y\n",
    "\n",
    "nums = [11, 37, 45, 26, 59, 28, 17, 53]\n",
    "i,j = find_two(nums)\n",
    "print(nums[i], nums[j])\n",
    "```\n",
    "Analice el código y escriba el resultado de la ejecución."
   ]
  },
  {
   "cell_type": "markdown",
   "id": "c58b59df",
   "metadata": {},
   "source": [
    "------------"
   ]
  },
  {
   "cell_type": "markdown",
   "id": "0407f911",
   "metadata": {},
   "source": [
    "**Solución:**\n",
    "\n",
    "```\n",
    "-> x = [0](11) < i = [1](37) -> True:  x = [1](37)\n",
    "-> x = [1](37) < i = [2](45) -> True:  x = [2](45)\n",
    "-> x = [2](45) < i = [3](26) -> False: x = [2](45)\n",
    "-> x = [2](45) < i = [4](59) -> True:  x = [4](59)\n",
    "-> x = [4](59) < i = [5](28) -> False: x = [4](59)\n",
    "-> x = [4](59) < i = [6](17) -> False: x = [4](59)\n",
    "-> x = [4](59) < i = [5](53) -> False: x = [4](59)\n",
    "\n",
    "-> y = [0](11) > i = [1](37) -> False: y = [0](11)\n",
    "-> y = [0](11) > i = [2](45) -> False: y = [0](11)\n",
    "-> y = [0](11) > i = [3](26) -> False: y = [0](11)\n",
    "-> y = [0](11) > i = [4](45) -> False: y = [0](11)\n",
    "-> y = [0](11) > i = [5](28) -> False: y = [0](11)\n",
    "-> y = [0](11) > i = [6](17) -> False: y = [0](11)\n",
    "-> y = [0](11) > i = [7](53) -> False: y = [0](11)\n",
    "\n",
    "-> x = [4](59), y = [0](11)\n",
    "```\n",
    "\n",
    "**Respuesta:**\n",
    "\n",
    "**`->` `59, 11`**\n",
    "\n"
   ]
  },
  {
   "cell_type": "markdown",
   "id": "bba31171",
   "metadata": {},
   "source": [
    "___"
   ]
  },
  {
   "cell_type": "markdown",
   "id": "36e47747",
   "metadata": {},
   "source": [
    "## ***Q 24-02***\n",
    "\n",
    "**¿Cuántas comparaciones debe realizar la función `find_two()` implementada en la pregunta anterior (24-01)?**"
   ]
  },
  {
   "cell_type": "markdown",
   "id": "bed4c036",
   "metadata": {},
   "source": [
    "------------------\n",
    "**Respuesta:**"
   ]
  },
  {
   "cell_type": "markdown",
   "id": "560f7505",
   "metadata": {},
   "source": [
    "*Realiza  14 comparaciones.*"
   ]
  },
  {
   "cell_type": "markdown",
   "id": "976b7b8e",
   "metadata": {},
   "source": [
    "___"
   ]
  },
  {
   "cell_type": "markdown",
   "id": "9fffd532",
   "metadata": {},
   "source": [
    "## ***Q 25-01***\n",
    "\n",
    "El siguiente es el código para el juego de combinación de números.\n",
    "\n",
    "Si el máximo es 100 y el número es 51, ¿cuál es la salida de `count`?\n",
    "```\n",
    "from random import randint\n",
    "\n",
    "maximo = int(input(\"Ingrese el número maximo: \"))\n",
    "numero = int(input(\"Ingrese tu intento de adivinar el numero: \"))\n",
    "low, high = 1, maximo\n",
    "count = 0\n",
    "while low < high:\n",
    "    count += 1\n",
    "    mid = (low + high) // 2\n",
    "    if mid == numero:\n",
    "        print(f\"El número es {numero}\")\n",
    "        break\n",
    "    elif mid > numero:\n",
    "        high = mid - 1\n",
    "    else:\n",
    "        low  = mid + 1\n",
    "\n",
    "print(f\"Total {count} veces fue buscado.\")\n",
    "```"
   ]
  },
  {
   "cell_type": "markdown",
   "id": "7fad96bd",
   "metadata": {},
   "source": [
    "-------------------------------------"
   ]
  },
  {
   "cell_type": "markdown",
   "id": "2a351b8a",
   "metadata": {},
   "source": [
    "##### **Solución:**\n",
    "\n",
    "\n",
    "***Entradas***\n",
    "```\n",
    "-> maximo = 100 \n",
    "-> numero = 51\n",
    "```\n",
    "\n",
    "***Inicialización***\n",
    "```\n",
    "-> low   = 1 \n",
    "-> high  = 100\n",
    "-> count = 0\n",
    "\n",
    "```\n",
    "\n",
    "\n",
    "\n",
    "***Primera Iteración***\n",
    "```\n",
    "-> mid = (1 + 100) // 2 = 50 < 51\n",
    "    -> low   = 50 + 1 = 51\n",
    "    -> high  = 100\n",
    "    -> count = 1\n",
    "```\n",
    "***Segunda Iteración***\n",
    "```\n",
    "-> mid = (51 + 100) // 2 = 75 > 51\n",
    "    -> high  = 75 - 1 = 74\n",
    "    -> low   = 51\n",
    "    -> count = 2\n",
    "```\n",
    "***Tercera Iteración***\n",
    "```\n",
    "-> mid = (51 + 74) // 2 = 62 > 51\n",
    "    -> high  = 62 - 1 = 61\n",
    "    -> low   = 51\n",
    "    -> count = 3\n",
    "```\n",
    "***Cuarta Iteración***\n",
    "```\n",
    "-> mid = (51 + 61) // 2 = 56 > 51\n",
    "    -> high  = 56 - 1 = 55\n",
    "    -> low   = 51\n",
    "    -> count = 4\n",
    "```\n",
    "***Quinta Iteración***\n",
    "```\n",
    "-> mid = (51 + 55) // 2 = 53 > 51\n",
    "    -> high  = 53 - 1 = 52\n",
    "    -> low   = 51\n",
    "    -> count = 5\n",
    "```\n",
    "***Sexta Iteración***\n",
    "```\n",
    "-> mid = (51 + 52) // 2 = 51 == 51\n",
    "    -> Se imprime resultado \n",
    "```\n",
    "\n",
    "\n",
    "##### **Respuesta:**\n",
    "\n",
    "**`->` `count = 5`**"
   ]
  },
  {
   "cell_type": "markdown",
   "id": "c29e1c0c",
   "metadata": {},
   "source": [
    "___"
   ]
  },
  {
   "cell_type": "markdown",
   "id": "c185d96c",
   "metadata": {},
   "source": [
    "## ***Q 25-02***\n",
    "\n",
    "**En el código del juego de combinación de números, si el máximo es 100 y el número es 25, ¿cuál es el resultado del conteo?**"
   ]
  },
  {
   "cell_type": "markdown",
   "id": "8a1175e5",
   "metadata": {},
   "source": [
    "-------------------"
   ]
  },
  {
   "cell_type": "markdown",
   "id": "27353ddf",
   "metadata": {},
   "source": [
    "##### **Solución:**\n",
    "\n",
    "\n",
    "***Entradas***\n",
    "```\n",
    "-> maximo = 100 \n",
    "-> numero = 25\n",
    "```\n",
    "\n",
    "***Inicialización***\n",
    "```\n",
    "-> low   = 1 \n",
    "-> high  = 100\n",
    "-> count = 0\n",
    "\n",
    "```\n",
    "\n",
    "***Primera Iteración***\n",
    "```\n",
    "-> mid = (1 + 100) // 2 = 50 > 25\n",
    "    -> high  = 50 - 1 = 49\n",
    "    -> low   = 1\n",
    "    -> count = 1\n",
    "```\n",
    "***Segunda Iteración***\n",
    "```\n",
    "-> mid = (1 + 49) // 2 = 25 == 25\n",
    "    -> Se imprime resultado \n",
    "```\n",
    "\n",
    "##### **Respuesta:**\n",
    "\n",
    "**`->` `count = 1`**"
   ]
  },
  {
   "cell_type": "markdown",
   "id": "662d5bfd",
   "metadata": {},
   "source": [
    "___"
   ]
  },
  {
   "cell_type": "markdown",
   "id": "eb266a1e",
   "metadata": {},
   "source": [
    "## **Q 26-01**\n",
    "\n",
    "Usando la función hash de la clase HashTable, calcule la clave y la clave hash de \"Alicia en el país de las maravillas\" de la siguiente manera. (El valor clave es 1763.)\n",
    "```\n",
    "table = HashTable(8)\n",
    "book  = \"Alice in Wonderland\"\n",
    "key = sum(map(ord, book))\n",
    "print(key, table.hash(key))\n",
    "```"
   ]
  },
  {
   "cell_type": "markdown",
   "id": "4ed48ef3",
   "metadata": {},
   "source": [
    "-----------"
   ]
  },
  {
   "cell_type": "code",
   "execution_count": 6,
   "id": "22657a08",
   "metadata": {},
   "outputs": [
    {
     "name": "stdout",
     "output_type": "stream",
     "text": [
      "Clave: 1795 \n",
      "Hash: 3\n"
     ]
    }
   ],
   "source": [
    "# Definir clase HashTable\n",
    "class HashTable: \n",
    "    # Constructor \n",
    "    def __init__(self, size):\n",
    "        \n",
    "        self.size = size \n",
    "        self.table =[None] * size\n",
    "        \n",
    "    # Función hash que devuelve el residuo al dividir el key por el tamaño de la tabla\n",
    "    def hash(self, key):\n",
    "        return key % self.size\n",
    "    \n",
    "# Crear el objeto HashTable de tamaño 8\n",
    "table = HashTable(8)\n",
    "# Definir variable\n",
    "book = \"Alice in Wonderland\"\n",
    "# Calcular la clave sumando los valores ASCII de los caracteres en la variable book\n",
    "key = sum(map(ord, book))\n",
    "#Imprimir\n",
    "print(f\"Clave: {key} \\nHash: {table.hash(key)}\")"
   ]
  },
  {
   "cell_type": "markdown",
   "id": "6ef27d31",
   "metadata": {},
   "source": [
    "___"
   ]
  },
  {
   "cell_type": "markdown",
   "id": "d4fd6f63",
   "metadata": {},
   "source": [
    "## ***Q 26-02***\n",
    "\n",
    "Si la nueva estantería tiene 10 compartimentos, usa el siguiente código para averiguar qué libro hay en cada compartimento.\n",
    "```\n",
    "table = HashTable(10)\n",
    "books = [\n",
    "    \"The Little Prince\",\n",
    "    \"The Old Man and the Sea\",\n",
    "    \"The Little Memaid\",\n",
    "    \"Beauty and the Beast\",\n",
    "    \"The Last Leaf\",\n",
    "    \"Alice in Wonderland\",\n",
    "]\n",
    "\n",
    "for book in books:\n",
    "    key = sum(map(ord, book))\n",
    "    table.put(key, book)\n",
    "\n",
    "for key in table.table.key():\n",
    "    print(key, table.table[key])\n",
    "```"
   ]
  },
  {
   "cell_type": "markdown",
   "id": "fc2526c5",
   "metadata": {},
   "source": [
    "-------------"
   ]
  },
  {
   "cell_type": "code",
   "execution_count": 21,
   "id": "9d7db47f",
   "metadata": {},
   "outputs": [
    {
     "name": "stdout",
     "output_type": "stream",
     "text": [
      "0 []\n",
      "1 []\n",
      "2 []\n",
      "3 [(1133, 'The Last Leaf')]\n",
      "4 [(1584, 'The Little Prince'), (1564, 'The Little Memaid')]\n",
      "5 [(1795, 'Alice in Wonderland')]\n",
      "6 []\n",
      "7 [(1837, 'Beauty and the Beast')]\n",
      "8 []\n",
      "9 [(1929, 'The Old Man and the Sea')]\n"
     ]
    }
   ],
   "source": [
    "table = HashTable(10)\n",
    "books = [\n",
    "    \"The Little Prince\",\n",
    "    \"The Old Man and the Sea\",\n",
    "    \"The Little Memaid\",\n",
    "    \"Beauty and the Beast\",\n",
    "    \"The Last Leaf\",\n",
    "    \"Alice in Wonderland\",\n",
    "]\n",
    "\n",
    "# Por cada libro en la lista d libros \n",
    "for book in books:\n",
    "    # Calcular la clave hash para cada libro sumando los valores ASCII de cada carácter en el título\n",
    "    key = sum(map(ord, book))\n",
    "    # Agregar el libro a la tabla HashTable\n",
    "    table.put(key, book)\n",
    "\n",
    "# Por cada clave en la TablaHash\n",
    "for key in table.table.keys():\n",
    "    # Imprimir la clave y el valor asociado en la tabla HashTable\n",
    "    print(key, table.table[key])"
   ]
  },
  {
   "cell_type": "markdown",
   "id": "574b1c0f",
   "metadata": {},
   "source": [
    "___"
   ]
  },
  {
   "cell_type": "markdown",
   "id": "7f165fb5",
   "metadata": {},
   "source": [
    "# **Fin**"
   ]
  }
 ],
 "metadata": {
  "kernelspec": {
   "display_name": "Python 3 (ipykernel)",
   "language": "python",
   "name": "python3"
  },
  "language_info": {
   "codemirror_mode": {
    "name": "ipython",
    "version": 3
   },
   "file_extension": ".py",
   "mimetype": "text/x-python",
   "name": "python",
   "nbconvert_exporter": "python",
   "pygments_lexer": "ipython3",
   "version": "3.9.7"
  }
 },
 "nbformat": 4,
 "nbformat_minor": 5
}
