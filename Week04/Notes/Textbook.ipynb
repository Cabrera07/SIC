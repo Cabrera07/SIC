{
 "cells": [
  {
   "cell_type": "markdown",
   "metadata": {},
   "source": [
    "---"
   ]
  },
  {
   "cell_type": "markdown",
   "metadata": {},
   "source": [
    "# **Estructura de Datos**"
   ]
  },
  {
   "cell_type": "markdown",
   "metadata": {},
   "source": [
    "--------------------------------------\n",
    "--------------------------------------\n",
    "## **Stack**\n",
    "--------------------------------------\n",
    "--------------------------------------\n",
    "Un stack (o pila) se refiere a una estructura de datos que sigue el principio de LIFO (Last In, First Out), lo que significa que el último elemento añadido es el primero en ser retirado. Puedes implementar un stack utilizando una lista en Python.\n",
    "\n",
    "<p align=\"center\">\n",
    "  <img src=\"https://cdn.programiz.com/sites/tutorial2program/files/stack.png\" width=\"400\" border=\"5px  black\"/>\n",
    "</p>"
   ]
  },
  {
   "cell_type": "markdown",
   "metadata": {},
   "source": [
    "------------------------------\n",
    "### ***Ejemplo:***\n",
    "------------------------------"
   ]
  },
  {
   "cell_type": "code",
   "execution_count": null,
   "metadata": {},
   "outputs": [],
   "source": [
    "# Definir una lista vacía\n",
    "stack = []\n",
    "\n",
    "# Ingresar un elemento al Stack \n",
    "def push(element):\n",
    "    stack.append(element)\n",
    "\n",
    "# Eliminar elemento del Stack \n",
    "def pop():\n",
    "    if len(stack) == 0:\n",
    "        print(\"Error: the stack is empty\")\n",
    "    else:\n",
    "        return stack.pop()\n",
    "\n",
    "# Devuelve el último elemento añadido al stack sin eliminarlo\n",
    "def top():\n",
    "    if len(stack) == 0:\n",
    "        print(\"Error: the stack is empty\")\n",
    "    else:\n",
    "        return stack[-1]\n",
    "\n",
    "# Ingresar elementos \n",
    "push(1)\n",
    "push(2)\n",
    "push(3)\n",
    "\n",
    "# Vizualizar ultimo elemento \n",
    "print(top())  # Output: 3\n",
    "\n",
    "# Eliminar elemento \n",
    "print(pop())  # Output: 3\n",
    "\n",
    "# Vizualizar ultimo elemento \n",
    "print(top())  # Output: 2\n",
    "\n",
    "# Eliminar elemento \n",
    "print(pop())  # Output: 2\n",
    "print(pop())  # Output: 1\n",
    "print(pop())  # Output: Error: the stack is empty\n"
   ]
  },
  {
   "cell_type": "markdown",
   "metadata": {},
   "source": [
    "------------------------------\n",
    "### ***Ejemplo Definiendo un Stack como Clase:***\n",
    "------------------------------"
   ]
  },
  {
   "cell_type": "code",
   "execution_count": null,
   "metadata": {},
   "outputs": [],
   "source": [
    "class Stack:\n",
    "    \n",
    "    # Constructor que inicializa una lista vacía que se utilizará para almacenar los elementos del stack\n",
    "    def __init__(self):\n",
    "        self.items = []\n",
    "\n",
    "    # Método verifica si el stack está vacío, devolviendo True O False\n",
    "    def is_empty(self):\n",
    "        return len(self.items) == 0\n",
    "\n",
    "    # Añade un elemento al final del stack\n",
    "    def push(self, item):\n",
    "        self.items.append(item)\n",
    "\n",
    "    # Elimina y devuelve el último elemento añadido al stack.\n",
    "    # Si el stack está vacío, lanza una excepción IndexError.\n",
    "    def pop(self):\n",
    "        if not self.is_empty():\n",
    "            return self.items.pop()\n",
    "        else:\n",
    "            raise IndexError(\"Pop from an empty stack\")\n",
    "\n",
    "    # Devuelve el último elemento añadido al stack sin eliminarlo. (También conocido como Top)\n",
    "    # Si el stack está vacío, lanza una excepción IndexError.\n",
    "    def peek(self):\n",
    "        if not self.is_empty():\n",
    "            return self.items[-1]\n",
    "        else:\n",
    "            raise IndexError(\"Peek from an empty stack\")\n",
    "\n",
    "    # Devuelve el número de elementos en el stack\n",
    "    def size(self):\n",
    "        return len(self.items)\n",
    "    \n",
    "    # Imprimir de forma personalizada y debe ser llamdao \n",
    "    def print_stack(self):\n",
    "        print(\"Contenido del Stack:\", self.items)\n",
    "     \n",
    "    # Se llama automáticamente cuando intentas imprimir el objeto, representación más formal \n",
    "    def __repr__(self):\n",
    "        return f\"Stack({self.items})\"   \n",
    "        \n",
    "# Crear un stack\n",
    "mi_stack = Stack()\n",
    "\n",
    "# Verificar si el stack está vacío\n",
    "print(mi_stack.is_empty())  # Debería imprimir True\n",
    "\n",
    "# Añadir elementos al stack\n",
    "mi_stack.push(1)\n",
    "mi_stack.push(2)\n",
    "mi_stack.push(3)\n",
    "\n",
    "# Imprimir el contenido del stack (Llamar a print_stack)\n",
    "mi_stack.print_stack() \n",
    "\n",
    "# Llamar a __repr__ al imprimir directamente el objeto\n",
    "print(mi_stack) \n",
    "\n",
    "# Ver el elemento en la cima del stack\n",
    "print(mi_stack.peek())  # Debería imprimir 3\n",
    "\n",
    "# Sacar elementos del stack\n",
    "print(mi_stack.pop())  # Debería imprimir 3\n",
    "print(mi_stack.pop())  # Debería imprimir 2\n",
    "\n",
    "# Verificar el tamaño del stack\n",
    "print(mi_stack.size())  # Debería imprimir 1\n",
    "\n",
    "# Verificar si el stack está vacío después de sacar elementos\n",
    "print(mi_stack.is_empty())  # Debería imprimir False\n"
   ]
  },
  {
   "cell_type": "markdown",
   "metadata": {},
   "source": [
    "--------------------------------------\n",
    "--------------------------------------\n",
    "## **Queue**\n",
    "--------------------------------------\n",
    "--------------------------------------\n",
    "Una queue (cola) es una estructura de datos que sigue el principio de FIFO (First In, First Out), lo que significa que el primer elemento que se añade a la cola es el primero en ser retirado.\n",
    "\n",
    "<p align=\"center\">\n",
    "  <img src=\"https://mikirinkode.com/wp-content/uploads/2022/02/queue-thumbnail.png\" width=\"400\" border=\"5px  black\"/>\n",
    "</p>"
   ]
  },
  {
   "cell_type": "markdown",
   "metadata": {},
   "source": [
    "------------------------------\n",
    "### ***Ejemplo:***\n",
    "------------------------------"
   ]
  },
  {
   "cell_type": "code",
   "execution_count": null,
   "metadata": {},
   "outputs": [],
   "source": [
    "from queue import Queue\n",
    "\n",
    "# Crear una cola\n",
    "mi_cola = Queue()\n",
    "\n",
    "# Añadir elementos a la cola\n",
    "mi_cola.put(\"Elemento 1\")\n",
    "mi_cola.put(\"Elemento 2\")\n",
    "mi_cola.put(\"Elemento 3\")\n",
    "\n",
    "# Obtener y eliminar elementos de la cola (en el mismo orden en que se agregaron)\n",
    "elemento1 = mi_cola.get()\n",
    "elemento2 = mi_cola.get()\n",
    "elemento3 = mi_cola.get()\n",
    "\n",
    "# Mostrar los elementos obtenidos\n",
    "print(\"Elemento 1:\", elemento1)\n",
    "print(\"Elemento 2:\", elemento2)\n",
    "print(\"Elemento 3:\", elemento3)"
   ]
  },
  {
   "cell_type": "markdown",
   "metadata": {},
   "source": [
    "------------------------------\n",
    "### ***Ejemplo Definiendo un Queue como Clase:***\n",
    "------------------------------"
   ]
  },
  {
   "cell_type": "code",
   "execution_count": null,
   "metadata": {},
   "outputs": [],
   "source": [
    "class Queue:\n",
    "    \n",
    "    # Constructor que inicializa una lista vacía que se utilizará para almacenar los elementos de la cola.\n",
    "    def __init__(self):\n",
    "        self.items = []\n",
    "\n",
    "    #  Método verifica si la cola está vacía, devolviendo True O False\n",
    "    def is_empty(self):\n",
    "        return len(self.items) == 0\n",
    "\n",
    "    # Añade un elemento al final de la cola.\n",
    "    def enqueue(self, item):\n",
    "        self.items.append(item)\n",
    "\n",
    "    # Añade un elemento al principio de la cola utilizando el método insert de la lista.\n",
    "    def add_first(self, item):\n",
    "        self.items.insert(0, item)\n",
    "\n",
    "    # Elimina y devuelve el primer elemento añadido a la cola. \n",
    "    # Si la cola está vacía, lanza una excepción IndexError.\n",
    "    def dequeue(self):\n",
    "        if not self.is_empty():\n",
    "            return self.items.pop(0)\n",
    "        else:\n",
    "            raise IndexError(\"Dequeue from an empty queue\")\n",
    "\n",
    "    # Elimina y devuelve el primer elemento añadido al principio de la cola.\n",
    "    def remove_first(self):\n",
    "        if not self.is_empty():\n",
    "            return self.items.pop(0)\n",
    "        else:\n",
    "            raise IndexError(\"Remove first from an empty queue\")\n",
    "\n",
    "    # Devuelve el primer elemento añadido a la cola sin eliminarlo. \n",
    "    # Si la cola está vacía, lanza una excepción IndexError.\n",
    "    def front(self):\n",
    "        if not self.is_empty():\n",
    "            return self.items[0]\n",
    "        else:\n",
    "            raise IndexError(\"Front from an empty queue\")\n",
    "\n",
    "    # Devuelve el número de elementos en la cola.\n",
    "    def size(self):\n",
    "        return len(self.items)\n",
    "\n",
    "# Crear una cola\n",
    "mi_cola = Queue()\n",
    "\n",
    "# Añadir elementos al final de la cola\n",
    "mi_cola.enqueue(1)\n",
    "mi_cola.enqueue(2)\n",
    "mi_cola.enqueue(3)\n",
    "mi_cola.enqueue(4)\n",
    "mi_cola.enqueue(5)\n",
    "\n",
    "# Añadir elementos al principio de la cola\n",
    "mi_cola.add_first(0)\n",
    "mi_cola.add_first(-1)\n",
    "\n",
    "# Sacar elementos de la cola\n",
    "print(mi_cola.dequeue())  # Debería imprimir -1\n",
    "print(mi_cola.dequeue())  # Debería imprimir 0\n",
    "\n",
    "# Ver el elemento al frente de la cola\n",
    "print(mi_cola.front())  # Debería imprimir 1\n",
    "\n",
    "# Sacar elementos de la cola (utilizando remove_first)\n",
    "print(mi_cola.remove_first())  # Debería imprimir 1\n",
    "print(mi_cola.remove_first())  # Debería imprimir 2\n",
    "\n",
    "# Verificar el tamaño de la cola\n",
    "print(mi_cola.size())  # Debería imprimir 3\n",
    "\n"
   ]
  },
  {
   "cell_type": "markdown",
   "metadata": {},
   "source": [
    "--------------------------------------\n",
    "--------------------------------------\n",
    "## **Búsqueda Secuencial**\n",
    "--------------------------------------\n",
    "--------------------------------------\n",
    "La búsqueda secuencial es un método simple para encontrar un elemento específico en una lista. En Python, se puede implementar de manera sencilla utilizando un bucle `for` para recorrer la lista uno por uno hasta encontrar el elemento deseado. "
   ]
  },
  {
   "cell_type": "markdown",
   "metadata": {},
   "source": [
    "----\n",
    "### ***Ejemplo 1:***\n",
    "----"
   ]
  },
  {
   "cell_type": "markdown",
   "metadata": {},
   "source": [
    "#### ***Explicación del siguiente código:***\n",
    "\n",
    "**1.** La función **`busqueda_secuencial`** toma dos parámetros: **`lista`** (la lista en la que buscar) y **`objetivo`** (el valor que estás buscando).\n",
    "   \n",
    "**2.** Se utiliza un bucle **`for`** junto con la función **`enumerate`** para recorrer la lista y obtener tanto el índice como el valor en cada iteración.\n",
    "\n",
    "**3.** En cada iteración, se compara el elemento actual con el objetivo. Si son iguales, se devuelve el índice donde se encontró el objetivo.\n",
    "\n",
    "**4.** Si no se encuentra el objetivo después de recorrer toda la lista, la función devuelve -1 para indicar que el elemento no está presente en la lista.\n",
    "\n",
    "**5.** En el ejemplo de uso, se crea una lista **`(mi_lista)`** y se busca el elemento 8. El resultado se imprime en consecuencia."
   ]
  },
  {
   "cell_type": "code",
   "execution_count": null,
   "metadata": {},
   "outputs": [],
   "source": [
    "def busqueda_secuencial(lista, objetivo):\n",
    "    \"\"\"\n",
    "    Realiza una búsqueda secuencial en una lista para encontrar el objetivo.\n",
    "\n",
    "    Parameters:\n",
    "    - lista: La lista en la que realizar la búsqueda.\n",
    "    - objetivo: El valor que estás buscando.\n",
    "\n",
    "    Returns:\n",
    "    - Si se encuentra el objetivo, devuelve el índice en el que se encuentra.\n",
    "    - Si no se encuentra, devuelve -1.\n",
    "    \"\"\"\n",
    "    for indice, elemento in enumerate(lista):\n",
    "        if elemento == objetivo:\n",
    "            return indice  # Se encontró el objetivo, devuelve el índice.\n",
    "    \n",
    "    return -1  # No se encontró el objetivo, devuelve -1.\n",
    "\n",
    "# Ejemplo de uso:\n",
    "mi_lista = [10, 5, 7, 2, 8, 4, 1]\n",
    "elemento_a_buscar = 8\n",
    "\n",
    "resultado = busqueda_secuencial(mi_lista, elemento_a_buscar)\n",
    "\n",
    "if resultado != -1:\n",
    "    print(f\"El elemento {elemento_a_buscar} se encuentra en el índice {resultado}.\")\n",
    "else:\n",
    "    print(f\"El elemento {elemento_a_buscar} no se encuentra en la lista.\")\n"
   ]
  },
  {
   "cell_type": "markdown",
   "metadata": {},
   "source": [
    "----\n",
    "### ***Ejemplo 2:***\n",
    "----"
   ]
  },
  {
   "cell_type": "code",
   "execution_count": null,
   "metadata": {},
   "outputs": [],
   "source": [
    "def find_largest(nums):\n",
    "    # Inicializa la variable 'largest' con el índice del primer elemento de la lista\n",
    "    largest = 0\n",
    "    \n",
    "    # Recorre la lista desde el segundo elemento hasta el final\n",
    "    for i in range(1, len(nums)):\n",
    "        # Compara el valor en la posición 'largest' con el valor en la posición 'i'\n",
    "        if nums[largest] < nums[i]:\n",
    "            # Si el valor en la posición 'i' es mayor, actualiza 'largest' con el índice 'i'\n",
    "            largest = i \n",
    "    \n",
    "    # Devuelve el índice del elemento más grande encontrado en la lista\n",
    "    return largest\n",
    "\n",
    "# Lista de números\n",
    "nums = [11, 37, 45, 26, 56, 28, 17, 53]\n",
    "\n",
    "# Llama a la función 'find_largest' para obtener el índice del elemento más grande en la lista\n",
    "pos = find_largest(nums)\n",
    "\n",
    "# Imprime el resultado utilizando el índice obtenido\n",
    "print(f\"The largest is {nums[pos]} at {pos}\")\n"
   ]
  },
  {
   "cell_type": "markdown",
   "metadata": {},
   "source": [
    "----\n",
    "### ***Ejemplo 3 (La caída del Huevo):***\n",
    "----"
   ]
  },
  {
   "cell_type": "markdown",
   "metadata": {},
   "source": [
    "#### ***Explicación del siguiente código:***\n",
    "\n",
    "**1.** **`do_experiment(floor, breaking):`** Simula un experimento dejando caer un huevo desde un determinado piso (**`floor`**). Devuelve **`True`** si el huevo se rompe (superando o igualando el piso de quiebre), y **`False`** si el huevo no se rompe.\n",
    "\n",
    "**2.** **`find_highest_safe_floor(height, breaking):`** Itera desde el piso 1 hasta el piso **`height`**, realizando experimentos en cada piso. Devuelve el piso más alto desde el cual el huevo no se rompe.\n",
    "\n",
    "**3.** Se solicita al usuario que ingrese el número de pisos.\n",
    "\n",
    "**4.** Se genera un número aleatorio entre **`1`** y **`height`** para representar el piso en el que se rompe el huevo.\n",
    "\n",
    "**5.** Se llama a la función **`find_highest_safe_floor`** con el número total de pisos y el piso en el que se rompe el huevo.\n",
    "\n",
    "**6.** Se imprime el resultado, indicando el piso más alto desde el cual el huevo estará a salvo."
   ]
  },
  {
   "cell_type": "code",
   "execution_count": 2,
   "metadata": {},
   "outputs": [
    {
     "name": "stdout",
     "output_type": "stream",
     "text": [
      "El huevo estará a salvo en el piso 4\n"
     ]
    }
   ],
   "source": [
    "from random import randint\n",
    "\n",
    "def do_experiment(floor, breaking):\n",
    "    # Simula el experimento. Devuelve True si el huevo se rompe, False si no se rompe.\n",
    "    return floor >= breaking\n",
    "\n",
    "def find_highest_safe_floor(height, breaking):\n",
    "    # Itera desde el piso 1 hasta el piso 'height'\n",
    "    for n in range(1, height + 1):\n",
    "        # Realiza el experimento para el piso actual 'n'\n",
    "        if do_experiment(n, breaking):\n",
    "            # Si el huevo se rompe en el piso actual, devuelve el piso anterior como el máximo piso seguro\n",
    "            return n - 1\n",
    "    \n",
    "    # Si el huevo no se rompe en ningún piso, devuelve 'height' como el máximo piso seguro\n",
    "    return height\n",
    "\n",
    "# Solicita al usuario que ingrese el número de pisos\n",
    "height = int(input(\"Ingrese el número de pisos: \"))\n",
    "\n",
    "# Genera un número aleatorio entre 1 y 'height' para representar el piso en el que se rompe el huevo\n",
    "breaking = randint(1, height)\n",
    "\n",
    "# Llama a la función 'find_highest_safe_floor' para encontrar el máximo piso seguro\n",
    "floor = find_highest_safe_floor(height, breaking)\n",
    "\n",
    "# Imprime el resultado\n",
    "print(f\"El huevo estará a salvo en el piso {floor}\")\n"
   ]
  },
  {
   "cell_type": "markdown",
   "metadata": {},
   "source": [
    "--------------------------------------\n",
    "--------------------------------------\n",
    "## **Búsqueda Binaria**\n",
    "--------------------------------------\n",
    "--------------------------------------\n",
    "La búsqueda binaria es un algoritmo de búsqueda que opera en un array ordenado. Funciona dividiendo repetidamente el intervalo de búsqueda a la mitad. Si el valor de la clave de búsqueda es menor que el elemento en el medio del intervalo, la búsqueda binaria continúa en la mitad inferior. De lo contrario, continúa en la mitad superior. Este proceso continúa hasta que se encuentra el valor o el intervalo está vacío."
   ]
  },
  {
   "cell_type": "markdown",
   "metadata": {},
   "source": [
    "----\n",
    "### ***Ejemplo 1:***\n",
    "----"
   ]
  },
  {
   "cell_type": "code",
   "execution_count": 5,
   "metadata": {},
   "outputs": [
    {
     "name": "stdout",
     "output_type": "stream",
     "text": [
      "Low: 0, High: 7, Mid: 3\n",
      "Low: 4, High: 7, Mid: 5\n",
      "Low: 6, High: 7, Mid: 6\n",
      "Low: 7, High: 7, Mid: 7\n",
      "E la lista, 100 esta en la posicion -1.\n"
     ]
    }
   ],
   "source": [
    "# Esta función implementa un algoritmo de búsqueda binaria en Python\n",
    "def bin_search(nums, x):\n",
    "    # Inicializamos 'low' y 'high' en el primer y último índice de la lista respectivamente\n",
    "    low, high = 0, len(nums)-1\n",
    "    \n",
    "    # Mientras 'low' sea menor o igual a 'high'\n",
    "    while low <= high:\n",
    "        \n",
    "        # Calculamos el índice medio del rango de búsqueda actual\n",
    "        mid = (low + high)//2\n",
    "        # Imprimimos el rango de búsqueda actual para fines de depuración o educativos\n",
    "        print(f'Low: {low}, High: {high}, Mid: {mid}')\n",
    "        \n",
    "        # Si el valor en el índice medio es igual a 'x', devolvemos el índice\n",
    "        if nums[mid] == x:\n",
    "            return mid\n",
    "        \n",
    "        # Si el valor en el índice medio es mayor que 'x', actualizamos 'high' a 'mid - 1'\n",
    "        elif nums[mid] > x:\n",
    "            high = mid - 1\n",
    "            \n",
    "        # Si el valor en el índice medio es menor que 'x', actualizamos 'low' a 'mid + 1'\n",
    "        else:\n",
    "            low = mid + 1\n",
    "    \n",
    "    # Si el número no se encuentra en la lista, devolvemos -1\n",
    "    return -1\n",
    "\n",
    "# Inicializamos la lista de números de ejemplo\n",
    "S = [11, 17, 26, 28, 37, 45, 53, 59]\n",
    "# Obtenemos el número a buscar del usuario\n",
    "x = int(input('Ingrese el numero a buscar: '))\n",
    "# Llamamos a la función de búsqueda binaria y almacenamos el resultado\n",
    "pos = bin_search(S, x)\n",
    "# Imprimimos el resultado de la búsqueda\n",
    "print(f\"E la lista, {x} esta en la posicion {pos}.\")"
   ]
  },
  {
   "cell_type": "markdown",
   "metadata": {},
   "source": [
    "----\n",
    "### ***Ejemplo 2:***\n",
    "----"
   ]
  },
  {
   "cell_type": "code",
   "execution_count": 6,
   "metadata": {},
   "outputs": [
    {
     "name": "stdout",
     "output_type": "stream",
     "text": [
      "El elemento está presente en el índice 3\n"
     ]
    }
   ],
   "source": [
    "# Función de búsqueda binaria recursiva en Python\n",
    "def busqueda_binaria(arr, bajo, alto, x):\n",
    "\n",
    "    # Si el rango de búsqueda no está vacío\n",
    "    if alto >= bajo:\n",
    "\n",
    "        # Calculamos el índice medio del rango de búsqueda actual\n",
    "        medio = (alto + bajo) // 2\n",
    "\n",
    "        # Si el valor en el índice medio es igual a 'x', devolvemos el índice\n",
    "        if arr[medio] == x:\n",
    "            return medio\n",
    "\n",
    "        # Si el valor en el índice medio es mayor que 'x', buscamos en el subarreglo izquierdo\n",
    "        elif arr[medio] > x:\n",
    "            return busqueda_binaria(arr, bajo, medio - 1, x)\n",
    "\n",
    "        # Si el valor en el índice medio es menor que 'x', buscamos en el subarreglo derecho\n",
    "        else:\n",
    "            return busqueda_binaria(arr, medio + 1, alto, x)\n",
    "\n",
    "    else:\n",
    "\n",
    "        # Si el rango de búsqueda está vacío y no se ha encontrado 'x', devolvemos -1\n",
    "        return -1\n",
    "\n",
    "# Inicializamos la lista de ejemplo\n",
    "arr = [2, 3, 4, 10, 40]\n",
    "\n",
    "# Definimos el valor a buscar\n",
    "x = 10\n",
    "\n",
    "# Llamada a la función de búsqueda binaria recursiva\n",
    "resultado = busqueda_binaria(arr, 0, len(arr)-1, x)\n",
    "\n",
    "# Imprimimos el resultado de la búsqueda\n",
    "if resultado != -1:\n",
    "    print(\"El elemento está presente en el índice\", str(resultado))\n",
    "else:\n",
    "    print(\"El elemento no está presente en el array\")\n"
   ]
  },
  {
   "cell_type": "markdown",
   "metadata": {},
   "source": [
    "----\n",
    "### ***Ejemplo 3 (La caída del Huevo):***\n",
    "----"
   ]
  },
  {
   "cell_type": "code",
   "execution_count": 7,
   "metadata": {},
   "outputs": [
    {
     "name": "stdout",
     "output_type": "stream",
     "text": [
      "El huevo estara a salvo en el piso 29\n"
     ]
    }
   ],
   "source": [
    "# Función que simula un experimento para determinar si un huevo se rompe en un piso dado\n",
    "def do_experiment(floor, breaking):\n",
    "    # Devuelve True si el huevo no se rompe en el piso 'floor' y False en caso contrario\n",
    "    return floor >= breaking\n",
    "\n",
    "# Función que encuentra el piso más alto donde un huevo no se romperá\n",
    "def find_highest_safe_floor(height, breaking):\n",
    "\n",
    "    # Inicializamos 'low' y 'high' en 1 y 'height' respectivamente\n",
    "    low, high = 1, height\n",
    "\n",
    "    # Mientras el rango de búsqueda no se reduzca a un solo piso\n",
    "    while low < high:\n",
    "\n",
    "        # Calculamos el piso medio del rango de búsqueda actual\n",
    "        mid = (low + high) // 2\n",
    "\n",
    "        # Si el huevo no se rompe en el piso medio, buscamos en el subarreglo superior\n",
    "        if do_experiment(mid, breaking):\n",
    "            high = mid\n",
    "        # Si el huevo se rompe en el piso medio, buscamos en el subarreglo inferior\n",
    "        else:\n",
    "            low = mid + 1\n",
    "\n",
    "    # Devolvemos el piso más alto donde el huevo no se romperá\n",
    "    return low - 1\n",
    "\n",
    "# Pedimos al usuario que ingrese el número de pisos y el piso donde el huevo se romperá\n",
    "height = int(input('Ingrese el número de pisos: '))\n",
    "breaking = int(input('Ingrese el número del piso donde el huevo se romperá: '))\n",
    "\n",
    "# Llamamos a la función 'find_highest_safe_floor' y almacenamos el resultado en 'floor'\n",
    "floor = find_highest_safe_floor(height, breaking)\n",
    "\n",
    "# Imprimimos el resultado de la búsqueda\n",
    "print(f'El huevo estará a salvo en el piso {floor}')"
   ]
  },
  {
   "cell_type": "markdown",
   "metadata": {},
   "source": [
    "-----------------------------------\n",
    "------------------------------\n",
    "## **Diferencia entre Búsqueda Secuencial & Búsqueda Binaria**\n",
    "---------------------\n",
    "--------------------\n",
    "**Método de Búsqueda:**\n",
    "\n",
    "- **Búsqueda Secuencial:** Examina elementos uno por uno hasta encontrar la coincidencia. Complejidad O(n).\n",
    "- **Búsqueda Binaria:** Requiere lista ordenada, divide y descarta mitades en cada paso. Complejidad O(log n).\n",
    "\n",
    "**Eficiencia:**\n",
    "\n",
    "- **Búsqueda Secuencial:** La eficiencia puede verse afectada negativamente en listas muy grandes.\n",
    "- **Búsqueda Binaria:** Es particularmente útil cuando se trabaja con listas grandes.\n",
    "\n",
    "**Orden de la Lista:**\n",
    "\n",
    "- **Búsqueda Secuencial:** No requiere orden.\n",
    "- **Búsqueda Binaria:** Requiere lista ordenada.\n",
    "\n",
    "**Implementación:**\n",
    "\n",
    "- **Búsqueda Secuencial:** Simple, adecuada para listas pequeñas o no ordenadas.\n",
    "- **Búsqueda Binaria:** Requiere lista ordenada, más eficiente en listas grandes."
   ]
  },
  {
   "cell_type": "markdown",
   "metadata": {},
   "source": [
    "<p align=\"center\">\n",
    "  <img src=\"https://miro.medium.com/v2/resize:fit:1200/1*4poxx4vMDQfGEq3HeswJoA.gif\" width=\"500\" border=\"5px  black\"/>\n",
    "</p>"
   ]
  },
  {
   "cell_type": "markdown",
   "metadata": {},
   "source": [
    "--------------------------------\n",
    "------------------------------\n",
    "## **Tabla Hash**\n",
    "---------------------------\n",
    "----------------------------\n",
    "Es una estructura de datos que utiliza una función de hash para asignar claves a valores, permitiendo un acceso rápido a los datos. La función de hash toma una clave y la transforma en un índice (posición) en la tabla donde se almacena o se busca el valor asociado a esa clave.\n"
   ]
  },
  {
   "cell_type": "markdown",
   "metadata": {},
   "source": [
    "--------------------------\n",
    "### ***Hashing y Función Hash***\n",
    "----------------------------"
   ]
  },
  {
   "cell_type": "markdown",
   "metadata": {},
   "source": [
    "**Hashing:** Hashing es el proceso de aplicar una función de hash a algún dato, como una clave o un conjunto de datos, para obtener un valor hash. El objetivo principal del hashing es generar un identificador único (hash) que represente el contenido de manera eficiente.\n",
    "\n",
    "**Función Hash:** Una función hash toma datos de entrada (claves) y devuelve un valor hash de longitud fija. La función debe ser rápida de calcular y producir un hash único para entradas distintas. Además, cambios mínimos en la entrada deben generar cambios significativos en el hash (propiedad de dispersión)."
   ]
  },
  {
   "cell_type": "markdown",
   "metadata": {},
   "source": [
    "<p align=\"center\">\n",
    "  <img src=\"https://media.geeksforgeeks.org/wp-content/cdn-uploads/20221220111537/ComponentsofHashing.png\" width=\"500\" border=\"5px  black\"/>\n",
    "</p>"
   ]
  },
  {
   "cell_type": "markdown",
   "metadata": {},
   "source": [
    "------------------------------------------------------\n",
    "### ***Ejemplo:***\n",
    "-----------------------------"
   ]
  },
  {
   "cell_type": "code",
   "execution_count": 9,
   "metadata": {},
   "outputs": [
    {
     "name": "stdout",
     "output_type": "stream",
     "text": [
      "1648 The little prince\n",
      "2025 The old man and the sea\n",
      "1742 The little mermaid\n",
      "1869 Beauty and the beast\n",
      "1197 The last leaf\n"
     ]
    }
   ],
   "source": [
    "# Lista de libros\n",
    "books = [\n",
    "    'The little prince',\n",
    "    'The old man and the sea',\n",
    "    'The little mermaid',\n",
    "    'Beauty and the beast',\n",
    "    'The last leaf'\n",
    "]\n",
    "\n",
    "# Iteramos sobre cada libro en la lista de libros\n",
    "for book in books:\n",
    "\n",
    "    # Calculamos la suma de los valores ASCII de cada carácter en el título del libro\n",
    "    key = sum(map(ord, book))\n",
    "\n",
    "    # Imprimimos la clave y el título del libro\n",
    "    print(key, book)"
   ]
  },
  {
   "cell_type": "markdown",
   "metadata": {},
   "source": [
    "--------------------------------------\n",
    "### ***Ejemplo Difiniendo Hash Table como Clase:***\n",
    "--------------------------"
   ]
  },
  {
   "cell_type": "code",
   "execution_count": 11,
   "metadata": {},
   "outputs": [
    {
     "name": "stdout",
     "output_type": "stream",
     "text": [
      "2\n",
      "Index 0: []\n",
      "Index 6: [('orange', 3)]\n",
      "Index 9: [('banana', 2)]\n"
     ]
    }
   ],
   "source": [
    "class HashTable:\n",
    "    def __init__(self, size=10):\n",
    "        # Initialize the size of the hash table and create an empty table\n",
    "        self.size = size\n",
    "        self.table = [None] * self.size\n",
    "\n",
    "    def _hash(self, key):\n",
    "        # Calculate the hash value for the given key\n",
    "        hash = 0\n",
    "        for char in key:\n",
    "            # Add the ASCII value of each character in the key to the hash value\n",
    "            hash += ord(char)\n",
    "        # Take the modulo of the hash value with the size of the table to get the index\n",
    "        return hash % self.size\n",
    "\n",
    "    def set(self, key, value):\n",
    "        # Set the value for the given key in the hash table\n",
    "        index = self._hash(key)\n",
    "        if self.table[index] is None:\n",
    "            # If the index is empty, create a new list and append the key-value pair\n",
    "            self.table[index] = []\n",
    "        self.table[index].append((key, value))\n",
    "\n",
    "    def get(self, key):\n",
    "        # Get the value for the given key from the hash table\n",
    "        index = self._hash(key)\n",
    "        if self.table[index] is not None:\n",
    "            # Iterate over the list at the index and return the value if the key is found\n",
    "            for item in self.table[index]:\n",
    "                if item[0] == key:\n",
    "                    return item[1]\n",
    "        return None\n",
    "\n",
    "    def delete(self, key):\n",
    "        # Delete the key-value pair for the given key from the hash table\n",
    "        index = self._hash(key)\n",
    "        if self.table[index] is not None:\n",
    "            # Iterate over the list at the index and delete the key-value pair if the key is found\n",
    "            for i, item in enumerate(self.table[index]):\n",
    "                if item[0] == key:\n",
    "                    del self.table[index][i]\n",
    "\n",
    "    def display(self):\n",
    "        # Display the contents of the hash table\n",
    "        for i, item in enumerate(self.table):\n",
    "            if item is not None:\n",
    "                print(f\"Index {i}: {item}\")\n",
    "\n",
    "hash_table = HashTable()\n",
    "hash_table.set(\"apple\", 1)\n",
    "hash_table.set(\"banana\", 2)\n",
    "hash_table.set(\"orange\", 3)\n",
    "print(hash_table.get(\"banana\")) # Output: 2\n",
    "hash_table.delete(\"apple\")\n",
    "hash_table.display()        "
   ]
  }
 ],
 "metadata": {
  "kernelspec": {
   "display_name": "SIC",
   "language": "python",
   "name": "python3"
  },
  "language_info": {
   "codemirror_mode": {
    "name": "ipython",
    "version": 3
   },
   "file_extension": ".py",
   "mimetype": "text/x-python",
   "name": "python",
   "nbconvert_exporter": "python",
   "pygments_lexer": "ipython3",
   "version": "3.9.7"
  }
 },
 "nbformat": 4,
 "nbformat_minor": 2
}
