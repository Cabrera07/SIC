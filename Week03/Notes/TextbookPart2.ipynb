{
 "cells": [
  {
   "cell_type": "markdown",
   "metadata": {},
   "source": [
    "----------------------------------------------\n",
    "# **Recursividad & Memoización**\n",
    "----------------------------------------------"
   ]
  },
  {
   "cell_type": "markdown",
   "metadata": {},
   "source": [
    "---------------------------\n",
    "----------------------------\n",
    "## **Recursividad**\n",
    "---------------------------\n",
    "----------------------------\n",
    "Una función recursiva es una función que se llama a sí misma dentro de su propia definición.\n",
    "\n",
    "**Las funciones recursivas en Python constan de dos partes principales:** \n",
    "\n",
    "El **Caso Base**  es la forma más simple del problema que estás intentando resolver, que se puede resolver directamente sin llamar a la función recursivamente. \n",
    "\n",
    "El **Caso Recursivo** es aquel en el que la función se llama a sí misma, con una entrada más pequeña o más simple, hasta que se alcanza el caso base.\n",
    "\n",
    "**Recomendaciones al Utilizar Funciones Recursivas en Python:**\n",
    "- La función recursiva debe tener un caso base claro, que debe ser la forma más simple del problema que está intentando resolver.\n",
    "\n",
    "- Asegúrese de que su caso recursivo esté bien definido y reduzca el problema a una entrada más pequeña o más simple.\n",
    "\n",
    "- Tenga en cuenta la profundidad máxima de recursividad en Python, que generalmente es alrededor de 1000 llamadas. Si su función puede necesitar hacer más llamadas recursivas de las que permite, es posible que deba utilizar una solución iterativa en su lugar.\n",
    "\n",
    "- Utilice la memoización o el almacenamiento en caché para mejorar el rendimiento de su función recursiva, especialmente para problemas con subproblemas superpuestos.\n",
    "\n",
    "\n",
    "**En el siguiente ejemplo,**  el ***caso base*** es cuando `n` es `0`, en cuyo caso la función devuelve `1`. El ***caso recursivo*** es cuando `n` no es `0`, en cuyo caso la función devuelve `n` multiplicado por el factorial de `n-1`, que se calcula llamando a la función factorial recursivamente con el argumento `n-1`.\n",
    "\n",
    "#### **Ejemplo:** "
   ]
  },
  {
   "cell_type": "code",
   "execution_count": 2,
   "metadata": {},
   "outputs": [
    {
     "data": {
      "text/plain": [
       "120"
      ]
     },
     "execution_count": 2,
     "metadata": {},
     "output_type": "execute_result"
    }
   ],
   "source": [
    "# Función\n",
    "def factorial(n):\n",
    "    # Caso Base \n",
    "    if n == 0:\n",
    "        return 1\n",
    "    else:\n",
    "        # Caso Recursivo \n",
    "        return n * factorial(n-1)\n",
    "    \n",
    "# Input del Usuario\n",
    "n = int(input(\"Ingrese un numero: \"))\n",
    "# Imprimir \n",
    "factorial(n)"
   ]
  },
  {
   "cell_type": "markdown",
   "metadata": {},
   "source": [
    "---------------------------\n",
    "----------------------------\n",
    "## **Memoización**\n",
    "---------------------------\n",
    "----------------------------\n",
    "Es una técnica de optimización de programas que consiste en almacenar en caché los resultados de llamadas a funciones recursivas complejas para evitar recalculos innecesarios y mejorar el rendimiento. En Python, se puede implementar fácilmente mediante diccionarios.\n",
    "\n",
    "La idea básica de la memoización es almacenar los resultados de las llamadas a la función en un diccionario, de modo que si la función se llama nuevamente con los mismos argumentos, se pueda devolver el resultado almacenado en lugar de recalcularlo.\n",
    "\n",
    "La memoización puede ser muy útil para mejorar el rendimiento de los programas recursivos, especialmente en problemas recursivos complejos donde los subproblemas se superponen. Sin embargo, es importante tener en cuenta que la memoización puede aumentar el uso de memoria.\n",
    "\n",
    "**En el siguiente ejemplo,** hemos añadido un parámetro adicional `memo` que es un diccionario vacío. Cada vez que llamamos a la función, comprobamos si el argumento `n` ya está en el diccionario `memo`. Si es así, devolvemos el valor almacenado en lugar de realizar nuevamente el cálculo. Si no está en el diccionario, realizamos el cálculo y almacenamos el resultado en el diccionario antes de devolverlo.\n",
    "\n",
    "#### **Ejemplo:** "
   ]
  },
  {
   "cell_type": "code",
   "execution_count": null,
   "metadata": {},
   "outputs": [],
   "source": [
    "def factorial(n, memo={}):\n",
    "    if n == 0:\n",
    "        return 1\n",
    "    elif n in memo:\n",
    "        return memo[n]\n",
    "    else:\n",
    "        memo[n] = n * factorial(n-1)\n",
    "        print(memo)\n",
    "        return memo[n]\n",
    "\n",
    "# Input del Usuario\n",
    "n = int(input(\"Ingrese un numero: \"))\n",
    "# Imprimir \n",
    "print(factorial(n))"
   ]
  },
  {
   "cell_type": "markdown",
   "metadata": {},
   "source": [
    "#### **Otro Ejemplo:** \n",
    "\n",
    "La función `fibonacci` toma dos argumentos: un número entero `n` y un diccionario `memo`. La función devuelve el enésimo número de la secuencia de Fibonacci.\n",
    "\n",
    "La secuencia de Fibonacci es una secuencia de números en la que cada número es la suma de los dos números anteriores. La secuencia comienza con `0` y `1`.\n",
    "\n",
    "El diccionario `memo` se utiliza para almacenar los valores calculados de la función `fibonacci`\n",
    "\n",
    "Si `n` no es `0` ni `1`, la función verifica si su valor ya está almacenado en el diccionario `memo`. Si no está, calcula el valor utilizando la fórmula de Fibonacci y lo guarda en `memo`. Finalmente, devuelve el valor de `n` en `memo`."
   ]
  },
  {
   "cell_type": "code",
   "execution_count": null,
   "metadata": {},
   "outputs": [],
   "source": [
    "def fibonacci(n, memo={}):\n",
    "    # Caso base: si n es 0, el resultado es 0\n",
    "    if n == 0:\n",
    "        return 0\n",
    "    # Caso base: si n es 1, el resultado es 1\n",
    "    elif n == 1:\n",
    "        return 1\n",
    "    # Caso recursivo: si n no está en el diccionario memo, calculamos su valor\n",
    "    # utilizando la fórmula de Fibonacci (n-1) + (n-2)) y lo guardamos en memo\n",
    "    elif n not in memo:\n",
    "        memo[n] = fibonacci(n-1) + fibonacci(n-2)\n",
    "        print(memo)\n",
    "    # Regresamos el valor de n en el diccionario memo\n",
    "    return memo[n]\n",
    "\n",
    "n = 10  # número entero para el cual deseas calcular el valor de fibonacci\n",
    "result = fibonacci(n)  # calculamos el valor de fibonacci(n)\n",
    "print(result)  # mostramos el resultado"
   ]
  },
  {
   "cell_type": "markdown",
   "metadata": {},
   "source": [
    "--------------------------"
   ]
  },
  {
   "cell_type": "markdown",
   "metadata": {},
   "source": [
    "---------------------------------------------------------------------------------\n",
    "# **Funciones Lambda, Map, Filter & Reduce** \n",
    "---------------------------------------------------------------------------------"
   ]
  },
  {
   "cell_type": "markdown",
   "metadata": {},
   "source": [
    "---------------------------\n",
    "----------------------------\n",
    "## **Función Lambda**\n",
    "---------------------------\n",
    "----------------------------\n",
    "Una función lambda es una pequeña función anónima que se define utilizando la palabra clave `lambda`, en lugar de la palabra clave `def` como las funciones normales. Pueden tomar cualquier número de argumentos, pero solo pueden tener una expresión.\n",
    "\n",
    "Las funciones lambda pueden ser utilizadas en cualquier lugar donde se requiera un objeto de función. Están especialmente útiles al usar funciones `como filter()`, `map()`, y `reduce()`.\n",
    "\n",
    "#### **Las mejores prácticas al usar funciones lambda incluyen:**\n",
    "\n",
    "- Utilizarlas para funciones pequeñas y simples que solo se utilicen una o dos veces en su código.\n",
    "\n",
    "- Utilizarlas en combinación con funciones como filter(), map(), y reduce() para realizar tareas comunes de procesamiento de listas.\n",
    "\n",
    "- No utilizar funciones lambda si la función es larga o complicada. En ese caso, es mejor utilizar una función regular definida con la palabra clave def.\n",
    "\n",
    "#### ***Sintaxis:*** ***`lambda argumentos: expresion`***\n",
    "\n",
    "**En el siguiente ejemplo,** `lambda x: x ** 2` crea una nueva función anónima que toma un argumento `x` y devuelve su cuadrado. Luego asignamos esta función al variable `cuadrado` y la llamamos con el argumento `3`.\n",
    "\n",
    "#### **Ejemplo:** "
   ]
  },
  {
   "cell_type": "code",
   "execution_count": 14,
   "metadata": {},
   "outputs": [
    {
     "name": "stdout",
     "output_type": "stream",
     "text": [
      "9\n"
     ]
    }
   ],
   "source": [
    "cuadrado = lambda x: x ** 2\n",
    "print(cuadrado(3))  # Salida: 9"
   ]
  },
  {
   "cell_type": "markdown",
   "metadata": {},
   "source": [
    "---------------------------\n",
    "----------------------------\n",
    "## **Función Map**\n",
    "---------------------------\n",
    "----------------------------\n",
    "Es una función que aplica una función dada a cada elemento de una o más secuencias (como listas, tuplas o cadenas) e devuelve una nueva secuencia con los resultados.\n",
    "\n",
    "La función `map()` devuelve un iterador, por lo que si queremos obtener una lista con los resultados, podemos convertirlo usando el constructor `list()`.\n",
    "\n",
    "#### ***Sintaxis:*** ***`map(func, iter1, iter2, ...)`***\n",
    "**Donde:**\n",
    "\n",
    "- **`func:`** es la función a aplicar a cada elemento de las secuencias.\n",
    "  \n",
    "- **`iter1, iter2, ...:`** son las secuencias a iterar.\n",
    "\n",
    "\n",
    "**En el siguiente ejemplo,** usamos una función lambda anónima para elevar cada número al cuadrado. Luego, pasamos la función lambda y la lista numbers como argumentos de la función `map()`. Finalmente, convertimos el resultado en una lista usando el constructor `list()` y lo asignamos a la variable.\n",
    "\n",
    "#### **Ejemplo:** "
   ]
  },
  {
   "cell_type": "code",
   "execution_count": 15,
   "metadata": {},
   "outputs": [
    {
     "name": "stdout",
     "output_type": "stream",
     "text": [
      "[1, 4, 9, 16, 25]\n"
     ]
    }
   ],
   "source": [
    "numbers = [1, 2, 3, 4, 5]\n",
    "squares = list(map(lambda x: x ** 2, numbers))\n",
    "print(squares)  # Output: [1, 4, 9, 16, 25]"
   ]
  },
  {
   "cell_type": "markdown",
   "metadata": {},
   "source": [
    "#### **Otro Ejemplo:** \n",
    "\n",
    "**En el siguiente ejemplo,** usamos una función lambda anónima para multiplicar dos números. Luego, pasamos la función lambda y las dos listas como argumentos de la función `map()`. Finalmente, convertimos el resultado en una lista usando el constructor `list()` y lo asignamos a la variable `products`."
   ]
  },
  {
   "cell_type": "code",
   "execution_count": 16,
   "metadata": {},
   "outputs": [
    {
     "name": "stdout",
     "output_type": "stream",
     "text": [
      "[4, 10, 18]\n"
     ]
    }
   ],
   "source": [
    "numbers1 = [1, 2, 3]\n",
    "numbers2 = [4, 5, 6]\n",
    "products = list(map(lambda x, y: x * y, numbers1, numbers2))\n",
    "print(products)  # Output: [4, 10, 18]"
   ]
  },
  {
   "cell_type": "markdown",
   "metadata": {},
   "source": [
    "---------------------------\n",
    "----------------------------\n",
    "## **Función Filter**\n",
    "---------------------------\n",
    "----------------------------\n",
    "Se utiliza para filtrar elementos de una secuencia (como una lista, tupla o conjunto) según una función condicional. La función `filter()` devuelve un iterador que produce aquellos elementos de la secuencia para los cuales la función condicional devuelve `True`.\n",
    "\n",
    "#### ***Sintaxis:*** ***`filter(función_condicional, secuencia)`*** \n",
    "**Donde:**\n",
    "\n",
    "- **`función_condicional:`** Es una función que toma un elemento de la secuencia como argumento y devuelve True si el elemento debe incluirse en el resultado filtrado, o False en caso contrario.\n",
    "  \n",
    "- **`secuencia:`** Es la secuencia de elementos que se van a filtrar.\n",
    "\n",
    "#### **Ejemplo:** "
   ]
  },
  {
   "cell_type": "code",
   "execution_count": 17,
   "metadata": {},
   "outputs": [
    {
     "name": "stdout",
     "output_type": "stream",
     "text": [
      "[2, 4, 6, 8, 10]\n"
     ]
    }
   ],
   "source": [
    "# Definimos una función condicional para filtrar números pares\n",
    "def es_par(numero):\n",
    "    return numero % 2 == 0\n",
    "\n",
    "# Creamos una lista de números\n",
    "numeros = [1, 2, 3, 4, 5, 6, 7, 8, 9, 10]\n",
    "\n",
    "# Usamos filter() para filtrar los números pares\n",
    "numeros_pares = filter(es_par, numeros)\n",
    "\n",
    "# Convertimos el resultado en una lista\n",
    "numeros_pares_lista = list(numeros_pares)\n",
    "\n",
    "print(numeros_pares_lista)  # Output: [2, 4, 6, 8, 10]"
   ]
  },
  {
   "cell_type": "markdown",
   "metadata": {},
   "source": [
    "#### **Otro Ejemplo:** \n",
    "\n",
    "**En el siguiente ejemplo,** definimos una función `names_vowels()` que devuelve `True` si el primer carácter de la cadena está en `'aeiou'` y `False` en caso contrario. Luego, pasamos la función `names_vowels()` y la lista de nombres de criaturas como argumentos de la función `filter()`. Finalmente, convertimos el resultado en una lista usando el constructor `list()` y lo imprimimos."
   ]
  },
  {
   "cell_type": "code",
   "execution_count": 18,
   "metadata": {},
   "outputs": [
    {
     "name": "stdout",
     "output_type": "stream",
     "text": [
      "['Ashley', 'Olly']\n"
     ]
    }
   ],
   "source": [
    "# Definición de la lista de nombres\n",
    "creature_names = ['Sammy', 'Ashley', 'Jo', 'Olly', 'Jackie', 'Charlie']\n",
    "\n",
    "# Definición de la función que verifica si la primera letra es una vocal\n",
    "def names_vowels(x):\n",
    "    return x[0].lower() in 'aeiou'\n",
    "\n",
    "# Uso de filter() para filtrar nombres según la condición de names_vowels\n",
    "filtered_names = filter(names_vowels, creature_names)\n",
    "\n",
    "# Imprimir la lista de nombres filtrados\n",
    "print(list(filtered_names))"
   ]
  },
  {
   "cell_type": "markdown",
   "metadata": {},
   "source": [
    "#### **Ejemplo con Lambda:** \n",
    "**En el siguiente ejemplo,** utiliza la función `filter()` para eliminar los elementos `falsy` (falsos) de la lista `numbers` y luego convierte el resultado en una lista para su impresión.\n",
    "\n",
    "- **`\"falsy\"`** en Python (como `\"\"` y `None`).\n",
    "\n",
    "La salida contendrá solo los elementos que son considerados `\"truthy\"` en la lista original.\n",
    "\n",
    "- **`\"truthy\"`** (no falsos)"
   ]
  },
  {
   "cell_type": "code",
   "execution_count": 19,
   "metadata": {},
   "outputs": [
    {
     "name": "stdout",
     "output_type": "stream",
     "text": [
      "[1, 2, 3, 5]\n"
     ]
    }
   ],
   "source": [
    "# Lista original con números y valores falsy\n",
    "numbers = [0, 1, 2, 3, \"\", None, 5]\n",
    "\n",
    "# Utilizando filter() para eliminar valores falsy\n",
    "filtered_numbers = list(filter(None, numbers))\n",
    "\n",
    "# Imprimiendo la lista filtrada\n",
    "print(filtered_numbers)"
   ]
  },
  {
   "cell_type": "markdown",
   "metadata": {},
   "source": [
    "---------------------------\n",
    "----------------------------\n",
    "## **Función Reduce**\n",
    "---------------------------\n",
    "----------------------------\n",
    "La función `reduce()` es parte del módulo `functools` en Python y se utiliza para aplicar una función de manera acumulativa a los elementos de una secuencia (por ejemplo, una lista), de izquierda a derecha, de manera que reduce la secuencia a un solo valor.\n",
    "\n",
    "#### ***Sintaxis:*** ***`reduce(func, secuencia, inicial)`*** \n",
    "**Donde:**\n",
    "\n",
    "- **`func:`** La función que se aplicará de manera acumulativa a los elementos de la secuencia. Esta función debe tener dos argumentos y devolver un resultado.\n",
    "- \n",
    "- **`secuencia:`** La secuencia de elementos a reducir.\n",
    "- \n",
    "- **`inicial:`** (Opcional) El valor inicial para el acumulador. Si se proporciona, la función se aplicará primero al valor inicial y al primer elemento de la secuencia.\n",
    "\n",
    "**En el siguiente ejemplo,** `reduce()` toma la lista de números `[1, 2, 3, 4, 5]` y aplica la función `suma()` acumulativamente. La primera llamada a `suma()` será con los primeros dos elementos de la lista (`1` y `2`). Después, tomará ese resultado y lo sumará con el siguiente elemento de la lista (`3`). Este proceso continúa hasta que se ha aplicado la función a todos los elementos de la lista, reduciéndola a un solo valor."
   ]
  },
  {
   "cell_type": "code",
   "execution_count": 20,
   "metadata": {},
   "outputs": [
    {
     "name": "stdout",
     "output_type": "stream",
     "text": [
      "15\n"
     ]
    }
   ],
   "source": [
    "from functools import reduce\n",
    "\n",
    "# Función que suma dos números\n",
    "def suma(x, y):\n",
    "    return x + y\n",
    "\n",
    "# Lista de números\n",
    "numeros = [1, 2, 3, 4, 5]\n",
    "\n",
    "# Uso de reduce para aplicar la función de suma acumulativamente\n",
    "resultado = reduce(suma, numeros)\n",
    "\n",
    "print(resultado)"
   ]
  },
  {
   "cell_type": "markdown",
   "metadata": {},
   "source": [
    "#### **Otro Ejemplo:** \n",
    "\n",
    "**En el siguiente ejemplo,** se utiliza la función `reduce()` para encontrar el máximo común divisor de los números 12 y 16 utilizando el algoritmo de Euclides. El resultado impreso sería `4`, que es el máximo común divisor de 12 y 16. "
   ]
  },
  {
   "cell_type": "code",
   "execution_count": 21,
   "metadata": {},
   "outputs": [
    {
     "name": "stdout",
     "output_type": "stream",
     "text": [
      "4\n"
     ]
    }
   ],
   "source": [
    "from functools import reduce\n",
    "\n",
    "# Definición de la función gcd (máximo común divisor) usando recursión\n",
    "def gcd(a, b):\n",
    "    # Caso base: Si b es igual a 0, el máximo común divisor es a\n",
    "    return a if b == 0 else gcd(b, a % b)\n",
    "\n",
    "# Lista de números para los cuales se calculará el máximo común divisor\n",
    "numbers = [12, 16]\n",
    "\n",
    "# Uso de reduce para aplicar la función gcd acumulativamente a los números\n",
    "mvc = reduce(gcd, numbers)\n",
    "\n",
    "# Imprimir el máximo común divisor calculado\n",
    "print(mvc)"
   ]
  },
  {
   "cell_type": "markdown",
   "metadata": {},
   "source": [
    "#### **Ejemplo con Lambda:**  \n",
    "**En el siguiente ejemplo,** utiliza la función` reduce()` para encontrar el producto acumulativo de los números en la lista `[1, 2, 3, 4, 5]`. El resultado impreso será `120`, que es el producto de todos los números en la lista.\n",
    "\n",
    "El ***valor inicial*** ***`1`*** en la función `reduce()` significa que el acumulador comenzará con el valor 1 en lugar del primer elemento de la lista.\n",
    "\n",
    "En el ejemplo a continuación, el valor inicial `1` no cambia el resultado final, ya que el producto de una lista de números enteros positivos es el mismo independientemente de dónde comience el acumulador.\n",
    "\n",
    "Sin embargo, el ***valor inicial*** puede ser importante en otros casos. \n",
    "\n",
    "**Por ejemplo**, si la lista fuera `[0, 1, 2, 3, 4, 5]` y no se proporcionara un ***valor inicial***, el acumulador comenzaría con el primer elemento de la lista, que es `0`. En este caso, el resultado final sería 96, ya que cualquier cosa multiplicada por `0` es `0`. Sin embargo, si se proporciona un ***valor inicial*** de `1`, el resultado final será el producto de todos los números en la lista, excluyendo el `0`."
   ]
  },
  {
   "cell_type": "code",
   "execution_count": 22,
   "metadata": {},
   "outputs": [
    {
     "name": "stdout",
     "output_type": "stream",
     "text": [
      "120\n"
     ]
    }
   ],
   "source": [
    "from functools import reduce\n",
    "\n",
    "# Lista de números para calcular el producto\n",
    "numbers = [1, 2, 3, 4, 5]\n",
    "\n",
    "# Uso de reduce para calcular el producto acumulativamente\n",
    "# La función lambda toma dos argumentos x e y, y devuelve x * y\n",
    "# Se proporciona 1 como valor inicial para el producto\n",
    "product = reduce((lambda x, y: x * y), numbers, 1)\n",
    "\n",
    "# Imprimir el producto calculado\n",
    "print(product)"
   ]
  },
  {
   "cell_type": "markdown",
   "metadata": {},
   "source": [
    "---------------------------\n",
    "# **Objeto Iterador**\n",
    "---------------------------\n",
    "Un objeto iterador es un objeto que puede ser iterado (bucle) a través de sus elementos uno por uno. Los iteradores se utilizan para recorrer colecciones como listas, tuplas, conjuntos y diccionarios, permitiendo realizar operaciones en elementos individuales. Python proporciona iterables integrados y también permite crear iteradores personalizados.\n",
    "\n",
    "Los iteradores personalizados son particularmente útiles cuando se trabaja con conjuntos de datos grandes o recursos como archivos que deben ser procesados secuencialmente. Ellos permiten iterar de manera eficiente a través de los datos sin cargar toda la colección en la memoria al mismo tiempo.\n",
    "\n",
    "***Para crear un iterador personalizado, se deben implementar dos métodos especiales:***.\n",
    "\n",
    "- **El método `__iter__()`** debe devolver el objeto iterador.\n",
    "\n",
    "- **El método `__next__()`** debe devolver el siguiente elemento en la secuencia.\n",
    "\n",
    "**En el siguiente ejemplo,** la clase `Contador` tiene los métodos `__iter__()` y `__next__()`, lo que la convierte en un iterador. Cuando se crea una instancia de `Contador` y se itera a través de ella, devolverá los números de `1` a `5`, uno por uno.\n",
    "\n",
    "### **Ejemplo:**"
   ]
  },
  {
   "cell_type": "code",
   "execution_count": null,
   "metadata": {},
   "outputs": [],
   "source": [
    "# Definición de la clase Contador\n",
    "class Contador:\n",
    "    # Método constructor: inicializa el contador con el valor inicial y el valor final\n",
    "    def __init__(self, inicio, fin):\n",
    "        self.actual = inicio\n",
    "        self.fin = fin\n",
    "\n",
    "    # Método de iteración: devuelve el objeto iterador (en este caso, la propia instancia de la clase)\n",
    "    def __iter__(self):\n",
    "        return self\n",
    "\n",
    "    # Si no ha alcanzado el valor final, se devuelve el valor actual, y se incrementa el contador para la próxima llamada\n",
    "    def __next__(self):\n",
    "        if self.actual > self.fin:\n",
    "             # Si el contador ha alcanzado el valor final, se levanta la excepción StopIteration para indicar el fin de la iteración\n",
    "            raise StopIteration\n",
    "        else:\n",
    "            # Si no ha alcanzado el valor final, se devuelve el valor actual, y se incrementa el contador para la próxima llamada\n",
    "            resultado = self.actual\n",
    "            self.actual += 1\n",
    "            return resultado\n",
    "\n",
    "# Creación de una instancia de la clase Contador con valores iniciales 1 y 5\n",
    "iterador_contador = Contador(1, 5)\n",
    "\n",
    "# Iteración a través del objeto iterador_contador usando un bucle for\n",
    "for num in iterador_contador:\n",
    "    # Se imprime cada número en la secuencia generada por el contador\n",
    "    print(num)"
   ]
  },
  {
   "cell_type": "markdown",
   "metadata": {},
   "source": [
    "---------------------------\n",
    "# **Función Clousure**\n",
    "---------------------------\n",
    "Es una función definida dentro de otra función y puede acceder a las variables no globales y no locales (variables definidas en el ámbito de la función externa) incluso después de que la función externa haya completado su ejecución. La función cerrada \"cierra\" sobre las variables del ámbito externo y las lleva consigo cuando se devuelve, permitiendo que se sigan utilizando en el futuro.\n",
    "\n",
    "Las funciones Clousure pueden ser útiles para crear funciones que generan otras funciones con estados iniciales personalizados o para crear funciones que recuerden los valores de variables entre diferentes llamadas sin tener que usar variables globales.\n",
    "\n",
    "**Las funciones clousure funcionan de la siguiente manera en Python:**\n",
    "\n",
    "- Se define una función externa (en este caso, contador).\n",
    "  \n",
    "- Dentro de la función externa, se define una función interna (en este caso, incrementar).\n",
    "  \n",
    "- La función interna hace referencia a una variable no local (en este caso, inicio).\n",
    "\n",
    "- Se devuelve la función interna desde la función externa.\n",
    "\n",
    "- Se crean instancias de la función externa con diferentes valores iniciales para inicio.\n",
    "\n",
    "- Se llama a cada instancia de la función externa, lo que devuelve una función clousure diferente con un estado inicial diferente.\n",
    "\n",
    "- La función clousure puede ser llamada y modificar el valor de la variable no local inicio en el ámbito de la función externa, incluso después de que la función externa haya completado su ejecución\n",
    "\n",
    "**En el siguiente ejemplo,** la función `contador` devuelve una función clousure `incrementar` que \"cierra\" sobre la variable `inicio` y puede modificarla. Cada instancia de `contador` crea una función clousure diferente con un estado inicial diferente.\n",
    "\n",
    "### ***Ejemplo:***"
   ]
  },
  {
   "cell_type": "code",
   "execution_count": null,
   "metadata": {},
   "outputs": [],
   "source": [
    "def contador(inicio):\n",
    "    def incrementar():\n",
    "        nonlocal inicio\n",
    "        inicio += 1\n",
    "        return inicio\n",
    "    return incrementar\n",
    "\n",
    "# Crear una instancia de la función cerrada 'contador' con un valor inicial de 0\n",
    "contador_0 = contador(0)\n",
    "\n",
    "# Llamar a la función cerrada 'contador_0' para incrementar el valor inicial y devolverlo\n",
    "print(contador_0())  # Imprime 1\n",
    "print(contador_0())  # Imprime 2\n",
    "\n",
    "# Crear otra instancia de la función cerrada 'contador' con un valor inicial de 10\n",
    "contador_10 = contador(10)\n",
    "\n",
    "# Llamar a la función cerrada 'contador_10' para incrementar el valor inicial y devolverlo\n",
    "print(contador_10())  # Imprime 11\n",
    "print(contador_10())  # Imprime 12"
   ]
  },
  {
   "cell_type": "markdown",
   "metadata": {},
   "source": [
    "### ***Otro Ejemplo:***"
   ]
  },
  {
   "cell_type": "code",
   "execution_count": null,
   "metadata": {},
   "outputs": [],
   "source": [
    "def funcion_externa(x):\n",
    "    # Variables locales en la función externa\n",
    "    def funcion_interna(y):\n",
    "        return x + y\n",
    "    return funcion_interna\n",
    "\n",
    "# Creación de una instancia del cierre\n",
    "cierre_instance = funcion_externa(10)\n",
    "\n",
    "# Llamada al cierre con un nuevo argumento\n",
    "resultado = cierre_instance(5)\n",
    "\n",
    "# Output esperado: 15 (10 + 5)\n",
    "print(resultado)"
   ]
  },
  {
   "cell_type": "markdown",
   "metadata": {},
   "source": [
    "-------------------------\n",
    "# **Librerias**"
   ]
  },
  {
   "cell_type": "markdown",
   "metadata": {},
   "source": [
    "-------------------------\n",
    "--------------------------------------------------------------------------\n",
    "## **La biblioteca turtle**\n",
    "--------------------------------------------------------------------------\n",
    "--------------------------------------------------------------------------\n",
    "Es un entorno de programación gráfica que permite dibujar y crear animaciones utilizando tortugas como objetos gráficos. \n",
    "\n",
    "La biblioteca turtle se basa en la programación imperativa y orientada a objetos. Se puede controlar la tortuga dibujando figuras geométricas simples como líneas, cuadrados, círculos y polígonos, o creando animaciones más complejas mediante el uso de bucles y condicionales.\n",
    "\n",
    "### ***Ejemplo:***"
   ]
  },
  {
   "cell_type": "code",
   "execution_count": null,
   "metadata": {},
   "outputs": [],
   "source": [
    "import turtle\n",
    "\n",
    "# Crear una instancia de la tortuga\n",
    "t = turtle.Turtle()\n",
    "\n",
    "# Dibujar tres lados de un triángulo\n",
    "for _ in range(3):\n",
    "    t.forward(100)  # Mover la tortuga hacia adelante 100 unidades\n",
    "    t.right(120)   # Girar la tortuga 120 grados a la derecha\n",
    "\n",
    "# Esperar a que el usuario cierre la ventana\n",
    "turtle.done()"
   ]
  },
  {
   "cell_type": "markdown",
   "metadata": {},
   "source": [
    "En este ejemplo, la biblioteca `turtle` se importa y se crea una instancia de la tortuga. La tortuga se mueve hacia adelante y gira en diferentes ángulos para dibujar un triángulo. La función `turtle.done()` se utiliza para mantener la ventana abierta hasta que el usuario la cierre.\n",
    "\n",
    "\n",
    "---------------------------------------------------------------------------\n",
    "### ***Algunas funciones básicas incluyen:***\n",
    "---------------------------------------------------------------------------\n",
    "\n",
    "\n",
    "- **`forward(distancia):`** Mueve la tortuga hacia adelante.\n",
    "  \n",
    "- **`backward(distancia):`** Mueve la tortuga hacia atrás.\n",
    "  \n",
    "- **`left(ángulo):`** Gira la tortuga hacia la izquierda.\n",
    "  \n",
    "- **`right(ángulo):`** Gira la tortuga hacia la derecha.\n",
    "  \n",
    "- **`penup():`** Levanta el lápiz para dejar de dibujar.\n",
    "  \n",
    "- **`pendown():`** Baja el lápiz para empezar a dibujar.\n",
    "\n",
    "- También puedes controlar la apariencia de la ventana con funciones como **`turtle.title()`** y **`turtle.bgcolor()`**. Además, puedes cerrar la ventana haciendo clic en ella con **`turtle.exitonclick()`**."
   ]
  },
  {
   "cell_type": "markdown",
   "metadata": {},
   "source": [
    "-------------------------------------"
   ]
  },
  {
   "cell_type": "markdown",
   "metadata": {},
   "source": [
    "# **Implementación De Clase Que Implementa Vectores Bidemensionales**"
   ]
  },
  {
   "cell_type": "markdown",
   "metadata": {},
   "source": [
    "-----------------------\n",
    "-----------------------\n",
    "## **Explicación de la implementación:**\n",
    "-----------------------\n",
    "-----------------\n",
    "**1.** **`__init__:`** El método `__init__` es el constructor de la clase, que se llama al crear una nueva instancia de `Vector2D`. Toma dos parámetros, `x` e `y`, y los asigna como atributos de la instancia.\n",
    "\n",
    "**2.** **Operadores Sobrecargados `(__add__, __sub__, __mul__)`:** Estos métodos sobrecargan los operadores `+`, `-` y `*` para permitir operaciones entre instancias de `Vector2D`. Devuelven un nuevo objeto `Vector2D` resultado de la operación correspondiente.\n",
    "\n",
    "La sobrecarga de operadores es una característica que permite a las clases definir el comportamiento de los operadores aritméticos y de comparación cuando se utilizan con instancias de la clase.\n",
    "\n",
    "En el caso de la clase Vector2D, se sobrecargan los operadores `+`, `-` y `*` para realizar las operaciones vectoriales correspondientes.\n",
    "\n",
    "**3.** **`__str__:`** Este método sobrecargado permite imprimir instancias de Vector2D de una manera legible al utilizar la función `print()`.\n",
    "\n",
    "**4.** **`magnitude:`** Este método calcula la magnitud (longitud) del vector utilizando el teorema de Pitágoras.\n",
    "\n",
    "**5.** **Operaciones y Resultados:** Después de crear instancias de `Vector2D`, se realizan operaciones de suma, resta y multiplicación por escalar, y se imprimen los resultados."
   ]
  },
  {
   "cell_type": "code",
   "execution_count": 27,
   "metadata": {},
   "outputs": [
    {
     "name": "stdout",
     "output_type": "stream",
     "text": [
      "v1: Vector2D(3, 4)\n",
      "v2: Vector2D(-1, 2)\n",
      "Suma: Vector2D(2, 6)\n",
      "Diferencia: Vector2D(4, 2)\n",
      "Multiplicación por escalar: Vector2D(6, 8)\n",
      "Magnitud de v1: 5.0\n"
     ]
    }
   ],
   "source": [
    "import math\n",
    "\n",
    "class Vector2D:\n",
    "    def __init__(self, x, y):\n",
    "        self.x = x\n",
    "        self.y = y\n",
    "\n",
    "    def __add__(self, other):\n",
    "        \"\"\"Sobrecarga del operador de suma (+) para vectores.\"\"\"\n",
    "        return Vector2D(self.x + other.x, self.y + other.y)\n",
    "\n",
    "    def __sub__(self, other):\n",
    "        \"\"\"Sobrecarga del operador de resta (-) para vectores.\"\"\"\n",
    "        return Vector2D(self.x - other.x, self.y - other.y)\n",
    "\n",
    "    def __mul__(self, scalar):\n",
    "        \"\"\"Sobrecarga del operador de multiplicación (*) por un escalar.\"\"\"\n",
    "        return Vector2D(self.x * scalar, self.y * scalar)\n",
    "\n",
    "    def __str__(self):\n",
    "        \"\"\"Sobrecarga del método str para imprimir el vector de manera legible.\"\"\"\n",
    "        return f\"Vector2D({self.x}, {self.y})\"\n",
    "\n",
    "    def magnitude(self):\n",
    "        \"\"\"Calcula la magnitud (longitud) del vector.\"\"\"\n",
    "        return math.sqrt(self.x**2 + self.y**2)\n",
    "\n",
    "# Crear instancias de la clase Vector2D\n",
    "v1 = Vector2D(3, 4)\n",
    "v2 = Vector2D(-1, 2)\n",
    "\n",
    "# Operaciones con vectores\n",
    "sum_result = v1 + v2\n",
    "difference_result = v1 - v2\n",
    "scaled_result = v1 * 2\n",
    "\n",
    "# Imprimir resultados\n",
    "print(\"v1:\", v1)\n",
    "print(\"v2:\", v2)\n",
    "print(\"Suma:\", sum_result)\n",
    "print(\"Diferencia:\", difference_result)\n",
    "print(\"Multiplicación por escalar:\", scaled_result)\n",
    "\n",
    "# Magnitud de un vector\n",
    "magnitude_v1 = v1.magnitude()\n",
    "print(\"Magnitud de v1:\", magnitude_v1)\n"
   ]
  }
 ],
 "metadata": {
  "kernelspec": {
   "display_name": "SIC",
   "language": "python",
   "name": "python3"
  },
  "language_info": {
   "codemirror_mode": {
    "name": "ipython",
    "version": 3
   },
   "file_extension": ".py",
   "mimetype": "text/x-python",
   "name": "python",
   "nbconvert_exporter": "python",
   "pygments_lexer": "ipython3",
   "version": "3.9.7"
  }
 },
 "nbformat": 4,
 "nbformat_minor": 2
}
