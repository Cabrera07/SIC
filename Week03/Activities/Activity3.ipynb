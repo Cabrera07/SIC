{
 "cells": [
  {
   "cell_type": "markdown",
   "id": "5ad8356f",
   "metadata": {},
   "source": [
    "# **Actividades Capítulo 3.**\n",
    "# **Concepto básico de programación e inicio en Python**\n",
    "\n",
    "## ***Resumen de actividades***\n",
    "\n",
    "\n",
    "- **Unidad 17.** Función\n",
    "- **Unidad 18.** Llamada a la función de recurrencia.\n",
    "- **Unidad 19.** Lambda\n",
    "- **Unidad 20.** Clausura\n",
    "- **Unidad 21.** Clase\n"
   ]
  },
  {
   "cell_type": "markdown",
   "id": "8c5aa9c8",
   "metadata": {},
   "source": [
    "---------------------------------------------------------------------------------------------------------\n",
    "## ***Actividad: Creacion de funciones.***\n",
    "\n",
    "\n",
    "### **Instrucciones**\n",
    "\n",
    "1. Defina en forma breve el concepto de función.\n",
    "\n",
    "2. Crear una función para realizar la suma de los números impares en el rango de 0 a 100, dentro de la función imprima los valores sumados y al final retorne el resultado de la sumatoria."
   ]
  },
  {
   "cell_type": "markdown",
   "id": "f9695fd9",
   "metadata": {},
   "source": [
    "#### **Función**\n",
    "Es un bloque de código que realiza una tarea en específico y puede ser ejecutado o invocado desde otro lugar del programa, permitiendonos organizar y reutilizar código. "
   ]
  },
  {
   "cell_type": "code",
   "execution_count": 16,
   "id": "90cd2e33",
   "metadata": {},
   "outputs": [
    {
     "name": "stdout",
     "output_type": "stream",
     "text": [
      "2500\n"
     ]
    }
   ],
   "source": [
    "\n",
    "#Crear la función \n",
    "def suma_impares(num):\n",
    "    #Inicialización de varible en 0\n",
    "    suma = 0\n",
    "    #Iterar sobre todos los números en el rango num\n",
    "    for num in range(num):\n",
    "        #Verificar si el número actual es mpar \n",
    "        if num%2 != 0:\n",
    "            #Si lo es sumar el número a la varible suma\n",
    "            suma += num\n",
    "    #Imprimir el resultado de la suma de números impares\n",
    "    print(suma)\n",
    "#Llamar a la función suma_impares en el rango indicado\n",
    "suma_impares(101)\n",
    "\n"
   ]
  },
  {
   "cell_type": "markdown",
   "id": "4e08a474",
   "metadata": {},
   "source": [
    "--------------------------------------------------------------------------------------"
   ]
  },
  {
   "cell_type": "markdown",
   "id": "a11871f3",
   "metadata": {},
   "source": [
    "## ***Actividad: Diseñe una función para codificar strings y otra para decodificar strings.***\n",
    "\n",
    "1. Revise documentación relacionada a los procesos de encriptación, explique brevemente como funcionan.\n",
    "2. Ambas funciones deben tener como entrada un string y una \"Clave\", la \"Clave\" será usada para codificar y decodificar.\n",
    "3. El desarrollo de está actividad esta abierto a multiples soluciones, por favor sea original en su respuesta.\n"
   ]
  },
  {
   "cell_type": "markdown",
   "id": "6f3802a2",
   "metadata": {},
   "source": [
    "#### **Procesos de Encriptación**\n",
    "Es el proceso de convertir un mensaje claro en un mensaje cifrado usando una clave secreta. "
   ]
  },
  {
   "cell_type": "code",
   "execution_count": 9,
   "id": "1e7a5371",
   "metadata": {},
   "outputs": [
    {
     "name": "stdout",
     "output_type": "stream",
     "text": [
      "Texto descifrado: hi\n",
      "Proceso de descodificacion completado\n"
     ]
    }
   ],
   "source": [
    "#Crear función para codificar \n",
    "def codificar (texto, clave):\n",
    "    #Inicialización de cadena vacía \n",
    "    resultado = \"\"\n",
    "    #Iterar por cada carácter en el texto original \n",
    "    for i in range (len(texto)):\n",
    "        #Obtención del código ASCII del carácter actual \n",
    "        codigo = ord(texto[i])\n",
    "        #Aplicar el cifrado sumando la clave y se calcula el nuevo código ASCII\n",
    "        codigo_cif = (codigo + clave) % 128\n",
    "        #Convertir el nuevo código ASCII a carácter \n",
    "        texto_cif = chr(codigo_cif)\n",
    "        #El resultado es el carácter cifrado \n",
    "        resultado += texto_cif\n",
    "    #Retornar el resultado final del texto cifrado \n",
    "    return resultado\n",
    "\n",
    "#Crear función para decodificar \n",
    "def decodificar (texto_cif, clave):\n",
    "    #Inicialización de cadena vacía \n",
    "    resultado =\"\"\n",
    "    #Iterar por cada carácter en el texto cifrado \n",
    "    for i in range(len(texto_cif)):\n",
    "        #Obtención del código ASCII del carácter cifrado \n",
    "        codigo = ord(texto_cif[i])\n",
    "        #Aplicar el descifrado restando la clave y se calcula el código ASCII del texto original\n",
    "        codigo_desf = (codigo - clave) % 128\n",
    "        #Convertir el código ASCII a carácter \n",
    "        texto_desf = chr(codigo_desf)\n",
    "        #El resultado es el carácter descifrado\n",
    "        resultado += texto_desf\n",
    "    #Retornar el resultado final del texto descifrado \n",
    "    return resultado\n",
    "\n",
    "#Función para Codificar o decoficar texto       \n",
    "def decode_code():\n",
    "    #Pedir al Usuario si desea codifcar texto o decodificar \n",
    "    seleccion= int(input('\\t Ingrese (1) para codificar texto o (0) para decodificar texto: '))\n",
    "    \n",
    "    #Si desea codificar \n",
    "    if seleccion == 1:\n",
    "        #Pedir al usuario que ingrese el texto a encriptar \n",
    "        texto = input(\"Ingrese el texto a codificar: \")  \n",
    "        #Pedir al usuario que ingrese la clave \n",
    "        clave = int(input(\"Ingrese la clave: \"))\n",
    "        #Llamar a la función de codificar\n",
    "        texto_cifrado = codificar(texto, clave)\n",
    "        #Imprimir texto cifrado \n",
    "        print(\"Texto cifrado:\", texto_cifrado)\n",
    "        \n",
    "        #Pide al usuario si decodificar el texto recien codificado o no \n",
    "        seleccion2= int(input('\\t Si desea decodificar, ingrese (1). Si no lo desea, ingrese (0): '))\n",
    "        #Si desea decodificar \n",
    "        if seleccion2 == 1:\n",
    "            #Pedir al usuario que ingrese la clave del texto cifrado\n",
    "            clave = int(input(\"Ingrese la clave: \"))\n",
    "            #Llamar a la función decodificar\n",
    "            texto_descifrado = decodificar(texto_cifrado, clave)\n",
    "            #Imprimir texto decodificado \n",
    "            print(\"Texto decodificado:\", texto_descifrado)\n",
    "            print(\"Proceso de descodificacion completado\")\n",
    "        \n",
    "        #Si no desea decodificar \n",
    "        elif seleccion2 == 0:\n",
    "            print(\"Proceso de codificacion completado\")\n",
    "        \n",
    "        #Si selecciona un numero no valido\n",
    "        else:\n",
    "            print('Numero Invalido')\n",
    "    \n",
    "    #Si desea decodificar      \n",
    "    elif seleccion == 0:\n",
    "        #Pedir al usuario que ingrese el texto cifrado\n",
    "        texto_cifrado = input(\"Ingrese el texto a descodificar: \")  \n",
    "        #Pedir al usuario que ingrese la clave del texto cifrado\n",
    "        clave = int(input(\"Ingrese la clave: \"))\n",
    "        #Llamar a la función decodificar\n",
    "        texto_descifrado = decodificar(texto_cifrado, clave)\n",
    "        #Imprimir texto decodificado \n",
    "        print(\"Texto descifrado:\", texto_descifrado)\n",
    "        print(\"Proceso de descodificacion completado\")\n",
    "    \n",
    "    #Si selecciona un numero no valido\n",
    "    else:\n",
    "        print('Numero Invalido')\n",
    "\n",
    "#Llamada a la función    \n",
    "decode_code()"
   ]
  },
  {
   "cell_type": "markdown",
   "id": "276f5731",
   "metadata": {},
   "source": [
    "-----------------------------------------------------------------------------------------------"
   ]
  },
  {
   "cell_type": "markdown",
   "id": "a207d974",
   "metadata": {},
   "source": [
    "\n",
    "## ***Actividad: Diseñe y codifique una función.***\n",
    "\n",
    "1. Diseñe una función que revise el contenido de una carpeta, la mision de esta funcion es revisar todas las carpetas existentes y obtener los nombres de los archivos contenidos.\n",
    "2. Considere que dentro de cada carpete pueden existir otras carpetas.\n",
    "3. Todas las carpetas deben ser revisadas.\n",
    "4. Con la ejecucion de la siguiente celda se crearan las carpetas y los archivos.\n",
    "5. Es posible que debas considerar el uso de una función recursiva."
   ]
  },
  {
   "cell_type": "code",
   "execution_count": 1,
   "id": "c42fa7c6",
   "metadata": {},
   "outputs": [
    {
     "name": "stdout",
     "output_type": "stream",
     "text": [
      "Carpeta_principal\n",
      "ruta_del_archivo:  Carpeta_principal/archivo_0.text\n",
      "Carpeta_principal/folder_1\n",
      "ruta_del_archivo:  Carpeta_principal/archivo_1.text\n",
      "ruta_del_archivo:  Carpeta_principal/archivo_2.text\n",
      "Carpeta_principal/folder_4\n",
      "Carpeta_principal/folder_5\n",
      "ruta_del_archivo:  Carpeta_principal/archivo_3.text\n",
      "ruta_del_archivo:  Carpeta_principal/archivo_4.text\n",
      "Carpeta_principal\\folder_1\n",
      "ruta_del_archivo:  Carpeta_principal\\folder_1/archivo_5.text\n",
      "Carpeta_principal\\folder_1/folder_1\n",
      "Carpeta_principal\\folder_1/folder_2\n",
      "ruta_del_archivo:  Carpeta_principal\\folder_1/archivo_6.text\n",
      "Carpeta_principal\\folder_1\\folder_1\n",
      "Carpeta_principal\\folder_1\\folder_2\n",
      "ruta_del_archivo:  Carpeta_principal\\folder_1\\folder_2/archivo_7.text\n",
      "ruta_del_archivo:  Carpeta_principal\\folder_1\\folder_2/archivo_8.text\n",
      "ruta_del_archivo:  Carpeta_principal\\folder_1\\folder_2/archivo_9.text\n",
      "ruta_del_archivo:  Carpeta_principal\\folder_1\\folder_2/archivo_10.text\n",
      "ruta_del_archivo:  Carpeta_principal\\folder_1\\folder_2/archivo_11.text\n",
      "Carpeta_principal\\folder_1\\folder_2/folder_5\n",
      "ruta_del_archivo:  Carpeta_principal\\folder_1\\folder_2/archivo_12.text\n",
      "Carpeta_principal\\folder_1\\folder_2/folder_7\n",
      "ruta_del_archivo:  Carpeta_principal\\folder_1\\folder_2/archivo_13.text\n",
      "Carpeta_principal\\folder_1\\folder_2/folder_9\n",
      "ruta_del_archivo:  Carpeta_principal\\folder_1\\folder_2/archivo_14.text\n",
      "Carpeta_principal\\folder_1\\folder_2\\folder_5\n",
      "Carpeta_principal\\folder_1\\folder_2\\folder_7\n",
      "Carpeta_principal\\folder_1\\folder_2\\folder_9\n",
      "Carpeta_principal\\folder_4\n",
      "Carpeta_principal\\folder_5\n"
     ]
    }
   ],
   "source": [
    "import os\n",
    "import random\n",
    "\n",
    "def guardar_archivo(text_content, file_path):\n",
    "    with open(file_path, 'w') as file:\n",
    "        # Write the text content to the file\n",
    "        file.write(text_content)\n",
    "\n",
    "if os.path.exists(\"Carpeta_principal\"):\n",
    "    os.system(f'rm -r \"Carpeta_principal\"')\n",
    "\n",
    "os.mkdir(\"Carpeta_principal\")\n",
    "# Inicialización\n",
    "\n",
    "def crear_carpetas(ruta_actual):\n",
    "    global numeracion_del_archivo, numero_de_sub_carpetas\n",
    "    numero_de_archivos_o_carpetas = random.randint(0,15) # genración de numero aleatorio entre 0 y 15.\n",
    "    print(ruta_actual)\n",
    "    if numero_de_sub_carpetas < max_carpetas:\n",
    "        for n in range(0, numero_de_archivos_o_carpetas):\n",
    "\n",
    "            numero_aleatorio_2 = random.randint(0,2) # número aleatoria entre 0 y 1.\n",
    "            if numero_aleatorio_2 == 0:\n",
    "                os.mkdir(ruta_actual +'/'+ 'folder_{}'.format(n) )\n",
    "                print(ruta_actual +'/'+ 'folder_{}'.format(n))\n",
    "            else:\n",
    "                contenido_del_archivo = \"Contenido_{}\".format(numeracion_del_archivo)                \n",
    "                ruta_del_archivo = ruta_actual + '/' + \"archivo_{}.text\".format(numeracion_del_archivo)\n",
    "                print(\"ruta_del_archivo: \", ruta_del_archivo)\n",
    "                guardar_archivo(contenido_del_archivo, ruta_del_archivo)\n",
    "                numeracion_del_archivo += 1\n",
    "                \n",
    "        lista_de_nuevas_carpetas = [f.path for f in os.scandir(ruta_actual) if f.is_dir()] # Busqueda de nueva carpeta\n",
    "\n",
    "        numero_de_sub_carpetas += 1\n",
    "        for carpeta in lista_de_nuevas_carpetas:\n",
    "            crear_carpetas(carpeta)\n",
    "        \n",
    "max_carpetas = 4\n",
    "numeracion_del_archivo = 0\n",
    "numero_de_sub_carpetas = 0\n",
    "ruta_actual = \"Carpeta_principal\"\n",
    "crear_carpetas(ruta_actual)"
   ]
  },
  {
   "cell_type": "code",
   "execution_count": 2,
   "id": "c4236d8d",
   "metadata": {},
   "outputs": [
    {
     "name": "stdout",
     "output_type": "stream",
     "text": [
      "Nombre de los archivos encontrados: \n",
      " ['archivo_0.text', 'archivo_1.text', 'archivo_2.text', 'archivo_3.text', 'archivo_4.text', 'archivo_5.text', 'archivo_6.text', 'archivo_10.text', 'archivo_11.text', 'archivo_12.text', 'archivo_13.text', 'archivo_14.text', 'archivo_7.text', 'archivo_8.text', 'archivo_9.text']\n"
     ]
    }
   ],
   "source": [
    "#Importar libreria\n",
    "import os\n",
    "\n",
    "def nombre_archivos(ruta):\n",
    "    #Inicializar una lista vacía\n",
    "    archivos = []\n",
    "    \n",
    "    #Iterar sobre  cada elemento del directorio\n",
    "    for e in os.listdir(ruta):\n",
    "        #Crear la ruta completa del archivo \n",
    "        ruta_completa = os.path.join(ruta, e)\n",
    "        #Si la ruta corresponde a un archivo \n",
    "        if os.path.isfile(ruta_completa):\n",
    "            #Agregar a la lista de archivos \n",
    "            archivos.append(e)\n",
    "        #Si no, verificar si corresponde a una subcarpeta\n",
    "        elif os.path.isdir(ruta_completa):\n",
    "            #Para obtener los archivos de la subcarpeta \n",
    "            archivos.extend(nombre_archivos(ruta_completa))\n",
    "    #Devolvemos la lista de archivos encontrados \n",
    "    return archivos\n",
    "\n",
    "#Definimos la ruta inicial\n",
    "ruta_inicial = 'Carpeta_principal'\n",
    "#Amacenar los nombres de los archivos \n",
    "file_name = nombre_archivos(ruta_inicial)\n",
    "\n",
    "#Imprimir el nombre de los archivos \n",
    "print(\"Nombre de los archivos encontrados: \\n\", file_name)\n"
   ]
  },
  {
   "cell_type": "markdown",
   "id": "a0412446",
   "metadata": {},
   "source": [
    "------------------------------------------------------------------------------------"
   ]
  },
  {
   "cell_type": "markdown",
   "id": "26a6bb9e",
   "metadata": {},
   "source": [
    "## ***Actividad: Crear diccionarios y guardarlos como archivo JSON.***\n",
    "\n",
    "De la unidad 11 sección 4.6 revise el ejemplo mostrado.\n",
    "\n",
    "Genera un diccionario, sobre la información que deseas guardar como base de datos, desarrollo el código necesario para generar el archivo JSON, y también el código para cargar la información del archivo JSON.\n"
   ]
  },
  {
   "cell_type": "code",
   "execution_count": 4,
   "id": "6670eace",
   "metadata": {},
   "outputs": [
    {
     "name": "stdout",
     "output_type": "stream",
     "text": [
      "{'La Odisea': {'autor': 'Homero', 'año_publicacion': '800 a.C.'}, 'El arte de la guerra': {'autor': 'Sun Tzu', 'año_publicacion': '500 a.C.'}, 'Hamlet': {'autor': 'William Shakespeare', 'año_publicacion': 1603}, 'Matar a un ruiseñor': {'autor': 'Harper Lee', 'año_publicacion': 1960}, 'Padre rico, padre pobre': {'autor': 'Robert Kiyosaki', 'año_publicacion': 1997}}\n"
     ]
    }
   ],
   "source": [
    "#Importar libreria\n",
    "import json \n",
    "\n",
    "#Creamos el diccionario llamado Libros \n",
    "libros = {\n",
    "    \"La Odisea\": {\n",
    "        \"autor\": \"Homero\",\n",
    "        \"año_publicacion\": \"800 a.C.\"\n",
    "    },\n",
    "    \"El arte de la guerra\": {\n",
    "        \"autor\": \"Sun Tzu\",\n",
    "        \"año_publicacion\": \"500 a.C.\"\n",
    "    },\n",
    "    \"Hamlet\": {\n",
    "        \"autor\": \"William Shakespeare\",\n",
    "        \"año_publicacion\": 1603\n",
    "    },\n",
    "    \"Matar a un ruiseñor\": {\n",
    "        \"autor\": \"Harper Lee\",\n",
    "        \"año_publicacion\": 1960\n",
    "    },\n",
    "    \"Padre rico, padre pobre\": {\n",
    "        \"autor\": \"Robert Kiyosaki\",\n",
    "        \"año_publicacion\": 1997  \n",
    "    } \n",
    "}\n",
    "\n",
    "#Guardar el diccionario en un archivo JSON\n",
    "with open (\"libros.json\", \"w\") as f: \n",
    "    json.dump(libros, f)\n",
    "f.close()\n",
    "\n",
    "#Cargar la informacion del archivo JSON\n",
    "with open (\"libros.json\", \"r\") as f:\n",
    "    libros_cargados = json.load(f)\n",
    "f.close()\n",
    "\n",
    "#Imprimir el diccionario \n",
    "print(libros_cargados)"
   ]
  },
  {
   "cell_type": "markdown",
   "id": "ea0a99c8",
   "metadata": {},
   "source": [
    "----------------------------------------------------------------------------------------"
   ]
  },
  {
   "cell_type": "markdown",
   "id": "fbfb4985",
   "metadata": {},
   "source": [
    "# **Actividad: Uso de la funcion Lambda.**\n",
    "\n",
    "## Instrucciones\n",
    "\n",
    "1. Escriba una función regular donde se realice una operación.\n",
    "2. Escriba la misma función donde use la expresión lambda.\n",
    "3. Explica brevemente las ventajas de usar la función Lambda."
   ]
  },
  {
   "cell_type": "markdown",
   "id": "541e5321",
   "metadata": {},
   "source": [
    "#### **Ventajas de una Función Lambda:**\n",
    "\n",
    "- Son cortas y concisas, lo cual facilita su interpretación. \n",
    "- Se pueden anidar dentro de otras funciones. \n",
    "- Son ideales para tareas simples."
   ]
  },
  {
   "cell_type": "code",
   "execution_count": 9,
   "id": "fc5b1a43",
   "metadata": {},
   "outputs": [
    {
     "name": "stdout",
     "output_type": "stream",
     "text": [
      "Funcion Regular:\n",
      "Resultado de 2x13: 26 \n",
      "\n",
      "Funcion Lambda:\n",
      "Resultado de 2x13: 26 \n",
      "\n"
     ]
    }
   ],
   "source": [
    "#Crear función regular\n",
    "print(\"Funcion Regular:\") \n",
    "def multiplicacion(x,y):\n",
    "    return x*y\n",
    "#Imprimir el resultado de la función regular\n",
    "print(f\"Resultado de 2x13: {multiplicacion(2,13)} \\n\")\n",
    "\n",
    "#Crear función lambda\n",
    "print(\"Funcion Lambda:\")\n",
    "multiplication = lambda x, y: x * y\n",
    "#Imprimir el resultado de la función lambda\n",
    "print(f\"Resultado de 2x13: {multiplication(2,13)} \\n\")\n"
   ]
  },
  {
   "cell_type": "markdown",
   "id": "95369064",
   "metadata": {},
   "source": [
    "---------------------------------------------------------------------------------------------"
   ]
  },
  {
   "cell_type": "markdown",
   "id": "98938d2d",
   "metadata": {},
   "source": [
    "## **Actividad: Usar la función map para duplicar el valor de cada uno de los elementos contenidos.**\n",
    "\n",
    "## Instrucciones\n",
    "\n",
    "1. Describa brevemente el funcionamiento y las ventajas de usar la función map\n",
    "2. Escriba el código en el siguiente espacio."
   ]
  },
  {
   "cell_type": "code",
   "execution_count": 13,
   "id": "a35ef1b7",
   "metadata": {},
   "outputs": [
    {
     "name": "stdout",
     "output_type": "stream",
     "text": [
      " \t Funcion Regular: \n",
      "Duplicados: [2, 4, 6, 8, 10, 12, 14, 16] \n",
      "\n",
      " \t Funcion Lambda: \n",
      "Duplicados: [2, 4, 6, 8, 10, 12, 14, 16]\n"
     ]
    }
   ],
   "source": [
    "#Funcion regular para duplicar \n",
    "def duplicar(x):\n",
    "    return x * 2\n",
    "#Definir lista \n",
    "numeros = [1, 2, 3, 4, 5 , 6, 7, 8]\n",
    "#Aplicar a cada elemento la función \n",
    "duplicar_numeros = list(map(duplicar, numeros))\n",
    "\n",
    "#Imprimir resultado \n",
    "print(\" \\t Funcion Regular: \")\n",
    "print(f\"Duplicados: {duplicar_numeros} \\n\")\n",
    "\n",
    "#Función Lambda para duplicar \n",
    "#Definir lista\n",
    "numbers = [1, 2, 3, 4, 5 , 6, 7, 8]\n",
    "#Duplicamos cada elemento de la lista \n",
    "double_numbers = list(map(lambda x: x * 2, numbers))\n",
    "\n",
    "#Imprimir resultado \n",
    "print(\" \\t Funcion Lambda: \")\n",
    "print(f\"Duplicados: {double_numbers}\")\n"
   ]
  },
  {
   "cell_type": "markdown",
   "id": "82f27a2f",
   "metadata": {},
   "source": [
    "---------------------------------------------------------------"
   ]
  }
 ],
 "metadata": {
  "kernelspec": {
   "display_name": "Python 3 (ipykernel)",
   "language": "python",
   "name": "python3"
  },
  "language_info": {
   "codemirror_mode": {
    "name": "ipython",
    "version": 3
   },
   "file_extension": ".py",
   "mimetype": "text/x-python",
   "name": "python",
   "nbconvert_exporter": "python",
   "pygments_lexer": "ipython3",
   "version": "3.9.7"
  }
 },
 "nbformat": 4,
 "nbformat_minor": 5
}
