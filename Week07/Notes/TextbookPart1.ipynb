{
 "cells": [
  {
   "cell_type": "markdown",
   "metadata": {},
   "source": [
    "-------------------------------"
   ]
  },
  {
   "cell_type": "markdown",
   "metadata": {},
   "source": [
    "# **Tratamiento de Datos, Estadística descriptiva y Visualización de Datos**"
   ]
  },
  {
   "cell_type": "markdown",
   "metadata": {},
   "source": [
    "----------------------------------\n",
    "----------------------------------\n",
    "## **Biblioteca & Módulos**\n",
    "----------------------------------\n",
    "----------------------------------"
   ]
  },
  {
   "cell_type": "markdown",
   "metadata": {},
   "source": [
    "----------------------------------\n",
    "### ***Módulo***\n",
    "----------------------------------\n",
    "En Python, un módulo es un archivo de código fuente que contiene definiciones de funciones, clases y variables. Puede contener cualquier cosa que se pueda definir en Python, como por ejemplo, declaraciones de variables, definiciones de funciones, clases y otros objetos. Los módulos permiten organizar el código en unidades lógicas y reutilizables. Un módulo se puede importar en otro programa de Python usando la instrucción **`import`**."
   ]
  },
  {
   "cell_type": "markdown",
   "metadata": {},
   "source": [
    "----------------------------------\n",
    "### ***Biblioteca***\n",
    "----------------------------------\n",
    "Una biblioteca es una colección de módulos que se utilizan para proporcionar una funcionalidad específica. Una biblioteca puede contener uno o más módulos, y estos módulos se organizan en torno a una temática común. Por ejemplo, la biblioteca math de Python contiene módulos y funciones relacionadas con matemáticas."
   ]
  },
  {
   "cell_type": "markdown",
   "metadata": {},
   "source": [
    "----------------------------------\n",
    "### ***Tipos de Bibliotecas & Módulos***\n",
    "----------------------------------"
   ]
  },
  {
   "cell_type": "markdown",
   "metadata": {},
   "source": [
    "#### ***1. Módulos estándar:*** \n",
    "Son módulos que vienen incluidos con la distribución de Python. Algunos ejemplos de módulos estándar son math, sys, os, datetime, re y json.\n",
    "#### ***2. Módulos de terceros:*** \n",
    "Son módulos que han sido creados por desarrolladores de la comunidad de Python y se distribuyen a través de diferentes fuentes, como PyPI (Python Package Index). Algunos ejemplos de módulos de terceros son numpy, pandas, matplotlib, scikit-learn y requests.\n",
    "#### ***3. Paquetes:*** \n",
    "Son colecciones de módulos relacionados entre sí que se organizan en una estructura de directorios. Los paquetes permiten organizar el código de una manera más estructurada y permiten agrupar módulos relacionados entre sí. Algunos ejemplos de paquetes son django, flask, tornado y sqlalchemy.\n",
    "#### ***4. Bibliotecas:*** \n",
    "Son colecciones de módulos y paquetes que se utilizan para proporcionar una funcionalidad específica. Algunos ejemplos de bibliotecas son TensorFlow para aprendizaje automático, OpenCV para procesamiento de imágenes, NLTK para procesamiento de lenguaje natural y Django para desarrollo web."
   ]
  },
  {
   "cell_type": "markdown",
   "metadata": {},
   "source": [
    "----------------------------------\n",
    "### ***Utilizar Módulos***\n",
    "----------------------------------"
   ]
  },
  {
   "cell_type": "markdown",
   "metadata": {},
   "source": [
    "***En casos de que sólo se traiga un módulo***\n",
    "\n",
    "- **`import Nombre del módulo`**\n",
    "\n",
    "***En casos de múltiples módulo***\n",
    "\n",
    "- **`import Módulo Nombre1, Módulo Nombre2, Módulo Nombre3 ...`**\n",
    "  \n",
    "***Utilizar módulo en Variable***\n",
    "\n",
    "- **`NombreMódulo.Variable`**\n",
    "\n",
    "***Utilizar módulo en Función***\n",
    "- **`NombreMódulo.NombreFunción()`**\n",
    "\n",
    "***Utilizar módulo en Clase***\n",
    "\n",
    "- **`NombreMódulo.Clase()`**\n",
    "\n",
    "***Utilizar sólo una función específica del Módulo***\n",
    "- **`from Módulo import NombreFunción`**\n",
    "  \n",
    "- **`from Módulo import NombreClase`**\n",
    "  \n",
    "- **`from Módulo import NombreVariable`**\n",
    "\n",
    "***Para Abreviar nombre del Módulo***\n",
    "- **`import NombreMódulo as NombreMóduloDeseado(ldentificador)`**\n",
    "\n",
    "***Para Abreviar funciones, variables del Módulo***\n",
    "- **`from Módulo import Variable as Nombrel, Función as Nombre2, Clase as Nombre3`**"
   ]
  },
  {
   "cell_type": "markdown",
   "metadata": {},
   "source": [
    "----------------------------------\n",
    "### ***Funciones Típicas de Bicliotecas Estándar***\n",
    "----------------------------------"
   ]
  },
  {
   "cell_type": "markdown",
   "metadata": {},
   "source": [
    "- Módulos de fecha y hora\n",
    "  \n",
    "- Números y módulos matemáticos\n",
    "  \n",
    "- Módulos del sistema de archivos\n",
    "  \n",
    "- Módulos del sistema operativo\n",
    "  \n",
    "- Lectura y escritura de módulos de formato de datos como HTML, XMLy JSON\n",
    "  \n",
    "- Módulos de protocolo de Internet como HTTP, SMTPy FTP\n",
    "  \n",
    "- Módulos de datos multimedia como sonido y vídeo\n",
    "  \n",
    "- Módulos de información localizada, como convocatorias y fechas"
   ]
  },
  {
   "cell_type": "markdown",
   "metadata": {},
   "source": [
    "-------------------------------------\n",
    "-------------------------------------\n",
    "## **Ejemplos**\n",
    "-------------------------------------\n",
    "-------------------------------------"
   ]
  },
  {
   "cell_type": "markdown",
   "metadata": {},
   "source": [
    "----------------------------------\n",
    "### ***Ejemplo de Módulo, Biclioteca Estándar: Math***\n",
    "----------------------------------"
   ]
  },
  {
   "cell_type": "code",
   "execution_count": 1,
   "metadata": {},
   "outputs": [
    {
     "name": "stdout",
     "output_type": "stream",
     "text": [
      "4.0\n",
      "1.0\n"
     ]
    }
   ],
   "source": [
    "# Un módulo matemático, una de las bibliotecas estándar con funciones relacionadas con las matemáticas.\n",
    "import math \n",
    "\n",
    "# Ejemplo de utilización\n",
    "# Calcular la raíz cuadrada de 16\n",
    "raiz_cuadrada = math.sqrt(16)\n",
    "print(raiz_cuadrada)  # Imprime: 4.0\n",
    "\n",
    "# Calcular el seno de un ángulo en radianes\n",
    "seno = math.sin(math.pi / 2)\n",
    "print(seno)  # Imprime: 1.0"
   ]
  },
  {
   "cell_type": "code",
   "execution_count": 8,
   "metadata": {},
   "outputs": [
    {
     "data": {
      "text/plain": [
       "0.8414709848078965"
      ]
     },
     "execution_count": 8,
     "metadata": {},
     "output_type": "execute_result"
    }
   ],
   "source": [
    "# Importar función específica del módulo\n",
    "from math import sin\n",
    "\n",
    "# Se puede utilizar solo el nombre de la función sin poner math adelante \n",
    "sin(1)"
   ]
  },
  {
   "cell_type": "code",
   "execution_count": 10,
   "metadata": {},
   "outputs": [
    {
     "data": {
      "text/plain": [
       "1.5574077246549023"
      ]
     },
     "execution_count": 10,
     "metadata": {},
     "output_type": "execute_result"
    }
   ],
   "source": [
    "# Varias variables o funciones que desee utilizar en el módulo también se pueden utilizar en el siguiente formato\n",
    "from math import sin, cos, tan\n",
    "\n",
    "# Probamos las función \n",
    "tan(1)"
   ]
  },
  {
   "cell_type": "code",
   "execution_count": 11,
   "metadata": {},
   "outputs": [
    {
     "data": {
      "text/plain": [
       "0.5403023058681398"
      ]
     },
     "execution_count": 11,
     "metadata": {},
     "output_type": "execute_result"
    }
   ],
   "source": [
    "# Sin embargo, si es inconveniente usar el nombre del módulo delante, entonces puede codificar usando sólo el nombre\n",
    "# de la función. La función completa del módulo se puede traer utilizando la forma 'from NombreModulo import*'\n",
    "\n",
    "from math import*\n",
    "cos(1)"
   ]
  },
  {
   "cell_type": "code",
   "execution_count": 13,
   "metadata": {},
   "outputs": [
    {
     "data": {
      "text/plain": [
       "0.8414709848078965"
      ]
     },
     "execution_count": 13,
     "metadata": {},
     "output_type": "execute_result"
    }
   ],
   "source": [
    "# Para abreviar el nombre del módulo \n",
    "\n",
    "import math as m\n",
    "m.sin(1)"
   ]
  },
  {
   "cell_type": "code",
   "execution_count": 15,
   "metadata": {},
   "outputs": [
    {
     "data": {
      "text/plain": [
       "0.5403023058681398"
      ]
     },
     "execution_count": 15,
     "metadata": {},
     "output_type": "execute_result"
    }
   ],
   "source": [
    "# Para abreviar variables, funciones del módulo \n",
    "\n",
    "from math import sin as s, cos as c \n",
    "c(1)"
   ]
  },
  {
   "cell_type": "markdown",
   "metadata": {},
   "source": [
    "----------------------------------\n",
    "### ***Ejemplo de Módulo, Biclioteca Estándar: Ramdon***\n",
    "----------------------------------"
   ]
  },
  {
   "cell_type": "code",
   "execution_count": 17,
   "metadata": {},
   "outputs": [
    {
     "name": "stdout",
     "output_type": "stream",
     "text": [
      "0.9170327016913796\n",
      "0.801337143717333\n",
      "0.5398505407584712\n",
      "0.5884783752920915\n",
      "0.6985267068576347\n",
      "0.017494481127178663\n",
      "0.1934357066524376\n",
      "0.534177139420242\n",
      "0.8431654370477034\n",
      "0.9528076827049995\n"
     ]
    }
   ],
   "source": [
    "# Importamos el módulo 'random' para generar números aleatorios\n",
    "import random \n",
    "\n",
    "# Inicializamos una variable 'i' a 0\n",
    "i = 0 \n",
    "\n",
    "# Iteramos 10 veces\n",
    "for i in range(10):\n",
    "     # Generamos un número aleatorio entre 0 y 1 usando la función 'random.random()'\n",
    "    a = random.random()\n",
    "    # Imprimimos el número generado\n",
    "    print(a)"
   ]
  },
  {
   "cell_type": "code",
   "execution_count": 18,
   "metadata": {},
   "outputs": [
    {
     "name": "stdout",
     "output_type": "stream",
     "text": [
      "[8, 9, 15, 1, 13, 10]\n"
     ]
    }
   ],
   "source": [
    "# Importamos el módulo 'random'\n",
    "import random\n",
    "\n",
    "# Creamos una lista con los números del 1 al 15\n",
    "data = [1, 2, 3, 4, 5, 6, 7, 8, 9, 10, 11, 12, 13, 14, 15]\n",
    "\n",
    "# Generamos una muestra de 6 elementos diferentes de la lista 'data' usando la función 'random.sample()'\n",
    "a = random.sample(data, 6)\n",
    "\n",
    "# Imprimimos la muestra generada\n",
    "print(a) "
   ]
  },
  {
   "cell_type": "code",
   "execution_count": 20,
   "metadata": {},
   "outputs": [
    {
     "name": "stdout",
     "output_type": "stream",
     "text": [
      "Terrier\n"
     ]
    }
   ],
   "source": [
    "# Importamos el módulo 'random'\n",
    "import random   \n",
    "\n",
    "# Creamos una tupla con algunas razas de perros\n",
    "dog_list = ('Labrador Retriver', 'German Shepherd', 'Bulldog', 'Beagle', 'Terrier')\n",
    "\n",
    "# Seleccionamos una raza de perro al azar utilizando la función 'random.choice()'\n",
    "my_lovely_dog = random.choice(dog_list)\n",
    "\n",
    "# Imprimimos la raza de perro seleccionada en la consola\n",
    "print(my_lovely_dog)"
   ]
  },
  {
   "cell_type": "code",
   "execution_count": 22,
   "metadata": {},
   "outputs": [
    {
     "name": "stdout",
     "output_type": "stream",
     "text": [
      "42\n"
     ]
    }
   ],
   "source": [
    "# Importamos el módulo 'random'\n",
    "import random\n",
    "\n",
    "# Generamos un número entero aleatorio entre 1 y 100 utilizando la función 'random.randint()'\n",
    "x = random.randint(1, 100)\n",
    "\n",
    "# Imprimimos el número entero generado en la consola\n",
    "print(x)"
   ]
  },
  {
   "cell_type": "code",
   "execution_count": 23,
   "metadata": {},
   "outputs": [
    {
     "name": "stdout",
     "output_type": "stream",
     "text": [
      "15\n"
     ]
    }
   ],
   "source": [
    "# Importamos el módulo 'random'\n",
    "import random \n",
    "\n",
    "# Generamos un número entero aleatorio entre 1 y 99 (inclusive) con un incremento de 2 utilizando la \n",
    "# función 'random.randrange()'\n",
    "x = random.randrange(1, 100, 2)\n",
    "\n",
    "# Imprimimos el número entero generado en la consola\n",
    "print(x)"
   ]
  },
  {
   "cell_type": "markdown",
   "metadata": {},
   "source": [
    "----------------------------------\n",
    "### ***Ejemplo de Módulo, Biclioteca Estándar: Time***\n",
    "----------------------------------"
   ]
  },
  {
   "cell_type": "code",
   "execution_count": 25,
   "metadata": {},
   "outputs": [
    {
     "name": "stdout",
     "output_type": "stream",
     "text": [
      "Hello 1\n"
     ]
    },
    {
     "name": "stdout",
     "output_type": "stream",
     "text": [
      "Hello 2\n",
      "Hello 3\n",
      "Hello 4\n",
      "Hello 5\n",
      "Hello 6\n",
      "Hello 7\n",
      "Hello 8\n",
      "Hello 9\n",
      "Hello 10\n"
     ]
    }
   ],
   "source": [
    "# Importamos el módulo 'time'\n",
    "import time\n",
    "\n",
    "# Iteramos 10 veces utilizando un bucle 'for'\n",
    "for i in range(10):\n",
    "\n",
    "    # Imprimimos un mensaje en la consola con el número de iteración actual\n",
    "    print('Hello', i+1)\n",
    "\n",
    "    # Pausamos la ejecución del programa por un segundo utilizando la función 'time.sleep()'\n",
    "    time.sleep(1)"
   ]
  },
  {
   "cell_type": "code",
   "execution_count": 31,
   "metadata": {},
   "outputs": [
    {
     "name": "stdout",
     "output_type": "stream",
     "text": [
      "1709858379.9518757\n",
      "Thu Mar  7 19:39:39 2024\n"
     ]
    }
   ],
   "source": [
    "# Importamos el módulo 'time'\n",
    "import time\n",
    "\n",
    "# Guardamos el tiempo actual en segundos desde el inicio del Unix Epoch \n",
    "# (1 de enero de 1970) utilizando la función 'time.time()'\n",
    "a = time.time()\n",
    "\n",
    "# Guardamos la fecha y hora actuales utilizando la función 'time.ctime()'\n",
    "b = time.ctime()\n",
    "\n",
    "# Imprimimos los valores de 'a' y 'b' en la consola\n",
    "print(a)\n",
    "print(b)"
   ]
  },
  {
   "cell_type": "code",
   "execution_count": 30,
   "metadata": {},
   "outputs": [
    {
     "name": "stdout",
     "output_type": "stream",
     "text": [
      "Thu Mar  7 19:38:35 2024\n"
     ]
    },
    {
     "name": "stdout",
     "output_type": "stream",
     "text": [
      "Thu Mar  7 19:38:36 2024\n",
      "Thu Mar  7 19:38:37 2024\n",
      "Thu Mar  7 19:38:38 2024\n",
      "Thu Mar  7 19:38:39 2024\n",
      "Thu Mar  7 19:38:40 2024\n",
      "Thu Mar  7 19:38:41 2024\n",
      "Thu Mar  7 19:38:42 2024\n",
      "Thu Mar  7 19:38:43 2024\n",
      "Thu Mar  7 19:38:44 2024\n"
     ]
    }
   ],
   "source": [
    "# Importamos el módulo 'time'\n",
    "import time\n",
    "\n",
    "# Iteramos 10 veces utilizando un bucle 'for'\n",
    "for i in range(10):\n",
    "\n",
    "    # Pausamos la ejecución del programa por un segundo utilizando la función 'time.sleep()'\n",
    "    time.sleep(1)\n",
    "\n",
    "    # Guardamos la fecha y hora actuales utilizando la función 'time.ctime()'\n",
    "    current_time = time.ctime()\n",
    "\n",
    "    # Imprimimos la fecha y hora actuales en la consola\n",
    "    print(current_time)"
   ]
  },
  {
   "cell_type": "code",
   "execution_count": 36,
   "metadata": {},
   "outputs": [
    {
     "name": "stdout",
     "output_type": "stream",
     "text": [
      "Fri, 08, Mar, 2024, 00:52:45 +0000\n"
     ]
    }
   ],
   "source": [
    "# Importamos las funciones 'gmtime()' y 'strftime()' desde el módulo 'time'\n",
    "from time import gmtime, strftime\n",
    "\n",
    "# Obtenemos la fecha y hora actuales en tiempo universal coordinado \n",
    "# (UTC) como un objeto 'struct_time' utilizando la función 'gmtime()'\n",
    "utc_time = gmtime()\n",
    "\n",
    "# Formateamos la fecha y hora actuales en tiempo universal coordinado \n",
    "# (UTC) como una cadena de texto utilizando la función 'strftime()'\n",
    "formatted_utc_time = strftime('%a, %d, %b, %Y, %H:%M:%S +0000', utc_time)\n",
    "\n",
    "# Imprimimos la cadena de texto formateada en la consola\n",
    "print(formatted_utc_time)"
   ]
  },
  {
   "cell_type": "code",
   "execution_count": 35,
   "metadata": {},
   "outputs": [
    {
     "name": "stdout",
     "output_type": "stream",
     "text": [
      "Thu, 07, Mar, 2024, 19:51:00 +0000\n"
     ]
    }
   ],
   "source": [
    "# Importamos las funciones 'localtime()' y 'strftime()' desde el módulo 'time'\n",
    "from time import localtime, strftime\n",
    "\n",
    "# Obtenemos la fecha y hora actuales como un objeto 'struct_time' \n",
    "# utilizando la función 'localtime()'\n",
    "current_time = localtime()\n",
    "\n",
    "# Formateamos la fecha y hora actuales como una cadena de texto utilizando la \n",
    "# función 'strftime()'\n",
    "formatted_time = strftime('%a, %d, %b, %Y, %H:%M:%S +0000', current_time)\n",
    "\n",
    "# Imprimimos la cadena de texto formateada en la consola\n",
    "print(formatted_time)"
   ]
  },
  {
   "cell_type": "markdown",
   "metadata": {},
   "source": [
    "----------------------------------\n",
    "### ***Ejemplo de Módulo, Biclioteca Estándar: Datetime***\n",
    "----------------------------------"
   ]
  },
  {
   "cell_type": "code",
   "execution_count": 37,
   "metadata": {},
   "outputs": [
    {
     "name": "stdout",
     "output_type": "stream",
     "text": [
      "2024-03-07\n",
      "2024 year\n",
      "3 month\n",
      "7 day\n"
     ]
    }
   ],
   "source": [
    "# Importamos el módulo 'datetime'\n",
    "import datetime\n",
    "\n",
    "# Obtenemos la fecha actual utilizando la función 'date.today()' de la clase 'date' del módulo 'datetime'\n",
    "today = datetime.date.today()\n",
    "\n",
    "# Imprimimos la fecha actual en formato 'AAAA-MM-DD'\n",
    "print(today)\n",
    "\n",
    "# Imprimimos el año de la fecha actual utilizando el atributo 'year' \n",
    "print(today.year, 'year')\n",
    "\n",
    "# Imprimimos el mes de la fecha actual utilizando el atributo 'month' \n",
    "print(today.month, 'month')\n",
    "\n",
    "# Imprimimos el día de la fecha actual utilizando el atributo 'day' \n",
    "print(today.day, 'day')"
   ]
  },
  {
   "cell_type": "code",
   "execution_count": 40,
   "metadata": {},
   "outputs": [
    {
     "name": "stdout",
     "output_type": "stream",
     "text": [
      "2024-03-07 20:17:21.651927\n",
      "2024 year\n",
      "3 month\n",
      "7 day\n",
      "20 day\n",
      "17 day\n",
      "21 day\n"
     ]
    }
   ],
   "source": [
    "# Importamos el módulo 'datetime'\n",
    "import datetime\n",
    "\n",
    "now = datetime.datetime.now()\n",
    "\n",
    "# Imprimimos la fecha actual en formato 'AAAA-MM-DD'\n",
    "print(now)\n",
    "\n",
    "# Imprimimos el año de la fecha actual utilizando el atributo 'year' \n",
    "print(now.year, 'year')\n",
    "\n",
    "# Imprimimos el mes de la fecha actual utilizando el atributo 'month' \n",
    "print(now.month, 'month')\n",
    "\n",
    "# Imprimimos el día de la fecha actual utilizando el atributo 'day' \n",
    "print(now.day, 'day')\n",
    "\n",
    "# Imprimimos el día de la fecha actual utilizando el atributo 'hour' \n",
    "print(now.hour, 'day')\n",
    "\n",
    "# Imprimimos el día de la fecha actual utilizando el atributo 'minute' \n",
    "print(now.minute, 'day')\n",
    "\n",
    "# Imprimimos el día de la fecha actual utilizando el atributo 'second' \n",
    "print(now.second, 'day')"
   ]
  },
  {
   "cell_type": "code",
   "execution_count": 39,
   "metadata": {},
   "outputs": [
    {
     "name": "stdout",
     "output_type": "stream",
     "text": [
      "2000-06-02 00:00:00\n"
     ]
    }
   ],
   "source": [
    "# Importamos la clase 'timedelta' desde el módulo 'datetime'\n",
    "from datetime import timedelta\n",
    "\n",
    "# Crear objeto datetime especificando la fecha\n",
    "d = datetime.datetime(2000, 5, 3)\n",
    "\n",
    "# Creamos un objeto 'timedelta' especificando 30 días\n",
    "delta = datetime.timedelta(days = 30)\n",
    "\n",
    "# Sumamos el objeto 'timedelta' al objeto 'datetime' y lo imprimimos en la consola\n",
    "print(d + delta)"
   ]
  },
  {
   "cell_type": "code",
   "execution_count": 41,
   "metadata": {},
   "outputs": [
    {
     "name": "stdout",
     "output_type": "stream",
     "text": [
      "2024-03-07 20:20:27.911085\n",
      "2024-12-30 20:20:27.911085\n"
     ]
    }
   ],
   "source": [
    "# Importamos la clase 'datetime' desde el módulo 'datetime'\n",
    "from datetime import datetime \n",
    "\n",
    "# Obtenemos la fecha y hora actuales utilizando el método 'now()' de la clase 'datetime'\n",
    "now = datetime.now()\n",
    "\n",
    "# Imprimimos la fecha y hora actuales en la consola\n",
    "print(now)\n",
    "\n",
    "# Creamos un nuevo objeto 'datetime' utilizando el método 'replace()' de la clase 'datetime'\n",
    "# Especificamos el mes como diciembre (12) y el día como el 30\n",
    "replace_time = now.replace(month = 12, day = 30)\n",
    "\n",
    "# Imprimimos el nuevo objeto 'datetime' en la consola\n",
    "print(replace_time)\n"
   ]
  },
  {
   "cell_type": "markdown",
   "metadata": {},
   "source": [
    "----------------------------------\n",
    "### ***Ejemplo de Módulo, Biclioteca Estándar: OS***\n",
    "----------------------------------"
   ]
  },
  {
   "cell_type": "markdown",
   "metadata": {},
   "source": [
    "**Crear Carpeta:**\n",
    "```\n",
    "import os\n",
    "\n",
    "# Crear una carpeta llamada 'nueva_carpeta' en la ruta actual\n",
    "os.mkdir('nueva_carpeta')\n",
    "```"
   ]
  },
  {
   "cell_type": "markdown",
   "metadata": {},
   "source": [
    "**Eliminar una carpeta:**\n",
    "```\n",
    "import os\n",
    "\n",
    "# Eliminar la carpeta llamada 'nueva_carpeta' en la ruta actual\n",
    "os.rmdir('nueva_carpeta')\n",
    "```"
   ]
  },
  {
   "cell_type": "markdown",
   "metadata": {},
   "source": [
    "**Obtener la ruta actual:**\n",
    "```\n",
    "import os\n",
    "\n",
    "# Obtener la ruta actual\n",
    "current_path = os.getcwd()\n",
    "\n",
    "# Imprimir la ruta actual en la consola\n",
    "print(current_path)\n",
    "```"
   ]
  },
  {
   "cell_type": "markdown",
   "metadata": {},
   "source": [
    "**Consultar la lista de archivos y directorios:**\n",
    "```\n",
    "import os\n",
    "\n",
    "# Obtener la lista de archivos y directorios en la ruta actual\n",
    "files_and_dirs = os.listdir()\n",
    "\n",
    "# Imprimir la lista de archivos y directorios en la consola\n",
    "print(files_and_dirs)\n",
    "```"
   ]
  },
  {
   "cell_type": "markdown",
   "metadata": {},
   "source": [
    "----------------------------------\n",
    "### ***Ejemplo de Módulo, Biclioteca Externa***\n",
    "----------------------------------"
   ]
  },
  {
   "cell_type": "code",
   "execution_count": 2,
   "metadata": {},
   "outputs": [
    {
     "name": "stdout",
     "output_type": "stream",
     "text": [
      "Collecting chart\n",
      "  Downloading chart-0.2.3.tar.gz (5.5 kB)\n",
      "  Installing build dependencies: started\n",
      "  Installing build dependencies: finished with status 'done'\n",
      "  Getting requirements to build wheel: started\n",
      "  Getting requirements to build wheel: finished with status 'done'\n",
      "  Installing backend dependencies: started\n",
      "  Installing backend dependencies: finished with status 'done'\n",
      "  Preparing metadata (pyproject.toml): started\n",
      "  Preparing metadata (pyproject.toml): finished with status 'done'\n",
      "Building wheels for collected packages: chart\n",
      "  Building wheel for chart (pyproject.toml): started\n",
      "  Building wheel for chart (pyproject.toml): finished with status 'done'\n",
      "  Created wheel for chart: filename=chart-0.2.3-py3-none-any.whl size=6957 sha256=75e916816f5fd62ac004964b94723d3e34923896d942f34b21543f69141aca8b\n",
      "  Stored in directory: c:\\users\\cabre\\appdata\\local\\pip\\cache\\wheels\\96\\ca\\e1\\5cc83c59b53b96fec2f061fa414899f23345c8c7de846cc8eb\n",
      "Successfully built chart\n",
      "Installing collected packages: chart\n",
      "Successfully installed chart-0.2.3\n"
     ]
    }
   ],
   "source": [
    "# Instalación de Biblioteca desde Jupyter \n",
    "import sys\n",
    "!{sys.executable} -m pip install chart"
   ]
  },
  {
   "cell_type": "code",
   "execution_count": null,
   "metadata": {},
   "outputs": [],
   "source": [
    "# Observar versión instalada \n",
    "import chart \n",
    "chart.__version__"
   ]
  },
  {
   "cell_type": "code",
   "execution_count": 7,
   "metadata": {},
   "outputs": [
    {
     "name": "stdout",
     "output_type": "stream",
     "text": [
      "▇        \n",
      "▇        \n",
      "▇        \n",
      "▇        \n",
      "▇ ▇      \n",
      "▇ ▇      \n",
      "▇ ▇      \n",
      "▇ ▇     ▇\n",
      "▇ ▇     ▇\n",
      "▇ ▇   ▇ ▇\n",
      "\n"
     ]
    }
   ],
   "source": [
    "# Uso del Módulo, Bibliotea \n",
    "\n",
    "# Importe la biblioteca externa que ha instalado mediante el comando import.\n",
    "import chart\n",
    "\n",
    "x = [1, 2, 4, 3, 3, 1, 7, 9, 9, 1, 3, 2, 1, 2]\n",
    "\n",
    "# Utilice histogram(x), que genera un gráfico de histograma (una de las funciones de la biblioteca de gráficos).\n",
    "chart.histogram(x)\n"
   ]
  },
  {
   "cell_type": "markdown",
   "metadata": {},
   "source": [
    "---------------\n",
    "### ***Creación de Módulo Propio***\n",
    "------------------------------------------"
   ]
  },
  {
   "cell_type": "markdown",
   "metadata": {},
   "source": [
    "**mi_modulo.py**\n",
    "\n",
    " ```\n",
    "def saludar(nombre):\n",
    "    return f\"Hola, {nombre}!\"\n",
    "\n",
    "PI = 3.1416\n",
    "```\n",
    "\n",
    "**otro_script.py**\n",
    "\n",
    "```\n",
    "import mi_modulo\n",
    "\n",
    "print(mi_modulo.saludar(\"Juan\"))\n",
    "print(f\"El valor de PI es: {mi_modulo.PI}\")\n",
    "```"
   ]
  }
 ],
 "metadata": {
  "kernelspec": {
   "display_name": "SicVenv",
   "language": "python",
   "name": "python3"
  },
  "language_info": {
   "codemirror_mode": {
    "name": "ipython",
    "version": 3
   },
   "file_extension": ".py",
   "mimetype": "text/x-python",
   "name": "python",
   "nbconvert_exporter": "python",
   "pygments_lexer": "ipython3",
   "version": "3.9.7"
  }
 },
 "nbformat": 4,
 "nbformat_minor": 2
}
