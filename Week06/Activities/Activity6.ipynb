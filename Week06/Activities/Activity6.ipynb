{
 "cells": [
  {
   "cell_type": "markdown",
   "id": "49909eb6",
   "metadata": {},
   "source": [
    "# **Actividades Capítulo 6.** **Algoritmos de clasificación.**\n",
    "\n",
    "## ***Resumen de actividades***\n",
    "\n",
    "- **Unidad 30.** Enfoque Greedy algoritmos voraces o ávidos.\n",
    "- **Unidad 31.** Divide y vencerás\n",
    "- **Unidad 32.** Programación dinámica\n",
    "- **Unidad 33.** Retroceso\n"
   ]
  },
  {
   "cell_type": "markdown",
   "id": "ad304b9e",
   "metadata": {},
   "source": [
    "----"
   ]
  },
  {
   "cell_type": "markdown",
   "id": "780f0fff",
   "metadata": {},
   "source": [
    "# **Actividad: Algoritmos Greedy.**\n",
    "\n",
    "\n",
    "## ***Instrucciones***\n",
    "\n",
    "1. Explique brevemente y en forma clara qué es un algoritmo Greedy y como funciona..\n",
    "\n",
    "2. Enumera algunas ventajas.\n",
    "\n",
    "3. Enumera algunas desventajas.\n",
    "\n",
    "4. Escriba el código desarrollado con el enfoque Greeddy para el problema de cambio de monedas, haga diferentes pruebas cambian las entradas (recuerde que las entrada de este algoritmo son las monedas disponibles y la cantida que se desea cubrir, con estas entradas el algoritmo debe retornar la combinación de monedas que cubre el monto solicitado, minimizando la cantidad de monedas usadas)\n",
    "\n",
    "5. Ahora pruebe los resultados con siguientes entradas: monedas_disponibles = [11, 5, 1] para cubrir la cantidad de 15, observe los resultados, haga algunas analísis de lo que pasaria con esta combinación de entradas.\n"
   ]
  },
  {
   "cell_type": "markdown",
   "id": "e6cba9e0",
   "metadata": {},
   "source": [
    "--------"
   ]
  },
  {
   "cell_type": "markdown",
   "id": "98447b1b",
   "metadata": {},
   "source": [
    "#### **Algoritmo Greedy**\n",
    "Es un tipo de algoritmo de búsqueda local que toma decisiones localmente óptimas en cada paso en el intento de encontrar una solución globalmente óptima.\n",
    "\n",
    "##### ***Ventajas:***\n",
    "1. Suelen ser rápidos y eficientes.\n",
    "2. Su implementación puede ser más sencilla en comparacion a otros enfoques. \n",
    "\n",
    "##### ***Desventajas:***\n",
    "1. No garantiza la solución óptima global\n",
    "2. No es adecuado para todos los problemas"
   ]
  },
  {
   "cell_type": "code",
   "execution_count": 9,
   "id": "21a779a5",
   "metadata": {},
   "outputs": [
    {
     "name": "stdout",
     "output_type": "stream",
     "text": [
      "El cambio de 15 es: \n",
      " [11, 1, 1, 1, 1]\n"
     ]
    }
   ],
   "source": [
    "# Funcion que realiza cambio de monedas\n",
    "def coin_change (coins, amount):\n",
    "    # Lista vacía para agregar solución \n",
    "    changes = [] \n",
    "    largest = 0 \n",
    "    \n",
    "    # Verificar las monedas necesarias para el cambio \n",
    "    # Y agregarlas a las lista vacía \n",
    "    while amount > 0:\n",
    "        if coins [largest] <= amount: \n",
    "            changes.append(coins[largest])\n",
    "            amount -=coins[largest]\n",
    "        else: \n",
    "            largest +=1\n",
    "    return changes\n",
    "\n",
    "# Las monedas que pueden ser posibles soluciones \n",
    "coins = [11, 5, 1]\n",
    "amount = int(input('Ingrese el valor que desee cambiar: '))\n",
    "changes = coin_change(coins, amount)\n",
    "print(f'El cambio de {amount} es: \\n {changes}')"
   ]
  },
  {
   "cell_type": "markdown",
   "id": "3d445833",
   "metadata": {},
   "source": [
    "-------"
   ]
  },
  {
   "cell_type": "markdown",
   "id": "89395b47",
   "metadata": {},
   "source": [
    "# **Actividad: Replique el código de la búsqueda de la trayectoria triangular mínima.**\n",
    "\n",
    "\n",
    "## ***Instrucciones***\n",
    "\n",
    "\n",
    "1. Replique el código mostrado en la unidad 31.\n",
    "\n",
    "2. Analice el código replicado y agregue una explicíon sonbre su funcionamiento.\n",
    "\n",
    "3. Haga diferentes pruebas cambiando la entrada.\n"
   ]
  },
  {
   "cell_type": "code",
   "execution_count": 8,
   "id": "d446e273",
   "metadata": {},
   "outputs": [
    {
     "name": "stdout",
     "output_type": "stream",
     "text": [
      "The minimun cost is 11\n",
      "The minimum cost for triangle2 is 14\n"
     ]
    }
   ],
   "source": [
    "\n",
    "def find_minimun(row, col, triangle):\n",
    "    # Si hemos alcanzado la última fila, regresamos 0\n",
    "    if row == len(triangle):\n",
    "        return 0\n",
    "    else:\n",
    "        # Calculamos el mínimo de los dos caminos posibles hacia abajo\n",
    "        minimun = min(find_minimun(row +1, col, triangle),\n",
    "                      find_minimun(row +1, col +1, triangle))\n",
    "        \n",
    "        # Sumamos el valor actual del triángulo al mínimo calculado\n",
    "        return triangle[row][col] + minimun\n",
    "\n",
    "# Triángulo de ejemplo\n",
    "triangle = [\n",
    "    [2],\n",
    "    [3, 4],\n",
    "    [6, 5, 7],\n",
    "    [4, 1, 8, 3]\n",
    "]   \n",
    "\n",
    "# Llamamos a la función con la posición inicial (0, 0) y el triángulo dado\n",
    "minimun = find_minimun(0, 0, triangle)\n",
    "\n",
    "# Imprimimos el resultado\n",
    "print(\"The minimun cost is\", minimun)\n",
    "\n",
    "# Otro triángulo de ejemplo\n",
    "triangle2 = [\n",
    "    [1],\n",
    "    [2, 3],\n",
    "    [4, 5, 6],\n",
    "    [7, 8, 9, 10]\n",
    "]\n",
    "\n",
    "# Llamamos a la función con la posición inicial (0, 0) y el nuevo triángulo\n",
    "minimum2 = find_minimun(0, 0, triangle2)\n",
    "\n",
    "# Imprimimos el resultado\n",
    "print(\"The minimum cost for triangle2 is\", minimum2)\n",
    "\n"
   ]
  },
  {
   "cell_type": "markdown",
   "id": "46107979",
   "metadata": {},
   "source": [
    "---------------------"
   ]
  },
  {
   "cell_type": "markdown",
   "id": "881569fc",
   "metadata": {},
   "source": [
    "# **Actividad: Búsqueda binaria con iteración.**\n",
    "\n",
    "\n",
    "## ***Instrucciones***\n",
    "\n",
    "\n",
    "1. Replique el código mostrado en la unidad 31.\n",
    "\n",
    "2. Analice el código replicado y agregue una explicíon sonbre su funcionamiento.\n",
    "\n",
    "3. Explique por qué es necesario usar usar una función recursiva.\n",
    "\n",
    "4. Haga diferentes pruebas cambiando la entrada.\n"
   ]
  },
  {
   "cell_type": "code",
   "execution_count": 7,
   "id": "0b1f525d",
   "metadata": {},
   "outputs": [
    {
     "name": "stdout",
     "output_type": "stream",
     "text": [
      "11 se encuentra en la posición 5 de la lista.\n"
     ]
    }
   ],
   "source": [
    "def bin_search2(nums, x, low, high):\n",
    "    # Si el rango de búsqueda está vacío, el valor objetivo no se encuentra en la lista\n",
    "    if low > high:\n",
    "        return -1\n",
    "    \n",
    "    else:\n",
    "        # Calcular el índice medio del rango de búsqueda\n",
    "        mid = (low + high)//2\n",
    "        \n",
    "        # Verificar si el elemento en el índice medio es igual al valor buscado\n",
    "        if nums[mid] == x:\n",
    "            # Si es igual, devolver el índice medio como resultado\n",
    "            return mid\n",
    "        \n",
    "        # Si el elemento en el índice medio es mayor que el valor buscado\n",
    "        elif nums[mid]>x:\n",
    "            # Llamar recursivamente a la función con el rango ajustado a la mitad izquierda\n",
    "            return bin_search2(nums, x, low, mid -1)\n",
    "        \n",
    "        # Si el elemento en el índice medio es menor que el valor buscado\n",
    "        else:\n",
    "            # Llamar recursivamente a la función con el rango ajustado a la mitad derecha\n",
    "            return bin_search2(nums, x, mid +1, high)\n",
    "         \n",
    " \n",
    "# Crear una lista de números enteros\n",
    "nums = [1, 3, 5, 7, 9, 11, 13, 15, 17, 19]\n",
    "\n",
    "# Buscar un valor objetivo en la lista\n",
    "x = 11\n",
    "\n",
    "# Inicializar low y high \n",
    "low, high = 0, len(nums) - 1\n",
    "\n",
    "# Llamar a la función bin_search\n",
    "result = bin_search2(nums, x, low, high)\n",
    "\n",
    "# Imprimir el resultado\n",
    "if result == -1:\n",
    "    print(f\"{x} no se encuentra en la lista.\")\n",
    "else:\n",
    "    print(f\"{x} se encuentra en la posición {result} de la lista.\")\n"
   ]
  },
  {
   "cell_type": "markdown",
   "id": "01a9fa4e",
   "metadata": {},
   "source": [
    "#### ***Respuesta:***\n",
    "La recursión es necesaria en este caso porque la búsqueda binaria involucra dividir repetidamente el rango de búsqueda a la mitad hasta encontrar el valor objetivo o determinar que el valor no está presente en la lista. "
   ]
  },
  {
   "cell_type": "markdown",
   "id": "ae959b83",
   "metadata": {},
   "source": [
    "------------------------"
   ]
  },
  {
   "cell_type": "markdown",
   "id": "1087c522",
   "metadata": {},
   "source": [
    "# **Actividad: Comparación entre programación dinámica y la metodología divide y venceras.**\n",
    "\n",
    "\n",
    "## ***Instrucciones***\n",
    "\n",
    "\n",
    "**1**.  **Enumera las diferencias entre los dos efoques.**\n",
    "- La programación dinámica resuelve problemas mediante la descomposición del problema en subproblemas más pequeños y almacena las soluciones a esos subproblemas en una tabla para evitar recalcularlos. Por otro lado, el enfoque divide y venceras resuelve problemas dividiéndolos en subproblemas más pequeños y resolviéndolos recursivamente sin almacenar las soluciones intermedias.\n",
    "  \n",
    "- La programación dinámica requiere más memoria para almacenar las tablas de soluciones intermedias, mientras que el enfoque divide y venceras solo requiere memoria suficiente para mantener el estado de la recursión.\n",
    "  \n",
    "- La programación dinámica puede ser más eficiente en términos de tiempo de ejecución, especialmente para problemas con una gran cantidad de subproblemas intermedios, ya que evita recalcularlos. Por otro lado, el enfoque divide y venceras puede ser más eficiente para problemas con una pequeña cantidad de subproblemas intermedios.\n",
    "\n",
    "\n",
    "**2**. **Nombre algunos casos donde funcionam mejor la programación dinámica.**\n",
    "- Problemas con una gran cantidad de subproblemas intermedios que se repiten frecuentemente, como el problema de la mochila o el problema del multiplicar matrices.\n",
    "\n",
    "- Problemas donde el tiempo de ejecución es un factor crítico y se pueden reducir los tiempos de ejecución mediante el almacenamiento de soluciones intermedias, como el problema de la multiplicación rápida de matrices.\n",
    "\n",
    "\n",
    "**3**. **Nombre ejemplos donde es suficiente usar el enfoque divide y venceras.**\n",
    "\n",
    "- Problemas donde el número de subproblemas intermedios es pequeño y no se repiten frecuentemente, como el problema de la búsqueda binaria o el problema del máximo subarreglo contiguo.\n",
    "\n",
    "- Problemas donde el tiempo de ejecución no es un factor crítico y se pueden aceptar tiempos de ejecución más largos a cambio de una implementación más sencilla, como el problema de la torre de Hanoi o el problema del conteo de monedas."
   ]
  },
  {
   "cell_type": "markdown",
   "id": "0f900a56",
   "metadata": {},
   "source": [
    "-------"
   ]
  }
 ],
 "metadata": {
  "kernelspec": {
   "display_name": "Python 3 (ipykernel)",
   "language": "python",
   "name": "python3"
  },
  "language_info": {
   "codemirror_mode": {
    "name": "ipython",
    "version": 3
   },
   "file_extension": ".py",
   "mimetype": "text/x-python",
   "name": "python",
   "nbconvert_exporter": "python",
   "pygments_lexer": "ipython3",
   "version": "3.9.7"
  }
 },
 "nbformat": 4,
 "nbformat_minor": 5
}
