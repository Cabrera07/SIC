{
 "cells": [
  {
   "cell_type": "markdown",
   "id": "49909eb6",
   "metadata": {},
   "source": [
    "# **Coding and Programming**\n",
    "\n",
    "## ***Capítulo 6***\n",
    "\n",
    "### ***Resolución de problemas con algoritmos***\n",
    "\n",
    "- **Unidad 30.** Enfoque Greedy algoritmos voraces o ávidos.\n",
    "- **Unidad 31.** Divide y vencerás\n",
    "- **Unidad 32.** Programación dinámica\n",
    "- **Unidad 33.** Backtracking\n"
   ]
  },
  {
   "cell_type": "markdown",
   "id": "2e42031a",
   "metadata": {},
   "source": [
    "___"
   ]
  },
  {
   "cell_type": "markdown",
   "id": "780f0fff",
   "metadata": {},
   "source": [
    "## ***Q 30-01***\n",
    "\n",
    "Este es el problema del intercambio de monedas.\n",
    "\n",
    "Tienes una moneda de 400 wones.\n",
    "\n",
    "Escriba el resultado de cómo el algoritmo `coin_change()` determina el cambio de la moneda de 800 wones.\n",
    "```\n",
    "coins  = [500, 400, 100, 50, 10]\n",
    "amount = int(input(\"Ingrese la cantidad: \"))\n",
    "changes= coin_change(coins, amount)\n",
    "print(changes, len(changes))\n",
    "\n",
    "Ingrese la cantidad: 800\n",
    "```"
   ]
  },
  {
   "cell_type": "code",
   "execution_count": 21,
   "id": "5bd0ae38",
   "metadata": {},
   "outputs": [
    {
     "name": "stdout",
     "output_type": "stream",
     "text": [
      "El cambio de 800 es: \n",
      " [500, 100, 100, 100]\n"
     ]
    }
   ],
   "source": [
    "# Funcion que realiza cambio de monedas\n",
    "def coin_change (coins, amount):\n",
    "    # Lista vacía para agregar solución \n",
    "    changes = [] \n",
    "    largest = 0 \n",
    "    \n",
    "    # Verificar las monedas necesarias para el cambio \n",
    "    # Y agregarlas a las lista vacía \n",
    "    while amount > 0:\n",
    "        if coins [largest] <= amount: \n",
    "            changes.append(coins[largest])\n",
    "            amount -=coins[largest]\n",
    "        else: \n",
    "            largest +=1\n",
    "    return changes\n",
    "\n",
    "# Las monedas que pueden ser posibles soluciones \n",
    "coins = [500, 400, 100, 50, 10]\n",
    "amount = int(input('Ingrese el valor que desee cambiar: '))\n",
    "changes = coin_change(coins, amount)\n",
    "print(f'El cambio de {amount} es: \\n {changes}')"
   ]
  },
  {
   "cell_type": "markdown",
   "id": "ca15d3cf",
   "metadata": {},
   "source": [
    "___"
   ]
  },
  {
   "cell_type": "markdown",
   "id": "89395b47",
   "metadata": {},
   "source": [
    "## ***Q 31-01***\n",
    "\n",
    "Tienes 8 monedas idénticas numeradas del 1 al 8. De estas, solo una moneda es más pesada que la otra.\n",
    "\n",
    "Suponiendo que puede pesar monedas con una balanza equilibrada, diseñe un algoritmo que encuentre la moneda más pesada.\n",
    "\n",
    "En este momento, ¿cuántas veces se debe usar al menos la balanza?"
   ]
  },
  {
   "cell_type": "code",
   "execution_count": 18,
   "id": "84d2aa87",
   "metadata": {},
   "outputs": [
    {
     "name": "stdout",
     "output_type": "stream",
     "text": [
      "La moneda más pesada es la número 8\n",
      "Se encontro el resultado en 3 iteraciones\n"
     ]
    }
   ],
   "source": [
    "# Función principal que llama a la función recursiva 'hevy_coin'\n",
    "def heviest_coin(monedas):\n",
    "    result, counter = hevy_coin(monedas, 0, len(monedas) - 1)\n",
    "    return result + 1, counter\n",
    "\n",
    "# Función recursiva para encontrar la moneda más pesada\n",
    "def hevy_coin(coins, left, right, counter=0):\n",
    "    if left == right:\n",
    "        return left, counter\n",
    "\n",
    "    # Si solo hay una moneda en el rango, esa es la más pesada\n",
    "    middle = (left + right) // 2 \n",
    "\n",
    "    # Comparar los pesos de los dos grupos resultantes de dividir las monedas en dos mitades\n",
    "    if weigh(coins[left:middle], coins[middle:right+ +2]) > 0:\n",
    "        # Si el grupo izquierdo es más pesado, llamar recursivamente a la función en el lado izquierdo\n",
    "        result, count = hevy_coin(coins, left, middle - 1, counter +1)\n",
    "    else:\n",
    "        # Si el grupo derecho es más pesado o tienen el mismo peso, llamar recursivamente a la función en el lado derecho\n",
    "        result, count = hevy_coin(coins, middle+1, right, counter +1)\n",
    "\n",
    "    return result, count \n",
    "\n",
    "# Función que calcula la diferencia de peso entre dos grupos de monedas\n",
    "def weigh(left_group, right_group):\n",
    "    left_weight = sum(left_group)\n",
    "    right_weight = sum(right_group)\n",
    "    return left_weight - right_weight\n",
    "\n",
    "# Definir una lista de monedas\n",
    "monedas = [1, 2, 3, 4, 5, 6, 7, 8]  \n",
    "\n",
    "# Encontrar la moneda más pesada\n",
    "resultado, counter  = heviest_coin(monedas)\n",
    "\n",
    "# Imprimir el resultado\n",
    "print(f\"La moneda más pesada es la número {resultado}\")\n",
    "print(f'Se encontro el resultado en {counter} iteraciones')\n"
   ]
  },
  {
   "cell_type": "markdown",
   "id": "9c37e736",
   "metadata": {},
   "source": [
    "___"
   ]
  },
  {
   "cell_type": "markdown",
   "id": "6f047403",
   "metadata": {},
   "source": [
    "## ***Q 31-02***\n",
    "\n",
    "Hay nueve monedas idénticas numeradas del 1 al 9 en el problema anterior.\n",
    "\n",
    "Diseñe un algoritmo para encontrar una moneda pesada en este caso.\n",
    "\n",
    "En este momento, ¿cuántas veces se debe usar al menos la balanza?"
   ]
  },
  {
   "cell_type": "code",
   "execution_count": 17,
   "id": "ed53dca2",
   "metadata": {},
   "outputs": [
    {
     "name": "stdout",
     "output_type": "stream",
     "text": [
      "La moneda más pesada es la número 9\n",
      "Se encontro el resultado en 3 iteraciones\n"
     ]
    }
   ],
   "source": [
    "# Función principal que llama a la función recursiva 'hevy_coin'\n",
    "def heviest_coin(monedas):\n",
    "    result, counter = hevy_coin(monedas, 0, len(monedas) - 1)\n",
    "    return result + 1, counter\n",
    "\n",
    "# Función recursiva que utiliza el enfoque de \"divide y vencerás\" para encontrar la moneda más pesada\n",
    "def hevy_coin(coins, left, right, counter=0):\n",
    "    if left == right:\n",
    "        return left, counter\n",
    "\n",
    "    # Si solo hay una moneda en el rango, esa es la más pesada\n",
    "    middle = (left + right) // 2 \n",
    "\n",
    "    # Comparar los pesos de los dos grupos resultantes de dividir las monedas en dos mitades\n",
    "    if weigh(coins[left:middle], coins[middle:right+ +2]) > 0:\n",
    "        # Si el grupo izquierdo es más pesado, llamar recursivamente a la función en el lado izquierdo\n",
    "        result, count = hevy_coin(coins, left, middle - 1, counter +1)\n",
    "    else:\n",
    "        # Si el grupo derecho es más pesado o tienen el mismo peso, llamar recursivamente a la función en el lado derecho\n",
    "        result, count = hevy_coin(coins, middle+1, right, counter +1)\n",
    "\n",
    "    return result, count  # Añadir esta línea para devolver el resultado y el contador\n",
    "\n",
    "# Función que calcula la diferencia de peso entre dos grupos de monedas\n",
    "def weigh(left_group, right_group):\n",
    "    left_weight = sum(left_group)\n",
    "    right_weight = sum(right_group)\n",
    "    return left_weight - right_weight\n",
    "\n",
    "# Crear una lista de monedas\n",
    "monedas = [1, 2, 3, 4, 5, 6, 7, 8, 9]  \n",
    "\n",
    "# Encontrar la moneda más pesada\n",
    "resultado, counter  = heviest_coin(monedas)\n",
    "\n",
    "# Imprimir el resultado\n",
    "print(f\"La moneda más pesada es la número {resultado}\")\n",
    "print(f'Se encontro el resultado en {counter} iteraciones')"
   ]
  },
  {
   "cell_type": "markdown",
   "id": "0453c475",
   "metadata": {},
   "source": [
    "___"
   ]
  },
  {
   "cell_type": "markdown",
   "id": "881569fc",
   "metadata": {},
   "source": [
    "## ***Q 32-01***\n",
    "\n",
    "Analice el resultado de la ejecución del siguiente código y compárelo con el rendimiento de las funciones `fib1()`, `fib2()` y `fib3()`.\n",
    "```\n",
    "def fib4(n):\n",
    "    if n <= 1:\n",
    "        return n\n",
    "    else:\n",
    "        a,b = 0,1\n",
    "        for i in range(2, n + 1):\n",
    "            a,b = b,a+b\n",
    "        return b\n",
    "\n",
    "N = int(input(\"Ingrese un numero: \"))\n",
    "print(fib4(N))\n",
    "\n",
    "\n",
    "Ingrese un numero:\n",
    "```\n"
   ]
  },
  {
   "cell_type": "code",
   "execution_count": 16,
   "id": "8e1c3fe6",
   "metadata": {},
   "outputs": [
    {
     "name": "stdout",
     "output_type": "stream",
     "text": [
      "55\n"
     ]
    }
   ],
   "source": [
    "def fib1(n):\n",
    "    if n == 0 or n == 1:\n",
    "        return n \n",
    "    else: \n",
    "        return fib1(n-1) + fib1(n-2)\n",
    "    \n",
    "N = int(input(\"Ingrese un numero: \"))\n",
    "print(fib1(N))"
   ]
  },
  {
   "cell_type": "code",
   "execution_count": 15,
   "id": "1bfaaa73",
   "metadata": {},
   "outputs": [
    {
     "name": "stdout",
     "output_type": "stream",
     "text": [
      "55\n"
     ]
    }
   ],
   "source": [
    "F = {0: 0, 1: 1}\n",
    "\n",
    "def fib2(n):\n",
    "    if n in F:\n",
    "        return F[n]\n",
    "    else: \n",
    "        F[n] = fib2(n-1)+ fib2(n-2)\n",
    "        return F[n]\n",
    "    \n",
    "N = int(input(\"Ingrese un numero: \"))\n",
    "print(fib1(N))"
   ]
  },
  {
   "cell_type": "code",
   "execution_count": 14,
   "id": "2a0df7c9",
   "metadata": {},
   "outputs": [
    {
     "name": "stdout",
     "output_type": "stream",
     "text": [
      "55\n"
     ]
    }
   ],
   "source": [
    "def fib3(F, n):\n",
    "    if n <=1:\n",
    "        return F[n]\n",
    "    else: \n",
    "        if F[n] < 0:\n",
    "            F[n] = fib3(F, n-1)+ fib3(F, n-2)\n",
    "        return F[n]\n",
    "    \n",
    "N = int(input(\"Ingrese un numero: \"))\n",
    "F = [0, 1] + [-1] * (N-1)\n",
    "print(fib3(F, N))\n"
   ]
  },
  {
   "cell_type": "code",
   "execution_count": 13,
   "id": "774efc2f",
   "metadata": {},
   "outputs": [
    {
     "name": "stdout",
     "output_type": "stream",
     "text": [
      "55\n"
     ]
    }
   ],
   "source": [
    "def fib4(n):\n",
    "    if n <= 1:\n",
    "        return n\n",
    "    else:\n",
    "        a,b = 0,1\n",
    "        for i in range(2, n + 1):\n",
    "            a,b = b,a+b\n",
    "        return b\n",
    "\n",
    "N = int(input(\"Ingrese un numero: \"))\n",
    "print(fib4(N))"
   ]
  },
  {
   "cell_type": "markdown",
   "id": "e2deb108",
   "metadata": {},
   "source": [
    "####  **Respuesta:**\n",
    "\n",
    "- **`fib1():`** Es el mas lento e incrementa a medida que el numero aumenta.\n",
    "  \n",
    "- **`fib2() y fib3():`** Son más eficientes en comparacion a `fib1()` aunque puede llegar ser lento y consumir mucha memoria con valores más grandes.\n",
    "\n",
    "- **`fib4():`** Es el más eficiente con respecto a rendimiento y memoria. \n"
   ]
  },
  {
   "cell_type": "markdown",
   "id": "60d998bd",
   "metadata": {},
   "source": [
    "___"
   ]
  },
  {
   "cell_type": "markdown",
   "id": "1087c522",
   "metadata": {},
   "source": [
    "## ***Q 32-02***\n",
    "\n",
    "Analice el resultado de la ejecución del siguiente código y compárelo con el rendimiento de las funciones `bin1()` y `bin2()`.\n",
    "```\n",
    "def bin3(n,k):\n",
    "    B = [0] * (n + 1)\n",
    "    for i in range(n + 1):\n",
    "        for j in range(n, -1, -1):\n",
    "            if j==0 or j==i:\n",
    "                B[j] = 1\n",
    "            else:\n",
    "                B[j] = B[j] B[j-1]\n",
    "    return B[k]\n",
    "\n",
    "\n",
    "for i in range(10):\n",
    "    for j in range(i+1):\n",
    "        print(bin3(i,j),end=\" \")\n",
    "    print()\n",
    "```"
   ]
  },
  {
   "cell_type": "code",
   "execution_count": 9,
   "id": "8cb953a4",
   "metadata": {},
   "outputs": [
    {
     "name": "stdout",
     "output_type": "stream",
     "text": [
      "Binomial(5, 3) es 10\n"
     ]
    }
   ],
   "source": [
    "def bin1(n, k):\n",
    "    if k == 0 or n == k:\n",
    "        return 1\n",
    "    else:\n",
    "        return bin1(n-1, k-1) + bin1(n -1, k)\n",
    "    \n",
    "n = int(input('Ingrese el valor de n: '))\n",
    "k = int(input('Ingrese el valor de k: '))\n",
    "print(f'Binomial({n}, {k}) es {bin1(n, k)}')"
   ]
  },
  {
   "cell_type": "code",
   "execution_count": 12,
   "id": "0e56c1de",
   "metadata": {},
   "outputs": [
    {
     "name": "stdout",
     "output_type": "stream",
     "text": [
      "Binomial(5, 3) es 10\n"
     ]
    }
   ],
   "source": [
    "def bin2(n, k):\n",
    "    B = [[0] * (i + 1) for i in range(n + 1)]\n",
    "\n",
    "    for i in range (n + 1):\n",
    "        for j in range(i + 1):\n",
    "            if j == 0 or j == i:\n",
    "                B[i][j] = 1\n",
    "            else:\n",
    "                B[i][j] = B[i - 1][j - 1]               \n",
    "    return B[n][k]\n",
    "\n",
    "\n",
    "n = int(input('Ingrese el valor de n: '))\n",
    "k = int(input('Ingrese el valor de k: '))\n",
    "print(f'Binomial({n}, {k}) es {bin1(n, k)}')"
   ]
  },
  {
   "cell_type": "code",
   "execution_count": null,
   "id": "ab494918",
   "metadata": {},
   "outputs": [],
   "source": [
    "def bin3(n, k):\n",
    "    B = [0] * (n + 1)\n",
    "    for i in range(n + 1):\n",
    "        for j in range(n, -1, -1):\n",
    "            if j == 0 or j == i:\n",
    "                B[j] = 1\n",
    "            else:\n",
    "                B[j] = B[j] + B[j -1]\n",
    "    return B[k]\n",
    "\n",
    "for i in range(10):\n",
    "    for j in range(i+1):\n",
    "        print(bin3(i,j),end=\" \")\n",
    "    print()"
   ]
  },
  {
   "cell_type": "markdown",
   "id": "7b7b39e5",
   "metadata": {},
   "source": [
    "####  **Respuesta:**\n",
    "\n",
    "**`bin2()`** muestra ser la opción mas acertada y eficiente de las tres."
   ]
  },
  {
   "cell_type": "markdown",
   "id": "7cef2a44",
   "metadata": {},
   "source": [
    "___"
   ]
  },
  {
   "cell_type": "markdown",
   "id": "d36e67d4",
   "metadata": {},
   "source": [
    "## ***Q 33-01***\n",
    "\n",
    "### ***Resolver cuadrado mágico utilizando backtracking.***\n",
    "#### ***Requisitos:***\n",
    "\n",
    "- Los números a utilizar son del 0 - 8.\n",
    "- No se puede repitir ningún número en la matriz. \n",
    "- La suma de las columnas, filas y diagonales debe ser igual 12."
   ]
  },
  {
   "cell_type": "code",
   "execution_count": 22,
   "id": "27405d63",
   "metadata": {},
   "outputs": [
    {
     "name": "stdout",
     "output_type": "stream",
     "text": [
      "Solución encontrada:\n",
      "[[7 2 3]\n",
      " [0 4 8]\n",
      " [5 6 1]]\n"
     ]
    },
    {
     "data": {
      "text/plain": [
       "True"
      ]
     },
     "execution_count": 22,
     "metadata": {},
     "output_type": "execute_result"
    }
   ],
   "source": [
    "import numpy as np\n",
    "\n",
    "def is_valid(square):\n",
    "    # Verificar si se cumple la condición de que la suma de filas, columnas y diagonales sea igual a 12\n",
    "    return all(np.sum(square, axis=0) == 12) and all(np.sum(square, axis=1) == 12) and np.trace(square) == 12 and np.trace(np.fliplr(square)) == 12\n",
    "\n",
    "\n",
    "def valid_number(square, fila, columna, num):\n",
    "    # Verificar si el número no se repite en la fila\n",
    "    return (\n",
    "        num not in square[fila, :] and\n",
    "        num not in square[:, columna] and\n",
    "        num not in square[fila - fila % 3: fila - fila % 3 + 3, columna - columna % 3: columna - columna % 3 + 3]\n",
    "    )\n",
    " \n",
    "\n",
    "def solve_square(square, fila=0, columna=0):\n",
    "\n",
    "    if fila == 3:\n",
    "        # Si hemos llegado al final del cuadrado, verificar si es una solución\n",
    "        if is_valid(square):\n",
    "            print(\"Solución encontrada:\")\n",
    "            print(square)\n",
    "            return True\n",
    "        return False\n",
    "\n",
    "    # Si el número ya está dado en la entrada, continuar con el siguiente\n",
    "    if square[fila, columna] != 9:\n",
    "        return solve_square(square, fila + (columna + 1) // 3, (columna + 1) % 3)\n",
    "\n",
    "    # Probar números del 0 al 8\n",
    "    for num in range(9):\n",
    "        if valid_number(square, fila, columna, num):\n",
    "            square[fila, columna] = num\n",
    "            \n",
    "            # Mover a la siguiente casilla\n",
    "            if solve_square(square, fila + (columna + 1) // 3, (columna + 1) % 3):\n",
    "                return True\n",
    "            # Si no lleva a una solución, deshacer el cambio\n",
    "            square[fila, columna] = 9\n",
    "\n",
    "    # No se encontró ninguna solución para este estado\n",
    "    return False\n",
    "\n",
    "\n",
    "# Matriz \n",
    "square = np.array([\n",
    "    [9, 9, 9],\n",
    "    [9, 9, 8],\n",
    "    [5, 6, 1],\n",
    "])\n",
    "\n",
    "# Llamar a la función de resolución\n",
    "solve_square(square)"
   ]
  },
  {
   "cell_type": "markdown",
   "id": "d31d23cb",
   "metadata": {},
   "source": [
    "___"
   ]
  },
  {
   "cell_type": "markdown",
   "id": "c815e543",
   "metadata": {},
   "source": [
    "# **Fin**"
   ]
  }
 ],
 "metadata": {
  "kernelspec": {
   "display_name": "Python 3 (ipykernel)",
   "language": "python",
   "name": "python3"
  },
  "language_info": {
   "codemirror_mode": {
    "name": "ipython",
    "version": 3
   },
   "file_extension": ".py",
   "mimetype": "text/x-python",
   "name": "python",
   "nbconvert_exporter": "python",
   "pygments_lexer": "ipython3",
   "version": "3.9.7"
  }
 },
 "nbformat": 4,
 "nbformat_minor": 5
}
