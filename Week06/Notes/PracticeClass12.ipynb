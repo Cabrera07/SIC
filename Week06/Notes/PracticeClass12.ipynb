{
 "cells": [
  {
   "cell_type": "markdown",
   "metadata": {},
   "source": [
    "---"
   ]
  },
  {
   "cell_type": "markdown",
   "metadata": {},
   "source": [
    "# **Clase Práctica (Backtracking)**"
   ]
  },
  {
   "cell_type": "markdown",
   "metadata": {},
   "source": [
    "----\n",
    "---\n",
    "## **Tarea:** **Resolver cuadrado mágico utilizando backtracking.**\n",
    "---\n",
    "---"
   ]
  },
  {
   "cell_type": "markdown",
   "metadata": {},
   "source": [
    "#### ***Requisitos:***\n",
    "\n",
    "- Los números a utilizar son del 0 - 8.\n",
    "- No se puede repitir ningún número en la matriz. \n",
    "- La suma de las columnas, filas y diagonales debe ser igual 12.\n",
    "----"
   ]
  },
  {
   "cell_type": "code",
   "execution_count": null,
   "metadata": {},
   "outputs": [],
   "source": [
    "import numpy as np\n",
    "\n",
    "def is_valid(square):\n",
    "    # Verificar si se cumple la condición de que la suma de filas, columnas y diagonales sea igual a 12\n",
    "    return all(np.sum(square, axis=0) == 12) and all(np.sum(square, axis=1) == 12) and np.trace(square) == 12 and np.trace(np.fliplr(square)) == 12\n",
    "\n",
    "\n",
    "def valid_number(square, fila, columna, num):\n",
    "    # Verificar si el número no se repite en la fila, columna y la submatriz 3x3\n",
    "    return (\n",
    "        num not in square[fila, :] and\n",
    "        num not in square[:, columna] and\n",
    "        num not in square[fila - fila % 3: fila - fila % 3 + 3, columna - columna % 3: columna - columna % 3 + 3]\n",
    "    )\n",
    " \n",
    "\n",
    "def solve_square(square, fila=0, columna=0):\n",
    "\n",
    "    if fila == 3:\n",
    "        # Si hemos llegado al final del cuadrado, verificar si es una solución\n",
    "        if is_valid(square):\n",
    "            print(\"Solución encontrada:\")\n",
    "            print(square)\n",
    "            return True\n",
    "        return False\n",
    "\n",
    "    # Si el número ya está dado en la entrada, continuar con el siguiente\n",
    "    if square[fila, columna] != 9:\n",
    "        return solve_square(square, fila + (columna + 1) // 3, (columna + 1) % 3)\n",
    "\n",
    "    # Probar números del 0 al 8\n",
    "    for num in range(9):\n",
    "        if valid_number(square, fila, columna, num):\n",
    "            square[fila, columna] = num\n",
    "            \n",
    "            # Mover a la siguiente casilla\n",
    "            if solve_square(square, fila + (columna + 1) // 3, (columna + 1) % 3):\n",
    "                return True\n",
    "            # Si no lleva a una solución, deshacer el cambio\n",
    "            square[fila, columna] = 9\n",
    "\n",
    "    # No se encontró ninguna solución para este estado\n",
    "    return False\n",
    "\n",
    "\n",
    "# Matriz dada\n",
    "square = np.array([\n",
    "    [9, 9, 9],\n",
    "    [9, 9, 8],\n",
    "    [5, 6, 1],\n",
    "])\n",
    "\n",
    "# Llamar a la función de resolución\n",
    "solve_square(square)"
   ]
  },
  {
   "cell_type": "code",
   "execution_count": 21,
   "metadata": {},
   "outputs": [
    {
     "name": "stdout",
     "output_type": "stream",
     "text": [
      "Solución encontrada:\n",
      "[7, 2, 3]\n",
      "[0, 4, 8]\n",
      "[5, 6, 1]\n"
     ]
    },
    {
     "data": {
      "text/plain": [
       "True"
      ]
     },
     "execution_count": 21,
     "metadata": {},
     "output_type": "execute_result"
    }
   ],
   "source": [
    "def es_solucion(cuadrado):\n",
    "    # Verificar si se cumple la condición de que la suma de filas, columnas y diagonales sea igual a 12\n",
    "    for i in range(3):\n",
    "        if sum(cuadrado[i]) != 12 or sum(cuadrado[j][i] for j in range(3)) != 12:\n",
    "            return False\n",
    "    if sum(cuadrado[i][i] for i in range(3)) != 12 or sum(cuadrado[i][2 - i] for i in range(3)) != 12:\n",
    "        return False\n",
    "    return True\n",
    "\n",
    "def es_valido(cuadrado, fila, columna, numero):\n",
    "    # Verificar si el número no se repite en la fila, columna y la submatriz 3x3\n",
    "    return (\n",
    "        numero not in cuadrado[fila] and\n",
    "        numero not in [cuadrado[i][columna] for i in range(3)] and\n",
    "        numero not in [cuadrado[i][j] for i in range(fila - fila % 3, fila - fila % 3 + 3) for j in range(columna - columna % 3, columna - columna % 3 + 3)]\n",
    "    )\n",
    "\n",
    "def resolver_cuadrado_magico(cuadrado, fila=0, columna=0):\n",
    "    if fila == 3:\n",
    "        # Si hemos llegado al final del cuadrado, verificar si es una solución\n",
    "        if es_solucion(cuadrado):\n",
    "            print(\"Solución encontrada:\")\n",
    "            for row in cuadrado:\n",
    "                print(row)\n",
    "            return True\n",
    "        return False\n",
    "\n",
    "    # Si el número ya está dado en la entrada, continuar con el siguiente\n",
    "    if cuadrado[fila][columna] != 9:\n",
    "        return resolver_cuadrado_magico(cuadrado, fila + (columna + 1) // 3, (columna + 1) % 3)\n",
    "\n",
    "    # Probar números del 0 al 8\n",
    "    for numero in range(9):\n",
    "        if es_valido(cuadrado, fila, columna, numero):\n",
    "            cuadrado[fila][columna] = numero\n",
    "            # Mover a la siguiente casilla\n",
    "            if resolver_cuadrado_magico(cuadrado, fila + (columna + 1) // 3, (columna + 1) % 3):\n",
    "                return True\n",
    "            # Si no lleva a una solución, deshacer el cambio\n",
    "            cuadrado[fila][columna] = 9\n",
    "\n",
    "    # No se encontró ninguna solución para este estado\n",
    "    return False\n",
    "\n",
    "# Matriz dada\n",
    "square = [\n",
    "    [9, 9, 9],\n",
    "    [9, 9, 8],\n",
    "    [5, 6, 1],\n",
    "]\n",
    "\n",
    "# Llamar a la función de resolución\n",
    "resolver_cuadrado_magico(square)\n"
   ]
  }
 ],
 "metadata": {
  "kernelspec": {
   "display_name": "SIC",
   "language": "python",
   "name": "python3"
  },
  "language_info": {
   "codemirror_mode": {
    "name": "ipython",
    "version": 3
   },
   "file_extension": ".py",
   "mimetype": "text/x-python",
   "name": "python",
   "nbconvert_exporter": "python",
   "pygments_lexer": "ipython3",
   "version": "3.9.7"
  }
 },
 "nbformat": 4,
 "nbformat_minor": 2
}
