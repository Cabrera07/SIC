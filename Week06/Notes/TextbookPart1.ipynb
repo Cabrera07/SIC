{
 "cells": [
  {
   "cell_type": "markdown",
   "metadata": {},
   "source": [
    "----------\n",
    "# **Resolución de Problemas con Algoritmos**"
   ]
  },
  {
   "cell_type": "markdown",
   "metadata": {},
   "source": [
    "-------------------------------------------------\n",
    "---------------------------------------------\n",
    "## **Enfoque Greedy**\n",
    "-----------------------------------------------------------\n",
    "-----------------------------------------------------\n",
    "Es una estrategia algorítmica que toma decisiones en cada paso para optimizar un objetivo a corto plazo, sin considerar las consecuencias a largo plazo.\n",
    "\n",
    "En otras palabras, elige lo que parece mejor en el momento y nunca vuelve a considerar sus elecciones.\n",
    "\n",
    "Es importante destacar que el enfoque greedy no siempre garantiza la solución óptima global, ya que puede quedar atrapado en mínimos locales. Sin embargo, en muchos casos, es una opción eficiente y fácil de implementar."
   ]
  },
  {
   "cell_type": "markdown",
   "metadata": {},
   "source": [
    "-----------------------------\n",
    "### ***Proceso:***\n",
    "-----------------------------"
   ]
  },
  {
   "cell_type": "markdown",
   "metadata": {},
   "source": [
    "1. **Definir el problema:** Identifica el problema que estás tratando de resolver y establece el objetivo que deseas optimizar.\n",
    "\n",
    "2. **Identificar subproblemas:** Divide el problema en subproblemas más pequeños y manejables. Estos subproblemas deben ser lo suficientemente simples para que puedas tomar decisiones locales de manera eficiente.\n",
    "\n",
    "3. **Definir la función objetivo local:** Para cada subproblema, define una función objetivo local que represente la \"mejora\" o \"beneficio\" deseado en ese paso. Esta función debe ser fácil de calcular y reflejar el progreso hacia el objetivo global.\n",
    "\n",
    "4. **Tomar decisiones locales:** En cada paso, toma la decisión que maximice o minimice la función objetivo local sin considerar las consecuencias a largo plazo. \n",
    "\n",
    "5. **Actualizar el estado:** Después de tomar la decisión local, actualiza el estado del problema eliminando o marcando las opciones que ya no son viables.\n",
    "\n",
    "6. **Repetir:** Repite los pasos 3-5 hasta que se alcance o se aproxime lo suficiente al objetivo global.\n",
    "\n",
    "7. **Verificar la solución:** Una vez que se ha tomado la decisión en cada paso, verifica si la solución obtenida cumple con los requisitos del problema y si es aceptable."
   ]
  },
  {
   "cell_type": "markdown",
   "metadata": {},
   "source": [
    "--------------\n",
    "### ***Ejemplo de Selección de Actividades***\n",
    "--------------------------------"
   ]
  },
  {
   "cell_type": "code",
   "execution_count": 14,
   "metadata": {},
   "outputs": [
    {
     "name": "stdout",
     "output_type": "stream",
     "text": [
      "Los meetings id son: [0, 1, 4, 5] \n",
      "Se pueden agendar un maximo de 4 reuniones\n"
     ]
    }
   ],
   "source": [
    "# Definir una función que tome dos listas como entrada: start y finish.\n",
    "# start contiene los tiempos de inicio de n actividades\n",
    "# finish contiene los tiempos de finalización de las actividades.\n",
    "def activity_selection1(start, finish):\n",
    "    # Inicializar una lista vacía para almacenar las actividades seleccionadas.\n",
    "    result = []\n",
    "    \n",
    "    # Inicializar i en 0, que representa la primera actividad.\n",
    "    # Serian como el id de la persona que corresponde al indice de la lista start\n",
    "    i = 0 \n",
    "    \n",
    "    # Agregar la primera actividad a la lista result.\n",
    "    result.append(i)\n",
    "    \n",
    "    # Iterar sobre el rango de índices desde 1 hasta la longitud de la lista start.\n",
    "    for j in range(1, len(start)):\n",
    "        # Verificar si el tiempo de finalización de la actividad actual (i) \n",
    "        # Es menor o igual al tiempo de inicio de la siguiente actividad (j).\n",
    "        # Si es verdadero, entonces la siguiente actividad se puede realizar \n",
    "        # sin superponerse con la actividad actual.\n",
    "        if finish [i] <= start[j]:\n",
    "            # Agregar la siguiente actividad a la lista result.\n",
    "            result.append(j)\n",
    "            # Actualizar i para representar la siguiente actividad.\n",
    "            i = j\n",
    "    # Devolver la lista result y la longitud de la lista, que representa el número máximo de \n",
    "    # actividades que se pueden realizar.\n",
    "    return result\n",
    "\n",
    "# Definir los tiempos de inicio y finalización de las actividades.\n",
    "start = [1, 3, 2, 0, 5, 8, 5]\n",
    "finish = [2, 4, 5, 6, 6, 9]\n",
    "\n",
    "# Llamar a la función activity_selection1 con las listas start y finish como entrada.\n",
    "meetings = activity_selection1(start, finish)\n",
    "\n",
    "# Imprimir las actividades seleccionadas y el número máximo de actividades que se pueden realizar.\n",
    "maximun = len(meetings)\n",
    "print(f'Los meetings id son: {meetings} \\nSe pueden agendar un maximo de {maximun} reuniones')"
   ]
  },
  {
   "cell_type": "markdown",
   "metadata": {},
   "source": [
    "--------------------------------------------------\n",
    "### ***Ejemplo de Cambiador de Monedas***\n",
    "--------------------------------------------------"
   ]
  },
  {
   "cell_type": "code",
   "execution_count": 13,
   "metadata": {},
   "outputs": [
    {
     "name": "stdout",
     "output_type": "stream",
     "text": [
      "[500, 100, 100, 100] 4\n"
     ]
    }
   ],
   "source": [
    "# Definir una función que tome dos listas como entrada: coins y amount.\n",
    "# coins contiene los valores de las monedas disponibles, y amount es el monto que desea cambiar.\n",
    "def coin_change(coins, amount):\n",
    "    # Inicializar una lista vacía llamada changes para almacenar los valores de las monedas \n",
    "    # utilizadas para cambiar el monto.\n",
    "    changes = []\n",
    "    \n",
    "    # Inicializar una variable llamada largest en 0.\n",
    "    # largest representa el valor de la moneda más grande que se ha utilizado hasta ahora para cambiar el monto.\n",
    "    largest = 0\n",
    "    \n",
    "    # Iterar mientras el monto sea mayor a 0.\n",
    "    while amount > 0:\n",
    "        # Verificar si el monto es menor que el valor de la moneda más grande utilizada hasta ahora.\n",
    "        if amount < coins[largest]:\n",
    "            # Si es verdadero, actualizar el valor de largest a la siguiente moneda más grande.\n",
    "            largest += 1\n",
    "        else:\n",
    "            # Si es falso, significa que el monto se puede cambiar con la moneda actual.\n",
    "            # Agregar el valor de la moneda actual a la lista changes.\n",
    "            changes.append(coins[largest])\n",
    "            # Actualizar el monto restando el valor de la moneda actual.\n",
    "            amount -= coins [largest]\n",
    "            \n",
    "    # Devolver la lista changes y la longitud de la lista, que representa el número de monedas \n",
    "    # utilizadas para cambiar el monto.\n",
    "    return changes\n",
    "\n",
    "\n",
    "# Definir los valores de las monedas disponibles.\n",
    "coins = [500, 100, 50, 10]\n",
    "\n",
    "# Solicitar al usuario que ingrese el monto que desea cambiar.\n",
    "amount = int(input('Input the amount: '))\n",
    "\n",
    "# Llamar a la función coin_change con las listas coins y amount como entrada.\n",
    "changes = coin_change(coins, amount)\n",
    "\n",
    "# Imprimir los valores de las monedas utilizadas para cambiar el monto y el número de monedas utilizadas.\n",
    "print(changes, len(changes))"
   ]
  },
  {
   "cell_type": "markdown",
   "metadata": {},
   "source": [
    "-------------------\n",
    "------------------------------\n",
    "## **Divide and Conquer** \n",
    "-------------------------------\n",
    "--------------------------------\n",
    "Es una estrategia de resolución de problemas que consiste en dividir un problema grande en subproblemas más pequeños y simples, resolver cada subproblema recursivamente, y combinar las soluciones de los subproblemas para obtener la solución del problema original.\n",
    "\n",
    "En Python, el enfoque divide y vencerás se puede implementar utilizando recursión. \n",
    "Un ejemplo clásico de algoritmo que utiliza el enfoque divide y vencerás es el algoritmo de búsqueda binaria."
   ]
  },
  {
   "cell_type": "markdown",
   "metadata": {},
   "source": [
    "------------------\n",
    "### ***Pasos Clave:***\n",
    "----------------------"
   ]
  },
  {
   "cell_type": "markdown",
   "metadata": {},
   "source": [
    "1. Identificar el problema y descomponerlo en subproblemas más pequeños y simples.\n",
    "\n",
    "2. Definir una función recursiva que tome los parámetros necesarios para resolver cada subproblema.\n",
    "\n",
    "3. Definir una condición de parada para la recursión, que indique cuándo dejar de dividir el problema en subproblemas y cómo combinar las soluciones de los subproblemas.\n",
    "\n",
    "4. Implementar la lógica de la solución para cada subproblema.\n",
    "\n",
    "5. Llamar recursivamente a la función con los subproblemas como entrada.\n",
    "\n",
    "6. Combinar las soluciones de los subproblemas para obtener la solución del problema original."
   ]
  },
  {
   "cell_type": "markdown",
   "metadata": {},
   "source": [
    "--------------------------\n",
    "### ***Ejemplo Triangle Path Finder***\n",
    "--------------------------\n",
    "Un programa que encuentra la suma de los caminos más cortos en un triángulo es un programa que encuentra y genera la suma de los caminos más cortos en este triángulo con la lista de números dada, como se muestra a continuación."
   ]
  },
  {
   "cell_type": "code",
   "execution_count": 12,
   "metadata": {},
   "outputs": [
    {
     "name": "stdout",
     "output_type": "stream",
     "text": [
      "The minimun cost is  11\n"
     ]
    }
   ],
   "source": [
    "# Definir una función find_minimun que tome tres parámetros:\n",
    "#    - row: el índice de fila actual en el triángulo\n",
    "#    - col: el índice de columna actual en el triángulo\n",
    "#    - triangle: el triángulo en sí, representado como una matriz bidimensional de enteros\n",
    "def find_minimun(row, col, triangle):\n",
    "    # Si el índice de fila es igual a la longitud del triángulo,\n",
    "    # significa que hemos alcanzado el fondo del triángulo y podemos devolver 0\n",
    "    if row == len(triangle):\n",
    "        return 0 \n",
    "    else: \n",
    "        # Encontrar el mínimo de los dos elementos adyacentes en la fila inferior\n",
    "        # y almacenarlo en la variable \"minimun\"\n",
    "        minimun = min(find_minimun(row +1, col, triangle),\n",
    "                      find_minimun(row +1, col +1, triangle))\n",
    "        # Devolver la suma del elemento actual y el mínimo de los dos elementos adyacentes en la fila inferior\n",
    "        return triangle[row][col] + minimun\n",
    "    \n",
    "# Definir el triángulo como una matriz bidimensional de enteros\n",
    "triangle = [\n",
    "    [2],\n",
    "    [3, 4],\n",
    "    [6, 5, 7],\n",
    "    [4, 1, 8, 3]\n",
    "]\n",
    "\n",
    "# Llamar a la función find_minimun con los parámetros iniciales\n",
    "# (en este caso, la fila 0 y la columna 0)\n",
    "minimun = find_minimun(0, 0, triangle)\n",
    "\n",
    "# Imprimir el mínimo costo encontrado\n",
    "print('The minimun cost is ', minimun)\n"
   ]
  },
  {
   "cell_type": "markdown",
   "metadata": {},
   "source": [
    "----------------------------\n",
    "### ***Ejemplo Búsqueda Binaria con Iteración***\n",
    "-------------------------------\n",
    "Este ejemplo de búsqueda binaria, utiliza el enfoque divide y vencerás con declaración iterativa la cual reduce el alcance de la búsqueda usando los indices alto y bajo."
   ]
  },
  {
   "cell_type": "code",
   "execution_count": 11,
   "metadata": {},
   "outputs": [
    {
     "name": "stdout",
     "output_type": "stream",
     "text": [
      "15 se encuentra en la posición 7 de la lista.\n"
     ]
    }
   ],
   "source": [
    "# Definir una función bin_search que tome dos parámetros:\n",
    "#    - nums: la lista ordenada en la que buscar\n",
    "#    - x: el elemento que se desea buscar\n",
    "def bin_search(nums, x):\n",
    "    # Inicializar las variables low y high con los índices del primer y último elemento de la lista, respectivamente\n",
    "    low, high = 0, len(nums) - 1\n",
    "    \n",
    "    # Mientras low sea menor o igual a high, significa que todavía hay elementos por buscar\n",
    "    while low <= high:\n",
    "        # Calcular el índice del elemento central de la sublista definida por low y high\n",
    "        mid = (low + high) // 2\n",
    "        \n",
    "        # Si el elemento central es igual a x, significa que lo hemos encontrado\n",
    "        if nums [mid] == x:\n",
    "            # Devolver el índice del elemento\n",
    "            return mid\n",
    "        \n",
    "        # Si el elemento central es mayor que x, significa que el elemento (si existe) \n",
    "        # debe estar en la sublista definida por low y mid - 1\n",
    "        elif nums [mid] > x:\n",
    "            # Ajustar el rango de búsqueda a la mitad izquierda\n",
    "            high = mid - 1\n",
    "            \n",
    "        # Si el elemento central es menor que x, significa que el elemento (si existe) \n",
    "        # debe estar en la sublista definida por mid + 1 y high\n",
    "        else:\n",
    "            # Ajustar el rango de búsqueda a la mitad derecha\n",
    "            low = mid + 1\n",
    "            \n",
    "    # Si el elemento no se encuentra en la lista, devolver -1      \n",
    "    return - 1\n",
    "\n",
    "# Definir la lista ordenada en la que buscar\n",
    "nums = [1, 3, 5, 7, 9, 11, 13, 15, 17, 19]\n",
    "\n",
    "# Definir el elemento que se desea buscar\n",
    "x = 15\n",
    "\n",
    "# Llamar a la función bin_search con los parámetros nums y x\n",
    "result = bin_search(nums, x)\n",
    "\n",
    "# Si el resultado es -1, significa que el elemento no se encuentra en la lista\n",
    "if result == -1:\n",
    "    # Imprimir un mensaje indicando que el elemento no se encuentra en la lista\n",
    "    print(f\"{x} no se encuentra en la lista.\")\n",
    "\n",
    "# Si el resultado es distinto de -1, significa que el elemento se encuentra en la lista\n",
    "else:\n",
    "    # Imprimir un mensaje indicando la posición del elemento en la lista\n",
    "    print(f\"{x} se encuentra en la posición {result} de la lista.\")"
   ]
  },
  {
   "cell_type": "markdown",
   "metadata": {},
   "source": [
    "----------------------------\n",
    "### ***Ejemplo Búsqueda Binaria con Recursión***\n",
    "-------------------------------\n",
    "Este ejemplo del enfoque divide y vencerás, es una versión recursividad de bússqueda binaria. "
   ]
  },
  {
   "cell_type": "code",
   "execution_count": 10,
   "metadata": {},
   "outputs": [
    {
     "name": "stdout",
     "output_type": "stream",
     "text": [
      "11 se encuentra en la posición 5 de la lista.\n"
     ]
    }
   ],
   "source": [
    "# Definir una función bin_search2 que tome tres parámetros:\n",
    "#    - nums: la lista ordenada en la que buscar\n",
    "#    - x: el elemento que se desea buscar\n",
    "#    - low, high: los índices del primer y último elemento de la sublista en la que buscar, respectivamente\n",
    "def bin_search2(nums, x, low, high):\n",
    "    # Si low es mayor que high, significa que hemos recorrido toda la lista sin encontrar el elemento\n",
    "    if low > high:\n",
    "        # Devolver -1 para indicar que el elemento no se encuentra en la lista\n",
    "        return -1\n",
    "    \n",
    "    else:\n",
    "        # Calcular el índice del elemento central de la sublista definida por low y high\n",
    "        mid = (low + high)//2\n",
    "        \n",
    "        # Si el elemento central es igual a x, significa que lo hemos encontrado\n",
    "        if nums[mid] == x:\n",
    "            # Devolver el índice del elemento\n",
    "            return mid\n",
    "        \n",
    "        # Si el elemento central es mayor que x, significa que el elemento (si existe) \n",
    "        # debe estar en la sublista definida por low y mid - 1\n",
    "        elif nums[mid]>x:\n",
    "            # Llamar recursivamente a bin_search2 con los parámetros nums, x, low, y mid - 1\n",
    "            return bin_search2(nums, x, low, mid -1)\n",
    "        \n",
    "        # Si el elemento central es menor que x, significa que el elemento (si existe) \n",
    "        # debe estar en la sublista definida por mid + 1 y high\n",
    "        else:\n",
    "            # Llamar recursivamente a bin_search2 con los parámetros nums, x, mid + 1, y high\n",
    "            return bin_search2(nums, x, mid +1, high)\n",
    "         \n",
    " \n",
    "# Definir la lista ordenada en la que buscar\n",
    "nums = [1, 3, 5, 7, 9, 11, 13, 15, 17, 19]\n",
    "\n",
    "# Definir el elemento que se desea buscar\n",
    "x = 11\n",
    "\n",
    "# Inicializar las variables low y high con los índices del primer y último elemento de la lista, respectivamente\n",
    "low, high = 0, len(nums) - 1\n",
    "\n",
    "# Llamar a la función bin_search2 con los parámetros nums, x, low, y high\n",
    "result = bin_search2(nums, x, low, high)\n",
    "\n",
    "# Si el resultado es -1, significa que el elemento no se encuentra en la lista\n",
    "if result == -1:\n",
    "    # Imprimir un mensaje indicando que el elemento no se encuentra en la lista\n",
    "    print(f\"{x} no se encuentra en la lista.\")\n",
    "\n",
    "# Si el resultado es distinto de -1, significa que el elemento se encuentra en la lista\n",
    "else:\n",
    "    # Imprimir un mensaje indicando la posición del elemento en la lista\n",
    "    print(f\"{x} se encuentra en la posición {result} de la lista.\")"
   ]
  },
  {
   "cell_type": "markdown",
   "metadata": {},
   "source": [
    "---------------------------------\n",
    "---------------------------------\n",
    "## **Programación Dinámica**\n",
    "---------------------------------\n",
    "---------------------------------\n",
    "Es una técnica de optimización que se utiliza para resolver problemas que pueden dividirse en subproblemas superpuestos y que exhiben la propiedad de solapamiento de subproblemas y la propiedad de optimalidad. La idea fundamental es resolver cada subproblema solo una vez y almacenar su solución para evitar recalcularla si se encuentra nuevamente.\n",
    "\n",
    "En otras paalabras, la programación dinámica es como resolver problemas grandes dividiéndolos en partes más pequeñas y recordando cómo resolver esas partes para no tener que hacer el trabajo dos veces."
   ]
  },
  {
   "cell_type": "markdown",
   "metadata": {},
   "source": [
    "----------------------------\n",
    "### ***Pasos Clave:***\n",
    "--------------------------"
   ]
  },
  {
   "cell_type": "markdown",
   "metadata": {},
   "source": [
    "1. **Identificación de Subproblemas:**\n",
    "   - Divide el problema grande en partes más pequeñas y manejables.\n",
    "\n",
    "2. **Resolución Recursiva de Subproblemas:**\n",
    "   - Resuelve cada parte de manera recursiva. Si ya has resuelto una parte antes, no la vuelvas a calcular.\n",
    "\n",
    "3. **Almacenamiento de Soluciones (Memorización):**\n",
    "   - Guarda las soluciones de cada parte para no tener que volver a calcularlas. Utiliza una tabla o un diccionario para acceder rápidamente a las soluciones conocidas.\n",
    "\n",
    "4. **Construcción de Solución Óptima:**\n",
    "   - Combina las soluciones de las partes para obtener la solución del problema original. Usa diferentes enfoques según el tipo de problema.\n",
    "\n",
    "5. **Tabulación (Opcional):**\n",
    "   - Además de memorizar, en algunos casos, también puedes calcular las soluciones de manera iterativa desde las partes más pequeñas hasta el problema completo."
   ]
  },
  {
   "cell_type": "markdown",
   "metadata": {},
   "source": [
    "---------------------------\n",
    "### ***Ejemplo de Secuencia Fibonacci por Recursión***\n",
    "--------------------------------------------\n",
    "Es una implementación recursiva sin memoización, lo que significa que la función calcula cada valor de Fibonacci desde cero cada vez que se llama a la función. \n",
    "\n",
    "Esto es muy ineficiente, ya que la función realiza muchas llamadas recursivas innecesarias y consume mucha memoria. **Este ejemplo NO utiliza Programación Dinámica**."
   ]
  },
  {
   "cell_type": "code",
   "execution_count": 9,
   "metadata": {},
   "outputs": [
    {
     "name": "stdout",
     "output_type": "stream",
     "text": [
      "55\n"
     ]
    }
   ],
   "source": [
    "# Definir una función recursiva llamada fib1 que tome un parámetro entero n\n",
    "def fib1(n):\n",
    "    # Si n es igual a 0 o 1, devolver n\n",
    "    if n == 0 or n == 1:\n",
    "        return n \n",
    "    # De lo contrario, calcular el valor de fib1 recursivamente para n - 1 y n - 2, sumarlos y devolver el resultado\n",
    "    else: \n",
    "        return fib1(n-1) + fib1(n-2)\n",
    " \n",
    "# Solicitar al usuario que ingrese un número entero y almacenarlo en la variable N   \n",
    "N = int(input(\"Ingrese un numero: \"))\n",
    "\n",
    "# Llamar a la función fib1 con el número ingresado como parámetro y almacenar el resultado en una variable\n",
    "resultado = fib1(N)\n",
    "\n",
    "# Imprimir el resultado\n",
    "print(resultado)"
   ]
  },
  {
   "cell_type": "markdown",
   "metadata": {},
   "source": [
    "---------------------------\n",
    "### ***Ejemplo de Secuencia Fibonacci con Recursión y Memoización***\n",
    "--------------------------------------------\n",
    "Es una implementación recursiva con memoización, lo que significa que la función almacena los valores de Fibonacci ya calculados en un diccionario para evitar recalcularlos en cada llamada recursiva. \n",
    "\n",
    "Esto mejora el rendimiento de la función, ya que reduce el número de llamadas recursivas y el uso de memoria. **Este ejemplo utiliza la Programación Dinámica**."
   ]
  },
  {
   "cell_type": "code",
   "execution_count": 8,
   "metadata": {},
   "outputs": [
    {
     "name": "stdout",
     "output_type": "stream",
     "text": [
      "55\n"
     ]
    }
   ],
   "source": [
    "# Crear un diccionario llamado F que contenga los dos primeros valores de la sucesión de Fibonacci\n",
    "F = {0: 0, 1: 1}\n",
    "\n",
    "# Definir una función llamada fib2 que tome un parámetro entero n\n",
    "def fib2(n):\n",
    "    # Si n se encuentra en el diccionario F, devolver el valor correspondiente\n",
    "    if n in F:\n",
    "        return F[n]\n",
    "    # De lo contrario, calcular el valor de fib2 recursivamente para n - 1 y n - 2, \n",
    "    # almacenarlo en el diccionario F y devolverlo\n",
    "    else: \n",
    "        F[n] = fib2(n-1)+ fib2(n-2)\n",
    "        return F[n]\n",
    "\n",
    "# Solicitar al usuario que ingrese un número entero y almacenarlo en la variable N    \n",
    "N = int(input(\"Ingrese un numero: \"))\n",
    "\n",
    "# Llamar a la función fib2 con el número ingresado como parámetro y almacenar el resultado en una variable\n",
    "resultado = fib2(N)\n",
    "\n",
    "# Imprimir el resultado\n",
    "print(resultado)"
   ]
  },
  {
   "cell_type": "markdown",
   "metadata": {},
   "source": [
    "---------------------------\n",
    "### ***Ejemplo de Secuencia Fibonacci con Recursión y Memoización***\n",
    "--------------------------------------------\n",
    "Es una implementación recursiva con memoización utilizando una lista en lugar de un diccionario. \n",
    "La lista se inicializa con valores de -1 para los valores no calculados y, cuando se necesitan estos valores, se calculan y se almacenan en la lista. \n",
    "\n",
    "Esto mejora aún más el rendimiento de la función, ya que no se necesita crear un diccionario y se pueden utilizar listas en lugar de diccionarios en algunos casos. **Este ejemplo utiliza la Programación Dinámica**."
   ]
  },
  {
   "cell_type": "code",
   "execution_count": 6,
   "metadata": {},
   "outputs": [
    {
     "name": "stdout",
     "output_type": "stream",
     "text": [
      "55\n"
     ]
    }
   ],
   "source": [
    "# Definir una función llamada fib3 que tome dos parámetros:\n",
    "#    - F: una lista que contenga los valores de Fibonacci previamente calculados y, \n",
    "#      opcionalmente, valores no calculados con un valor de -1\n",
    "#    - n: un entero que representa el índice del valor de Fibonacci que se desea calcular\n",
    "def fib3(F, n):\n",
    "  # Si n es menor o igual a 1, devolver el valor correspondiente en la lista F\n",
    "  if n <= 1:\n",
    "      return F[n]\n",
    "  \n",
    "  # De lo contrario, verificar si el valor en la lista F ya ha sido calculado previamente\n",
    "  else:\n",
    "      if F[n] < 0:\n",
    "          # Si no ha sido calculado, calcular el valor de fib3 recursivamente para n - 1 y n - 2, \n",
    "          # almacenarlo en la lista F y devolverlo\n",
    "          F[n] = fib3(F, n-1) + fib3(F, n-2)\n",
    "      return F[n]\n",
    "\n",
    "# Solicitar al usuario que ingrese un número entero y almacenarlo en la variable N\n",
    "N = int(input(\"Ingrese un número entero: \"))\n",
    "\n",
    "# Crear una lista F con los dos primeros valores de Fibonacci y valores no calculados con un valor de -1\n",
    "F = [0, 1] + [-1] * (N-1)\n",
    "\n",
    "# Llamar a la función fib3 con la lista F y el número ingresado como parámetros y \n",
    "# almacenar el resultado en una variable\n",
    "resultado = fib3(F, N)\n",
    "\n",
    "# Imprimir el resultado\n",
    "print(resultado)"
   ]
  },
  {
   "cell_type": "markdown",
   "metadata": {},
   "source": [
    "---------------------------\n",
    "### ***Ejemplo de Secuencia Fibonacci con Implementación Iterativa***\n",
    "--------------------------------------------\n",
    "Es una implementación iterativa del cálculo del número de Fibonacci. La función itera sobre el rango de 2 a n y actualiza los valores de a y b utilizando la fórmula de Fibonacci. \n",
    "\n",
    "Esta es la implementación más eficiente de las cuatro, ya que evita las llamadas recursivas innecesarias y reduce el uso de memoria. **Este ejemplo NO utiliza la Programación Dinámica**."
   ]
  },
  {
   "cell_type": "code",
   "execution_count": 5,
   "metadata": {},
   "outputs": [
    {
     "name": "stdout",
     "output_type": "stream",
     "text": [
      "55\n"
     ]
    }
   ],
   "source": [
    "# Definir una función llamada fib4 que tome un parámetro entero n\n",
    "def fib4(n):\n",
    "  # Si n es menor o igual a 1, devolver n directamente\n",
    "  if n <= 1:\n",
    "      return n\n",
    "  \n",
    "  # De lo contrario, inicializar dos variables a y b con los valores 0 y 1, respectivamente\n",
    "  else:\n",
    "      a,b = 0,1\n",
    "      \n",
    "      # Iterar sobre el rango de 2 a n utilizando un ciclo for\n",
    "      for i in range(2, n + 1):\n",
    "          # Actualizar los valores de a y b utilizando la fórmula de Fibonacci\n",
    "          a,b = b,a+b\n",
    "          \n",
    "      # Devolver el valor de b, que es el valor de Fibonacci en la posición n\n",
    "      return b\n",
    "\n",
    "# Solicitar al usuario que ingrese un número entero y almacenarlo en la variable N\n",
    "N = int(input(\"Ingrese un número entero: \"))\n",
    "\n",
    "# Llamar a la función fib4 con el número ingresado como parámetro y almacenar el resultado en una variable\n",
    "resultado = fib4(N)\n",
    "\n",
    "# Imprimir el resultado\n",
    "print(resultado)"
   ]
  },
  {
   "cell_type": "markdown",
   "metadata": {},
   "source": [
    "-------------------------\n",
    "### ***Ejemplo del Triángulo de Pascal por Recursión***\n",
    "--------------------------------\n",
    "Este ejemplo utiliza recursión para calcular los coeficientes binomiales. \n",
    "Es una implementación sencilla pero puede ser ineficiente para valores grandes de n y k debido a la naturaleza exponencial de la recursión. "
   ]
  },
  {
   "cell_type": "code",
   "execution_count": 4,
   "metadata": {},
   "outputs": [
    {
     "name": "stdout",
     "output_type": "stream",
     "text": [
      "Binomial(5, 3) es 10\n"
     ]
    }
   ],
   "source": [
    "# Definir una función llamada bin1 que tome dos parámetros enteros n y k\n",
    "def bin1(n, k):\n",
    "    # Si k es igual a 0 o n es igual a k, devolver 1\n",
    "    if k == 0 or n == k:\n",
    "        return 1\n",
    "    \n",
    "    # De lo contrario, calcular el coeficiente binomial recursivamente utilizando la fórmula de combinaciones\n",
    "    else:\n",
    "        # Devolver la suma de dos coeficientes binomiales:\n",
    "        #    - el coeficiente binomial (n - 1, k - 1)\n",
    "        #    - el coeficiente binomial (n - 1, k)\n",
    "        return bin1(n-1, k-1) + bin1(n -1, k)\n",
    " \n",
    "# Solicitar al usuario que ingrese los valores de n y k   \n",
    "n = int(input('Ingrese el valor de n: '))\n",
    "k = int(input('Ingrese el valor de k: '))\n",
    "\n",
    "# Imprimir el coeficiente binomial calculado utilizando la función bin1\n",
    "print(f'Binomial({n}, {k}) es {bin1(n, k)}')"
   ]
  },
  {
   "cell_type": "markdown",
   "metadata": {},
   "source": [
    "-------------------------\n",
    "### ***Ejemplo del Triángulo de Pascal por Programación Dinámica***\n",
    "--------------------------------\n",
    "Este ejmplo, utiliza un enfoque de programación dinámica para calcular los coeficientes binomiales almacenando resultados parciales en una matriz B. \n",
    "Este método es más eficiente que la versión recursiva para valores grandes de n y k."
   ]
  },
  {
   "cell_type": "code",
   "execution_count": 3,
   "metadata": {},
   "outputs": [
    {
     "name": "stdout",
     "output_type": "stream",
     "text": [
      "Binomial(5, 3) es 1\n"
     ]
    }
   ],
   "source": [
    "# Definir una función llamada bin2 que tome dos parámetros enteros n y k\n",
    "def bin2(n, k):\n",
    "    # Crear una matriz bidimensional B de tamaño (n + 1) x (n + 1) y rellenarla con ceros\n",
    "    B = [[0] * (i + 1) for i in range(n + 1)]\n",
    "    \n",
    "    # Iterar sobre cada elemento de la matriz B utilizando dos ciclos anidados\n",
    "    for i in range (n + 1):\n",
    "        for j in range(i + 1):\n",
    "            # Si j es igual a 0 o j es igual a i, establecer B[i][j] en 1\n",
    "            if j == 0 or j == i:\n",
    "                B[i][j] = 1\n",
    "            # De lo contrario, establecer B[i][j] en el valor de la celda diagonal izquierda superior, B[i - 1][j - 1]\n",
    "            else:\n",
    "                B[i][j] = B[i - 1][j - 1]\n",
    "                \n",
    "    # Devolver el valor del coeficiente binomial en la celda B[n][k]\n",
    "    return B[n][k]\n",
    "# Solicitar al usuario que ingrese los valores de n y k\n",
    "n = int(input('Ingrese el valor de n: '))\n",
    "k = int(input('Ingrese el valor de k: '))\n",
    "\n",
    "# Imprimir el coeficiente binomial calculado utilizando la función bin2\n",
    "print(f'Binomial({n}, {k}) es {bin2(n, k)}')"
   ]
  },
  {
   "cell_type": "markdown",
   "metadata": {},
   "source": [
    "------------------------------------\n",
    "------------------------------------\n",
    "## **Diferencia entre Programación Dinámica y Divide and Conquer**\n",
    "------------------------------------\n",
    "------------------------------------\n",
    "\n",
    "La programación dinámica es una técnica de optimización que almacena los resultados de subproblemas para evitar recalculos y mejorar el rendimiento, mientras que el enfoque divide y conquista divide el problema en subproblemas más pequeños y los resuelve recursivamente de manera independiente antes de combinar las soluciones de los subproblemas para obtener una solución al problema original. \n",
    "\n",
    "La programación dinámica se utiliza para problemas con subproblemas superpuestos, mientras que el enfoque divide y conquista se utiliza para problemas con subproblemas independientes."
   ]
  }
 ],
 "metadata": {
  "kernelspec": {
   "display_name": "SicVenv",
   "language": "python",
   "name": "python3"
  },
  "language_info": {
   "codemirror_mode": {
    "name": "ipython",
    "version": 3
   },
   "file_extension": ".py",
   "mimetype": "text/x-python",
   "name": "python",
   "nbconvert_exporter": "python",
   "pygments_lexer": "ipython3",
   "version": "3.9.7"
  }
 },
 "nbformat": 4,
 "nbformat_minor": 2
}
