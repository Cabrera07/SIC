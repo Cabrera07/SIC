{
 "cells": [
  {
   "cell_type": "markdown",
   "metadata": {},
   "source": [
    "----------\n",
    "# **Resolución de Problemas con Algoritmos**"
   ]
  },
  {
   "cell_type": "markdown",
   "metadata": {},
   "source": [
    "-----------------------------------\n",
    "----------------------------------\n",
    "## **Backtracking**\n",
    "---------------------------------\n",
    "----------------------------------\n",
    "El backtracking es una técnica de búsqueda exhaustiva que se utiliza para encontrar todas las soluciones factibles de un problema. \n",
    "\n",
    "En lugar de probar todas las posibilidades de manera indiscriminada, el backtracking avanza paso a paso y vuelve atrás (\"backtrack\") cuando se encuentra en una situación que no puede llevar a una solución válida."
   ]
  },
  {
   "cell_type": "markdown",
   "metadata": {},
   "source": [
    "------------------------------\n",
    "### ***Pasos Clave:***\n",
    "----------------------------"
   ]
  },
  {
   "cell_type": "markdown",
   "metadata": {},
   "source": [
    "1. **Definición del Problema:**\n",
    "   - Identifica el problema que deseas resolver y define las restricciones y objetivos del mismo.\n",
    "  \n",
    "2. **Estructura de Datos:**\n",
    "   - Utiliza una estructura de datos para representar el estado actual de la solución. Esto podría ser un conjunto, una lista, una matriz u otra estructura según el problema.\n",
    "  \n",
    "3. **Elección de Decisión:**\n",
    "   - Realiza una elección en el estado actual. Esto puede ser colocar una pieza en un tablero, seleccionar un camino en un grafo, etc.\n",
    "  \n",
    "4. **Validación:**\n",
    "   - Verifica si la elección tomada en el paso anterior cumple con las restricciones del problema y si es una solución válida.\n",
    "\n",
    "5. **Avance Recursivo:**\n",
    "   - Si la elección es válida, avanza al siguiente estado recursivamente y repite los pasos 3-4. Si llegas a un estado donde no puedes avanzar más, retrocedes (\"backtrack\").\n",
    "  \n",
    "6. **Restauración del Estado:**\n",
    "   - Cuando retrocedes, restaura el estado anterior para deshacer la elección que no condujo a una solución válida.\n",
    "  \n",
    "7. **Verificación de Todas las Soluciones:**\n",
    "   - Repite el proceso hasta que hayas explorado todas las posibles combinaciones o hasta que encuentres la cantidad deseada de soluciones"
   ]
  },
  {
   "cell_type": "markdown",
   "metadata": {},
   "source": [
    "-----------------------\n",
    "### ***Ejemplo Práctico: Resolver un Sudoku***\n",
    "-----------------------------"
   ]
  },
  {
   "cell_type": "code",
   "execution_count": 2,
   "metadata": {},
   "outputs": [
    {
     "name": "stdout",
     "output_type": "stream",
     "text": [
      "Sudoku original:\n",
      "3 0 6 5 0 8 4 0 0\n",
      "5 2 0 0 0 0 0 0 0\n",
      "0 8 7 0 0 0 0 3 1\n",
      "0 0 3 0 1 0 0 8 0\n",
      "9 0 0 8 6 3 0 0 5\n",
      "0 5 0 0 9 0 6 0 0\n",
      "1 3 0 0 0 0 2 5 0\n",
      "0 0 0 0 0 0 0 7 4\n",
      "0 0 5 2 0 6 3 0 0\n",
      "\n",
      "Solución:\n",
      "3 1 6 5 7 8 4 9 2\n",
      "5 2 9 1 3 4 7 6 8\n",
      "4 8 7 6 2 9 5 3 1\n",
      "2 6 3 4 1 5 9 8 7\n",
      "9 7 4 8 6 3 1 2 5\n",
      "8 5 1 7 9 2 6 4 3\n",
      "1 3 8 9 4 7 2 5 6\n",
      "6 9 2 3 5 1 8 7 4\n",
      "7 4 5 2 8 6 3 1 9\n"
     ]
    }
   ],
   "source": [
    "# Esta función toma una cuadrícula 2D como entrada y la imprime en un formato de sudoku\n",
    "def print_sudoku(grid):\n",
    "    for row in grid:\n",
    "        # El método join() combina todos los elementos de un iterable (en este caso, row) \n",
    "        # en una cadena, con el delimitador especificado (en este caso, un espacio).\n",
    "        print(\" \".join(map(str, row)))\n",
    "        \n",
    "# Esta función verifica si un número dado se puede colocar en la posición dada en la cuadrícula\n",
    "def is_valid_move(grid, row, col, num):\n",
    "    # Verificar si el número ya existe en la fila o la columna actuales\n",
    "    for i in range(9):\n",
    "        if grid[row][i] == num or grid[i][col] == num:\n",
    "            return False\n",
    "        \n",
    "    # Verificar si el número existe en el bloque 3x3 actual\n",
    "    start_row, start_col = 3 * (row // 3), 3 * (col // 3)\n",
    "    for i in range(3):\n",
    "        for j in range(3):\n",
    "            if grid[start_row + i][start_col + j] == num:\n",
    "                return False\n",
    "            \n",
    "    # Si el número no existe en la fila, columna o bloque, se puede mover\n",
    "    return True\n",
    "\n",
    "# Esta función resuelve la cuadrícula de sudoku dada utilizando recursión y backtracking\n",
    "def solve_sudoku(grid):\n",
    "    # Iterar a través de cada celda de la cuadrícula\n",
    "    for row in range(9):\n",
    "        for col in range(9):\n",
    "            # Si la celda está vacía, intentar colocar cada número de 1 a 9 en ella\n",
    "            if grid[row][col] == 0: \n",
    "                for num in range(1, 10):\n",
    "                    # Verificar si el número se puede colocar en la posición actual\n",
    "                    if is_valid_move(grid, row, col, num):\n",
    "                        grid[row][col] = num\n",
    "                        # Si se puede resolver la cuadrícula con el número actual, devolver True\n",
    "                        if solve_sudoku(grid):  \n",
    "                            return True\n",
    "                        # Si la cuadrícula no se puede resolver, restablecer la celda a 0 y probar el siguiente número\n",
    "                        grid[row][col] = 0  \n",
    "                # Si ningún número se puede colocar en la celda actual, devolver False\n",
    "                return False  \n",
    "            \n",
    "    # Si todas las celdas se han llenado, la cuadrícula está resuelta\n",
    "    return True  \n",
    "\n",
    "# Definir una cuadrícula de sudoku de ejemplo\n",
    "grid1 = [\n",
    "    [3, 0, 6, 5, 0, 8, 4, 0, 0],\n",
    "    [5, 2, 0, 0, 0, 0, 0, 0, 0],\n",
    "    [0, 8, 7, 0, 0, 0, 0, 3, 1],\n",
    "    [0, 0, 3, 0, 1, 0, 0, 8, 0],\n",
    "    [9, 0, 0, 8, 6, 3, 0, 0, 5],\n",
    "    [0, 5, 0, 0, 9, 0, 6, 0, 0],\n",
    "    [1, 3, 0, 0, 0, 0, 2, 5, 0],\n",
    "    [0, 0, 0, 0, 0, 0, 0, 7, 4],\n",
    "    [0, 0, 5, 2, 0, 6, 3, 0, 0]\n",
    "]\n",
    "\n",
    "# Imprimir la cuadrícula de sudoku original\n",
    "print(\"Sudoku original:\")\n",
    "print_sudoku(grid1)\n",
    "\n",
    "# Resolver la cuadrícula de sudoku\n",
    "if solve_sudoku(grid1):\n",
    "    # Imprimir la cuadrícula de sudoku resuelta\n",
    "    print(\"\\nSolución:\")\n",
    "    print_sudoku(grid1)\n",
    "\n",
    "# Si no se pudo resolver cuadribula de sudoku\n",
    "else:\n",
    "    # Imprimir No hay Solución \n",
    "    print(\"\\nNo hay solución.\")\n"
   ]
  },
  {
   "cell_type": "markdown",
   "metadata": {},
   "source": [
    "-------------------------------------------\n",
    "### ***Ejemplo Práctico: Cuadrado Mágico***\n",
    "-------------------------------------------\n",
    "#### ***Requisitos:***\n",
    "\n",
    "- Los números a utilizar son del 0 - 8.\n",
    "- No se puede repitir ningún número en la matriz. \n",
    "- La suma de las columnas, filas y diagonales debe ser igual 12."
   ]
  },
  {
   "cell_type": "code",
   "execution_count": 4,
   "metadata": {},
   "outputs": [
    {
     "name": "stdout",
     "output_type": "stream",
     "text": [
      "Solución encontrada:\n",
      "[[7 2 3]\n",
      " [0 4 8]\n",
      " [5 6 1]]\n"
     ]
    },
    {
     "data": {
      "text/plain": [
       "True"
      ]
     },
     "execution_count": 4,
     "metadata": {},
     "output_type": "execute_result"
    }
   ],
   "source": [
    "# Importar la librería numpy para trabajar con matrices de una manera más sencilla\n",
    "import numpy as np\n",
    "\n",
    "# Función que verifica que la suma de los diagonales, filas y columnas sea 12\n",
    "def is_valid(square):\n",
    "    return all(np.sum(square, axis=0) == 12) and all(np.sum(square, axis=1) == 12) and np.trace(square) == 12 and np.trace(np.fliplr(square)) == 12\n",
    "\n",
    "# Función que verifica si un número es válido en una posición específica del cuadrado\n",
    "def valid_number(square, fila, columna, num):\n",
    "    return (\n",
    "        num not in square[fila, :] and\n",
    "        num not in square[:, columna] and\n",
    "        num not in square[fila - fila % 3: fila - fila % 3 + 3, columna - columna % 3: columna - columna % 3 + 3]\n",
    "    )\n",
    " \n",
    "# Función recursiva para resolver el cuadrado mágico\n",
    "def solve_square(square, fila=0, columna=0):\n",
    "\n",
    "    # Verificar si hemos llegado al final del cuadrado\n",
    "    if fila == 3:\n",
    "        # Si es un cuadrado mágico, imprimir la solución y retornar True\n",
    "        if is_valid(square):\n",
    "            print(\"Solución encontrada:\")\n",
    "            print(square)\n",
    "            return True\n",
    "        # Si no es un cuadrado mágico, retornar False\n",
    "        return False\n",
    "\n",
    "    # Verificar si la celda actual ya contiene un número (diferente de 9)\n",
    "    if square[fila, columna] != 9:\n",
    "        # Mover a la siguiente celda\n",
    "        return solve_square(square, fila + (columna + 1) // 3, (columna + 1) % 3)\n",
    "\n",
    "    # Intentar asignar números del 0 al 8 en la celda actual\n",
    "    for num in range(9):\n",
    "        if valid_number(square, fila, columna, num):\n",
    "            # Asignar el número si es válido\n",
    "            square[fila, columna] = num\n",
    "            # Llamada recursiva para seguir resolviendo\n",
    "            if solve_square(square, fila + (columna + 1) // 3, (columna + 1) % 3):\n",
    "                return True\n",
    "            # Si no lleva a una solución, deshacer el cambio\n",
    "            square[fila, columna] = 9\n",
    "            \n",
    "    # Si no se encuentra ninguna solución para la celda actual, retornar False\n",
    "    return False\n",
    "\n",
    "# Ejemplo de un cuadrado mágico parcialmente lleno (9 representa celdas vacías)\n",
    "square = np.array([\n",
    "    [9, 9, 9],\n",
    "    [9, 9, 8],\n",
    "    [5, 6, 1],\n",
    "])\n",
    "\n",
    "# Llamar a la función para resolver el cuadrado mágico\n",
    "solve_square(square)"
   ]
  }
 ],
 "metadata": {
  "kernelspec": {
   "display_name": "SicVenv",
   "language": "python",
   "name": "python3"
  },
  "language_info": {
   "codemirror_mode": {
    "name": "ipython",
    "version": 3
   },
   "file_extension": ".py",
   "mimetype": "text/x-python",
   "name": "python",
   "nbconvert_exporter": "python",
   "pygments_lexer": "ipython3",
   "version": "3.9.7"
  }
 },
 "nbformat": 4,
 "nbformat_minor": 2
}
