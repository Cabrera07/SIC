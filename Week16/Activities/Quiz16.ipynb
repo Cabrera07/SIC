{
 "cells": [
  {
   "cell_type": "markdown",
   "id": "f34adb44",
   "metadata": {},
   "source": [
    "# **Inteligencia Artificial**\n",
    "\n",
    "## ***Capítulo 6***\n",
    "\n",
    "### **Machine Learning / Aprendizaje no Supervisado**\n",
    "\n",
    "- **Unidad 1.** Algoritmo de Machine Learning/aprendizaje automático no supervisado\n",
    "- **Unidad 2.** Clustering jerárquico (agrupación de la información en base a las palabras)\n",
    "- **Unidad 3.** Clustering no jerárquico\n",
    "- **Unidad 4.** Modelo factorial lineal para la reducción de la dimensionalidad\n",
    "\n",
    "# **Quiz**"
   ]
  },
  {
   "cell_type": "markdown",
   "id": "2e42031a",
   "metadata": {},
   "source": [
    "___"
   ]
  },
  {
   "cell_type": "markdown",
   "id": "ac1e9b02",
   "metadata": {},
   "source": [
    "## ***Q 06-01***\n",
    "\n",
    "### **¿Cuál de las siguientes afirmaciones sobre el aprendizaje es incorrecta?**\n",
    "1) El aprendizaje supervisado utiliza tanto datos de entrada como datos de aprendizaje dado un resultado, pero el aprendizaje no supervisado se utiliza en forma de aprendizaje que utiliza solo datos de entrada sin datos de aprendizaje.\n",
    "2) Se puede decir que el aprendizaje no supervisado es un método de aprendizaje que informa el problema pero no da la respuesta.\n",
    "3) Como algoritmo de aprendizaje no supervisado, se pueden utilizar el análisis de agrupamiento jerárquico y el agrupamiento de K-medias para la agrupación.\n",
    "4) La agrupación de K-medias tiene la ventaja de que es fácil determinar el número inicial de agrupaciones y fácil de interpretar los resultados.\n",
    "\n",
    "### **Respuesta:**"
   ]
  },
  {
   "cell_type": "markdown",
   "id": "903e6874",
   "metadata": {},
   "source": [
    "***La afirmacion sobre aprendizaje que esta incorrecta es la opción 4:***\n",
    "\n",
    "- La agrupación de K-medias tiene la ventaja de que es fácil determinar el número inicial de agrupaciones y fácil de interpretar los resultados.\n",
    "\n",
    "***Explicación:*** \n",
    "\n",
    "Esta afirmación es incorrecta porque en el algoritmo de agrupamiento de K-medias, uno de los desafíos principales es determinar el número óptimo de agrupaciones (valor de K) de antemano, lo cual no es una tarea fácil. El valor de K se debe especificar antes de ejecutar el algoritmo, y una elección incorrecta del número de agrupaciones puede conducir a resultados poco óptimos o incluso engañosos."
   ]
  },
  {
   "cell_type": "markdown",
   "id": "26e1df49",
   "metadata": {},
   "source": [
    "___"
   ]
  },
  {
   "cell_type": "markdown",
   "id": "87a3a925",
   "metadata": {},
   "source": [
    "## ***Q 06-02***\n",
    "\n",
    "### **¿Cuál de las siguientes afirmaciones sobre la agrupación es incorrecta?**\n",
    "\n",
    "1) La técnica de agrupación más utilizada es K-Means.\n",
    "2) La agrupación jerárquica se decide después de la agrupación sin determinar el número de grupos.\n",
    "3) El algoritmo de agrupamiento jerárquico tiene K-Medoids.\n",
    "4) La agrupación es una técnica que asigna y analiza grupos en función de la similitud o diferencia entre cada entidad.\n",
    "\n",
    "### **Respuesta:**"
   ]
  },
  {
   "cell_type": "markdown",
   "id": "62678495",
   "metadata": {},
   "source": [
    "***La afirmacion sobre la agrupación que esta incorrecta es la opción 3:***\n",
    "\n",
    "- El algoritmo de agrupamiento jerárquico tiene K-Medoids.\n",
    "\n",
    "***Explicaión:***\n",
    "\n",
    "Esta afirmación es incorrecta porque K-Medoids es un algoritmo diferente de agrupamiento particional, no es parte del algoritmo de agrupamiento jerárquico.En cambio, K-Medoids (como K-Medias) es un algoritmo de agrupamiento particional que divide el conjunto de datos en un número fijo de grupos."
   ]
  },
  {
   "cell_type": "markdown",
   "id": "203a055b",
   "metadata": {},
   "source": [
    "___"
   ]
  },
  {
   "cell_type": "markdown",
   "id": "8c115f28",
   "metadata": {},
   "source": [
    "## ***Q 06-03***\n",
    "\n",
    "### **El algoritmo EM pertenece al algoritmo codicioso. Por favor explique el motivo.**\n",
    "\n",
    "### ***Respuesta:***"
   ]
  },
  {
   "cell_type": "markdown",
   "id": "4b66252e",
   "metadata": {},
   "source": [
    "No, la afirmación de que el algoritmo EM (Esperanza-Maximización) pertenece a los algoritmos codiciosos es incorrecta.\n",
    "\n",
    "El algoritmo EM es un método iterativo para encontrar estimaciones de máxima verosimilitud de parámetros en modelos estadísticos que involucran variables latentes (no observadas). No se considera un algoritmo codicioso.\n",
    "\n",
    "Los algoritmos codiciosos (greedy algorithms) son algoritmos que siguen la heurística de elegir la opción óptima local en cada etapa con la esperanza de encontrar una solución global óptima. Estos algoritmos nunca reconsideran sus elecciones anteriores.\n",
    "\n",
    "*En contraste, el algoritmo EM es un método de máxima verosimilitud que alterna entre los siguientes pasos:*\n",
    "\n",
    "- ***Paso E (Esperanza):*** Calcula la esperanza de la verosimilitud al evaluar la verosimilitud ponderada, utilizando la estimación actual de los parámetros y los datos observados.\n",
    "- **Paso M (Maximización):** Reestima los parámetros maximizando la verosimilitud ponderada esperada encontrada en el paso E.\n",
    "\n",
    "Estos pasos se repiten iterativamente hasta que se alcanza la convergencia."
   ]
  },
  {
   "cell_type": "markdown",
   "id": "7410bc11",
   "metadata": {},
   "source": [
    "___"
   ]
  },
  {
   "cell_type": "markdown",
   "id": "410f8980",
   "metadata": {},
   "source": [
    "## ***Q 06-04***\n",
    "\n",
    "### **Escribe tres o más ejemplos de algoritmo de clustering**\n",
    "\n",
    "### ***Respuesta:***"
   ]
  },
  {
   "cell_type": "markdown",
   "id": "b239c413",
   "metadata": {},
   "source": [
    "***Alguno ejemplos de Algoritmos de Clustering son:***\n",
    "\n",
    "1. ***K-Means:*** Un algoritmo popular que divide el conjunto de datos en K clústeres, donde cada punto pertenece al clúster con la media más cercana.\n",
    "\n",
    "2. ***DBSCAN (Density-Based Spatial Clustering of Applications with Noise):*** Un algoritmo que agrupa puntos cercanos basándose en la densidad y puede encontrar clústeres de formas arbitrarias, además de identificar puntos ruidosos que no pertenecen a ningún clúster.\n",
    "\n",
    "3. ***Hierarchical Clustering:*** Un algoritmo que construye una jerarquía de clústeres utilizando un enfoque aglomerativo (bottom-up) o divisivo (top-down). Los resultados se pueden visualizar en un dendrograma.\n",
    "\n",
    "4. ***Gaussian Mixture Models (GMM):*** Un enfoque probabilístico que asume que los datos son una combinación de varias distribuciones gaussianas, cada una representando un clúster.\n",
    "\n",
    "5. ***Agglomerative Clustering:*** Un tipo de clustering jerárquico que comienza con cada punto como un clúster individual y fusiona los clústeres más similares hasta que se cumple algún criterio de parada."
   ]
  },
  {
   "cell_type": "markdown",
   "id": "ba019f33",
   "metadata": {},
   "source": [
    "___"
   ]
  },
  {
   "cell_type": "markdown",
   "id": "d4b76da3",
   "metadata": {},
   "source": [
    "## ***Q 06-05***\n",
    "\n",
    "### **Explique los dos métodos para elegir el número óptimo de cluters cuando se utilizan k-medias. Describa cómo encontrar el número óptimo de clusters utilizando los dos métodos.**\n",
    "\n",
    "### ***Respuesta:***"
   ]
  },
  {
   "cell_type": "markdown",
   "id": "20998ef3",
   "metadata": {},
   "source": [
    "***Los dos métodos para elegir el número óptimo de cluters cuando se utilizan k-medias son:***\n",
    "\n",
    "**1.** **Método del Codo (Elbow Method)**\n",
    "\n",
    "***Descripción:***\n",
    "\n",
    "El método del codo se basa en la gráfica de la suma de los errores cuadráticos (Within-Cluster Sum of Squares, WCSS) en función del número de clústeres. WCSS mide la variabilidad dentro de cada clúster.\n",
    "\n",
    "***Procedimiento:***\n",
    "1. Ejecutar el algoritmo K-means para diferentes valores de K,(por ejemplo, desde k=2 hasta k=10).\n",
    "   \n",
    "2. Para cada K, calcular la suma de los errores cuadráticos dentro de los clústeres (WCSS).\n",
    "\n",
    "3. Graficar los valores de WCSS en función de K.\n",
    "   \n",
    "4. Observar la gráfica y buscar el \"codo\", es decir, el punto donde la disminución de WCSS comienza a ser menos pronunciada. Este punto sugiere el número óptimo de clústeres."
   ]
  },
  {
   "cell_type": "markdown",
   "id": "8445453b",
   "metadata": {},
   "source": [
    "**2.** **Método de la Silueta (Silhouette Method)**\n",
    "\n",
    "***Descripción:***\n",
    "\n",
    "El método de la silueta mide qué tan bien separados están los clústeres. La silueta es una medida de la calidad de la agrupación, que evalúa qué tan cerca están los puntos de su propio clúster en comparación con los puntos de otros clústeres.\n",
    "\n",
    "***Procedimiento:***\n",
    "1. Ejecutar el algoritmo K-means para diferentes valores de K.\n",
    "   \n",
    "2. Para cada valor de K, calcular el coeficiente de silueta para cada punto. El coeficiente de silueta de un punto es un valor entre -1 y 1, donde un valor alto indica que el punto está bien agrupado y lejos de los clústeres vecinos.\n",
    "   \n",
    "3. Promediar los coeficientes de silueta de todos los puntos para cada K.\n",
    "   \n",
    "4. Graficar el promedio de los coeficientes de silueta en función de K.\n",
    "   \n",
    "5. El valor de K que maximiza el promedio de los coeficientes de silueta se considera el número óptimo de clústeres."
   ]
  },
  {
   "cell_type": "markdown",
   "id": "aa90491d",
   "metadata": {},
   "source": [
    "___"
   ]
  },
  {
   "cell_type": "markdown",
   "id": "ed04e881",
   "metadata": {},
   "source": [
    "## ***Fin***"
   ]
  }
 ],
 "metadata": {
  "kernelspec": {
   "display_name": "Python 3 (ipykernel)",
   "language": "python",
   "name": "python3"
  },
  "language_info": {
   "codemirror_mode": {
    "name": "ipython",
    "version": 3
   },
   "file_extension": ".py",
   "mimetype": "text/x-python",
   "name": "python",
   "nbconvert_exporter": "python",
   "pygments_lexer": "ipython3",
   "version": "3.10.12"
  }
 },
 "nbformat": 4,
 "nbformat_minor": 5
}
