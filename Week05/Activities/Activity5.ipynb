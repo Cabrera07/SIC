{
 "cells": [
  {
   "cell_type": "markdown",
   "id": "5ad8356f",
   "metadata": {},
   "source": [
    "# **Actividades Capítulo 5.** **Algoritmos de clasificación.**\n",
    "\n",
    "## ***Resumen de actividades***\n",
    "\n",
    "- **Unidad 27.** Ordenamiento de burbuja, (Bubble Sort) algoritmo de ordenamiento, selección e inserción\n",
    "- **Unidad 28.** Ordenar por selección, ordenamiento por inserción.\n",
    "- **Unidad 29.** Clasificación rápida\n"
   ]
  },
  {
   "cell_type": "markdown",
   "id": "e92fa74e",
   "metadata": {},
   "source": [
    "-----"
   ]
  },
  {
   "cell_type": "markdown",
   "id": "8c5aa9c8",
   "metadata": {},
   "source": [
    "# **Actividad: Ordenamiento de Burbuja**\n",
    "\n",
    "\n",
    "## ***Instrucciones***\n",
    "\n",
    "1. Explique brevemente y en forma clara cómo funciona el algoritmo de ordenamiento de burbuja.\n",
    "\n",
    "2. Desarrollo un función donde se use el ordenamiento de burbuja aplicada a una lista de valores enteros.\n",
    "\n",
    "#### **Funcionamiento del Ordenamiento Burbuja:**\n",
    "\n",
    "Ordena valores en un array comparando cada elemento con su elemento adyacente. Si los elementos adyacentes no están en el orden correcto, se intercambian. Este proceso continúa hasta que todo el array está ordenado.\n"
   ]
  },
  {
   "cell_type": "code",
   "execution_count": 12,
   "id": "90cd2e33",
   "metadata": {},
   "outputs": [
    {
     "name": "stdout",
     "output_type": "stream",
     "text": [
      "Lista Ordenada: [11, 12, 22, 25, 34, 64, 90] \n",
      "\n"
     ]
    }
   ],
   "source": [
    "# Definición de la función de ordenamiento de burbuja\n",
    "def bubble_sort(list):\n",
    "    n = len(list)\n",
    "    \n",
    "    # Bucle externo para recorrer la lista\n",
    "    for i in range(n-1):\n",
    "        # Bucle interno para comparar y intercambiar elementos\n",
    "        for j in range(0, n-i-1):\n",
    "            # Compara elementos adyacentes y realiza el intercambio si es necesario\n",
    "            if list[j] > list[j+1] :\n",
    "                list[j], list[j+1] = list[j+1], list[j]\n",
    "\n",
    "# Definir lista\n",
    "list = [64, 34, 25, 12, 22, 11, 90]\n",
    "\n",
    "# Llamada a la función \n",
    "bubble_sort(list)\n",
    "\n",
    "# Imprimir lista ordenada\n",
    "print (\"Lista Ordenada:\", list, \"\\n\")"
   ]
  },
  {
   "cell_type": "markdown",
   "id": "f2b54ea3",
   "metadata": {},
   "source": [
    "-------"
   ]
  },
  {
   "cell_type": "markdown",
   "id": "a11871f3",
   "metadata": {},
   "source": [
    "# **Actividad: Función Swap.**\n",
    "\n",
    "1. Escriba una función que permita el intercambion de elementos en una lista.\n",
    "2. Los argumentos de esta función serán, la lista y los indices de los elementos que se desean intercambiar.\n",
    "3. En la siguiente celda desarrollo el código requerido, recuerde agregar comentarias breves que expliquen su funcionamiento.\n"
   ]
  },
  {
   "cell_type": "code",
   "execution_count": 13,
   "id": "1e7a5371",
   "metadata": {},
   "outputs": [
    {
     "name": "stdout",
     "output_type": "stream",
     "text": [
      "Antes del Intercambio: [10, 20, 40, 50, 30]\n",
      "Despued del Intercambio: [10, 20, 30, 50, 40]\n"
     ]
    }
   ],
   "source": [
    "def swap(lst, i, j):\n",
    "    # Utilizamos una variable temporal para almacenar el valor del elemento en la posición i\n",
    "    temp = lst[i]\n",
    "\n",
    "    # Asignamos el valor del elemento en la posición j al elemento en la posición i\n",
    "    lst[i] = lst[j]\n",
    "\n",
    "    # Asignamos el valor de la variable temporal \n",
    "    lst[j] = temp\n",
    "\n",
    "    # Devolvemos la lista modificada\n",
    "    return lst\n",
    "\n",
    "# Definimos la lista \n",
    "my_list = [10, 20, 40, 50, 30]\n",
    "\n",
    "# Imprimir antes del intercambio \n",
    "print(\"Antes del Intercambio:\", my_list)\n",
    "\n",
    "# Llamar a la función \n",
    "my_list = swap(my_list, 2, 4)\n",
    "\n",
    "# Imprimir después del intercambio \n",
    "print(\"Despued del Intercambio:\", my_list)\n"
   ]
  },
  {
   "cell_type": "markdown",
   "id": "b365383f",
   "metadata": {},
   "source": [
    "-------"
   ]
  },
  {
   "cell_type": "markdown",
   "id": "a207d974",
   "metadata": {},
   "source": [
    "\n",
    "# **Actividad:** \n",
    "\n",
    "1. Explique brevemente el funcionamiento del algoritmo Quick Sort.\n",
    "2. Desarrollo el código para implementar el algoritmo Quick Sort.\n",
    "3. Revise las unidad 29, sección 1.1\n",
    "\n",
    "#### **Funcionamiento del Algoritmo Quicksort:**\n",
    "Ordena una lista dividiéndola en dos subconjuntos, utilizando un elemento llamado pivote. Los elementos menores que el pivote van a la izquierda, los mayores a la derecha. Este proceso se repite de forma recursiva en las sublistas resultantes hasta que la lista esté ordenada"
   ]
  },
  {
   "cell_type": "code",
   "execution_count": 14,
   "id": "a4f925a4",
   "metadata": {},
   "outputs": [
    {
     "name": "stdout",
     "output_type": "stream",
     "text": [
      "Lista Ordenado: [10, 12, 13, 15, 20, 22, 25] \n",
      "\n"
     ]
    }
   ],
   "source": [
    "# Definición de la función QuickSort\n",
    "def quicksort(S, low, high):\n",
    "    \n",
    "    # Se verifica que la sublista tenga más de un elemento\n",
    "    if low < high: \n",
    "        \n",
    "        # Se encuentra el punto de partición    \n",
    "        pivotpoint = partition(S, low, high)\n",
    "        \n",
    "        # Se ordenan las sublistas izquierda y derecha del pivote\n",
    "        quicksort(S, low, pivotpoint - 1)\n",
    "        quicksort(S, pivotpoint + 1, high)\n",
    "\n",
    "# Definición de la función para la partición \n",
    "def partition(S, low, high):\n",
    "   \n",
    "    # Se selecciona el pivote como el primer elemento de la sublista\n",
    "    pivot = S[low]\n",
    "    \n",
    "    # Se inicializan variables\n",
    "    left, right = low + 1, high\n",
    "    \n",
    "    # Se itera mientras el índice izquierdo sea menor o igual al derecho\n",
    "    while left < right:\n",
    "        \n",
    "        # Se itera mientras el elemento en el índice izquierdo sea menor o igual al pivote\n",
    "        while left <= right and S[left] <= pivot:\n",
    "            left += 1\n",
    "            \n",
    "        # Se itera mientras el elemento en el índice derecho sea mayor o igual al pivote\n",
    "        while left <= right and S[right] >= pivot:\n",
    "            right -= 1\n",
    "            \n",
    "        # Se intercambian los elementos en los índices izquierdo y derecho\n",
    "        if left < right:\n",
    "            S[left], S[right] = S[right], S[left]\n",
    "            \n",
    "            \n",
    "    pivotpoit = right\n",
    "    S[low], S[pivotpoit] = S[pivotpoit], S[low]\n",
    "    return pivotpoit    \n",
    "\n",
    "# Definir lista \n",
    "S = [15, 10, 12, 20, 25,13, 22]\n",
    "\n",
    "# Llamar a la función \n",
    "quicksort(S, 0, len(S) -1)\n",
    "\n",
    "# Imprime la lista ordenada\n",
    "print(\"Lista Ordenado:\", S, \"\\n\") "
   ]
  },
  {
   "cell_type": "markdown",
   "id": "eb0a16d8",
   "metadata": {},
   "source": [
    "--------"
   ]
  },
  {
   "cell_type": "markdown",
   "id": "26a6bb9e",
   "metadata": {},
   "source": [
    "# **Actividad: Quick Sort usando un valor de pivote aleatorio.**\n",
    "\n",
    "1. Explique brevemente el funcionamiento del algoritmo Quick Sort en la modaladidad de usar un valor de pivote aleatorio.\n",
    "2. Comente las ventajas de esta variación.\n",
    "3. Desarrollo el código necesarion para este algoritmo.\n",
    "4. Agregue comentarios sobre su funcionamiento.\n",
    "\n",
    "#### **Funcionamiento del Algoritmo Quicksort Usando Pivote Aleatorio:**\n",
    "Se elige un elemento aleatorio como pivote en lugar de usar un pivote fijo. El proceso de partición y ordenamiento sigue siendo el mismo."
   ]
  },
  {
   "cell_type": "code",
   "execution_count": 15,
   "id": "6670eace",
   "metadata": {},
   "outputs": [
    {
     "name": "stdout",
     "output_type": "stream",
     "text": [
      "Lista Ordenado: [10, 12, 13, 15, 20, 22, 25] \n",
      "\n"
     ]
    }
   ],
   "source": [
    "from random import randint\n",
    "\n",
    "# Definición de la función QuickSort\n",
    "def quicksort2(S, low, high):\n",
    "    \n",
    "    # Se verifica que la sublista tenga más de un elemento\n",
    "    if low < high:\n",
    "        \n",
    "        # Se encuentra el punto de partición \n",
    "        pivotpoint = partition2(S, low, high)\n",
    "        \n",
    "        # Se ordenan las sublistas izquierda y derecha del pivote\n",
    "        quicksort2(S, low, pivotpoint - 1)\n",
    "        quicksort2(S, pivotpoint + 1, high)\n",
    "  \n",
    "# Definición de la función para la partición       \n",
    "def partition2(S, low, high):\n",
    "    \n",
    "    # Se selecciona el pivote de forma aleatoria\n",
    "    rand = randint(low, high)\n",
    "    \n",
    "    # Intercambia el elemento en el índice bajo con el elemento en el índice aleatorio\n",
    "    S[low], S[rand] = S[rand], S[low]\n",
    "    \n",
    "    # Se inicializan variables\n",
    "    pivot, left, right = S[low], low, high\n",
    "    \n",
    "    # Se itera mientras el índice izquierdo sea menor o igual al derecho\n",
    "    while left < right:\n",
    "        \n",
    "        while left < high and S[left] <= pivot:\n",
    "            left += 1\n",
    "          \n",
    "        while right > low and pivot <= S[right]:\n",
    "            right -= 1\n",
    "              \n",
    "        if left < right:\n",
    "            S[left], S[right] = S[right], S[left]\n",
    "            \n",
    "    S[low], S[right] = S[right], S[low]\n",
    "    return right \n",
    "    \n",
    "# Definir lista \n",
    "S = [25, 22, 20, 15, 13, 12, 10]\n",
    "\n",
    "# Llamar a la función\n",
    "quicksort2(S, 0, len(S) -1)\n",
    "\n",
    "# Imprime la lista ordenada\n",
    "print(\"Lista Ordenado:\", S, \"\\n\")   "
   ]
  },
  {
   "cell_type": "markdown",
   "id": "8024305d",
   "metadata": {},
   "source": [
    "----"
   ]
  }
 ],
 "metadata": {
  "kernelspec": {
   "display_name": "Python 3 (ipykernel)",
   "language": "python",
   "name": "python3"
  },
  "language_info": {
   "codemirror_mode": {
    "name": "ipython",
    "version": 3
   },
   "file_extension": ".py",
   "mimetype": "text/x-python",
   "name": "python",
   "nbconvert_exporter": "python",
   "pygments_lexer": "ipython3",
   "version": "3.9.7"
  }
 },
 "nbformat": 4,
 "nbformat_minor": 5
}
