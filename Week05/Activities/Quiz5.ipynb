{
 "cells": [
  {
   "cell_type": "markdown",
   "id": "5ad8356f",
   "metadata": {},
   "source": [
    "# **Coding and Programming**\n",
    "\n",
    "## ***Capítulo 5***\n",
    "\n",
    "### ***Algoritmos de clasificación***\n",
    "\n",
    "- **Unidad 27.** Ordenamiento de burbuja, (Bubble Sort) algoritmo de ordenamiento, selección e inserción\n",
    "- **Unidad 28.** Ordenar por selección, ordenamiento por inserción.\n",
    "- **Unidad 29.** Clasificación rápida\n"
   ]
  },
  {
   "cell_type": "markdown",
   "id": "2e42031a",
   "metadata": {},
   "source": [
    "___"
   ]
  },
  {
   "cell_type": "markdown",
   "id": "8c5aa9c8",
   "metadata": {},
   "source": [
    "## ***Q 27-01***\n",
    "\n",
    "***¿Cuántas comparaciones se ejecutaron en el siguiente proceso de ordenamiento de burbuja?***\n",
    "```\n",
    "def bubbleSort(S):\n",
    "    n = len(S)\n",
    "    for i in range(n):\n",
    "        print(S)\n",
    "        for j in range(n-1):\n",
    "            if S[j] > S[j+1]:\n",
    "               S[j] , S[j+1] = S[j+1] , S[j]\n",
    "\n",
    "S = [50, 30, 40, 10, 20]\n",
    "bubbleSort(S)\n",
    "print(S)\n",
    "```\n",
    "#### Output\n",
    "```\n",
    "[50, 30, 40, 10, 20]\n",
    "[30, 40, 10, 20, 50]\n",
    "[30, 10, 20, 40, 50]\n",
    "[10, 20, 30, 40, 50]\n",
    "[10, 20, 30, 40, 50]\n",
    "[10, 20, 30, 40, 50]\n",
    "```"
   ]
  },
  {
   "cell_type": "code",
   "execution_count": 3,
   "id": "0461db4d",
   "metadata": {},
   "outputs": [
    {
     "name": "stdout",
     "output_type": "stream",
     "text": [
      "[50, 30, 40, 10, 20]\n",
      "[30, 40, 10, 20, 50]\n",
      "[30, 10, 20, 40, 50]\n",
      "[10, 20, 30, 40, 50]\n",
      "[10, 20, 30, 40, 50]\n",
      "Comparaciones realizadas: 20\n",
      "[10, 20, 30, 40, 50]\n"
     ]
    }
   ],
   "source": [
    "# Definición de la función de ordenamiento de burbuja\n",
    "def bubbleSort(S):\n",
    "    n = len(S)\n",
    "    comparaciones = 0\n",
    "    \n",
    "    # Bucle externo para recorrer la lista\n",
    "    for i in range(n):\n",
    "        print(S)\n",
    "        \n",
    "        # Bucle interno para comparar y intercambiar elementos\n",
    "        for j in range(n-1):\n",
    "            comparaciones += 1\n",
    "            if S[j] > S[j+1]:\n",
    "               S[j] , S[j+1] = S[j+1] , S[j]\n",
    "    \n",
    "    print(\"Comparaciones realizadas:\", comparaciones)\n",
    "\n",
    "# Definir lista\n",
    "S = [50, 30, 40, 10, 20]\n",
    "\n",
    "# Llamada a la función \n",
    "bubbleSort(S)\n",
    "\n",
    "# Imprime la lista ordenada\n",
    "print(S)"
   ]
  },
  {
   "cell_type": "markdown",
   "id": "ac65e987",
   "metadata": {},
   "source": [
    "##### ***Respuesta:*** *Se ejecutaron 20 comparaciones*"
   ]
  },
  {
   "cell_type": "markdown",
   "id": "07be4f9d",
   "metadata": {},
   "source": [
    "___"
   ]
  },
  {
   "cell_type": "markdown",
   "id": "a11871f3",
   "metadata": {},
   "source": [
    "## ***Q 27-02***\n",
    "\n",
    "***¿Cuántas comparaciones se ejecutaron en el siguiente proceso de ordenamiento de inserción?***\n",
    "```\n",
    "def insertionSort2(S):\n",
    "    n = len(S)\n",
    "    for i in range(1,n):\n",
    "        print(S)\n",
    "        x = S[i]\n",
    "        j = i - 1\n",
    "        while j >= 0 and S[j] > x:\n",
    "            S[j+1] = S[j]\n",
    "            j -= 1\n",
    "        S[j + 1] = x\n",
    "\n",
    "S = [50, 30, 40, 10, 20]\n",
    "insertionSort2(S)\n",
    "print(S)\n",
    "```\n",
    "#### Output\n",
    "```\n",
    "[50, 30, 40, 10, 20]\n",
    "[30, 40, 10, 20, 50]\n",
    "[30, 10, 20, 40, 50]\n",
    "[10, 20, 30, 40, 50]\n",
    "[10, 20, 30, 40, 50]\n",
    "[10, 20, 30, 40, 50]\n",
    "```"
   ]
  },
  {
   "cell_type": "code",
   "execution_count": 2,
   "id": "30a1c729",
   "metadata": {},
   "outputs": [
    {
     "name": "stdout",
     "output_type": "stream",
     "text": [
      "[50, 30, 40, 10, 20]\n",
      "[30, 50, 40, 10, 20]\n",
      "[30, 40, 50, 10, 20]\n",
      "[10, 30, 40, 50, 20]\n",
      "comparaciones: 8\n",
      "[10, 20, 30, 40, 50]\n"
     ]
    }
   ],
   "source": [
    "# Definición de la función\n",
    "def insertionSort2(S):\n",
    "    n = len(S)\n",
    "    comparaciones = 0 \n",
    "    \n",
    "    # Iterar a través de la lista desde el segundo elemento hasta el final\n",
    "    for i in range(1, n):\n",
    "        print(S)\n",
    "        x = S[i]\n",
    "        j = i - 1\n",
    "        # Buscar la posición correcta para insertar el elemento actual en la lista ordenada\n",
    "        while j >= 0 and S[j] > x:\n",
    "            S[j+1] = S[j]\n",
    "            j -= 1\n",
    "            comparaciones += 1\n",
    "        S[j + 1] = x\n",
    "    print(\"Comparaciones:\", comparaciones)\n",
    "\n",
    "S = [50, 30, 40, 10, 20]\n",
    "insertionSort2(S)\n",
    "print(S)"
   ]
  },
  {
   "cell_type": "markdown",
   "id": "710feeb0",
   "metadata": {},
   "source": [
    "##### ***Respuesta:*** *Se ejecutaron 8 comparaciones*"
   ]
  },
  {
   "cell_type": "markdown",
   "id": "05c7586b",
   "metadata": {},
   "source": [
    "___"
   ]
  },
  {
   "cell_type": "markdown",
   "id": "a207d974",
   "metadata": {},
   "source": [
    "## ***Q 28-01***\n",
    "\n",
    "***¿Cuántas veces se ejecuta la función `merge2()` en el siguiente proceso de ordenamiento por fusión?***\n",
    "```\n",
    "S = [6,2,11,7,5,4,8,16,10,3]\n",
    "mergeSort2(S, 0, len(S)-1)\n",
    "print(S)\n",
    "```"
   ]
  },
  {
   "cell_type": "code",
   "execution_count": 2,
   "id": "f813df93",
   "metadata": {},
   "outputs": [
    {
     "name": "stdout",
     "output_type": "stream",
     "text": [
      "Lista Ordenada: [2, 3, 4, 5, 6, 7, 8, 10, 11, 16] \n",
      "\n",
      "Conteo: 9\n"
     ]
    }
   ],
   "source": [
    "# Inicializar variable \n",
    "conteo = 0\n",
    "\n",
    "# Función MergeSort\n",
    "def mergesort2(S, low, high):\n",
    "    # Verificar si hay más de un elemento en la lista\n",
    "    if low < high:\n",
    "        \n",
    "        # Divide la lista en dos mitades\n",
    "        mid = (low + high) // 2\n",
    "        \n",
    "        # Llama recursivamente a mergesort2 para cada mitad\n",
    "        mergesort2(S, low, mid)\n",
    "        mergesort2(S, mid + 1, high)\n",
    "        \n",
    "        # Contador \n",
    "        global conteo\n",
    "        conteo += 1\n",
    "        \n",
    "        # Combina las dos mitades ordenadas\n",
    "        merge2(S, low, mid, high) \n",
    "\n",
    "# Función para fusionar dos mitades ordenadas de una lista\n",
    "def merge2(S, low, mid, high):\n",
    "    # Lista temporal vacía\n",
    "    R = []\n",
    "    \n",
    "    # Inicializar variables\n",
    "    i, j = low, mid + 1\n",
    "    \n",
    "    # Combina las dos mitades ordenadas\n",
    "    while i <= mid and j <= high:\n",
    "        if S[i] < S[j]:\n",
    "            R.append(S[i]); i += 1\n",
    "        else: \n",
    "            R.append(S[j]); j += 1\n",
    "            \n",
    "    # Agrega los elementos restantes de la primera mitad (si los hay)\n",
    "    if i > mid: \n",
    "        for k in range(j, high + 1):\n",
    "            R.append(S[j])\n",
    "            \n",
    "    else: \n",
    "        # Agrega los elementos restantes de la segunda mitad (si los hay)\n",
    "        for k in range(i, mid + 1):\n",
    "            R.append(S[i])\n",
    "    \n",
    "    # Copia los elementos ordenados de vuelta a la lista original\n",
    "    for k in range(len(R)):\n",
    "        S[low + k] = R[k]\n",
    "\n",
    "\n",
    "\n",
    "\n",
    "# Definir lista \n",
    "S = [6, 2, 11, 7, 5, 4, 8, 16, 10, 3]\n",
    "\n",
    "# Llamar a la función \n",
    "mergesort2(S, 0, len(S) - 1)\n",
    "\n",
    "# Imprimir la lista ordenada\n",
    "print(\"Lista Ordenada:\", S, \"\\n\")\n",
    "\n",
    "print(\"Conteo:\", conteo)"
   ]
  },
  {
   "cell_type": "markdown",
   "id": "d7bddee2",
   "metadata": {},
   "source": [
    "##### ***Respuesta:*** *Se ejecuto 9 veces la función merge2()*"
   ]
  },
  {
   "cell_type": "markdown",
   "id": "f0d1a419",
   "metadata": {},
   "source": [
    "___"
   ]
  },
  {
   "cell_type": "markdown",
   "id": "26a6bb9e",
   "metadata": {},
   "source": [
    "## ***Q 29-01***\n",
    "\n",
    "Dada la lista a continuación, escriba la salida después de ejecutar la función `partition1()`\n",
    "```\n",
    "S = [15,10,12,20,25,13,22]\n",
    "partition1(S, 0, len(S)-1)\n",
    "print(S)\n",
    "```\n",
    "#### Output\n",
    "```\n",
    "[15,10,12,20,25,13,22] 0 6 pivot = 15\n",
    "...\n",
    "```"
   ]
  },
  {
   "cell_type": "code",
   "execution_count": 1,
   "id": "177edeb1",
   "metadata": {},
   "outputs": [
    {
     "name": "stdout",
     "output_type": "stream",
     "text": [
      "[15, 10, 12, 20, 25, 13, 22] 1 6 Pivot =  15\n",
      "[13, 10, 12, 15, 25, 20, 22] 1 2 Pivot =  13\n",
      "[12, 10, 13, 15, 25, 20, 22] 1 1 Pivot =  12\n",
      "[10, 12, 13, 15, 25, 20, 22] 5 6 Pivot =  25\n",
      "[10, 12, 13, 15, 22, 20, 25] 5 5 Pivot =  22\n",
      "Lista Ordenado: [10, 12, 13, 15, 20, 22, 25] \n",
      "\n"
     ]
    }
   ],
   "source": [
    "# Definición de la función QuickSort\n",
    "def quicksort2(S, low, high):\n",
    "    # Verificar si hay más de un elemento en la lista\n",
    "    if low < high:\n",
    "        # Se encuentra el punto de partición\n",
    "        pivotpoint = partition2(S, low, high)\n",
    "        \n",
    "        # Se ordenan las sublistas izquierda y derecha del pivote\n",
    "        quicksort2(S, low, pivotpoint - 1)\n",
    "        quicksort2(S, pivotpoint + 1, high)\n",
    "  \n",
    "# Definición de la función para la partición      \n",
    "def partition2(S, low, high):\n",
    "    \n",
    "    # Se define el pivote como el primer elemento de la sublista\n",
    "    pivot = S[low]\n",
    "    \n",
    "    # Se inicializan variables\n",
    "    left, right = low + 1, high\n",
    "    \n",
    "    # Imprime el estado actual del array y los índices durante la partición\n",
    "    print(S, left, right, \"Pivot = \", pivot)\n",
    "    \n",
    "    # Se itera mientras el índice izquierdo sea menor o igual al derecho\n",
    "    while left < right:\n",
    "        \n",
    "         # Se itera mientras el elemento en el índice izquierdo sea menor o igual al pivote\n",
    "        while left <= right and S[left] <= pivot:\n",
    "            left += 1\n",
    "            \n",
    "        # Se itera mientras el elemento en el índice derecho sea mayor o igual al pivote\n",
    "        while left <= right and S[right] >= pivot:\n",
    "            right -= 1\n",
    "            \n",
    "        # Se intercambian los elementos en los índices izquierdo y derecho\n",
    "        if left < right:\n",
    "            S[left], S[right] = S[right], S[left]\n",
    "            \n",
    "    \n",
    "    pivotpoint = right\n",
    "    S[low], S[pivotpoint] = S[pivotpoint], S[low]\n",
    "    return pivotpoint\n",
    "    \n",
    "# Definir lista\n",
    "S = [15, 10, 12, 20, 25, 13, 22]\n",
    "\n",
    "# Llamar a la función \n",
    "quicksort2(S, 0, len(S) -1)\n",
    "\n",
    "# Imprimor la lista ordenada\n",
    "print(\"Lista Ordenado:\", S, \"\\n\") "
   ]
  },
  {
   "cell_type": "markdown",
   "id": "5c53b843",
   "metadata": {},
   "source": [
    "___"
   ]
  },
  {
   "cell_type": "markdown",
   "id": "896ee09a",
   "metadata": {},
   "source": [
    "# **Fin**"
   ]
  }
 ],
 "metadata": {
  "kernelspec": {
   "display_name": "Python 3 (ipykernel)",
   "language": "python",
   "name": "python3"
  },
  "language_info": {
   "codemirror_mode": {
    "name": "ipython",
    "version": 3
   },
   "file_extension": ".py",
   "mimetype": "text/x-python",
   "name": "python",
   "nbconvert_exporter": "python",
   "pygments_lexer": "ipython3",
   "version": "3.9.7"
  }
 },
 "nbformat": 4,
 "nbformat_minor": 5
}
