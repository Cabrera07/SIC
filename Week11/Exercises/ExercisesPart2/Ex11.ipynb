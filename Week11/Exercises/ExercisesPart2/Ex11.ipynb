{
 "cells": [
  {
   "cell_type": "code",
   "execution_count": null,
   "metadata": {},
   "outputs": [],
   "source": [
    "import matplotlib.pyplot as plt\n",
    "import numpy as np\n",
    "%matplotlib inline"
   ]
  },
  {
   "cell_type": "markdown",
   "metadata": {},
   "source": [
    "### 1. Basic Matplotlib visualization:"
   ]
  },
  {
   "cell_type": "markdown",
   "metadata": {},
   "source": [
    "#### 1.1. Bar plot:"
   ]
  },
  {
   "cell_type": "code",
   "execution_count": null,
   "metadata": {},
   "outputs": [],
   "source": [
    "import matplotlib.pyplot as plt\n",
    "import numpy as np\n",
    "%matplotlib inline\n",
    "\n",
    "x = np.array(['Q1', 'Q2', 'Q3','Q4'])\n",
    "y = np.array([ 234.0, 254.7, 144.6, 317.6])\n",
    "plt.bar(x,y,color = 'purple')\n",
    "plt.title('BAR CHART')\n",
    "plt.show()"
   ]
  },
  {
   "cell_type": "markdown",
   "metadata": {},
   "source": [
    "#### 1.2. Histogram:"
   ]
  },
  {
   "cell_type": "code",
   "execution_count": null,
   "metadata": {},
   "outputs": [],
   "source": [
    "x = np.random.randn(10000)\n",
    "plt.hist(x,bins=20,color='green',density=True)\n",
    "plt.title('HISTOGRAM')\n",
    "plt.show()"
   ]
  },
  {
   "cell_type": "code",
   "execution_count": null,
   "metadata": {},
   "outputs": [],
   "source": [
    "x = np.random.randn(10000)\n",
    "plt.hist(x,bins=100,color='blue',density=False,alpha=0.3)\n",
    "plt.title('HISTOGRAM')\n",
    "plt.show()"
   ]
  },
  {
   "cell_type": "markdown",
   "metadata": {},
   "source": [
    "#### 1.3. Box plot:"
   ]
  },
  {
   "cell_type": "code",
   "execution_count": null,
   "metadata": {},
   "outputs": [],
   "source": [
    "x = np.random.randn(10000)*10+3\n",
    "y = np.random.randn(10000)*10+5\n",
    "z = np.random.randn(10000)*10+1\n",
    "plt.boxplot([x,y,z],0)\n",
    "plt.title('BOX PLOTS')\n",
    "plt.show()"
   ]
  },
  {
   "cell_type": "code",
   "execution_count": null,
   "metadata": {},
   "outputs": [],
   "source": [
    "plt.boxplot([x,y,z],0,vert=False)\n",
    "plt.title('BOX PLOTS')\n",
    "plt.show()"
   ]
  },
  {
   "cell_type": "markdown",
   "metadata": {},
   "source": [
    "#### 1.4. Line plot:"
   ]
  },
  {
   "cell_type": "code",
   "execution_count": null,
   "metadata": {},
   "outputs": [],
   "source": [
    "x = np.linspace(0,10,100)\n",
    "y = np.sin(x)\n",
    "plt.plot(x,y,color='orange',linewidth=2)               # linestyle = '-'\n",
    "plt.xlabel('X')\n",
    "plt.ylabel('Sin')\n",
    "plt.title('LINE PLOT')\n",
    "plt.show()"
   ]
  },
  {
   "cell_type": "code",
   "execution_count": null,
   "metadata": {},
   "outputs": [],
   "source": [
    "x = np.linspace(0,10,100)\n",
    "y = np.sin(x)\n",
    "plt.plot(x,y,color='blue',linestyle=':',linewidth=2)\n",
    "plt.xlabel('X')\n",
    "plt.ylabel('Sin')\n",
    "plt.title('LINE PLOT')\n",
    "plt.show()"
   ]
  },
  {
   "cell_type": "code",
   "execution_count": null,
   "metadata": {},
   "outputs": [],
   "source": [
    "x = np.linspace(0,10,100)\n",
    "y = np.sin(x)\n",
    "plt.plot(x,y,color='red',linestyle='-.',linewidth=2)\n",
    "plt.xlabel('X')\n",
    "plt.ylabel('Sin')\n",
    "plt.title('LINE PLOT')\n",
    "plt.show()"
   ]
  },
  {
   "cell_type": "code",
   "execution_count": null,
   "metadata": {},
   "outputs": [],
   "source": [
    "x = np.linspace(0,10,100)\n",
    "y = np.sin(x)\n",
    "plt.plot(x,y,color='green',linestyle='--',linewidth=2)\n",
    "plt.xlabel('X')\n",
    "plt.ylabel('Sin')\n",
    "plt.title('LINE PLOT')\n",
    "plt.show()"
   ]
  },
  {
   "cell_type": "code",
   "execution_count": null,
   "metadata": {},
   "outputs": [],
   "source": [
    "x = np.linspace(0,10,100)\n",
    "y = np.sin(x)\n",
    "plt.plot(x,y,color='purple',linestyle='-',linewidth=2)\n",
    "plt.xlabel('X')\n",
    "plt.ylabel('Sin')\n",
    "plt.title('LINE PLOT')\n",
    "plt.xlim([0,5])                                     # Horizontal axis limits.\n",
    "plt.ylim([-2,+2])                                   # Vertical axis limits.\n",
    "plt.show()"
   ]
  },
  {
   "cell_type": "markdown",
   "metadata": {},
   "source": [
    "#### 1.5. Scatter plot 1:"
   ]
  },
  {
   "cell_type": "markdown",
   "metadata": {},
   "source": [
    "Scatter plots with plot() function and linestyle ='none':"
   ]
  },
  {
   "cell_type": "code",
   "execution_count": null,
   "metadata": {},
   "outputs": [],
   "source": [
    "x = np.linspace(0,10,100)\n",
    "y = np.sin(x)\n",
    "plt.plot(x,y,color='red',marker='o',linestyle='none',markersize=5, alpha=0.5)\n",
    "plt.xlabel('X')\n",
    "plt.ylabel('Sin')\n",
    "plt.title('SCATTER PLOT')\n",
    "plt.show()"
   ]
  },
  {
   "cell_type": "code",
   "execution_count": null,
   "metadata": {},
   "outputs": [],
   "source": [
    "x = np.linspace(0,10,100)\n",
    "y = np.sin(x)\n",
    "plt.plot(x,y,color='#FF8C00',marker='o',linestyle='none',markersize=5, alpha=0.5)     # RGB color.\n",
    "plt.xlabel('X')\n",
    "plt.ylabel('Sin')\n",
    "plt.title('SCATTER PLOT')\n",
    "plt.show()"
   ]
  },
  {
   "cell_type": "code",
   "execution_count": null,
   "metadata": {
    "scrolled": true
   },
   "outputs": [],
   "source": [
    "x = np.linspace(0,10,100)\n",
    "y = np.sin(x)\n",
    "plt.plot(x,y,marker='o',linestyle='none',markersize=15,markerfacecolor='yellow',markeredgecolor='purple',markeredgewidth=2)\n",
    "plt.xlabel('X')\n",
    "plt.ylabel('Sin')\n",
    "plt.title('SCATTER PLOT')\n",
    "plt.show()"
   ]
  },
  {
   "cell_type": "markdown",
   "metadata": {},
   "source": [
    "#### 1.6. Scatter plot 2:"
   ]
  },
  {
   "cell_type": "markdown",
   "metadata": {},
   "source": [
    "Scatter plots with scatter() function:"
   ]
  },
  {
   "cell_type": "code",
   "execution_count": null,
   "metadata": {},
   "outputs": [],
   "source": [
    "x = np.linspace(0,10,100)\n",
    "y = np.sin(x)\n",
    "plt.scatter(x,y,c='red',marker='.',alpha=0.5)\n",
    "plt.xlabel('X')\n",
    "plt.ylabel('Sin')\n",
    "plt.title('SCATTER PLOT')\n",
    "plt.show()"
   ]
  },
  {
   "cell_type": "code",
   "execution_count": null,
   "metadata": {},
   "outputs": [],
   "source": [
    "x = np.linspace(0,10,100)\n",
    "y = np.sin(x)\n",
    "plt.scatter(x,y,c='blue',marker='v',alpha=0.5)\n",
    "plt.xlabel('X')\n",
    "plt.ylabel('Sin')\n",
    "plt.title('SCATTER PLOT')\n",
    "plt.show()"
   ]
  },
  {
   "cell_type": "code",
   "execution_count": null,
   "metadata": {},
   "outputs": [],
   "source": [
    "x = np.linspace(0,10,100)\n",
    "y = np.sin(x)\n",
    "plt.scatter(x,y,c='green',marker='^',alpha=0.5)\n",
    "plt.xlabel('X')\n",
    "plt.ylabel('Sin')\n",
    "plt.title('SCATTER PLOT')\n",
    "plt.show()"
   ]
  },
  {
   "cell_type": "code",
   "execution_count": null,
   "metadata": {},
   "outputs": [],
   "source": [
    "x = np.linspace(0,10,100)\n",
    "y = np.sin(x)\n",
    "plt.scatter(x,y,c='orange',marker='s',alpha=0.5)\n",
    "plt.xlabel('X')\n",
    "plt.ylabel('Sin')\n",
    "plt.title('SCATTER PLOT')\n",
    "plt.show()"
   ]
  },
  {
   "cell_type": "code",
   "execution_count": null,
   "metadata": {},
   "outputs": [],
   "source": [
    "x = np.linspace(0,10,100)\n",
    "y = np.sin(x)\n",
    "plt.scatter(x,y,c='purple',marker='*',alpha=0.5)\n",
    "plt.xlabel('X')\n",
    "plt.ylabel('Sin')\n",
    "plt.title('SCATTER PLOT')\n",
    "plt.show()"
   ]
  },
  {
   "cell_type": "markdown",
   "metadata": {},
   "source": [
    "### 1. Matplotlib visualization with objects:"
   ]
  },
  {
   "cell_type": "code",
   "execution_count": null,
   "metadata": {},
   "outputs": [],
   "source": [
    "import matplotlib.pyplot as plt\n",
    "import numpy as np\n",
    "%matplotlib inline"
   ]
  },
  {
   "cell_type": "markdown",
   "metadata": {},
   "source": [
    "#### 1.1. Visualization with figure object:"
   ]
  },
  {
   "cell_type": "code",
   "execution_count": null,
   "metadata": {},
   "outputs": [],
   "source": [
    "x = np.linspace(0,10,100)\n",
    "y = np.sin(x)\n",
    "z = np.cos(x)"
   ]
  },
  {
   "cell_type": "code",
   "execution_count": null,
   "metadata": {},
   "outputs": [],
   "source": [
    "fig0=plt.figure()\n",
    "axes0 = fig0.add_axes([0,0,1,1])             # Left, bottom, width, height.\n",
    "axes0.plot(x,y,color='red',linestyle='-')\n",
    "axes0.set_xlabel('X')\n",
    "axes0.set_ylabel('Y')\n",
    "axes0.set_title('LINE PLOT')\n",
    "plt.show()"
   ]
  },
  {
   "cell_type": "code",
   "execution_count": null,
   "metadata": {},
   "outputs": [],
   "source": [
    "fig0=plt.figure()\n",
    "axes0 = fig0.add_axes([0,0,1,1])             # Left, bottom, width, height.\n",
    "axes0.plot(x,y,color='purple',linestyle='-')\n",
    "axes0.set_xlabel('X')\n",
    "axes0.set_ylabel('Y')\n",
    "axes0.set_title('LINE PLOT')\n",
    "axes0.set_xlim([0,5])                        # Horizontal axis limits.\n",
    "axes0.set_ylim([-2,2])                       # Vertical axis limits.\n",
    "plt.show()"
   ]
  },
  {
   "cell_type": "code",
   "execution_count": null,
   "metadata": {},
   "outputs": [],
   "source": [
    "fig0=plt.figure(figsize=(10,1))              # Width and height specified with figsize.\n",
    "axes0 = fig0.add_axes([0,0,1,1])             # Left, bottom, width, height.\n",
    "axes0.plot(x,y,color='red',linestyle='-')\n",
    "axes0.set_xlabel('X')\n",
    "axes0.set_ylabel('Y')\n",
    "axes0.set_title('LINE PLOT')\n",
    "plt.show()"
   ]
  },
  {
   "cell_type": "markdown",
   "metadata": {},
   "source": [
    "#### 1.2. Multiple plots within the same axes:"
   ]
  },
  {
   "cell_type": "code",
   "execution_count": null,
   "metadata": {},
   "outputs": [],
   "source": [
    "fig0=plt.figure(figsize=(5,2), dpi=100)      # Width, height and DPI setting.\n",
    "axes0 = fig0.add_axes([0,0,1,1])             # Left, bottom, width, height.\n",
    "axes0.plot(x,y,color='orange',linestyle='--', label='Sin')           # 'label' for the legend.\n",
    "axes0.plot(x,z,color='purple',linestyle='-.', label='Cos')        # 'label' for the legend.\n",
    "axes0.legend(loc=0)                                             # Legend to be locted at the top-right corner.\n",
    "axes0.set_xlabel('X')\n",
    "axes0.set_ylabel('Y')\n",
    "axes0.set_title('LINE PLOT')\n",
    "plt.show()"
   ]
  },
  {
   "cell_type": "code",
   "execution_count": null,
   "metadata": {},
   "outputs": [],
   "source": [
    "Output to an external file:"
   ]
  },
  {
   "cell_type": "code",
   "execution_count": null,
   "metadata": {},
   "outputs": [],
   "source": [
    "fig0.savefig('my_fig_01.png')"
   ]
  },
  {
   "cell_type": "markdown",
   "metadata": {},
   "source": [
    "#### 1.3. Multiple plots in separate axes:"
   ]
  },
  {
   "cell_type": "code",
   "execution_count": null,
   "metadata": {},
   "outputs": [],
   "source": [
    "fig0=plt.figure(figsize=(8,3), dpi=80)       # Width, height and DPI setting.\n",
    "axes1 = fig0.add_axes([0,0,0.3,1])            # Left, bottom, width, height.\n",
    "axes2 = fig0.add_axes([0.5,0,0.3,1])          # Left, bottom, width, height.\n",
    "axes1.plot(x,y,color='red',linestyle=':')  \n",
    "axes2.plot(x,z,color='blue',linestyle='-.')\n",
    "axes1.set_xlabel('X')\n",
    "axes1.set_ylabel('Y')\n",
    "axes1.set_title('SINE')\n",
    "axes2.set_xlabel('X')\n",
    "axes2.set_ylabel('Y')\n",
    "axes2.set_title('COSINE')\n",
    "plt.show()"
   ]
  },
  {
   "cell_type": "code",
   "execution_count": null,
   "metadata": {},
   "outputs": [],
   "source": [
    "fig0=plt.figure(figsize=(8,4), dpi=80)          # Width, height and DPI setting.\n",
    "axes1 = fig0.add_axes([0,0.5,0.2,0.5])           # Left, bottom, width, height.\n",
    "axes2 = fig0.add_axes([0.5,0,0.2,0.5])           # Left, bottom, width, height.\n",
    "axes1.plot(x,z,linestyle='none',marker='^',markersize=10,markerfacecolor='purple',markeredgecolor='red',alpha=0.5)\n",
    "axes2.plot(x,y,color='blue',linestyle='--')  \n",
    "axes1.set_xlabel('X')\n",
    "axes1.set_ylabel('Y')\n",
    "axes1.set_title('COSINE')\n",
    "axes2.set_xlabel('X')\n",
    "axes2.set_ylabel('Y')\n",
    "axes2.set_title('SINE')\n",
    "plt.show()"
   ]
  },
  {
   "cell_type": "markdown",
   "metadata": {},
   "source": [
    "#### 1.4. Multiple plots in an array of axes:"
   ]
  },
  {
   "cell_type": "code",
   "execution_count": null,
   "metadata": {},
   "outputs": [],
   "source": [
    "fig, axes = plt.subplots(nrows=2, ncols=2, figsize=(6,6))\n",
    "# (0,0)\n",
    "c = np.random.randn(10000)\n",
    "axes[0,0].hist(c,bins=100,color='green',density=True,alpha=0.3)\n",
    "axes[0,0].set_title('HISTOGRAM')\n",
    "# (1,0)\n",
    "axes[1,0].plot(x,z,linestyle='none',marker='^',markersize=10,markerfacecolor='purple',markeredgecolor='red',alpha=0.5)\n",
    "axes[1,0].set_xlabel('X')\n",
    "axes[1,0].set_ylabel('Y')\n",
    "axes[1,0].set_title('COSINE')\n",
    "# (0,1)\n",
    "a = np.array(['Q1', 'Q2', 'Q3','Q4'])\n",
    "b = np.array([ 234.0, 254.7, 144.6, 317.6])\n",
    "axes[0,1].bar(a,b,color='blue',alpha=0.5)\n",
    "axes[0,1].set_title('BAR PLOT')\n",
    "# (1,1)\n",
    "axes[1,1].plot(x,y,color='green',linestyle=':')  \n",
    "axes[1,1].set_xlabel('X')\n",
    "axes[1,1].set_ylabel('Y')\n",
    "axes[1,1].set_title('SINE')\n",
    "\n",
    "plt.tight_layout()                             # Avoid overlapping.\n",
    "plt.show()"
   ]
  },
  {
   "cell_type": "code",
   "execution_count": null,
   "metadata": {},
   "outputs": [],
   "source": [
    "Output to an external file:"
   ]
  },
  {
   "cell_type": "code",
   "execution_count": null,
   "metadata": {},
   "outputs": [],
   "source": [
    "fig.savefig('my_fig_02.png')     "
   ]
  },
  {
   "cell_type": "markdown",
   "metadata": {},
   "source": [
    "### 1. Visualization with Pandas:"
   ]
  },
  {
   "cell_type": "code",
   "execution_count": null,
   "metadata": {},
   "outputs": [],
   "source": [
    "import pandas as pd\n",
    "import numpy as np\n",
    "import os\n",
    "import matplotlib.pyplot as plt\n",
    "%matplotlib inline"
   ]
  },
  {
   "cell_type": "code",
   "execution_count": null,
   "metadata": {},
   "outputs": [],
   "source": [
    "df = pd.read_csv('data_iris.csv', header='infer')"
   ]
  },
  {
   "cell_type": "code",
   "execution_count": null,
   "metadata": {},
   "outputs": [],
   "source": [
    "df.shape"
   ]
  },
  {
   "cell_type": "code",
   "execution_count": null,
   "metadata": {},
   "outputs": [],
   "source": [
    "df.head(5)"
   ]
  },
  {
   "cell_type": "markdown",
   "metadata": {},
   "source": [
    "#### 1.1. Histogram:"
   ]
  },
  {
   "cell_type": "code",
   "execution_count": null,
   "metadata": {},
   "outputs": [],
   "source": [
    "df.loc[:,'Petal.Length'].plot.hist(color='blue',alpha=0.5)\n",
    "plt.show()"
   ]
  },
  {
   "cell_type": "code",
   "execution_count": null,
   "metadata": {},
   "outputs": [],
   "source": [
    "df.loc[:,'Petal.Length'].plot.hist(bins=50,color='orange',alpha=0.5)\n",
    "plt.show()"
   ]
  },
  {
   "cell_type": "code",
   "execution_count": null,
   "metadata": {},
   "outputs": [],
   "source": [
    "df.loc[:,['Sepal.Width','Petal.Length']].plot.hist(bins=50,color=['red','blue'],alpha=0.6)\n",
    "plt.show()"
   ]
  },
  {
   "cell_type": "markdown",
   "metadata": {},
   "source": [
    "#### 1.2. Bar plot:"
   ]
  },
  {
   "cell_type": "code",
   "execution_count": null,
   "metadata": {},
   "outputs": [],
   "source": [
    "frequencies = df.Species.value_counts()\n",
    "my_counts = list(frequencies.values)\n",
    "my_labels = list(frequencies.index)\n",
    "df2 = pd.DataFrame( {'counts':my_counts}, index = my_labels)\n",
    "df2"
   ]
  },
  {
   "cell_type": "code",
   "execution_count": null,
   "metadata": {},
   "outputs": [],
   "source": [
    "df2.plot.bar(color='orange', alpha=0.7)\n",
    "plt.show()"
   ]
  },
  {
   "cell_type": "markdown",
   "metadata": {},
   "source": [
    "#### 1.3. Scatter plot:"
   ]
  },
  {
   "cell_type": "code",
   "execution_count": null,
   "metadata": {},
   "outputs": [],
   "source": [
    "Single scatter plot:"
   ]
  },
  {
   "cell_type": "code",
   "execution_count": null,
   "metadata": {},
   "outputs": [],
   "source": [
    "df.plot.scatter(x='Petal.Length', y='Petal.Width',color='blue',alpha=0.5,marker='o',s=20)\n",
    "plt.show()"
   ]
  },
  {
   "cell_type": "markdown",
   "metadata": {},
   "source": [
    "An array of scatter plots:"
   ]
  },
  {
   "cell_type": "code",
   "execution_count": null,
   "metadata": {},
   "outputs": [],
   "source": [
    "my_cols_dict = {'setosa':'red', 'virginica':'green', 'versicolor':'blue'}\n",
    "my_cols = df['Species'].apply(lambda x: my_cols_dict[x])\n",
    "pd.plotting.scatter_matrix(df, c=my_cols, marker='o', alpha=0.5)\n",
    "plt.show()"
   ]
  },
  {
   "cell_type": "code",
   "execution_count": null,
   "metadata": {},
   "outputs": [],
   "source": [
    "1. Visualization with Seaborn:"
   ]
  },
  {
   "cell_type": "code",
   "execution_count": null,
   "metadata": {},
   "outputs": [],
   "source": [
    "# Install the Seaborn library.\n",
    "#!pip install seaborn"
   ]
  },
  {
   "cell_type": "code",
   "execution_count": null,
   "metadata": {},
   "outputs": [],
   "source": [
    "import pandas as pd\n",
    "import numpy as np\n",
    "import seaborn as sns\n",
    "import matplotlib.pyplot as plt\n",
    "import os\n",
    "import warnings\n",
    "%matplotlib inline\n",
    "warnings.filterwarnings('ignore')           # Turn off the warnings."
   ]
  },
  {
   "cell_type": "code",
   "execution_count": null,
   "metadata": {},
   "outputs": [],
   "source": [
    "Read in the data set 'mpg' from the library:"
   ]
  },
  {
   "cell_type": "code",
   "execution_count": null,
   "metadata": {},
   "outputs": [],
   "source": [
    "dat = sns.load_dataset('mpg')"
   ]
  },
  {
   "cell_type": "code",
   "execution_count": null,
   "metadata": {},
   "outputs": [],
   "source": [
    "dat.shape"
   ]
  },
  {
   "cell_type": "code",
   "execution_count": null,
   "metadata": {},
   "outputs": [],
   "source": [
    "dat.head(5)"
   ]
  },
  {
   "cell_type": "markdown",
   "metadata": {},
   "source": [
    "#### 1.1. Histogram and related types:"
   ]
  },
  {
   "cell_type": "code",
   "execution_count": null,
   "metadata": {},
   "outputs": [],
   "source": [
    "sns.distplot(dat.mpg, kde=False, rug=False, bins=50, color='red')\n",
    "plt.show()"
   ]
  },
  {
   "cell_type": "code",
   "execution_count": null,
   "metadata": {},
   "outputs": [],
   "source": [
    "sns.distplot(dat.mpg, kde=True, rug=False, bins=50, color='green')\n",
    "plt.show()"
   ]
  },
  {
   "cell_type": "code",
   "execution_count": null,
   "metadata": {
    "scrolled": true
   },
   "outputs": [],
   "source": [
    "sns.distplot(dat.mpg, kde=False, rug=True, bins=50, color='blue')\n",
    "plt.show()"
   ]
  },
  {
   "cell_type": "code",
   "execution_count": null,
   "metadata": {},
   "outputs": [],
   "source": [
    "sns.kdeplot(dat.mpg, color='blue')\n",
    "plt.show()"
   ]
  },
  {
   "cell_type": "markdown",
   "metadata": {},
   "source": [
    "#### 1.2. Scatter plot and related types: "
   ]
  },
  {
   "cell_type": "code",
   "execution_count": null,
   "metadata": {},
   "outputs": [],
   "source": [
    "sns.jointplot(x='weight', y='mpg', data=dat, color='red', kind='scatter')\n",
    "plt.show()"
   ]
  },
  {
   "cell_type": "code",
   "execution_count": null,
   "metadata": {},
   "outputs": [],
   "source": [
    "sns.jointplot(x='weight', y='mpg', data=dat, color='orange', kind='reg')\n",
    "plt.show()"
   ]
  },
  {
   "cell_type": "code",
   "execution_count": null,
   "metadata": {},
   "outputs": [],
   "source": [
    "sns.lmplot(data=dat, x= 'weight', y='mpg')\n",
    "plt.show()"
   ]
  },
  {
   "cell_type": "code",
   "execution_count": null,
   "metadata": {},
   "outputs": [],
   "source": [
    "sns.lmplot(data=dat, x='weight', y='mpg', hue = 'origin')\n",
    "plt.show()"
   ]
  },
  {
   "cell_type": "code",
   "execution_count": null,
   "metadata": {},
   "outputs": [],
   "source": [
    "sns.lmplot(data=dat, x='weight', y='mpg', col = 'origin', hue = 'origin')\n",
    "plt.show()"
   ]
  },
  {
   "cell_type": "code",
   "execution_count": null,
   "metadata": {},
   "outputs": [],
   "source": [
    "sns.lmplot(data=dat, x='weight', y='mpg', col = 'origin', hue = 'origin', markers=['o','v','^'])\n",
    "plt.show()"
   ]
  },
  {
   "cell_type": "code",
   "execution_count": null,
   "metadata": {},
   "outputs": [],
   "source": [
    "sns.lmplot(data=dat, x='weight', y='mpg', col = 'origin', hue = 'origin', markers=['o','v','^'], \n",
    "           scatter_kws={'s':30}, aspect=0.5, size=5)\n",
    "plt.show()"
   ]
  },
  {
   "cell_type": "code",
   "execution_count": null,
   "metadata": {},
   "outputs": [],
   "source": [
    "sns.jointplot(x='weight', y='mpg', data=dat, color='green', kind='hex')\n",
    "plt.show()"
   ]
  },
  {
   "cell_type": "code",
   "execution_count": null,
   "metadata": {},
   "outputs": [],
   "source": [
    "sns.jointplot(x='weight', y='mpg', data=dat, color='blue', kind='kde')\n",
    "plt.show()"
   ]
  },
  {
   "cell_type": "code",
   "execution_count": null,
   "metadata": {},
   "outputs": [],
   "source": [
    "sns.barplot(x='origin',y='mpg',data=dat)\n",
    "plt.show()"
   ]
  },
  {
   "cell_type": "code",
   "execution_count": null,
   "metadata": {},
   "outputs": [],
   "source": [
    "sns.barplot(x='origin',y='mpg',data=dat,estimator=np.median)\n",
    "plt.show()"
   ]
  },
  {
   "cell_type": "code",
   "execution_count": null,
   "metadata": {},
   "outputs": [],
   "source": [
    "sns.countplot(x='origin', data=dat, palette='coolwarm')\n",
    "plt.show()"
   ]
  },
  {
   "cell_type": "code",
   "execution_count": null,
   "metadata": {},
   "outputs": [],
   "source": [
    "sns.countplot(x='origin', data=dat, hue='cylinders')\n",
    "plt.show()"
   ]
  },
  {
   "cell_type": "markdown",
   "metadata": {},
   "source": [
    "#### 1.4. Boxplot and related types:"
   ]
  },
  {
   "cell_type": "code",
   "execution_count": null,
   "metadata": {},
   "outputs": [],
   "source": [
    "sns.boxplot(y='mpg', data=dat, color='green')\n",
    "plt.show()"
   ]
  },
  {
   "cell_type": "code",
   "execution_count": null,
   "metadata": {},
   "outputs": [],
   "source": [
    "sns.boxplot(x='mpg', data=dat, color='pink')\n",
    "plt.show()"
   ]
  },
  {
   "cell_type": "code",
   "execution_count": null,
   "metadata": {},
   "outputs": [],
   "source": [
    "sns.boxplot(x='origin', y='mpg', data=dat, palette='coolwarm', notch=True)\n",
    "plt.show()"
   ]
  },
  {
   "cell_type": "code",
   "execution_count": null,
   "metadata": {},
   "outputs": [],
   "source": [
    "sns.boxplot(x='mpg', y='origin', data=dat, palette='coolwarm', notch=True)\n",
    "plt.show()"
   ]
  },
  {
   "cell_type": "code",
   "execution_count": null,
   "metadata": {},
   "outputs": [],
   "source": [
    "sns.boxplot(x='origin', y='mpg', data=dat, hue='cylinders')\n",
    "plt.show()"
   ]
  },
  {
   "cell_type": "code",
   "execution_count": null,
   "metadata": {},
   "outputs": [],
   "source": [
    "sns.violinplot(x='origin', y='mpg', data=dat, palette='coolwarm')\n",
    "plt.show()"
   ]
  },
  {
   "cell_type": "code",
   "execution_count": null,
   "metadata": {},
   "outputs": [],
   "source": [
    "sns.violinplot(x='cylinders', y='horsepower', data=dat, palette='coolwarm')\n",
    "plt.show()"
   ]
  },
  {
   "cell_type": "code",
   "execution_count": null,
   "metadata": {},
   "outputs": [],
   "source": [
    "sns.stripplot(x='cylinders', y='horsepower', data=dat, palette='coolwarm')\n",
    "plt.show()"
   ]
  },
  {
   "cell_type": "code",
   "execution_count": null,
   "metadata": {},
   "outputs": [],
   "source": [
    "sns.swarmplot(x='cylinders', y='horsepower', data=dat, palette='coolwarm')\n",
    "plt.show()"
   ]
  },
  {
   "cell_type": "code",
   "execution_count": null,
   "metadata": {},
   "outputs": [],
   "source": [
    "sns.violinplot(x='origin', y='horsepower', data=dat)\n",
    "sns.swarmplot(x='origin', y='horsepower', data=dat, color='black')\n",
    "plt.show()"
   ]
  },
  {
   "cell_type": "markdown",
   "metadata": {},
   "source": [
    "#### 1.5. Color palette:"
   ]
  },
  {
   "cell_type": "code",
   "execution_count": null,
   "metadata": {},
   "outputs": [],
   "source": [
    "Frequency table shown as bar plot."
   ]
  },
  {
   "cell_type": "code",
   "execution_count": null,
   "metadata": {},
   "outputs": [],
   "source": [
    "sns.countplot(x='origin', data=dat, palette='cubehelix')\n",
    "# sns.countplot(x='origin', data=dat, palette='coolwarm')\n",
    "# sns.countplot(x='origin', data=dat, palette='magma')\n",
    "# sns.countplot(x='origin', data=dat, palette='seismic')\n",
    "plt.show()"
   ]
  },
  {
   "cell_type": "code",
   "execution_count": null,
   "metadata": {},
   "outputs": [],
   "source": [
    "1. Visualization with Seaborn (more examples):"
   ]
  },
  {
   "cell_type": "code",
   "execution_count": null,
   "metadata": {},
   "outputs": [],
   "source": [
    "import pandas as pd\n",
    "import numpy as np\n",
    "import seaborn as sns\n",
    "import matplotlib.pyplot as plt\n",
    "import os\n",
    "import warnings\n",
    "%matplotlib inline\n",
    "warnings.filterwarnings('ignore')           # Turn off the warnings. "
   ]
  },
  {
   "cell_type": "markdown",
   "metadata": {},
   "source": [
    "#### 1.1. Scatter plot array:"
   ]
  },
  {
   "cell_type": "code",
   "execution_count": null,
   "metadata": {},
   "outputs": [],
   "source": [
    "dat = sns.load_dataset('iris')"
   ]
  },
  {
   "cell_type": "code",
   "execution_count": null,
   "metadata": {},
   "outputs": [],
   "source": [
    "sns.pairplot(dat)\n",
    "plt.show()"
   ]
  },
  {
   "cell_type": "code",
   "execution_count": null,
   "metadata": {},
   "outputs": [],
   "source": [
    "sns.pairplot(dat, hue='species')\n",
    "plt.show()"
   ]
  },
  {
   "cell_type": "code",
   "execution_count": null,
   "metadata": {},
   "outputs": [],
   "source": [
    "sns.pairplot(dat, hue='species', palette='coolwarm')\n",
    "plt.show()"
   ]
  },
  {
   "cell_type": "markdown",
   "metadata": {},
   "source": [
    "#### 1.2. PairGrid:"
   ]
  },
  {
   "cell_type": "code",
   "execution_count": null,
   "metadata": {},
   "outputs": [],
   "source": [
    "g=sns.PairGrid(dat)\n",
    "g.map(plt.scatter)\n",
    "plt.show()"
   ]
  },
  {
   "cell_type": "code",
   "execution_count": null,
   "metadata": {},
   "outputs": [],
   "source": [
    "g=sns.PairGrid(dat)\n",
    "g.map_diag(sns.distplot, color='orange')         # Diagonal = histogram.\n",
    "g.map_upper(plt.scatter, color='green')          # Upper triangle = scatter plot.\n",
    "g.map_lower(sns.kdeplot, color='blue')           # Lower triangle = KDE.\n",
    "plt.show()"
   ]
  },
  {
   "cell_type": "markdown",
   "metadata": {},
   "source": [
    "#### 1.3. FacetGrid:"
   ]
  },
  {
   "cell_type": "code",
   "execution_count": null,
   "metadata": {},
   "outputs": [],
   "source": [
    "g=sns.FacetGrid(data=dat, col='species')\n",
    "g.map(sns.distplot, 'petal_length')\n",
    "plt.show()"
   ]
  },
  {
   "cell_type": "code",
   "execution_count": null,
   "metadata": {
    "scrolled": true
   },
   "outputs": [],
   "source": [
    "g=sns.FacetGrid(data=dat, row='species')\n",
    "g.map(sns.distplot, 'petal_length')\n",
    "plt.show()"
   ]
  },
  {
   "cell_type": "code",
   "execution_count": null,
   "metadata": {},
   "outputs": [],
   "source": [
    "g=sns.FacetGrid(data=dat, col='species')\n",
    "g.map(plt.scatter, 'petal_length', 'petal_width',color='orange')\n",
    "plt.show()"
   ]
  },
  {
   "cell_type": "markdown",
   "metadata": {},
   "source": [
    "#### 1.4. Heat map:"
   ]
  },
  {
   "cell_type": "code",
   "execution_count": null,
   "metadata": {},
   "outputs": [],
   "source": [
    "dat = sns.load_dataset('mpg')"
   ]
  },
  {
   "cell_type": "code",
   "execution_count": null,
   "metadata": {},
   "outputs": [],
   "source": [
    "x = dat.corr()\n",
    "x"
   ]
  },
  {
   "cell_type": "code",
   "execution_count": null,
   "metadata": {},
   "outputs": [],
   "source": [
    "sns.heatmap(x)\n",
    "plt.show()"
   ]
  },
  {
   "cell_type": "code",
   "execution_count": null,
   "metadata": {},
   "outputs": [],
   "source": [
    "sns.heatmap(x, cmap = 'coolwarm')\n",
    "plt.show()"
   ]
  },
  {
   "cell_type": "code",
   "execution_count": null,
   "metadata": {},
   "outputs": [],
   "source": [
    "# Heatmap.\n",
    "# Adjust the center.\n",
    "sns.heatmap(x, cmap = 'coolwarm', center=-1)\n",
    "plt.show()"
   ]
  },
  {
   "cell_type": "code",
   "execution_count": null,
   "metadata": {},
   "outputs": [],
   "source": []
  }
 ],
 "metadata": {
  "kernelspec": {
   "display_name": "Python 3 (ipykernel)",
   "language": "python",
   "name": "python3"
  },
  "language_info": {
   "codemirror_mode": {
    "name": "ipython",
    "version": 3
   },
   "file_extension": ".py",
   "mimetype": "text/x-python",
   "name": "python",
   "nbconvert_exporter": "python",
   "pygments_lexer": "ipython3",
   "version": "3.10.12"
  }
 },
 "nbformat": 4,
 "nbformat_minor": 2
}
