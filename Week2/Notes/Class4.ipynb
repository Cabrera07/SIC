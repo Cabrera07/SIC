{
 "cells": [
  {
   "cell_type": "markdown",
   "metadata": {},
   "source": [
    "-------------------"
   ]
  },
  {
   "cell_type": "markdown",
   "metadata": {},
   "source": [
    "# **Bucles, Ciclos o Loops**"
   ]
  },
  {
   "cell_type": "markdown",
   "metadata": {},
   "source": [
    "-----------------"
   ]
  },
  {
   "cell_type": "markdown",
   "metadata": {},
   "source": [
    "#### **Algo que se repite:**\n",
    "- Infinito \n",
    "- Un numero determinado de veces "
   ]
  },
  {
   "cell_type": "markdown",
   "metadata": {},
   "source": [
    "---------------------\n",
    "--------------------\n",
    "\n",
    "## **While**\n",
    "--------------------------------------------------------\n",
    "-----------------------------"
   ]
  },
  {
   "cell_type": "markdown",
   "metadata": {},
   "source": [
    "```python\n",
    "while Condicion == valor:\n",
    "    proceso\n",
    "Enable -> Habilitador -> Encendido\n",
    "\n",
    "while true: #Para bucles infinitos/ finitos reloj()\n",
    "    game_over = 0\n",
    "while game_over !=0:\n",
    "    mario_bros()\n",
    "```\n",
    "--------------------------------------------------------"
   ]
  },
  {
   "cell_type": "markdown",
   "metadata": {},
   "source": [
    "-------------------\n",
    "### ***Ejemplos***\n",
    "-----------------------"
   ]
  },
  {
   "cell_type": "code",
   "execution_count": null,
   "metadata": {},
   "outputs": [],
   "source": [
    "#Ejemplo \n",
    "#Inicializamos contador \n",
    "contador = 0\n",
    "while contador < 21: \n",
    "    contador += 1 #Esto es igual a contador = contador +1\n",
    "    print(contador)\n",
    "    "
   ]
  },
  {
   "cell_type": "markdown",
   "metadata": {},
   "source": [
    "-----------------\n",
    "----------------\n",
    "## **For** \n",
    "---------------\n",
    "-------------"
   ]
  },
  {
   "cell_type": "markdown",
   "metadata": {},
   "source": [
    "\n",
    "Finitos con numeros de repeticiones \n",
    "\n",
    "-------------------------------------------------------\n",
    "```python\n",
    "for condicion in (rango de valores):\n",
    "    proceso\n",
    "#Rango de valores (inicio, fin, paso)\n",
    "```\n",
    "--------------------------------------------------------"
   ]
  },
  {
   "cell_type": "markdown",
   "metadata": {},
   "source": [
    "-------------------\n",
    "### ***Ejemplos***\n",
    "-----------------------"
   ]
  },
  {
   "cell_type": "code",
   "execution_count": 1,
   "metadata": {},
   "outputs": [
    {
     "name": "stdout",
     "output_type": "stream",
     "text": [
      "0\n",
      "1\n",
      "2\n",
      "3\n",
      "4\n",
      "5\n",
      "6\n",
      "7\n",
      "8\n",
      "9\n",
      "10\n",
      "11\n",
      "12\n",
      "13\n",
      "14\n",
      "15\n",
      "16\n",
      "17\n",
      "18\n",
      "19\n",
      "20\n"
     ]
    }
   ],
   "source": [
    "#Inicializar la varible contador 0\n",
    "contador = 0\n",
    "\n",
    "#Iteramos sobre sobre el rango de numeros de difinidos \n",
    "for contador in range (0,21,1):\n",
    "    #Imprime el valor actual del contador\n",
    "    print(contador)"
   ]
  },
  {
   "cell_type": "code",
   "execution_count": 3,
   "metadata": {},
   "outputs": [
    {
     "name": "stdout",
     "output_type": "stream",
     "text": [
      "carro\n",
      "avion\n",
      "tren\n",
      "bote\n",
      "-------------------------------------- \n",
      "\n",
      "carro\n",
      "avion\n",
      "tren\n",
      "bote\n",
      "-------------------------------------- \n",
      "\n",
      "carro\n",
      "avion\n",
      "tren\n",
      "bote\n"
     ]
    }
   ],
   "source": [
    "#Crear una lista \n",
    "lista = [\"carro\", \"avion\", \"tren\", \"bote\"]\n",
    "\n",
    "#Imprimir la lista separada utilizando los indices \n",
    "#Muestra el primer elemento de la lista\n",
    "print(lista[0])\n",
    "#Muestra el segundo elemento de la lista\n",
    "print(lista[1])\n",
    "#Muestra el tercer elemento de la lista\n",
    "print(lista[2])\n",
    "#Muestra el cuarto elemento de la lista\n",
    "print(lista[3])\n",
    "print(\"-------------------------------------- \\n\")\n",
    "\n",
    "#Por cada valor posicionado en la lista \n",
    "for index in range (0,4,1):\n",
    "    #Imprime el elemento de la lista en esa posicion\n",
    "    print(lista[index])\n",
    "print(\"-------------------------------------- \\n\") \n",
    "\n",
    "#Itera sobre cada elemento de la lista\n",
    "for index in lista:\n",
    "     #Imprime el elemento actual de la lista\n",
    "    print(index)"
   ]
  },
  {
   "cell_type": "markdown",
   "metadata": {},
   "source": [
    "--------------\n",
    "---------------\n",
    "## **Range**\n",
    "--------------\n",
    "--------------"
   ]
  },
  {
   "cell_type": "markdown",
   "metadata": {},
   "source": [
    "\n",
    "\n",
    "`range(inicio, fin, paso)`\n",
    "\n",
    "En la duncion range nunca se toma el ultimo valor `fin -> -1`"
   ]
  },
  {
   "cell_type": "markdown",
   "metadata": {},
   "source": [
    "-------------------\n",
    "### ***Ejemplos***\n",
    "-----------------------"
   ]
  },
  {
   "cell_type": "code",
   "execution_count": 4,
   "metadata": {},
   "outputs": [
    {
     "name": "stdout",
     "output_type": "stream",
     "text": [
      "[1, 2, 3, 4, 5, 6, 7, 8, 9, 10, 11, 12, 13, 14, 15, 16, 17, 18, 19, 20]\n",
      "\n",
      "[1, 2, 3, 4, 5, 6, 7, 8, 9, 10, 11, 12, 13, 14, 15, 16]\n",
      "\n",
      "[5, 10, 15, 20, 25, 30, 35, 40, 45, 50, 55, 60, 65, 70, 75, 80, 85, 90, 95, 100]\n"
     ]
    }
   ],
   "source": [
    "#Mostar lista del 1 al 21 en paso de 1 (es decir de 1 en 1)\n",
    "print(list(range(1,21,1)))\n",
    "print()\n",
    "\n",
    "#Mostrar lista del 1 al 17 en paso de 1 \n",
    "print(list(range(1,17,1)))\n",
    "print()\n",
    "\n",
    "#Mostrar lista del 5 al 101 con paso 5 \n",
    "print(list(range(5, 101, 5)))"
   ]
  },
  {
   "cell_type": "markdown",
   "metadata": {},
   "source": [
    "---------------------\n",
    "--------------\n",
    "## **Bucle Anidado**\n",
    "--------------\n",
    "---------------"
   ]
  },
  {
   "cell_type": "markdown",
   "metadata": {},
   "source": [
    "\n",
    "Es tener un `for()` dentro otro `fo()` para recorre una matriz, o recorrer una cuadricula, o algo que tenga 2 o más coordenadas. \n",
    "\n",
    "#### **Matriz**\n",
    "\n",
    "Es una lista de listas "
   ]
  },
  {
   "cell_type": "markdown",
   "metadata": {},
   "source": [
    "-------------------\n",
    "### ***Ejemplos***\n",
    "-----------------------"
   ]
  },
  {
   "cell_type": "code",
   "execution_count": 5,
   "metadata": {},
   "outputs": [
    {
     "name": "stdout",
     "output_type": "stream",
     "text": [
      "6\n",
      "\n",
      "1 2 3 \n",
      "4 5 6 \n",
      "7 8 9 \n"
     ]
    }
   ],
   "source": [
    "#Creamos una lista llamada fila 0\n",
    "fila0 = [1,2,3]\n",
    "#Creamos una lista llamada fila 1\n",
    "fila1 = [4,5,6]\n",
    "#Creamos una lista llamada fila 2\n",
    "fila2 = [7,8,9]\n",
    "#Creamos una matriz que contine las filas anteriores \n",
    "matriz = [fila0, fila1, fila2]\n",
    "\n",
    "\n",
    "#Es igual a esto: \n",
    "#Creamos una matriz similar sin referenciar las listas anteriores \n",
    "matriz2 = [[1,2,3], [4,5,6], [7,8,9]]\n",
    "#Imprime el elemento en la segunda fila y tercera columna de la matriz2 \n",
    "print(matriz2[1][2])\n",
    "print()\n",
    "\n",
    "#Utilizamos un bucle anidado para recorrer todos los elementos de la matriz\n",
    "#Itera sobre cada fila de la matriz (desde la fila 0 hasta la fila 2)\n",
    "for filas in range (0,3,1):\n",
    "    #Itera sobre cada columna de la matriz (desde la columna 0 hasta la columna 2)\n",
    "    for columnas in range (0,3,1):\n",
    "        #Imprime el elemento en la fila actual y columna actual de la matriz\n",
    "        print(matriz2[filas][columnas], end=\" \") #El end imprimirá dos espacios en blanco en lugar de un salto de línea.\n",
    "    #Imprime un salto de línea después de imprimir los elementos de cada fila\n",
    "    print()"
   ]
  },
  {
   "cell_type": "markdown",
   "metadata": {},
   "source": [
    "-------------------------\n",
    "### ***Combinando dos listas***\n",
    "-------------------------"
   ]
  },
  {
   "cell_type": "code",
   "execution_count": 6,
   "metadata": {},
   "outputs": [
    {
     "name": "stdout",
     "output_type": "stream",
     "text": [
      "Fetuccini Pesto\n",
      "Fetuccini Alfredo\n",
      "Fetuccini Carbonara\n",
      "Fetuccini Quattro Formaggi\n",
      "Fetuccini Bolognese\n",
      "Spaguetti Pesto\n",
      "Spaguetti Alfredo\n",
      "Spaguetti Carbonara\n",
      "Spaguetti Quattro Formaggi\n",
      "Spaguetti Bolognese\n",
      "Linguine Pesto\n",
      "Linguine Alfredo\n",
      "Linguine Carbonara\n",
      "Linguine Quattro Formaggi\n",
      "Linguine Bolognese\n"
     ]
    }
   ],
   "source": [
    "#Crear lista llamada pastas \n",
    "pastas = [\"Fetuccini\", \"Spaguetti\", \"Linguine\"]\n",
    "#Crear una lista llamada salsas\n",
    "salsas = [\"Pesto\", \"Alfredo\", \"Carbonara\", \"Quattro Formaggi\", \"Bolognese\"]\n",
    "\n",
    "#Por cada elemento en la lista pastas \n",
    "for p in pastas:\n",
    "    #Por cada elemento en la lista salsas \n",
    "    for s in salsas:\n",
    "        #Imprimir la actual combinacion \n",
    "        print(p,s)"
   ]
  },
  {
   "cell_type": "markdown",
   "metadata": {},
   "source": [
    "--------------------\n",
    "---------------------\n",
    "## **Funciones**\n",
    "------------------\n",
    "------------------"
   ]
  },
  {
   "cell_type": "markdown",
   "metadata": {},
   "source": [
    "---------------------\n",
    "### ***Función Sort()***\n",
    "---------------------"
   ]
  },
  {
   "cell_type": "code",
   "execution_count": 7,
   "metadata": {},
   "outputs": [
    {
     "name": "stdout",
     "output_type": "stream",
     "text": [
      "[2, 3, 3, 4, 4, 6, 6, 7, 9, 9]\n"
     ]
    }
   ],
   "source": [
    "#Definimos una lista\n",
    "lista = [4,7,3,6,9,3,2,6,9,4]\n",
    "#Utilizamos el metodo sor() para ordenarla \n",
    "lista.sort()\n",
    "#Imprimir la lista ya ordenada\n",
    "print(lista)"
   ]
  },
  {
   "cell_type": "code",
   "execution_count": 15,
   "metadata": {},
   "outputs": [
    {
     "name": "stdout",
     "output_type": "stream",
     "text": [
      "Longitud lista: \n",
      "[0, 1, 2, 3, 4, 5, 6, 7, 8, 9, 10, 11, 12, 13, 14] \n",
      "\n",
      "Lista Original:\n",
      "[4, 7, 3, 6, 9, 3, 2, 6, 9, 4, 3, 7, 8, 3, 6]\n",
      "[4, 3, 6, 7, 3, 2, 6, 9, 4, 3, 7, 8, 3, 6, 9]\n",
      "[3, 4, 6, 3, 2, 6, 7, 4, 3, 7, 8, 3, 6, 9, 9]\n",
      "[3, 4, 3, 2, 6, 6, 4, 3, 7, 7, 3, 6, 8, 9, 9]\n",
      "[3, 3, 2, 4, 6, 4, 3, 6, 7, 3, 6, 7, 8, 9, 9]\n",
      "[3, 2, 3, 4, 4, 3, 6, 6, 3, 6, 7, 7, 8, 9, 9]\n",
      "[2, 3, 3, 4, 3, 4, 6, 3, 6, 6, 7, 7, 8, 9, 9]\n",
      "[2, 3, 3, 3, 4, 4, 3, 6, 6, 6, 7, 7, 8, 9, 9]\n",
      "[2, 3, 3, 3, 4, 3, 4, 6, 6, 6, 7, 7, 8, 9, 9]\n",
      "[2, 3, 3, 3, 3, 4, 4, 6, 6, 6, 7, 7, 8, 9, 9]\n",
      "[2, 3, 3, 3, 3, 4, 4, 6, 6, 6, 7, 7, 8, 9, 9]\n",
      "[2, 3, 3, 3, 3, 4, 4, 6, 6, 6, 7, 7, 8, 9, 9]\n"
     ]
    }
   ],
   "source": [
    "#Crear Lista \n",
    "lista = [4,7,3,6,9,3,2,6,9,4,3,7,8,3,6]\n",
    "\n",
    "#Imprimir una lista de numeros desde 0 hasta la longitud de la lista \n",
    "print(f\"Longitud lista: \\n{list(range(0,len(lista)))} \\n\")\n",
    "\n",
    "#Imprimir la lista original \n",
    "print(f\"Lista Original:\\n{lista}\")\n",
    "\n",
    "#Recorre la lista 11 veces la lista \n",
    "for i in range(0,11):\n",
    "    #Recorre la lista desde el primer elemento hasta el penultimo, con salto de 1\n",
    "    for i in range(0, len(lista)-1, 1):\n",
    "        #Comprobar si el elemento actual es mayor que el siguiente\n",
    "        if lista[i]>lista[i+1]:\n",
    "            # Si es así, intercambiar los elementos\n",
    "            lista[i],lista[i+1]=lista[i+1],lista[i]\n",
    "    # Imprimir la lista después de cada paso del bucle exterior\n",
    "    print(lista)"
   ]
  },
  {
   "cell_type": "markdown",
   "metadata": {},
   "source": [
    "---------------\n",
    "### ***Función Zip()***\n",
    "--------------"
   ]
  },
  {
   "cell_type": "code",
   "execution_count": 17,
   "metadata": {},
   "outputs": [
    {
     "name": "stdout",
     "output_type": "stream",
     "text": [
      "[('Ana', 1234), ('Alba', 3456), ('Alember', 4567), ('Alejandro', 567)]\n"
     ]
    }
   ],
   "source": [
    "#Crear una lista nombre \n",
    "nombres = [\"Ana\", \"Alba\", \"Alember\", \"Alejandro\", \"Ana\"]\n",
    "#Crear una lista de identificacion \n",
    "ident = [1234, 3456, 4567, 567]\n",
    "\n",
    "#Utilizamos la función zip para combinar las listas nombres e ident en pares\n",
    "#Esto crea una lista de tuplas, donde cada tupla contiene un nombre y su respectivo identificador\n",
    "pares_datos = list(zip(nombres, ident))\n",
    "\n",
    "#Imprimir la lista de tuplas resultantes \n",
    "print(pares_datos)\n"
   ]
  }
 ],
 "metadata": {
  "kernelspec": {
   "display_name": "SIC",
   "language": "python",
   "name": "python3"
  },
  "language_info": {
   "codemirror_mode": {
    "name": "ipython",
    "version": 3
   },
   "file_extension": ".py",
   "mimetype": "text/x-python",
   "name": "python",
   "nbconvert_exporter": "python",
   "pygments_lexer": "ipython3",
   "version": "3.9.7"
  }
 },
 "nbformat": 4,
 "nbformat_minor": 2
}
